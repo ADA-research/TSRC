{
 "cells": [
  {
   "cell_type": "markdown",
   "source": [
    "# Section I: Preparation"
   ],
   "metadata": {
    "collapsed": false
   },
   "id": "3ca62fa9899e089a"
  },
  {
   "cell_type": "markdown",
   "source": [
    "# 1. Imports & Constants"
   ],
   "metadata": {
    "collapsed": false
   },
   "id": "212b6191e15c61ea"
  },
  {
   "cell_type": "code",
   "execution_count": 1,
   "outputs": [],
   "source": [
    "import math\n",
    "from pathlib import Path\n",
    "\n",
    "import matplotlib.pyplot as plt\n",
    "import numpy as np\n",
    "import pandas as pd\n",
    "import scipy.stats as stats\n",
    "from IPython.display import display, Markdown"
   ],
   "metadata": {
    "collapsed": false,
    "ExecuteTime": {
     "end_time": "2024-06-05T15:43:45.940936Z",
     "start_time": "2024-06-05T15:43:45.938780Z"
    }
   },
   "id": "initial_id"
  },
  {
   "cell_type": "code",
   "execution_count": 2,
   "outputs": [],
   "source": [
    "# Constants\n",
    "CLUSTERING_METRICS = ['ari', 'chs']"
   ],
   "metadata": {
    "collapsed": false,
    "ExecuteTime": {
     "end_time": "2024-06-05T15:43:45.946502Z",
     "start_time": "2024-06-05T15:43:45.944972Z"
    }
   },
   "id": "9bb1d3d21fede209"
  },
  {
   "cell_type": "code",
   "outputs": [],
   "source": [
    "# constants\n",
    "CLUSTERING_METRIC_TO_CONSIDER_EXTERNAL = 'ari'\n",
    "CLUSTERING_METRIC_TO_CONSIDER_INTERNAL = 'chs'"
   ],
   "metadata": {
    "collapsed": false,
    "ExecuteTime": {
     "end_time": "2024-06-05T15:43:45.977087Z",
     "start_time": "2024-06-05T15:43:45.975183Z"
    }
   },
   "id": "b2608efe0e7cbb3",
   "execution_count": 3
  },
  {
   "cell_type": "code",
   "outputs": [],
   "source": [
    "DATASETS_TO_SKIP = []  # put any datasets to skip here"
   ],
   "metadata": {
    "collapsed": false,
    "ExecuteTime": {
     "end_time": "2024-06-05T15:43:46.016054Z",
     "start_time": "2024-06-05T15:43:46.014307Z"
    }
   },
   "id": "14ec753f5e7d47e0",
   "execution_count": 4
  },
  {
   "cell_type": "code",
   "outputs": [],
   "source": [
    "MODEL_TO_DISPLAY_NAME_MAP = {\n",
    "    'lstm-auto-encoder - encoder': 'LSTM-AE',\n",
    "    'ts2vec - ts2vec': 'TS2Vec',\n",
    "    'mcl - mcl': 'MCL',\n",
    "    'timenet - timenet': 'TimeNet',\n",
    "    'tsrc-mcl-lstmae - student-model-encoder': 'LSTM-AE w/ TSRC (MCL)',\n",
    "    'tsrc-ts2vec-lstmae - student-model-encoder': 'LSTM-AE w/ TSRC (TS2Vec)',\n",
    "    'tsrc-ts2vec-timenet - student-model-encoder': 'TimeNet w/ TSRC (TS2Vec)',\n",
    "}"
   ],
   "metadata": {
    "collapsed": false,
    "ExecuteTime": {
     "end_time": "2024-06-05T15:43:46.036664Z",
     "start_time": "2024-06-05T15:43:46.034837Z"
    }
   },
   "id": "921b5201922d283c",
   "execution_count": 5
  },
  {
   "cell_type": "code",
   "outputs": [],
   "source": [
    "EXPERIMENTS_MAIN_OUTPUTS_DIR = Path('../experiments_outputs/')\n",
    "CLUSTERING_MAIN_RESULTS_DIR = EXPERIMENTS_MAIN_OUTPUTS_DIR / 'clustering'"
   ],
   "metadata": {
    "collapsed": false,
    "ExecuteTime": {
     "end_time": "2024-06-05T15:43:46.072794Z",
     "start_time": "2024-06-05T15:43:46.071005Z"
    }
   },
   "id": "309a9398f267499e",
   "execution_count": 6
  },
  {
   "cell_type": "code",
   "execution_count": 7,
   "outputs": [],
   "source": [
    "# Make a directory for storing the plots\n",
    "PLOTS_OUTPUT_DIR = Path('./analysis_output')\n",
    "PLOTS_OUTPUT_DIR.mkdir(parents=True, exist_ok=True)"
   ],
   "metadata": {
    "collapsed": false,
    "ExecuteTime": {
     "end_time": "2024-06-05T15:43:46.083015Z",
     "start_time": "2024-06-05T15:43:46.081207Z"
    }
   },
   "id": "e880403b69929529"
  },
  {
   "cell_type": "markdown",
   "source": [
    "# 2. Functions"
   ],
   "metadata": {
    "collapsed": false
   },
   "id": "b44efd4b6c1aaf57"
  },
  {
   "cell_type": "markdown",
   "source": [
    "## 2.1. Plotting Functions"
   ],
   "metadata": {
    "collapsed": false
   },
   "id": "f928f00f6dc26ac5"
  },
  {
   "cell_type": "code",
   "outputs": [],
   "source": [
    "# This function is taken from Orange3 v.3.29.3 source code under GNU [GPL-3.0] license\n",
    "\n",
    "def compute_CD(avranks, num_datasets, alpha=\"0.05\", test=\"nemenyi\"):\n",
    "    \"\"\"\n",
    "    Computes the Critical Difference for Nemenyi test.\n",
    "    \"\"\"\n",
    "    k = len(avranks)\n",
    "    print(f\"Number of datasets: {num_datasets}\")\n",
    "    print(f\"Number of algorithms: {k}\")\n",
    "    d = {(\"nemenyi\", \"0.05\"): [0, 0, 1.959964, 2.343701, 2.569032, 2.727774,\n",
    "                               2.849705, 2.94832, 3.030879, 3.101730, 3.163684,\n",
    "                               3.218654, 3.268004, 3.312739, 3.353618, 3.39123,\n",
    "                               3.426041, 3.458425, 3.488685, 3.517073,\n",
    "                               3.543799],\n",
    "         (\"nemenyi\", \"0.1\"): [0, 0, 1.644854, 2.052293, 2.291341, 2.459516,\n",
    "                              2.588521, 2.692732, 2.779884, 2.854606, 2.919889,\n",
    "                              2.977768, 3.029694, 3.076733, 3.119693, 3.159199,\n",
    "                              3.195743, 3.229723, 3.261461, 3.291224, 3.319233],\n",
    "         (\"bonferroni-dunn\", \"0.05\"): [0, 0, 1.960, 2.241, 2.394, 2.498, 2.576,\n",
    "                                       2.638, 2.690, 2.724, 2.773],\n",
    "         (\"bonferroni-dunn\", \"0.1\"): [0, 0, 1.645, 1.960, 2.128, 2.241, 2.326,\n",
    "                                      2.394, 2.450, 2.498, 2.539]}\n",
    "    q = d[(test, alpha)]\n",
    "    cd = q[k] * (k * (k + 1) / (6.0 * num_datasets)) ** 0.5\n",
    "    return cd"
   ],
   "metadata": {
    "collapsed": false,
    "ExecuteTime": {
     "end_time": "2024-06-05T15:43:46.103110Z",
     "start_time": "2024-06-05T15:43:46.099687Z"
    }
   },
   "id": "e3d9e6b2b898f346",
   "execution_count": 8
  },
  {
   "cell_type": "code",
   "outputs": [],
   "source": [
    "# This function is taken from Orange3 v.3.29.3 source code under GNU [GPL-3.0] license\n",
    "\n",
    "def graph_ranks(avranks, names, cd=None, cdmethod=None, lowv=None, highv=None,\n",
    "                width=6, textspace=1, reverse=False, filename=None, **kwargs):\n",
    "    \"\"\"\n",
    "    Draws a CD graph, which is used to display  the differences in methods'\n",
    "    performance. See Janez Demsar, Statistical Comparisons of Classifiers over\n",
    "    Multiple Data Sets, 7(Jan):1--30, 2006.\n",
    "\n",
    "    Needs matplotlib to work.\n",
    "\n",
    "    The image is ploted on `plt` imported using\n",
    "    `import matplotlib.pyplot as plt`.\n",
    "\n",
    "    Args:\n",
    "        avranks (list of float): average ranks of methods.\n",
    "        names (list of str): names of methods.\n",
    "        cd (float): Critical difference used for statistically significance of\n",
    "            difference between methods.\n",
    "        cdmethod (int, optional): the method that is compared with other methods\n",
    "            If omitted, show pairwise comparison of methods\n",
    "        lowv (int, optional): the lowest shown rank\n",
    "        highv (int, optional): the highest shown rank\n",
    "        width (int, optional): default width in inches (default: 6)\n",
    "        textspace (int, optional): space on figure sides (in inches) for the\n",
    "            method names (default: 1)\n",
    "        reverse (bool, optional):  if set to `True`, the lowest rank is on the\n",
    "            right (default: `False`)\n",
    "        filename (str, optional): output file name (with extension). If not\n",
    "            given, the function does not write a file.\n",
    "    \"\"\"\n",
    "    try:\n",
    "        import matplotlib.pyplot as plt\n",
    "        from matplotlib.backends.backend_agg import FigureCanvasAgg\n",
    "    except ImportError:\n",
    "        raise ImportError(\"Function graph_ranks requires matplotlib.\")\n",
    "\n",
    "    width = float(width)\n",
    "    textspace = float(textspace)\n",
    "\n",
    "    def nth(l, n):\n",
    "        \"\"\"\n",
    "        Returns only nth elemnt in a list.\n",
    "        \"\"\"\n",
    "        n = lloc(l, n)\n",
    "        return [a[n] for a in l]\n",
    "\n",
    "    def lloc(l, n):\n",
    "        \"\"\"\n",
    "        List location in list of list structure.\n",
    "        Enable the use of negative locations:\n",
    "        -1 is the last element, -2 second last...\n",
    "        \"\"\"\n",
    "        if n < 0:\n",
    "            return len(l[0]) + n\n",
    "        else:\n",
    "            return n\n",
    "\n",
    "    def mxrange(lr):\n",
    "        \"\"\"\n",
    "        Multiple xranges. Can be used to traverse matrices.\n",
    "        This function is very slow due to unknown number of\n",
    "        parameters.\n",
    "\n",
    "        >>> mxrange([3,5])\n",
    "        [(0, 0), (0, 1), (0, 2), (1, 0), (1, 1), (1, 2)]\n",
    "\n",
    "        >>> mxrange([[3,5,1],[9,0,-3]])\n",
    "        [(3, 9), (3, 6), (3, 3), (4, 9), (4, 6), (4, 3)]\n",
    "\n",
    "        \"\"\"\n",
    "        if not len(lr):\n",
    "            yield ()\n",
    "        else:\n",
    "            # it can work with single numbers\n",
    "            index = lr[0]\n",
    "            if isinstance(index, int):\n",
    "                index = [index]\n",
    "            for a in range(*index):\n",
    "                for b in mxrange(lr[1:]):\n",
    "                    yield tuple([a] + list(b))\n",
    "\n",
    "    def print_figure(fig, *args, **kwargs):\n",
    "        canvas = FigureCanvasAgg(fig)\n",
    "        canvas.print_figure(*args, **kwargs)\n",
    "\n",
    "    sums = avranks\n",
    "\n",
    "    tempsort = sorted([(a, i) for i, a in enumerate(sums)], reverse=reverse)\n",
    "    ssums = nth(tempsort, 0)\n",
    "    sortidx = nth(tempsort, 1)\n",
    "    nnames = [names[x] for x in sortidx]\n",
    "\n",
    "    if lowv is None:\n",
    "        lowv = min(1, int(math.floor(min(ssums))))\n",
    "    if highv is None:\n",
    "        highv = max(len(avranks), int(math.ceil(max(ssums))))\n",
    "\n",
    "    cline = 0.4\n",
    "\n",
    "    k = len(sums)\n",
    "\n",
    "    lines = None\n",
    "\n",
    "    linesblank = 0\n",
    "    scalewidth = width - 2 * textspace\n",
    "\n",
    "    def rankpos(rank):\n",
    "        if not reverse:\n",
    "            a = rank - lowv\n",
    "        else:\n",
    "            a = highv - rank\n",
    "        return textspace + scalewidth / (highv - lowv) * a\n",
    "\n",
    "    distanceh = 0.25\n",
    "\n",
    "    if cd and cdmethod is None:\n",
    "        # get pairs of non significant methods\n",
    "\n",
    "        def get_lines(sums, hsd):\n",
    "            # get all pairs\n",
    "            lsums = len(sums)\n",
    "            allpairs = [(i, j) for i, j in mxrange([[lsums], [lsums]]) if j > i]\n",
    "            # remove not significant\n",
    "            notSig = [(i, j) for i, j in allpairs\n",
    "                      if abs(sums[i] - sums[j]) <= hsd]\n",
    "\n",
    "            # keep only longest\n",
    "\n",
    "            def no_longer(ij_tuple, notSig):\n",
    "                i, j = ij_tuple\n",
    "                for i1, j1 in notSig:\n",
    "                    if (i1 <= i and j1 > j) or (i1 < i and j1 >= j):\n",
    "                        return False\n",
    "                return True\n",
    "\n",
    "            longest = [(i, j) for i, j in notSig if no_longer((i, j), notSig)]\n",
    "\n",
    "            return longest\n",
    "\n",
    "        lines = get_lines(ssums, cd)\n",
    "        linesblank = 0.2 + 0.2 + (len(lines) - 1) * 0.1\n",
    "\n",
    "        # add scale\n",
    "        distanceh = 0.25\n",
    "        cline += distanceh\n",
    "\n",
    "    # calculate height needed height of an image\n",
    "    minnotsignificant = max(2 * 0.2, linesblank)\n",
    "    height = cline + ((k + 1) / 2) * 0.2 + minnotsignificant\n",
    "\n",
    "    fig = plt.figure(figsize=(width, height))\n",
    "    fig.set_facecolor('white')\n",
    "    ax = fig.add_axes([0, 0, 1, 1])  # reverse y axis\n",
    "    ax.set_axis_off()\n",
    "\n",
    "    hf = 1. / height  # height factor\n",
    "    wf = 1. / width\n",
    "\n",
    "    def hfl(l):\n",
    "        return [a * hf for a in l]\n",
    "\n",
    "    def wfl(l):\n",
    "        return [a * wf for a in l]\n",
    "\n",
    "    # Upper left corner is (0,0).\n",
    "    ax.plot([0, 1], [0, 1], c=\"w\")\n",
    "    ax.set_xlim(0, 1)\n",
    "    ax.set_ylim(1, 0)\n",
    "\n",
    "    def line(l, color='k', **kwargs):\n",
    "        \"\"\"\n",
    "        Input is a list of pairs of points.\n",
    "        \"\"\"\n",
    "        ax.plot(wfl(nth(l, 0)), hfl(nth(l, 1)), color=color, **kwargs)\n",
    "\n",
    "    def text(x, y, s, *args, **kwargs):\n",
    "        ax.text(wf * x, hf * y, s, *args, **kwargs)\n",
    "\n",
    "    line([(textspace, cline), (width - textspace, cline)], linewidth=0.7)\n",
    "\n",
    "    bigtick = 0.1\n",
    "    smalltick = 0.05\n",
    "\n",
    "    tick = None\n",
    "    for a in list(np.arange(lowv, highv, 0.5)) + [highv]:\n",
    "        tick = smalltick\n",
    "        if a == int(a):\n",
    "            tick = bigtick\n",
    "        line([(rankpos(a), cline - tick / 2),\n",
    "              (rankpos(a), cline)],\n",
    "             linewidth=0.7)\n",
    "\n",
    "    for a in range(lowv, highv + 1):\n",
    "        text(rankpos(a), cline - tick / 2 - 0.05, str(a),\n",
    "             ha=\"center\", va=\"bottom\")\n",
    "\n",
    "    k = len(ssums)\n",
    "\n",
    "    for i in range(math.ceil(k / 2)):\n",
    "        chei = cline + minnotsignificant + i * 0.2\n",
    "        line([(rankpos(ssums[i]), cline),\n",
    "              (rankpos(ssums[i]), chei),\n",
    "              (textspace - 0.1, chei)],\n",
    "             linewidth=0.7)\n",
    "        text(textspace - 0.2, chei, nnames[i], ha=\"right\", va=\"center\")\n",
    "\n",
    "    for i in range(math.ceil(k / 2), k):\n",
    "        chei = cline + minnotsignificant + (k - i - 1) * 0.2\n",
    "        line([(rankpos(ssums[i]), cline),\n",
    "              (rankpos(ssums[i]), chei),\n",
    "              (textspace + scalewidth + 0.1, chei)],\n",
    "             linewidth=0.7)\n",
    "        text(textspace + scalewidth + 0.2, chei, nnames[i],\n",
    "             ha=\"left\", va=\"center\")\n",
    "\n",
    "    if cd and cdmethod is None:\n",
    "        # upper scale\n",
    "        if not reverse:\n",
    "            begin, end = rankpos(lowv), rankpos(lowv + cd)\n",
    "        else:\n",
    "            begin, end = rankpos(highv), rankpos(highv - cd)\n",
    "\n",
    "        line([(begin, distanceh), (end, distanceh)], linewidth=0.7)\n",
    "        line([(begin, distanceh + bigtick / 2),\n",
    "              (begin, distanceh - bigtick / 2)],\n",
    "             linewidth=0.7)\n",
    "        line([(end, distanceh + bigtick / 2),\n",
    "              (end, distanceh - bigtick / 2)],\n",
    "             linewidth=0.7)\n",
    "        text((begin + end) / 2, distanceh - 0.05, \"CD\",\n",
    "             ha=\"center\", va=\"bottom\")\n",
    "\n",
    "        # no-significance lines\n",
    "        def draw_lines(lines, side=0.05, height=0.1):\n",
    "            start = cline + 0.2\n",
    "            for l, r in lines:\n",
    "                line([(rankpos(ssums[l]) - side, start),\n",
    "                      (rankpos(ssums[r]) + side, start)],\n",
    "                     linewidth=2.5)\n",
    "                start += height\n",
    "\n",
    "        draw_lines(lines)\n",
    "\n",
    "    elif cd:\n",
    "        begin = rankpos(avranks[cdmethod] - cd)\n",
    "        end = rankpos(avranks[cdmethod] + cd)\n",
    "        line([(begin, cline), (end, cline)],\n",
    "             linewidth=2.5)\n",
    "        line([(begin, cline + bigtick / 2),\n",
    "              (begin, cline - bigtick / 2)],\n",
    "             linewidth=2.5)\n",
    "        line([(end, cline + bigtick / 2),\n",
    "              (end, cline - bigtick / 2)],\n",
    "             linewidth=2.5)\n",
    "\n",
    "    if filename:\n",
    "        print_figure(fig, filename, **kwargs)"
   ],
   "metadata": {
    "collapsed": false,
    "ExecuteTime": {
     "end_time": "2024-06-05T15:43:46.154188Z",
     "start_time": "2024-06-05T15:43:46.139782Z"
    }
   },
   "id": "7ca4185550d43d5f",
   "execution_count": 9
  },
  {
   "cell_type": "markdown",
   "source": [
    "## 2.2. Statistical Tests Functions"
   ],
   "metadata": {
    "collapsed": false
   },
   "id": "aa79bddd6e5f89f"
  },
  {
   "cell_type": "code",
   "outputs": [],
   "source": [
    "def perform_cd_analysis_multiple(means, algorithm_names, alpha=\"0.05\"):\n",
    "    \"\"\"\n",
    "    Perform Critical Difference Analysis with multiple runs.\n",
    "    means is a 3D array: datasets x runs x algorithms\n",
    "    \"\"\"\n",
    "    # Flatten runs and datasets into one dimension while keeping algorithms separate\n",
    "    reshaped_means = means.reshape(-1, means.shape[2]).T\n",
    "    ranks = np.array([stats.rankdata(-m) for m in reshaped_means.T])\n",
    "    avg_ranks = np.mean(ranks, axis=0)\n",
    "    stat, p_value = stats.friedmanchisquare(*reshaped_means)\n",
    "\n",
    "    print(f\"Statistics={stat}, p={p_value}\")\n",
    "\n",
    "    if p_value < 0.05:\n",
    "        print(\"Significant differences found. Proceeding to CD analysis.\")\n",
    "        cd = compute_CD(avg_ranks, reshaped_means.shape[1], alpha)\n",
    "        print(f\"Critical difference: {cd}\")\n",
    "        # Print ranking of each algorithm\n",
    "        sorted_indexes = np.argsort(avg_ranks)\n",
    "        print(\"\\nAlgorithm Name                 Rank\")\n",
    "        print(\"-------------------------------------\")\n",
    "        for i in sorted_indexes:\n",
    "            print(f\"{algorithm_names[i]:30s} {avg_ranks[i]:.2f}\")\n",
    "        graph_ranks(avranks=avg_ranks, names=algorithm_names, cd=cd, reverse=True, filename=None)\n",
    "    else:\n",
    "        print(\"No significant differences found.\")\n"
   ],
   "metadata": {
    "collapsed": false,
    "ExecuteTime": {
     "end_time": "2024-06-05T15:43:46.172201Z",
     "start_time": "2024-06-05T15:43:46.169260Z"
    }
   },
   "id": "77ffb08f21672d0e",
   "execution_count": 11
  },
  {
   "cell_type": "code",
   "outputs": [],
   "source": [
    "def do_cd_analysis_multiple(results_table, algorithms_names, algorithms_display_name):\n",
    "    \"\"\"\n",
    "    Perform Critical Difference Analysis with multiple runs data.\n",
    "    \n",
    "    Arguments:\n",
    "    results_table: DataFrame where each cell contains a list of performance data.\n",
    "    algorithms_names: List of column names in results_table that correspond to different algorithms.\n",
    "    algorithms_display_name: List of names for displaying the results.\n",
    "    \"\"\"\n",
    "    # Gather all dataset names (index of the DataFrame)\n",
    "    datasets = results_table.index.tolist()\n",
    "\n",
    "    # Determine the number of runs (assuming uniform across all cells)\n",
    "    number_of_runs = len(results_table.iloc[0, 0])\n",
    "\n",
    "    # Preparing the 3D array: datasets x runs x algorithms\n",
    "    data = np.empty((len(datasets), number_of_runs, len(algorithms_names)))\n",
    "\n",
    "    for i, algorithm in enumerate(algorithms_names):\n",
    "        for j, dataset in enumerate(datasets):\n",
    "            data[j, :, i] = results_table.at[dataset, algorithm]\n",
    "\n",
    "    # Pass the prepared data to the analysis function\n",
    "    perform_cd_analysis_multiple(data, algorithms_display_name)\n"
   ],
   "metadata": {
    "collapsed": false,
    "ExecuteTime": {
     "end_time": "2024-06-05T15:43:46.219299Z",
     "start_time": "2024-06-05T15:43:46.216727Z"
    }
   },
   "id": "33ddc97225d5d66",
   "execution_count": 12
  },
  {
   "cell_type": "markdown",
   "source": [
    "## 2.3. Utils Functions"
   ],
   "metadata": {
    "collapsed": false
   },
   "id": "6d26ea956d90adfa"
  },
  {
   "cell_type": "code",
   "outputs": [],
   "source": [
    "def save_df_as_latex(df, filename, output_dir_path: Path = PLOTS_OUTPUT_DIR):\n",
    "    \"\"\"\n",
    "    Save a DataFrame as a LaTeX table in a file.\n",
    "    \"\"\"\n",
    "    df_copy = df.fillna('')  # Fill NaN values with empty strings\n",
    "\n",
    "    full_file_path = output_dir_path / f'{filename}.tex'\n",
    "    with open(full_file_path, 'w') as f:\n",
    "        f.write(df_copy.style.to_latex(hrules=True, multicol_align='c', multirow_align='c'))"
   ],
   "metadata": {
    "collapsed": false,
    "ExecuteTime": {
     "end_time": "2024-06-05T15:43:46.254368Z",
     "start_time": "2024-06-05T15:43:46.252303Z"
    }
   },
   "id": "ce158f35851601ca",
   "execution_count": 14
  },
  {
   "cell_type": "markdown",
   "source": [
    "## 2.4. Data Processing Functions"
   ],
   "metadata": {
    "collapsed": false
   },
   "id": "b0c0e68d96033a44"
  },
  {
   "cell_type": "code",
   "outputs": [],
   "source": [
    "def process_df_representations_results(df_results, datasets_to_skip):\n",
    "    df_filtered = df_results[~df_results['dataset_name'].isin(datasets_to_skip)].copy()\n",
    "    df_filtered['model_encoder_pair'] = df_filtered['model_name'] + \" - \" + df_filtered['encoder_name']\n",
    "    return df_filtered"
   ],
   "metadata": {
    "collapsed": false,
    "ExecuteTime": {
     "end_time": "2024-06-05T15:43:46.355450Z",
     "start_time": "2024-06-05T15:43:46.353565Z"
    }
   },
   "id": "2a2b4d99b0655d66",
   "execution_count": 17
  },
  {
   "cell_type": "code",
   "outputs": [],
   "source": [
    "def compute_metrics_across_runs_representations(list_df_data,\n",
    "                                                encoders_list,\n",
    "                                                metrics,\n",
    "                                                aggregate=True,\n",
    "                                                values_format=\"mean\"):\n",
    "    encoder_metric_tables = {encoder: {} for encoder in encoders_list}\n",
    "    metric_encoder_tables = {metric: {} for metric in metrics}\n",
    "\n",
    "    # Table 1: One table per encoder\n",
    "    for encoder in encoders_list:\n",
    "        dataset_metric_values = {}\n",
    "\n",
    "        for metric in metrics:\n",
    "            for df_data in list_df_data:\n",
    "                for dataset in df_data['dataset_name'].unique():\n",
    "                    if dataset not in dataset_metric_values:\n",
    "                        dataset_metric_values[dataset] = {m: [] for m in metrics}\n",
    "\n",
    "            for df_data in list_df_data:\n",
    "                df_filtered_data = df_data[df_data['model_encoder_pair'] == encoder]\n",
    "                for dataset in df_filtered_data['dataset_name'].unique():\n",
    "                    values = df_filtered_data[df_filtered_data['dataset_name'] == dataset][metric].tolist()\n",
    "                    dataset_metric_values[dataset][metric].extend(values)\n",
    "\n",
    "        if aggregate:\n",
    "            for dataset, metrics_values in dataset_metric_values.items():\n",
    "                for m, values in metrics_values.items():\n",
    "                    mean = np.mean(values)\n",
    "                    std = np.std(values)\n",
    "                    dataset_metric_values[dataset][\n",
    "                        m] = f\"{mean:.2f} ± {std:.2f}\" if values_format == 'mean_std' else mean\n",
    "\n",
    "        result_table = pd.DataFrame.from_dict(dataset_metric_values, orient='index')\n",
    "        encoder_metric_tables[encoder] = result_table\n",
    "\n",
    "    # Table 2: One table per metric\n",
    "    for metric in metrics:\n",
    "        encoder_values = {}\n",
    "\n",
    "        for encoder in encoders_list:\n",
    "            for df_data in list_df_data:\n",
    "                for dataset in df_data['dataset_name'].unique():\n",
    "                    if dataset not in encoder_values:\n",
    "                        encoder_values[dataset] = {e: [] for e in encoders_list}\n",
    "\n",
    "            for df_data in list_df_data:\n",
    "                df_filtered_data = df_data[df_data['model_encoder_pair'] == encoder]\n",
    "                for dataset in df_filtered_data['dataset_name'].unique():\n",
    "                    values = df_filtered_data[df_filtered_data['dataset_name'] == dataset][metric].tolist()\n",
    "                    encoder_values[dataset][encoder].extend(values)\n",
    "\n",
    "        if aggregate:\n",
    "            for dataset, encoders_values in encoder_values.items():\n",
    "                for e, values in encoders_values.items():\n",
    "                    mean = np.mean(values)\n",
    "                    std = np.std(values)\n",
    "                    encoder_values[dataset][e] = f\"{mean:.2f} ± {std:.2f}\" if values_format == 'mean_std' else mean\n",
    "\n",
    "        result_table = pd.DataFrame.from_dict(encoder_values, orient='index')\n",
    "        metric_encoder_tables[metric] = result_table\n",
    "\n",
    "    return encoder_metric_tables, metric_encoder_tables\n"
   ],
   "metadata": {
    "collapsed": false,
    "ExecuteTime": {
     "end_time": "2024-06-05T15:43:46.378792Z",
     "start_time": "2024-06-05T15:43:46.373674Z"
    }
   },
   "id": "c545bba7fc172ad7",
   "execution_count": 18
  },
  {
   "cell_type": "code",
   "outputs": [],
   "source": [
    "def process_and_prepare_representations_data(data_folder_path: Path,\n",
    "                                             datasets_to_skip: list,\n",
    "                                             encoders_list: list,\n",
    "                                             metrics: list,\n",
    "                                             aggregate: bool = True,\n",
    "                                             values_format: str = 'mean'):\n",
    "    csv_files = [file for file in data_folder_path.iterdir() if file.suffix == '.csv']\n",
    "\n",
    "    results_files_dataframes = [pd.read_csv(file) for file in csv_files]\n",
    "\n",
    "    results_files_dataframes = [process_df_representations_results(df, datasets_to_skip) for df in\n",
    "                                results_files_dataframes]\n",
    "\n",
    "    encoder_metric_tables, metric_encoder_tables = compute_metrics_across_runs_representations(\n",
    "        list_df_data=results_files_dataframes,\n",
    "        encoders_list=encoders_list,\n",
    "        metrics=metrics,\n",
    "        aggregate=aggregate,\n",
    "        values_format=values_format)\n",
    "\n",
    "    return encoder_metric_tables, metric_encoder_tables"
   ],
   "metadata": {
    "collapsed": false,
    "ExecuteTime": {
     "end_time": "2024-06-05T15:43:46.387259Z",
     "start_time": "2024-06-05T15:43:46.384909Z"
    }
   },
   "id": "efc12300cb45174c",
   "execution_count": 19
  },
  {
   "cell_type": "code",
   "outputs": [],
   "source": [
    "def analyze_representation_results(representations_results_folder: Path,\n",
    "                                   metrics: list,\n",
    "                                   encoders_list: list, ):\n",
    "    encoder_metric_tables_display, metric_encoder_tables_display = process_and_prepare_representations_data(\n",
    "        data_folder_path=representations_results_folder,\n",
    "        datasets_to_skip=DATASETS_TO_SKIP,\n",
    "        encoders_list=encoders_list,\n",
    "        metrics=metrics,\n",
    "        values_format='mean_std')\n",
    "\n",
    "    for metric in metrics:\n",
    "        display(Markdown(f'### {metric.upper()} ###'))\n",
    "        display(metric_encoder_tables_display[metric].sort_index())\n",
    "\n",
    "    encoder_metric_tables, metric_encoder_tables = process_and_prepare_representations_data(\n",
    "        data_folder_path=representations_results_folder,\n",
    "        datasets_to_skip=DATASETS_TO_SKIP,\n",
    "        encoders_list=encoders_list,\n",
    "        metrics=metrics,\n",
    "        values_format='mean')\n",
    "\n",
    "    return encoder_metric_tables, metric_encoder_tables, encoder_metric_tables_display, metric_encoder_tables_display"
   ],
   "metadata": {
    "collapsed": false,
    "ExecuteTime": {
     "end_time": "2024-06-05T15:43:46.430213Z",
     "start_time": "2024-06-05T15:43:46.427589Z"
    }
   },
   "id": "1e49e5d7772686e5",
   "execution_count": 20
  },
  {
   "cell_type": "code",
   "outputs": [],
   "source": [
    "def analyze_representation_results_2(representations_results_folder: Path,\n",
    "                                     metrics: list,\n",
    "                                     encoders_list: list, ):\n",
    "    encoder_metric_tables_mul, metric_encoder_tables_mul = process_and_prepare_representations_data(\n",
    "        data_folder_path=representations_results_folder,\n",
    "        datasets_to_skip=DATASETS_TO_SKIP,\n",
    "        encoders_list=encoders_list,\n",
    "        metrics=metrics,\n",
    "        aggregate=False,\n",
    "        values_format='mean_std')\n",
    "\n",
    "    return encoder_metric_tables_mul, metric_encoder_tables_mul"
   ],
   "metadata": {
    "collapsed": false,
    "ExecuteTime": {
     "end_time": "2024-06-05T15:43:46.451392Z",
     "start_time": "2024-06-05T15:43:46.449235Z"
    }
   },
   "id": "833960a8c3744279",
   "execution_count": 21
  },
  {
   "cell_type": "markdown",
   "source": [
    "### 2.5. Summarising"
   ],
   "metadata": {
    "collapsed": false
   },
   "id": "f8e6a6ded6d167a8"
  },
  {
   "cell_type": "code",
   "outputs": [],
   "source": [
    "def summarize_baselines_results(baselines_tables: dict,\n",
    "                                clustering_metric_to_consider: str = CLUSTERING_METRIC_TO_CONSIDER_EXTERNAL):\n",
    "    df_summarized_baselines_results = pd.DataFrame()\n",
    "    for baseline_name, baseline_table in baselines_tables.items():\n",
    "        metric_table = baseline_table[clustering_metric_to_consider]\n",
    "        df_summarized_baselines_results = pd.concat(\n",
    "            [df_summarized_baselines_results, metric_table],\n",
    "            axis=1)\n",
    "\n",
    "    return df_summarized_baselines_results"
   ],
   "metadata": {
    "collapsed": false,
    "ExecuteTime": {
     "end_time": "2024-06-05T15:43:46.495087Z",
     "start_time": "2024-06-05T15:43:46.492946Z"
    }
   },
   "id": "2c66d854cc8165d8",
   "execution_count": 23
  },
  {
   "cell_type": "markdown",
   "source": [
    "# Section II: Analysis"
   ],
   "metadata": {
    "collapsed": false
   },
   "id": "5a5df1564d98a1cc"
  },
  {
   "cell_type": "markdown",
   "source": [
    "# 3. Baselines"
   ],
   "metadata": {
    "collapsed": false
   },
   "id": "3ce28651e30165b3"
  },
  {
   "cell_type": "code",
   "outputs": [],
   "source": [
    "BASELINES_MAIN_DIR = CLUSTERING_MAIN_RESULTS_DIR / 'baselines'"
   ],
   "metadata": {
    "collapsed": false,
    "ExecuteTime": {
     "end_time": "2024-06-05T15:43:46.518718Z",
     "start_time": "2024-06-05T15:43:46.516995Z"
    }
   },
   "id": "821c4a4b5af83c9d",
   "execution_count": 24
  },
  {
   "cell_type": "markdown",
   "source": [
    "## 3.1. LSTM Autoencoder (LSTM-AE)"
   ],
   "metadata": {
    "collapsed": false
   },
   "id": "4762a7ba2ba55e44"
  },
  {
   "cell_type": "code",
   "outputs": [],
   "source": [
    "lstm_ae_encoders_list = ['lstm-auto-encoder - encoder']\n",
    "lstm_ae_main_dir = BASELINES_MAIN_DIR / 'ae'\n",
    "lstm_ae_results_dir = lstm_ae_main_dir / 'compression_2'"
   ],
   "metadata": {
    "collapsed": false,
    "ExecuteTime": {
     "end_time": "2024-06-05T15:43:46.560952Z",
     "start_time": "2024-06-05T15:43:46.559161Z"
    }
   },
   "id": "e4c31d1fe08c6a79",
   "execution_count": 25
  },
  {
   "cell_type": "code",
   "outputs": [
    {
     "data": {
      "text/plain": "<IPython.core.display.Markdown object>",
      "text/markdown": "### ARI ###"
     },
     "metadata": {},
     "output_type": "display_data"
    },
    {
     "data": {
      "text/plain": "              lstm-auto-encoder - encoder\nACSF1                         0.23 ± 0.02\nAdiac                         0.12 ± 0.03\nArrowHead                     0.05 ± 0.01\nBME                           0.22 ± 0.07\nBeef                          0.04 ± 0.00\n...                                   ...\nWine                         -0.01 ± 0.00\nWordSynonyms                  0.06 ± 0.01\nWorms                         0.04 ± 0.00\nWormsTwoClass                -0.00 ± 0.00\nYoga                          0.00 ± 0.00\n\n[112 rows x 1 columns]",
      "text/html": "<div>\n<style scoped>\n    .dataframe tbody tr th:only-of-type {\n        vertical-align: middle;\n    }\n\n    .dataframe tbody tr th {\n        vertical-align: top;\n    }\n\n    .dataframe thead th {\n        text-align: right;\n    }\n</style>\n<table border=\"1\" class=\"dataframe\">\n  <thead>\n    <tr style=\"text-align: right;\">\n      <th></th>\n      <th>lstm-auto-encoder - encoder</th>\n    </tr>\n  </thead>\n  <tbody>\n    <tr>\n      <th>ACSF1</th>\n      <td>0.23 ± 0.02</td>\n    </tr>\n    <tr>\n      <th>Adiac</th>\n      <td>0.12 ± 0.03</td>\n    </tr>\n    <tr>\n      <th>ArrowHead</th>\n      <td>0.05 ± 0.01</td>\n    </tr>\n    <tr>\n      <th>BME</th>\n      <td>0.22 ± 0.07</td>\n    </tr>\n    <tr>\n      <th>Beef</th>\n      <td>0.04 ± 0.00</td>\n    </tr>\n    <tr>\n      <th>...</th>\n      <td>...</td>\n    </tr>\n    <tr>\n      <th>Wine</th>\n      <td>-0.01 ± 0.00</td>\n    </tr>\n    <tr>\n      <th>WordSynonyms</th>\n      <td>0.06 ± 0.01</td>\n    </tr>\n    <tr>\n      <th>Worms</th>\n      <td>0.04 ± 0.00</td>\n    </tr>\n    <tr>\n      <th>WormsTwoClass</th>\n      <td>-0.00 ± 0.00</td>\n    </tr>\n    <tr>\n      <th>Yoga</th>\n      <td>0.00 ± 0.00</td>\n    </tr>\n  </tbody>\n</table>\n<p>112 rows × 1 columns</p>\n</div>"
     },
     "metadata": {},
     "output_type": "display_data"
    },
    {
     "data": {
      "text/plain": "<IPython.core.display.Markdown object>",
      "text/markdown": "### CHS ###"
     },
     "metadata": {},
     "output_type": "display_data"
    },
    {
     "data": {
      "text/plain": "              lstm-auto-encoder - encoder\nACSF1                      124.03 ± 27.44\nAdiac                     554.75 ± 330.38\nArrowHead                  119.86 ± 32.01\nBME                        182.64 ± 78.64\nBeef                     1212.85 ± 418.01\n...                                   ...\nWine                        55.94 ± 13.78\nWordSynonyms               268.11 ± 61.29\nWorms                       394.48 ± 6.15\nWormsTwoClass               268.58 ± 1.22\nYoga                     1429.04 ± 964.82\n\n[112 rows x 1 columns]",
      "text/html": "<div>\n<style scoped>\n    .dataframe tbody tr th:only-of-type {\n        vertical-align: middle;\n    }\n\n    .dataframe tbody tr th {\n        vertical-align: top;\n    }\n\n    .dataframe thead th {\n        text-align: right;\n    }\n</style>\n<table border=\"1\" class=\"dataframe\">\n  <thead>\n    <tr style=\"text-align: right;\">\n      <th></th>\n      <th>lstm-auto-encoder - encoder</th>\n    </tr>\n  </thead>\n  <tbody>\n    <tr>\n      <th>ACSF1</th>\n      <td>124.03 ± 27.44</td>\n    </tr>\n    <tr>\n      <th>Adiac</th>\n      <td>554.75 ± 330.38</td>\n    </tr>\n    <tr>\n      <th>ArrowHead</th>\n      <td>119.86 ± 32.01</td>\n    </tr>\n    <tr>\n      <th>BME</th>\n      <td>182.64 ± 78.64</td>\n    </tr>\n    <tr>\n      <th>Beef</th>\n      <td>1212.85 ± 418.01</td>\n    </tr>\n    <tr>\n      <th>...</th>\n      <td>...</td>\n    </tr>\n    <tr>\n      <th>Wine</th>\n      <td>55.94 ± 13.78</td>\n    </tr>\n    <tr>\n      <th>WordSynonyms</th>\n      <td>268.11 ± 61.29</td>\n    </tr>\n    <tr>\n      <th>Worms</th>\n      <td>394.48 ± 6.15</td>\n    </tr>\n    <tr>\n      <th>WormsTwoClass</th>\n      <td>268.58 ± 1.22</td>\n    </tr>\n    <tr>\n      <th>Yoga</th>\n      <td>1429.04 ± 964.82</td>\n    </tr>\n  </tbody>\n</table>\n<p>112 rows × 1 columns</p>\n</div>"
     },
     "metadata": {},
     "output_type": "display_data"
    }
   ],
   "source": [
    "lstm_ae_comp_2_encoder_metric_tables, lstm_ae_comp_2_metric_encoder_tables, lstm_ae_comp_2_encoder_metric_tables_display, lstm_ae_comp_2_metric_encoder_tables_display = \\\n",
    "    analyze_representation_results(representations_results_folder=lstm_ae_results_dir,\n",
    "                                   metrics=CLUSTERING_METRICS,\n",
    "                                   encoders_list=lstm_ae_encoders_list)"
   ],
   "metadata": {
    "collapsed": false,
    "ExecuteTime": {
     "end_time": "2024-06-05T15:43:47.024466Z",
     "start_time": "2024-06-05T15:43:46.569766Z"
    }
   },
   "id": "72048207c2c33587",
   "execution_count": 26
  },
  {
   "cell_type": "code",
   "outputs": [],
   "source": [
    "lstm_ae_comp_2_encoder_metric_tables_mul, lstm_ae_comp_2_metric_encoder_tables_mul = analyze_representation_results_2(\n",
    "    representations_results_folder=lstm_ae_results_dir,\n",
    "    metrics=CLUSTERING_METRICS,\n",
    "    encoders_list=lstm_ae_encoders_list)"
   ],
   "metadata": {
    "collapsed": false,
    "ExecuteTime": {
     "end_time": "2024-06-05T15:43:47.240974Z",
     "start_time": "2024-06-05T15:43:47.025446Z"
    }
   },
   "id": "2fe487a931587c53",
   "execution_count": 27
  },
  {
   "cell_type": "markdown",
   "source": [
    "## 3.2. TS2Vec"
   ],
   "metadata": {
    "collapsed": false
   },
   "id": "f8d4e2f9b86fceb3"
  },
  {
   "cell_type": "code",
   "outputs": [],
   "source": [
    "ts2vec_encoders_list = ['ts2vec - ts2vec']\n",
    "ts2vec_main_dir = BASELINES_MAIN_DIR / 'ts2vec'\n",
    "ts2vec_results_dir = ts2vec_main_dir / 'compression_2'"
   ],
   "metadata": {
    "collapsed": false,
    "ExecuteTime": {
     "end_time": "2024-06-05T15:43:47.243619Z",
     "start_time": "2024-06-05T15:43:47.241677Z"
    }
   },
   "id": "82cb52504ada0cef",
   "execution_count": 28
  },
  {
   "cell_type": "code",
   "outputs": [
    {
     "data": {
      "text/plain": "<IPython.core.display.Markdown object>",
      "text/markdown": "### ARI ###"
     },
     "metadata": {},
     "output_type": "display_data"
    },
    {
     "data": {
      "text/plain": "              ts2vec - ts2vec\nACSF1             0.16 ± 0.01\nAdiac             0.25 ± 0.02\nArrowHead        -0.01 ± 0.00\nBME              -0.00 ± 0.00\nBeef              0.08 ± 0.03\n...                       ...\nWine             -0.01 ± 0.01\nWordSynonyms      0.20 ± 0.03\nWorms             0.06 ± 0.01\nWormsTwoClass     0.04 ± 0.02\nYoga              0.00 ± 0.00\n\n[112 rows x 1 columns]",
      "text/html": "<div>\n<style scoped>\n    .dataframe tbody tr th:only-of-type {\n        vertical-align: middle;\n    }\n\n    .dataframe tbody tr th {\n        vertical-align: top;\n    }\n\n    .dataframe thead th {\n        text-align: right;\n    }\n</style>\n<table border=\"1\" class=\"dataframe\">\n  <thead>\n    <tr style=\"text-align: right;\">\n      <th></th>\n      <th>ts2vec - ts2vec</th>\n    </tr>\n  </thead>\n  <tbody>\n    <tr>\n      <th>ACSF1</th>\n      <td>0.16 ± 0.01</td>\n    </tr>\n    <tr>\n      <th>Adiac</th>\n      <td>0.25 ± 0.02</td>\n    </tr>\n    <tr>\n      <th>ArrowHead</th>\n      <td>-0.01 ± 0.00</td>\n    </tr>\n    <tr>\n      <th>BME</th>\n      <td>-0.00 ± 0.00</td>\n    </tr>\n    <tr>\n      <th>Beef</th>\n      <td>0.08 ± 0.03</td>\n    </tr>\n    <tr>\n      <th>...</th>\n      <td>...</td>\n    </tr>\n    <tr>\n      <th>Wine</th>\n      <td>-0.01 ± 0.01</td>\n    </tr>\n    <tr>\n      <th>WordSynonyms</th>\n      <td>0.20 ± 0.03</td>\n    </tr>\n    <tr>\n      <th>Worms</th>\n      <td>0.06 ± 0.01</td>\n    </tr>\n    <tr>\n      <th>WormsTwoClass</th>\n      <td>0.04 ± 0.02</td>\n    </tr>\n    <tr>\n      <th>Yoga</th>\n      <td>0.00 ± 0.00</td>\n    </tr>\n  </tbody>\n</table>\n<p>112 rows × 1 columns</p>\n</div>"
     },
     "metadata": {},
     "output_type": "display_data"
    },
    {
     "data": {
      "text/plain": "<IPython.core.display.Markdown object>",
      "text/markdown": "### CHS ###"
     },
     "metadata": {},
     "output_type": "display_data"
    },
    {
     "data": {
      "text/plain": "              ts2vec - ts2vec\nACSF1          164.21 ± 34.50\nAdiac          106.76 ± 19.63\nArrowHead        63.58 ± 9.14\nBME            462.14 ± 80.76\nBeef             44.79 ± 6.51\n...                       ...\nWine             41.02 ± 2.10\nWordSynonyms     25.24 ± 2.79\nWorms            22.78 ± 3.42\nWormsTwoClass    32.77 ± 4.34\nYoga           494.60 ± 50.15\n\n[112 rows x 1 columns]",
      "text/html": "<div>\n<style scoped>\n    .dataframe tbody tr th:only-of-type {\n        vertical-align: middle;\n    }\n\n    .dataframe tbody tr th {\n        vertical-align: top;\n    }\n\n    .dataframe thead th {\n        text-align: right;\n    }\n</style>\n<table border=\"1\" class=\"dataframe\">\n  <thead>\n    <tr style=\"text-align: right;\">\n      <th></th>\n      <th>ts2vec - ts2vec</th>\n    </tr>\n  </thead>\n  <tbody>\n    <tr>\n      <th>ACSF1</th>\n      <td>164.21 ± 34.50</td>\n    </tr>\n    <tr>\n      <th>Adiac</th>\n      <td>106.76 ± 19.63</td>\n    </tr>\n    <tr>\n      <th>ArrowHead</th>\n      <td>63.58 ± 9.14</td>\n    </tr>\n    <tr>\n      <th>BME</th>\n      <td>462.14 ± 80.76</td>\n    </tr>\n    <tr>\n      <th>Beef</th>\n      <td>44.79 ± 6.51</td>\n    </tr>\n    <tr>\n      <th>...</th>\n      <td>...</td>\n    </tr>\n    <tr>\n      <th>Wine</th>\n      <td>41.02 ± 2.10</td>\n    </tr>\n    <tr>\n      <th>WordSynonyms</th>\n      <td>25.24 ± 2.79</td>\n    </tr>\n    <tr>\n      <th>Worms</th>\n      <td>22.78 ± 3.42</td>\n    </tr>\n    <tr>\n      <th>WormsTwoClass</th>\n      <td>32.77 ± 4.34</td>\n    </tr>\n    <tr>\n      <th>Yoga</th>\n      <td>494.60 ± 50.15</td>\n    </tr>\n  </tbody>\n</table>\n<p>112 rows × 1 columns</p>\n</div>"
     },
     "metadata": {},
     "output_type": "display_data"
    }
   ],
   "source": [
    "ts2vec_comp_2_encoder_metric_tables, ts2vec_comp_2_metric_encoder_tables, ts2vec_comp_2_encoder_metric_tables_display, ts2vec_comp_2_metric_encoder_tables_display = \\\n",
    "    analyze_representation_results(representations_results_folder=ts2vec_results_dir,\n",
    "                                   metrics=CLUSTERING_METRICS,\n",
    "                                   encoders_list=ts2vec_encoders_list)"
   ],
   "metadata": {
    "collapsed": false,
    "ExecuteTime": {
     "end_time": "2024-06-05T15:43:47.700739Z",
     "start_time": "2024-06-05T15:43:47.245138Z"
    }
   },
   "id": "89c403044eda8832",
   "execution_count": 29
  },
  {
   "cell_type": "code",
   "outputs": [],
   "source": [
    "ts2vec_comp_2_encoder_metric_tables_mul, ts2vec_comp_2_metric_encoder_tables_mul = analyze_representation_results_2(\n",
    "    representations_results_folder=ts2vec_results_dir,\n",
    "    metrics=CLUSTERING_METRICS,\n",
    "    encoders_list=ts2vec_encoders_list)"
   ],
   "metadata": {
    "collapsed": false,
    "ExecuteTime": {
     "end_time": "2024-06-05T15:43:47.920584Z",
     "start_time": "2024-06-05T15:43:47.701478Z"
    }
   },
   "id": "76d4189a61f8e4d8",
   "execution_count": 30
  },
  {
   "cell_type": "markdown",
   "source": [
    "## 3.3. MCL"
   ],
   "metadata": {
    "collapsed": false
   },
   "id": "ceceb743ce5d42b7"
  },
  {
   "cell_type": "code",
   "outputs": [],
   "source": [
    "mcl_encoders_list = ['mcl - mcl']\n",
    "mcl_main_dir = BASELINES_MAIN_DIR / 'mcl'\n",
    "mcl_results_dir = mcl_main_dir / 'compression_2'"
   ],
   "metadata": {
    "collapsed": false,
    "ExecuteTime": {
     "end_time": "2024-06-05T15:43:47.923136Z",
     "start_time": "2024-06-05T15:43:47.921388Z"
    }
   },
   "id": "c063894b0d084745",
   "execution_count": 31
  },
  {
   "cell_type": "code",
   "outputs": [
    {
     "data": {
      "text/plain": "<IPython.core.display.Markdown object>",
      "text/markdown": "### ARI ###"
     },
     "metadata": {},
     "output_type": "display_data"
    },
    {
     "data": {
      "text/plain": "                  mcl - mcl\nACSF1           0.26 ± 0.01\nAdiac           0.31 ± 0.02\nArrowHead       0.09 ± 0.04\nBME             0.25 ± 0.07\nBeef            0.17 ± 0.06\n...                     ...\nWine            0.04 ± 0.05\nWordSynonyms    0.15 ± 0.01\nWorms          -0.00 ± 0.01\nWormsTwoClass  -0.00 ± 0.00\nYoga            0.00 ± 0.00\n\n[112 rows x 1 columns]",
      "text/html": "<div>\n<style scoped>\n    .dataframe tbody tr th:only-of-type {\n        vertical-align: middle;\n    }\n\n    .dataframe tbody tr th {\n        vertical-align: top;\n    }\n\n    .dataframe thead th {\n        text-align: right;\n    }\n</style>\n<table border=\"1\" class=\"dataframe\">\n  <thead>\n    <tr style=\"text-align: right;\">\n      <th></th>\n      <th>mcl - mcl</th>\n    </tr>\n  </thead>\n  <tbody>\n    <tr>\n      <th>ACSF1</th>\n      <td>0.26 ± 0.01</td>\n    </tr>\n    <tr>\n      <th>Adiac</th>\n      <td>0.31 ± 0.02</td>\n    </tr>\n    <tr>\n      <th>ArrowHead</th>\n      <td>0.09 ± 0.04</td>\n    </tr>\n    <tr>\n      <th>BME</th>\n      <td>0.25 ± 0.07</td>\n    </tr>\n    <tr>\n      <th>Beef</th>\n      <td>0.17 ± 0.06</td>\n    </tr>\n    <tr>\n      <th>...</th>\n      <td>...</td>\n    </tr>\n    <tr>\n      <th>Wine</th>\n      <td>0.04 ± 0.05</td>\n    </tr>\n    <tr>\n      <th>WordSynonyms</th>\n      <td>0.15 ± 0.01</td>\n    </tr>\n    <tr>\n      <th>Worms</th>\n      <td>-0.00 ± 0.01</td>\n    </tr>\n    <tr>\n      <th>WormsTwoClass</th>\n      <td>-0.00 ± 0.00</td>\n    </tr>\n    <tr>\n      <th>Yoga</th>\n      <td>0.00 ± 0.00</td>\n    </tr>\n  </tbody>\n</table>\n<p>112 rows × 1 columns</p>\n</div>"
     },
     "metadata": {},
     "output_type": "display_data"
    },
    {
     "data": {
      "text/plain": "<IPython.core.display.Markdown object>",
      "text/markdown": "### CHS ###"
     },
     "metadata": {},
     "output_type": "display_data"
    },
    {
     "data": {
      "text/plain": "                    mcl - mcl\nACSF1           67.71 ± 12.97\nAdiac           93.91 ± 10.38\nArrowHead        33.99 ± 6.30\nBME              24.75 ± 3.34\nBeef             25.39 ± 7.57\n...                       ...\nWine             18.71 ± 3.79\nWordSynonyms     39.91 ± 3.81\nWorms            18.97 ± 1.52\nWormsTwoClass    23.65 ± 1.19\nYoga           331.77 ± 48.57\n\n[112 rows x 1 columns]",
      "text/html": "<div>\n<style scoped>\n    .dataframe tbody tr th:only-of-type {\n        vertical-align: middle;\n    }\n\n    .dataframe tbody tr th {\n        vertical-align: top;\n    }\n\n    .dataframe thead th {\n        text-align: right;\n    }\n</style>\n<table border=\"1\" class=\"dataframe\">\n  <thead>\n    <tr style=\"text-align: right;\">\n      <th></th>\n      <th>mcl - mcl</th>\n    </tr>\n  </thead>\n  <tbody>\n    <tr>\n      <th>ACSF1</th>\n      <td>67.71 ± 12.97</td>\n    </tr>\n    <tr>\n      <th>Adiac</th>\n      <td>93.91 ± 10.38</td>\n    </tr>\n    <tr>\n      <th>ArrowHead</th>\n      <td>33.99 ± 6.30</td>\n    </tr>\n    <tr>\n      <th>BME</th>\n      <td>24.75 ± 3.34</td>\n    </tr>\n    <tr>\n      <th>Beef</th>\n      <td>25.39 ± 7.57</td>\n    </tr>\n    <tr>\n      <th>...</th>\n      <td>...</td>\n    </tr>\n    <tr>\n      <th>Wine</th>\n      <td>18.71 ± 3.79</td>\n    </tr>\n    <tr>\n      <th>WordSynonyms</th>\n      <td>39.91 ± 3.81</td>\n    </tr>\n    <tr>\n      <th>Worms</th>\n      <td>18.97 ± 1.52</td>\n    </tr>\n    <tr>\n      <th>WormsTwoClass</th>\n      <td>23.65 ± 1.19</td>\n    </tr>\n    <tr>\n      <th>Yoga</th>\n      <td>331.77 ± 48.57</td>\n    </tr>\n  </tbody>\n</table>\n<p>112 rows × 1 columns</p>\n</div>"
     },
     "metadata": {},
     "output_type": "display_data"
    }
   ],
   "source": [
    "mcl_comp_2_encoder_metric_tables, mcl_comp_2_metric_encoder_tables, mcl_comp_2_encoder_metrics_tables_display, mcl_comp_2_metric_encoder_tables_display = \\\n",
    "    analyze_representation_results(representations_results_folder=mcl_results_dir,\n",
    "                                   metrics=CLUSTERING_METRICS,\n",
    "                                   encoders_list=mcl_encoders_list)"
   ],
   "metadata": {
    "collapsed": false,
    "ExecuteTime": {
     "end_time": "2024-06-05T15:43:48.374439Z",
     "start_time": "2024-06-05T15:43:47.923823Z"
    }
   },
   "id": "de4fbff97fd92159",
   "execution_count": 32
  },
  {
   "cell_type": "code",
   "outputs": [],
   "source": [
    "mcl_comp_2_encoder_metric_tables_mul, mcl_comp_2_metric_encoder_tables_mul = analyze_representation_results_2(\n",
    "    representations_results_folder=mcl_results_dir,\n",
    "    metrics=CLUSTERING_METRICS,\n",
    "    encoders_list=mcl_encoders_list)"
   ],
   "metadata": {
    "collapsed": false,
    "ExecuteTime": {
     "end_time": "2024-06-05T15:43:48.594730Z",
     "start_time": "2024-06-05T15:43:48.375478Z"
    }
   },
   "id": "8cd273bf19c4c5b",
   "execution_count": 33
  },
  {
   "cell_type": "markdown",
   "source": [
    "## 3.4. TimeNet"
   ],
   "metadata": {
    "collapsed": false
   },
   "id": "f9841a1555f61d75"
  },
  {
   "cell_type": "code",
   "outputs": [],
   "source": [
    "timenet_encoders_list = ['timenet - timenet']\n",
    "timenet_main_dir = BASELINES_MAIN_DIR / 'timenet'\n",
    "timenet_results_dir = timenet_main_dir / 'compression_2'"
   ],
   "metadata": {
    "collapsed": false,
    "ExecuteTime": {
     "end_time": "2024-06-05T15:43:48.597127Z",
     "start_time": "2024-06-05T15:43:48.595437Z"
    }
   },
   "id": "8c85b4057b9ed1ab",
   "execution_count": 34
  },
  {
   "cell_type": "code",
   "outputs": [
    {
     "data": {
      "text/plain": "<IPython.core.display.Markdown object>",
      "text/markdown": "### ARI ###"
     },
     "metadata": {},
     "output_type": "display_data"
    },
    {
     "data": {
      "text/plain": "              timenet - timenet\nACSF1               0.22 ± 0.02\nAdiac               0.14 ± 0.02\nArrowHead           0.05 ± 0.02\nBME                 0.37 ± 0.18\nBeef                0.08 ± 0.04\n...                         ...\nWine                0.01 ± 0.02\nWordSynonyms        0.16 ± 0.01\nWorms               0.06 ± 0.01\nWormsTwoClass       0.00 ± 0.01\nYoga                0.00 ± 0.00\n\n[112 rows x 1 columns]",
      "text/html": "<div>\n<style scoped>\n    .dataframe tbody tr th:only-of-type {\n        vertical-align: middle;\n    }\n\n    .dataframe tbody tr th {\n        vertical-align: top;\n    }\n\n    .dataframe thead th {\n        text-align: right;\n    }\n</style>\n<table border=\"1\" class=\"dataframe\">\n  <thead>\n    <tr style=\"text-align: right;\">\n      <th></th>\n      <th>timenet - timenet</th>\n    </tr>\n  </thead>\n  <tbody>\n    <tr>\n      <th>ACSF1</th>\n      <td>0.22 ± 0.02</td>\n    </tr>\n    <tr>\n      <th>Adiac</th>\n      <td>0.14 ± 0.02</td>\n    </tr>\n    <tr>\n      <th>ArrowHead</th>\n      <td>0.05 ± 0.02</td>\n    </tr>\n    <tr>\n      <th>BME</th>\n      <td>0.37 ± 0.18</td>\n    </tr>\n    <tr>\n      <th>Beef</th>\n      <td>0.08 ± 0.04</td>\n    </tr>\n    <tr>\n      <th>...</th>\n      <td>...</td>\n    </tr>\n    <tr>\n      <th>Wine</th>\n      <td>0.01 ± 0.02</td>\n    </tr>\n    <tr>\n      <th>WordSynonyms</th>\n      <td>0.16 ± 0.01</td>\n    </tr>\n    <tr>\n      <th>Worms</th>\n      <td>0.06 ± 0.01</td>\n    </tr>\n    <tr>\n      <th>WormsTwoClass</th>\n      <td>0.00 ± 0.01</td>\n    </tr>\n    <tr>\n      <th>Yoga</th>\n      <td>0.00 ± 0.00</td>\n    </tr>\n  </tbody>\n</table>\n<p>112 rows × 1 columns</p>\n</div>"
     },
     "metadata": {},
     "output_type": "display_data"
    },
    {
     "data": {
      "text/plain": "<IPython.core.display.Markdown object>",
      "text/markdown": "### CHS ###"
     },
     "metadata": {},
     "output_type": "display_data"
    },
    {
     "data": {
      "text/plain": "              timenet - timenet\nACSF1            106.55 ± 23.43\nAdiac           405.99 ± 136.36\nArrowHead         70.94 ± 24.64\nBME                64.21 ± 8.69\nBeef            180.20 ± 140.03\n...                         ...\nWine               33.06 ± 5.19\nWordSynonyms      96.31 ± 21.44\nWorms            103.10 ± 68.16\nWormsTwoClass      50.20 ± 6.23\nYoga            973.13 ± 144.93\n\n[112 rows x 1 columns]",
      "text/html": "<div>\n<style scoped>\n    .dataframe tbody tr th:only-of-type {\n        vertical-align: middle;\n    }\n\n    .dataframe tbody tr th {\n        vertical-align: top;\n    }\n\n    .dataframe thead th {\n        text-align: right;\n    }\n</style>\n<table border=\"1\" class=\"dataframe\">\n  <thead>\n    <tr style=\"text-align: right;\">\n      <th></th>\n      <th>timenet - timenet</th>\n    </tr>\n  </thead>\n  <tbody>\n    <tr>\n      <th>ACSF1</th>\n      <td>106.55 ± 23.43</td>\n    </tr>\n    <tr>\n      <th>Adiac</th>\n      <td>405.99 ± 136.36</td>\n    </tr>\n    <tr>\n      <th>ArrowHead</th>\n      <td>70.94 ± 24.64</td>\n    </tr>\n    <tr>\n      <th>BME</th>\n      <td>64.21 ± 8.69</td>\n    </tr>\n    <tr>\n      <th>Beef</th>\n      <td>180.20 ± 140.03</td>\n    </tr>\n    <tr>\n      <th>...</th>\n      <td>...</td>\n    </tr>\n    <tr>\n      <th>Wine</th>\n      <td>33.06 ± 5.19</td>\n    </tr>\n    <tr>\n      <th>WordSynonyms</th>\n      <td>96.31 ± 21.44</td>\n    </tr>\n    <tr>\n      <th>Worms</th>\n      <td>103.10 ± 68.16</td>\n    </tr>\n    <tr>\n      <th>WormsTwoClass</th>\n      <td>50.20 ± 6.23</td>\n    </tr>\n    <tr>\n      <th>Yoga</th>\n      <td>973.13 ± 144.93</td>\n    </tr>\n  </tbody>\n</table>\n<p>112 rows × 1 columns</p>\n</div>"
     },
     "metadata": {},
     "output_type": "display_data"
    }
   ],
   "source": [
    "timenet_comp_2_encoder_metric_tables, timenet_comp_2_metric_encoder_tables, timenet_comp_2_encoder_metrics_tables_display, timenet_comp_2_metric_encoder_tables_display = \\\n",
    "    analyze_representation_results(representations_results_folder=timenet_results_dir,\n",
    "                                   metrics=CLUSTERING_METRICS,\n",
    "                                   encoders_list=timenet_encoders_list)"
   ],
   "metadata": {
    "collapsed": false,
    "ExecuteTime": {
     "end_time": "2024-06-05T15:43:49.049490Z",
     "start_time": "2024-06-05T15:43:48.599648Z"
    }
   },
   "id": "6c52734bdb28ee46",
   "execution_count": 35
  },
  {
   "cell_type": "code",
   "outputs": [],
   "source": [
    "timenet_comp_2_encoder_metric_tables_mul, timenet_comp_2_metric_encoder_tables_mul = analyze_representation_results_2(\n",
    "    representations_results_folder=timenet_results_dir,\n",
    "    metrics=CLUSTERING_METRICS,\n",
    "    encoders_list=timenet_encoders_list)"
   ],
   "metadata": {
    "collapsed": false,
    "ExecuteTime": {
     "end_time": "2024-06-05T15:43:49.270669Z",
     "start_time": "2024-06-05T15:43:49.050198Z"
    }
   },
   "id": "2e492fd445ca0236",
   "execution_count": 36
  },
  {
   "cell_type": "markdown",
   "source": [
    "## 3.5. Baselines Summary"
   ],
   "metadata": {
    "collapsed": false
   },
   "id": "6ecf0f81ec9004b4"
  },
  {
   "cell_type": "code",
   "outputs": [],
   "source": [
    "baselines_tables_display = {\n",
    "    'lstm_ae': lstm_ae_comp_2_metric_encoder_tables_display,\n",
    "    'ts2vec': ts2vec_comp_2_metric_encoder_tables_display,\n",
    "    'mcl': mcl_comp_2_metric_encoder_tables_display,\n",
    "    'timenet': timenet_comp_2_metric_encoder_tables_display\n",
    "}"
   ],
   "metadata": {
    "collapsed": false,
    "ExecuteTime": {
     "end_time": "2024-06-05T15:43:49.273415Z",
     "start_time": "2024-06-05T15:43:49.271382Z"
    }
   },
   "id": "7c6972bd3b00adf1",
   "execution_count": 37
  },
  {
   "cell_type": "code",
   "outputs": [],
   "source": [
    "baselines_tables = {\n",
    "    'lstm_ae': lstm_ae_comp_2_metric_encoder_tables,\n",
    "    'ts2vec': ts2vec_comp_2_metric_encoder_tables,\n",
    "    'mcl': mcl_comp_2_metric_encoder_tables,\n",
    "    'timenet': timenet_comp_2_metric_encoder_tables,\n",
    "}"
   ],
   "metadata": {
    "collapsed": false,
    "ExecuteTime": {
     "end_time": "2024-06-05T15:43:49.275712Z",
     "start_time": "2024-06-05T15:43:49.274034Z"
    }
   },
   "id": "11bbf1d9157b7de7",
   "execution_count": 38
  },
  {
   "cell_type": "code",
   "outputs": [],
   "source": [
    "baselines_tables_mul = {\n",
    "    'lstm_ae': lstm_ae_comp_2_metric_encoder_tables_mul,\n",
    "    'ts2vec': ts2vec_comp_2_metric_encoder_tables_mul,\n",
    "    'mcl': mcl_comp_2_metric_encoder_tables_mul,\n",
    "    'timenet': timenet_comp_2_metric_encoder_tables_mul,\n",
    "}"
   ],
   "metadata": {
    "collapsed": false,
    "ExecuteTime": {
     "end_time": "2024-06-05T15:43:49.277823Z",
     "start_time": "2024-06-05T15:43:49.276227Z"
    }
   },
   "id": "9f788185440366f5",
   "execution_count": 39
  },
  {
   "cell_type": "markdown",
   "source": [
    "### 3.5.1. Internal Clustering Metric"
   ],
   "metadata": {
    "collapsed": false
   },
   "id": "ffe011bd9bff1e5a"
  },
  {
   "cell_type": "code",
   "outputs": [],
   "source": [
    "df_summarized_baselines_results_internal_display \\\n",
    "    = summarize_baselines_results(baselines_tables=baselines_tables_display,\n",
    "                                  clustering_metric_to_consider=CLUSTERING_METRIC_TO_CONSIDER_INTERNAL)\n"
   ],
   "metadata": {
    "collapsed": false,
    "ExecuteTime": {
     "end_time": "2024-06-05T15:43:49.280363Z",
     "start_time": "2024-06-05T15:43:49.278331Z"
    }
   },
   "id": "ee28511b1539f4d3",
   "execution_count": 40
  },
  {
   "cell_type": "code",
   "outputs": [
    {
     "data": {
      "text/plain": "              lstm-auto-encoder - encoder ts2vec - ts2vec       mcl - mcl  \\\nACSF1                      124.03 ± 27.44  164.21 ± 34.50   67.71 ± 12.97   \nAdiac                     554.75 ± 330.38  106.76 ± 19.63   93.91 ± 10.38   \nArrowHead                  119.86 ± 32.01    63.58 ± 9.14    33.99 ± 6.30   \nBME                        182.64 ± 78.64  462.14 ± 80.76    24.75 ± 3.34   \nBeef                     1212.85 ± 418.01    44.79 ± 6.51    25.39 ± 7.57   \n...                                   ...             ...             ...   \nWine                        55.94 ± 13.78    41.02 ± 2.10    18.71 ± 3.79   \nWordSynonyms               268.11 ± 61.29    25.24 ± 2.79    39.91 ± 3.81   \nWorms                       394.48 ± 6.15    22.78 ± 3.42    18.97 ± 1.52   \nWormsTwoClass               268.58 ± 1.22    32.77 ± 4.34    23.65 ± 1.19   \nYoga                     1429.04 ± 964.82  494.60 ± 50.15  331.77 ± 48.57   \n\n              timenet - timenet  \nACSF1            106.55 ± 23.43  \nAdiac           405.99 ± 136.36  \nArrowHead         70.94 ± 24.64  \nBME                64.21 ± 8.69  \nBeef            180.20 ± 140.03  \n...                         ...  \nWine               33.06 ± 5.19  \nWordSynonyms      96.31 ± 21.44  \nWorms            103.10 ± 68.16  \nWormsTwoClass      50.20 ± 6.23  \nYoga            973.13 ± 144.93  \n\n[112 rows x 4 columns]",
      "text/html": "<div>\n<style scoped>\n    .dataframe tbody tr th:only-of-type {\n        vertical-align: middle;\n    }\n\n    .dataframe tbody tr th {\n        vertical-align: top;\n    }\n\n    .dataframe thead th {\n        text-align: right;\n    }\n</style>\n<table border=\"1\" class=\"dataframe\">\n  <thead>\n    <tr style=\"text-align: right;\">\n      <th></th>\n      <th>lstm-auto-encoder - encoder</th>\n      <th>ts2vec - ts2vec</th>\n      <th>mcl - mcl</th>\n      <th>timenet - timenet</th>\n    </tr>\n  </thead>\n  <tbody>\n    <tr>\n      <th>ACSF1</th>\n      <td>124.03 ± 27.44</td>\n      <td>164.21 ± 34.50</td>\n      <td>67.71 ± 12.97</td>\n      <td>106.55 ± 23.43</td>\n    </tr>\n    <tr>\n      <th>Adiac</th>\n      <td>554.75 ± 330.38</td>\n      <td>106.76 ± 19.63</td>\n      <td>93.91 ± 10.38</td>\n      <td>405.99 ± 136.36</td>\n    </tr>\n    <tr>\n      <th>ArrowHead</th>\n      <td>119.86 ± 32.01</td>\n      <td>63.58 ± 9.14</td>\n      <td>33.99 ± 6.30</td>\n      <td>70.94 ± 24.64</td>\n    </tr>\n    <tr>\n      <th>BME</th>\n      <td>182.64 ± 78.64</td>\n      <td>462.14 ± 80.76</td>\n      <td>24.75 ± 3.34</td>\n      <td>64.21 ± 8.69</td>\n    </tr>\n    <tr>\n      <th>Beef</th>\n      <td>1212.85 ± 418.01</td>\n      <td>44.79 ± 6.51</td>\n      <td>25.39 ± 7.57</td>\n      <td>180.20 ± 140.03</td>\n    </tr>\n    <tr>\n      <th>...</th>\n      <td>...</td>\n      <td>...</td>\n      <td>...</td>\n      <td>...</td>\n    </tr>\n    <tr>\n      <th>Wine</th>\n      <td>55.94 ± 13.78</td>\n      <td>41.02 ± 2.10</td>\n      <td>18.71 ± 3.79</td>\n      <td>33.06 ± 5.19</td>\n    </tr>\n    <tr>\n      <th>WordSynonyms</th>\n      <td>268.11 ± 61.29</td>\n      <td>25.24 ± 2.79</td>\n      <td>39.91 ± 3.81</td>\n      <td>96.31 ± 21.44</td>\n    </tr>\n    <tr>\n      <th>Worms</th>\n      <td>394.48 ± 6.15</td>\n      <td>22.78 ± 3.42</td>\n      <td>18.97 ± 1.52</td>\n      <td>103.10 ± 68.16</td>\n    </tr>\n    <tr>\n      <th>WormsTwoClass</th>\n      <td>268.58 ± 1.22</td>\n      <td>32.77 ± 4.34</td>\n      <td>23.65 ± 1.19</td>\n      <td>50.20 ± 6.23</td>\n    </tr>\n    <tr>\n      <th>Yoga</th>\n      <td>1429.04 ± 964.82</td>\n      <td>494.60 ± 50.15</td>\n      <td>331.77 ± 48.57</td>\n      <td>973.13 ± 144.93</td>\n    </tr>\n  </tbody>\n</table>\n<p>112 rows × 4 columns</p>\n</div>"
     },
     "execution_count": 41,
     "metadata": {},
     "output_type": "execute_result"
    }
   ],
   "source": [
    "df_summarized_baselines_results_internal_display"
   ],
   "metadata": {
    "collapsed": false,
    "ExecuteTime": {
     "end_time": "2024-06-05T15:43:49.284796Z",
     "start_time": "2024-06-05T15:43:49.280952Z"
    }
   },
   "id": "7869644b42d16cac",
   "execution_count": 41
  },
  {
   "cell_type": "code",
   "outputs": [],
   "source": [
    "df_summarized_baselines_internal_results_mul \\\n",
    "    = summarize_baselines_results(baselines_tables=baselines_tables_mul,\n",
    "                                  clustering_metric_to_consider=CLUSTERING_METRIC_TO_CONSIDER_INTERNAL)"
   ],
   "metadata": {
    "collapsed": false,
    "ExecuteTime": {
     "end_time": "2024-06-05T15:43:49.287306Z",
     "start_time": "2024-06-05T15:43:49.285369Z"
    }
   },
   "id": "bce4c78880f6439",
   "execution_count": 42
  },
  {
   "cell_type": "code",
   "outputs": [
    {
     "data": {
      "text/plain": "                                     lstm-auto-encoder - encoder  \\\nACSF1          [138.65267258898712, 110.83513997378267, 93.41...   \nAdiac          [1186.5599046672742, 512.0756200834572, 462.96...   \nArrowHead      [164.21964636710462, 92.69101653287048, 91.471...   \nBME            [179.49901092767968, 101.74206028261136, 224.2...   \nBeef           [1122.5435807239903, 1851.664926890494, 558.64...   \n...                                                          ...   \nWine           [67.18176943312797, 63.90429437770357, 29.0414...   \nWordSynonyms   [236.12955482299083, 190.29561797369652, 375.1...   \nWorms          [392.5655991345074, 391.4308807674548, 391.288...   \nWormsTwoClass  [267.7703361037256, 268.08223592747214, 267.28...   \nYoga           [1076.433328993992, 3350.9175107544515, 887.34...   \n\n                                                 ts2vec - ts2vec  \\\nACSF1          [221.9748795261669, 184.81418210192672, 147.88...   \nAdiac          [86.08556007449528, 92.62213180623256, 109.647...   \nArrowHead      [65.87029377462889, 52.86886725344559, 71.2928...   \nBME            [589.5414748419389, 486.1135516263763, 356.211...   \nBeef           [57.137127457935, 38.29768048652891, 41.761614...   \n...                                                          ...   \nWine           [41.934172028615286, 40.58835094683691, 39.722...   \nWordSynonyms   [30.233515439813676, 22.306706681730404, 24.22...   \nWorms          [20.93707216623141, 24.952432745404852, 18.638...   \nWormsTwoClass  [33.09367874725126, 29.776774903893227, 29.522...   \nYoga           [486.2365576125669, 541.0961935494934, 488.940...   \n\n                                                       mcl - mcl  \\\nACSF1          [84.81739333499227, 75.2853359512572, 69.11723...   \nAdiac          [92.16396073562072, 88.04952040130121, 113.098...   \nArrowHead      [37.41006324657927, 24.459856566331805, 42.430...   \nBME            [25.404629146895783, 18.94817996206462, 23.575...   \nBeef           [23.023571370706968, 22.170471184899693, 34.83...   \n...                                                          ...   \nWine           [19.20342005559006, 16.242678975460578, 24.759...   \nWordSynonyms   [47.014096121671976, 39.74904222416021, 37.353...   \nWorms          [20.135337483399265, 17.965097846263767, 20.32...   \nWormsTwoClass  [22.62235997725007, 25.576723579509235, 24.141...   \nYoga           [284.87996164654794, 288.60088786518446, 378.1...   \n\n                                               timenet - timenet  \nACSF1          [116.64760116173512, 84.82407988246797, 146.02...  \nAdiac          [464.5818769567569, 373.453392447212, 261.5301...  \nArrowHead      [61.33962066241251, 52.47194080064676, 59.4994...  \nBME            [65.82990758760964, 75.4267474848769, 70.51922...  \nBeef           [52.70433071728422, 301.73929421783777, 388.89...  \n...                                                          ...  \nWine           [36.27105921512519, 39.00333979246757, 25.7259...  \nWordSynonyms   [65.43380292903228, 132.73135295902242, 93.142...  \nWorms          [59.1134306342484, 74.46766337260065, 69.53374...  \nWormsTwoClass  [43.79484792993338, 50.92367037779192, 55.7972...  \nYoga           [1194.268114527917, 996.8833984414756, 920.126...  \n\n[112 rows x 4 columns]",
      "text/html": "<div>\n<style scoped>\n    .dataframe tbody tr th:only-of-type {\n        vertical-align: middle;\n    }\n\n    .dataframe tbody tr th {\n        vertical-align: top;\n    }\n\n    .dataframe thead th {\n        text-align: right;\n    }\n</style>\n<table border=\"1\" class=\"dataframe\">\n  <thead>\n    <tr style=\"text-align: right;\">\n      <th></th>\n      <th>lstm-auto-encoder - encoder</th>\n      <th>ts2vec - ts2vec</th>\n      <th>mcl - mcl</th>\n      <th>timenet - timenet</th>\n    </tr>\n  </thead>\n  <tbody>\n    <tr>\n      <th>ACSF1</th>\n      <td>[138.65267258898712, 110.83513997378267, 93.41...</td>\n      <td>[221.9748795261669, 184.81418210192672, 147.88...</td>\n      <td>[84.81739333499227, 75.2853359512572, 69.11723...</td>\n      <td>[116.64760116173512, 84.82407988246797, 146.02...</td>\n    </tr>\n    <tr>\n      <th>Adiac</th>\n      <td>[1186.5599046672742, 512.0756200834572, 462.96...</td>\n      <td>[86.08556007449528, 92.62213180623256, 109.647...</td>\n      <td>[92.16396073562072, 88.04952040130121, 113.098...</td>\n      <td>[464.5818769567569, 373.453392447212, 261.5301...</td>\n    </tr>\n    <tr>\n      <th>ArrowHead</th>\n      <td>[164.21964636710462, 92.69101653287048, 91.471...</td>\n      <td>[65.87029377462889, 52.86886725344559, 71.2928...</td>\n      <td>[37.41006324657927, 24.459856566331805, 42.430...</td>\n      <td>[61.33962066241251, 52.47194080064676, 59.4994...</td>\n    </tr>\n    <tr>\n      <th>BME</th>\n      <td>[179.49901092767968, 101.74206028261136, 224.2...</td>\n      <td>[589.5414748419389, 486.1135516263763, 356.211...</td>\n      <td>[25.404629146895783, 18.94817996206462, 23.575...</td>\n      <td>[65.82990758760964, 75.4267474848769, 70.51922...</td>\n    </tr>\n    <tr>\n      <th>Beef</th>\n      <td>[1122.5435807239903, 1851.664926890494, 558.64...</td>\n      <td>[57.137127457935, 38.29768048652891, 41.761614...</td>\n      <td>[23.023571370706968, 22.170471184899693, 34.83...</td>\n      <td>[52.70433071728422, 301.73929421783777, 388.89...</td>\n    </tr>\n    <tr>\n      <th>...</th>\n      <td>...</td>\n      <td>...</td>\n      <td>...</td>\n      <td>...</td>\n    </tr>\n    <tr>\n      <th>Wine</th>\n      <td>[67.18176943312797, 63.90429437770357, 29.0414...</td>\n      <td>[41.934172028615286, 40.58835094683691, 39.722...</td>\n      <td>[19.20342005559006, 16.242678975460578, 24.759...</td>\n      <td>[36.27105921512519, 39.00333979246757, 25.7259...</td>\n    </tr>\n    <tr>\n      <th>WordSynonyms</th>\n      <td>[236.12955482299083, 190.29561797369652, 375.1...</td>\n      <td>[30.233515439813676, 22.306706681730404, 24.22...</td>\n      <td>[47.014096121671976, 39.74904222416021, 37.353...</td>\n      <td>[65.43380292903228, 132.73135295902242, 93.142...</td>\n    </tr>\n    <tr>\n      <th>Worms</th>\n      <td>[392.5655991345074, 391.4308807674548, 391.288...</td>\n      <td>[20.93707216623141, 24.952432745404852, 18.638...</td>\n      <td>[20.135337483399265, 17.965097846263767, 20.32...</td>\n      <td>[59.1134306342484, 74.46766337260065, 69.53374...</td>\n    </tr>\n    <tr>\n      <th>WormsTwoClass</th>\n      <td>[267.7703361037256, 268.08223592747214, 267.28...</td>\n      <td>[33.09367874725126, 29.776774903893227, 29.522...</td>\n      <td>[22.62235997725007, 25.576723579509235, 24.141...</td>\n      <td>[43.79484792993338, 50.92367037779192, 55.7972...</td>\n    </tr>\n    <tr>\n      <th>Yoga</th>\n      <td>[1076.433328993992, 3350.9175107544515, 887.34...</td>\n      <td>[486.2365576125669, 541.0961935494934, 488.940...</td>\n      <td>[284.87996164654794, 288.60088786518446, 378.1...</td>\n      <td>[1194.268114527917, 996.8833984414756, 920.126...</td>\n    </tr>\n  </tbody>\n</table>\n<p>112 rows × 4 columns</p>\n</div>"
     },
     "execution_count": 43,
     "metadata": {},
     "output_type": "execute_result"
    }
   ],
   "source": [
    "df_summarized_baselines_internal_results_mul"
   ],
   "metadata": {
    "collapsed": false,
    "ExecuteTime": {
     "end_time": "2024-06-05T15:43:49.296083Z",
     "start_time": "2024-06-05T15:43:49.287920Z"
    }
   },
   "id": "46de65e1eb6c0125",
   "execution_count": 43
  },
  {
   "cell_type": "code",
   "outputs": [
    {
     "name": "stdout",
     "output_type": "stream",
     "text": [
      "Statistics=1146.3321428571435, p=3.2293240142992232e-248\n",
      "Significant differences found. Proceeding to CD analysis.\n",
      "Number of datasets: 560\n",
      "Number of algorithms: 4\n",
      "Critical difference: 0.19820512187990647\n",
      "\n",
      "Algorithm Name                 Rank\n",
      "-------------------------------------\n",
      "LSTM-AE                        1.38\n",
      "TimeNet                        1.93\n",
      "TS2Vec                         2.89\n",
      "MCL                            3.80\n"
     ]
    },
    {
     "data": {
      "text/plain": "<Figure size 600x155 with 1 Axes>",
      "image/png": "[encoded data removed]"
     },
     "metadata": {},
     "output_type": "display_data"
    }
   ],
   "source": [
    "baselines_display_names = ['LSTM-AE', 'TS2Vec', 'MCL', 'TimeNet']\n",
    "do_cd_analysis_multiple(df_summarized_baselines_internal_results_mul,\n",
    "                        df_summarized_baselines_internal_results_mul.columns,\n",
    "                        baselines_display_names)\n",
    "\n",
    "plt.savefig(PLOTS_OUTPUT_DIR / 'baselines_cd_internal.eps', format='eps', bbox_inches='tight', dpi=300)"
   ],
   "metadata": {
    "collapsed": false,
    "ExecuteTime": {
     "end_time": "2024-06-05T15:43:49.426362Z",
     "start_time": "2024-06-05T15:43:49.296768Z"
    }
   },
   "id": "ca8c5973e9497fc0",
   "execution_count": 44
  },
  {
   "cell_type": "markdown",
   "source": [
    "### 3.5.2. External Clustering Metric"
   ],
   "metadata": {
    "collapsed": false
   },
   "id": "8618d91cfe2e1165"
  },
  {
   "cell_type": "code",
   "outputs": [],
   "source": [
    "df_summarized_baselines_results_external_display \\\n",
    "    = summarize_baselines_results(baselines_tables=baselines_tables_display,\n",
    "                                  clustering_metric_to_consider=CLUSTERING_METRIC_TO_CONSIDER_EXTERNAL)\n"
   ],
   "metadata": {
    "collapsed": false,
    "ExecuteTime": {
     "end_time": "2024-06-05T15:43:49.433146Z",
     "start_time": "2024-06-05T15:43:49.430902Z"
    }
   },
   "id": "aeca49ebef88293c",
   "execution_count": 46
  },
  {
   "cell_type": "code",
   "outputs": [
    {
     "data": {
      "text/plain": "              lstm-auto-encoder - encoder ts2vec - ts2vec     mcl - mcl  \\\nACSF1                         0.23 ± 0.02     0.16 ± 0.01   0.26 ± 0.01   \nAdiac                         0.12 ± 0.03     0.25 ± 0.02   0.31 ± 0.02   \nArrowHead                     0.05 ± 0.01    -0.01 ± 0.00   0.09 ± 0.04   \nBME                           0.22 ± 0.07    -0.00 ± 0.00   0.25 ± 0.07   \nBeef                          0.04 ± 0.00     0.08 ± 0.03   0.17 ± 0.06   \n...                                   ...             ...           ...   \nWine                         -0.01 ± 0.00    -0.01 ± 0.01   0.04 ± 0.05   \nWordSynonyms                  0.06 ± 0.01     0.20 ± 0.03   0.15 ± 0.01   \nWorms                         0.04 ± 0.00     0.06 ± 0.01  -0.00 ± 0.01   \nWormsTwoClass                -0.00 ± 0.00     0.04 ± 0.02  -0.00 ± 0.00   \nYoga                          0.00 ± 0.00     0.00 ± 0.00   0.00 ± 0.00   \n\n              timenet - timenet  \nACSF1               0.22 ± 0.02  \nAdiac               0.14 ± 0.02  \nArrowHead           0.05 ± 0.02  \nBME                 0.37 ± 0.18  \nBeef                0.08 ± 0.04  \n...                         ...  \nWine                0.01 ± 0.02  \nWordSynonyms        0.16 ± 0.01  \nWorms               0.06 ± 0.01  \nWormsTwoClass       0.00 ± 0.01  \nYoga                0.00 ± 0.00  \n\n[112 rows x 4 columns]",
      "text/html": "<div>\n<style scoped>\n    .dataframe tbody tr th:only-of-type {\n        vertical-align: middle;\n    }\n\n    .dataframe tbody tr th {\n        vertical-align: top;\n    }\n\n    .dataframe thead th {\n        text-align: right;\n    }\n</style>\n<table border=\"1\" class=\"dataframe\">\n  <thead>\n    <tr style=\"text-align: right;\">\n      <th></th>\n      <th>lstm-auto-encoder - encoder</th>\n      <th>ts2vec - ts2vec</th>\n      <th>mcl - mcl</th>\n      <th>timenet - timenet</th>\n    </tr>\n  </thead>\n  <tbody>\n    <tr>\n      <th>ACSF1</th>\n      <td>0.23 ± 0.02</td>\n      <td>0.16 ± 0.01</td>\n      <td>0.26 ± 0.01</td>\n      <td>0.22 ± 0.02</td>\n    </tr>\n    <tr>\n      <th>Adiac</th>\n      <td>0.12 ± 0.03</td>\n      <td>0.25 ± 0.02</td>\n      <td>0.31 ± 0.02</td>\n      <td>0.14 ± 0.02</td>\n    </tr>\n    <tr>\n      <th>ArrowHead</th>\n      <td>0.05 ± 0.01</td>\n      <td>-0.01 ± 0.00</td>\n      <td>0.09 ± 0.04</td>\n      <td>0.05 ± 0.02</td>\n    </tr>\n    <tr>\n      <th>BME</th>\n      <td>0.22 ± 0.07</td>\n      <td>-0.00 ± 0.00</td>\n      <td>0.25 ± 0.07</td>\n      <td>0.37 ± 0.18</td>\n    </tr>\n    <tr>\n      <th>Beef</th>\n      <td>0.04 ± 0.00</td>\n      <td>0.08 ± 0.03</td>\n      <td>0.17 ± 0.06</td>\n      <td>0.08 ± 0.04</td>\n    </tr>\n    <tr>\n      <th>...</th>\n      <td>...</td>\n      <td>...</td>\n      <td>...</td>\n      <td>...</td>\n    </tr>\n    <tr>\n      <th>Wine</th>\n      <td>-0.01 ± 0.00</td>\n      <td>-0.01 ± 0.01</td>\n      <td>0.04 ± 0.05</td>\n      <td>0.01 ± 0.02</td>\n    </tr>\n    <tr>\n      <th>WordSynonyms</th>\n      <td>0.06 ± 0.01</td>\n      <td>0.20 ± 0.03</td>\n      <td>0.15 ± 0.01</td>\n      <td>0.16 ± 0.01</td>\n    </tr>\n    <tr>\n      <th>Worms</th>\n      <td>0.04 ± 0.00</td>\n      <td>0.06 ± 0.01</td>\n      <td>-0.00 ± 0.01</td>\n      <td>0.06 ± 0.01</td>\n    </tr>\n    <tr>\n      <th>WormsTwoClass</th>\n      <td>-0.00 ± 0.00</td>\n      <td>0.04 ± 0.02</td>\n      <td>-0.00 ± 0.00</td>\n      <td>0.00 ± 0.01</td>\n    </tr>\n    <tr>\n      <th>Yoga</th>\n      <td>0.00 ± 0.00</td>\n      <td>0.00 ± 0.00</td>\n      <td>0.00 ± 0.00</td>\n      <td>0.00 ± 0.00</td>\n    </tr>\n  </tbody>\n</table>\n<p>112 rows × 4 columns</p>\n</div>"
     },
     "execution_count": 47,
     "metadata": {},
     "output_type": "execute_result"
    }
   ],
   "source": [
    "df_summarized_baselines_results_external_display"
   ],
   "metadata": {
    "collapsed": false,
    "ExecuteTime": {
     "end_time": "2024-06-05T15:43:49.437415Z",
     "start_time": "2024-06-05T15:43:49.433698Z"
    }
   },
   "id": "8950112e5e3291ed",
   "execution_count": 47
  },
  {
   "cell_type": "code",
   "outputs": [],
   "source": [
    "df_summarized_baselines_external_results_mul \\\n",
    "    = summarize_baselines_results(baselines_tables=baselines_tables_mul,\n",
    "                                  clustering_metric_to_consider=CLUSTERING_METRIC_TO_CONSIDER_EXTERNAL)"
   ],
   "metadata": {
    "collapsed": false,
    "ExecuteTime": {
     "end_time": "2024-06-05T15:43:49.440670Z",
     "start_time": "2024-06-05T15:43:49.438187Z"
    }
   },
   "id": "b1a719fbb3d453a7",
   "execution_count": 48
  },
  {
   "cell_type": "code",
   "outputs": [
    {
     "data": {
      "text/plain": "                                     lstm-auto-encoder - encoder  \\\nACSF1          [0.2687634024303074, 0.2249538041295091, 0.209...   \nAdiac          [0.1004536734002934, 0.0926709114363123, 0.106...   \nArrowHead      [0.0523533348534085, 0.0306864472980531, 0.069...   \nBME            [0.1531043732230837, 0.2628428661926386, 0.153...   \nBeef           [0.0442031795269484, 0.0442031795269484, 0.044...   \n...                                                          ...   \nWine           [-0.0127427522118969, -0.0139928353991826, -0....   \nWordSynonyms   [0.0578417090147695, 0.0671517989014716, 0.048...   \nWorms          [0.0519121322794803, 0.0437424068595912, 0.038...   \nWormsTwoClass  [-0.0048039208782541, -0.0028387099197115, -0....   \nYoga           [0.0001540258622027, 0.000667419032194, 0.0045...   \n\n                                                 ts2vec - ts2vec  \\\nACSF1          [0.1460556601799539, 0.1633524323109763, 0.140...   \nAdiac          [0.255732005759293, 0.2621799395403948, 0.2193...   \nArrowHead      [-0.0019887374668678, -0.007615017411341, -0.0...   \nBME            [-0.0005853140209722, 5.227778673276902e-05, 5...   \nBeef           [0.1005207154177043, 0.0543478260869565, 0.122...   \n...                                                          ...   \nWine           [-0.0130980795668271, 0.0023130222647372, -0.0...   \nWordSynonyms   [0.1631444466814253, 0.2366777707657013, 0.187...   \nWorms          [0.0483003655141829, 0.0520481298102271, 0.083...   \nWormsTwoClass  [0.042178623136506, 0.0426313686890855, 0.0746...   \nYoga           [0.0002246671438794, 0.0017251252567898, -0.00...   \n\n                                                       mcl - mcl  \\\nACSF1          [0.2431275720164609, 0.2598063351386837, 0.261...   \nAdiac          [0.3494742508023928, 0.3183287473297975, 0.313...   \nArrowHead      [0.1524695012222832, 0.0891879000835918, 0.028...   \nBME            [0.2970952135085001, 0.2056986827800672, 0.334...   \nBeef           [0.215137614678899, 0.1017161992465466, 0.2077...   \n...                                                          ...   \nWine           [0.0079068205470934, -0.0166882518681444, 0.00...   \nWordSynonyms   [0.1418407981382156, 0.1508697482807301, 0.135...   \nWorms          [-0.003245655418223, 0.0053743946963193, -0.00...   \nWormsTwoClass  [-0.0057829625694558, -0.0071164394701918, 0.0...   \nYoga           [0.000964307024155, -0.0005119849247229, 0.002...   \n\n                                               timenet - timenet  \nACSF1          [0.2390230128476634, 0.1824705279343926, 0.242...  \nAdiac          [0.1246157676176382, 0.1765779371971556, 0.129...  \nArrowHead      [0.0185077769077625, 0.0332085597924477, 0.078...  \nBME            [0.40703819661866, 0.6797352726540677, 0.35807...  \nBeef           [0.1561391057487579, 0.0442031795269484, 0.089...  \n...                                                          ...  \nWine           [0.0452452047168379, -0.0068025604081536, 0.01...  \nWordSynonyms   [0.1563730414992939, 0.1687634732412142, 0.161...  \nWorms          [0.0683734241411386, 0.0622753496766431, 0.052...  \nWormsTwoClass  [0.0136340857309657, 0.0023409835511396, -0.00...  \nYoga           [-0.0003826098998726, -0.0009732720137929, -0....  \n\n[112 rows x 4 columns]",
      "text/html": "<div>\n<style scoped>\n    .dataframe tbody tr th:only-of-type {\n        vertical-align: middle;\n    }\n\n    .dataframe tbody tr th {\n        vertical-align: top;\n    }\n\n    .dataframe thead th {\n        text-align: right;\n    }\n</style>\n<table border=\"1\" class=\"dataframe\">\n  <thead>\n    <tr style=\"text-align: right;\">\n      <th></th>\n      <th>lstm-auto-encoder - encoder</th>\n      <th>ts2vec - ts2vec</th>\n      <th>mcl - mcl</th>\n      <th>timenet - timenet</th>\n    </tr>\n  </thead>\n  <tbody>\n    <tr>\n      <th>ACSF1</th>\n      <td>[0.2687634024303074, 0.2249538041295091, 0.209...</td>\n      <td>[0.1460556601799539, 0.1633524323109763, 0.140...</td>\n      <td>[0.2431275720164609, 0.2598063351386837, 0.261...</td>\n      <td>[0.2390230128476634, 0.1824705279343926, 0.242...</td>\n    </tr>\n    <tr>\n      <th>Adiac</th>\n      <td>[0.1004536734002934, 0.0926709114363123, 0.106...</td>\n      <td>[0.255732005759293, 0.2621799395403948, 0.2193...</td>\n      <td>[0.3494742508023928, 0.3183287473297975, 0.313...</td>\n      <td>[0.1246157676176382, 0.1765779371971556, 0.129...</td>\n    </tr>\n    <tr>\n      <th>ArrowHead</th>\n      <td>[0.0523533348534085, 0.0306864472980531, 0.069...</td>\n      <td>[-0.0019887374668678, -0.007615017411341, -0.0...</td>\n      <td>[0.1524695012222832, 0.0891879000835918, 0.028...</td>\n      <td>[0.0185077769077625, 0.0332085597924477, 0.078...</td>\n    </tr>\n    <tr>\n      <th>BME</th>\n      <td>[0.1531043732230837, 0.2628428661926386, 0.153...</td>\n      <td>[-0.0005853140209722, 5.227778673276902e-05, 5...</td>\n      <td>[0.2970952135085001, 0.2056986827800672, 0.334...</td>\n      <td>[0.40703819661866, 0.6797352726540677, 0.35807...</td>\n    </tr>\n    <tr>\n      <th>Beef</th>\n      <td>[0.0442031795269484, 0.0442031795269484, 0.044...</td>\n      <td>[0.1005207154177043, 0.0543478260869565, 0.122...</td>\n      <td>[0.215137614678899, 0.1017161992465466, 0.2077...</td>\n      <td>[0.1561391057487579, 0.0442031795269484, 0.089...</td>\n    </tr>\n    <tr>\n      <th>...</th>\n      <td>...</td>\n      <td>...</td>\n      <td>...</td>\n      <td>...</td>\n    </tr>\n    <tr>\n      <th>Wine</th>\n      <td>[-0.0127427522118969, -0.0139928353991826, -0....</td>\n      <td>[-0.0130980795668271, 0.0023130222647372, -0.0...</td>\n      <td>[0.0079068205470934, -0.0166882518681444, 0.00...</td>\n      <td>[0.0452452047168379, -0.0068025604081536, 0.01...</td>\n    </tr>\n    <tr>\n      <th>WordSynonyms</th>\n      <td>[0.0578417090147695, 0.0671517989014716, 0.048...</td>\n      <td>[0.1631444466814253, 0.2366777707657013, 0.187...</td>\n      <td>[0.1418407981382156, 0.1508697482807301, 0.135...</td>\n      <td>[0.1563730414992939, 0.1687634732412142, 0.161...</td>\n    </tr>\n    <tr>\n      <th>Worms</th>\n      <td>[0.0519121322794803, 0.0437424068595912, 0.038...</td>\n      <td>[0.0483003655141829, 0.0520481298102271, 0.083...</td>\n      <td>[-0.003245655418223, 0.0053743946963193, -0.00...</td>\n      <td>[0.0683734241411386, 0.0622753496766431, 0.052...</td>\n    </tr>\n    <tr>\n      <th>WormsTwoClass</th>\n      <td>[-0.0048039208782541, -0.0028387099197115, -0....</td>\n      <td>[0.042178623136506, 0.0426313686890855, 0.0746...</td>\n      <td>[-0.0057829625694558, -0.0071164394701918, 0.0...</td>\n      <td>[0.0136340857309657, 0.0023409835511396, -0.00...</td>\n    </tr>\n    <tr>\n      <th>Yoga</th>\n      <td>[0.0001540258622027, 0.000667419032194, 0.0045...</td>\n      <td>[0.0002246671438794, 0.0017251252567898, -0.00...</td>\n      <td>[0.000964307024155, -0.0005119849247229, 0.002...</td>\n      <td>[-0.0003826098998726, -0.0009732720137929, -0....</td>\n    </tr>\n  </tbody>\n</table>\n<p>112 rows × 4 columns</p>\n</div>"
     },
     "execution_count": 49,
     "metadata": {},
     "output_type": "execute_result"
    }
   ],
   "source": [
    "df_summarized_baselines_external_results_mul"
   ],
   "metadata": {
    "collapsed": false,
    "ExecuteTime": {
     "end_time": "2024-06-05T15:43:49.449455Z",
     "start_time": "2024-06-05T15:43:49.441369Z"
    }
   },
   "id": "6d0df4f93b6687d1",
   "execution_count": 49
  },
  {
   "cell_type": "code",
   "outputs": [],
   "source": [
    "df_summarized_baselines_external_results_mul = summarize_baselines_results(baselines_tables=baselines_tables_mul,\n",
    "                                                                           clustering_metric_to_consider=CLUSTERING_METRIC_TO_CONSIDER_EXTERNAL)"
   ],
   "metadata": {
    "collapsed": false,
    "ExecuteTime": {
     "end_time": "2024-06-05T15:43:49.452144Z",
     "start_time": "2024-06-05T15:43:49.450033Z"
    }
   },
   "id": "270e4303ea82da61",
   "execution_count": 50
  },
  {
   "cell_type": "code",
   "outputs": [
    {
     "name": "stdout",
     "output_type": "stream",
     "text": [
      "Statistics=91.40281377267817, p=1.0945278766303095e-19\n",
      "Significant differences found. Proceeding to CD analysis.\n",
      "Number of datasets: 560\n",
      "Number of algorithms: 4\n",
      "Critical difference: 0.19820512187990647\n",
      "\n",
      "Algorithm Name                 Rank\n",
      "-------------------------------------\n",
      "TS2Vec                         2.20\n",
      "TimeNet                        2.33\n",
      "MCL                            2.61\n",
      "LSTM-AE                        2.86\n"
     ]
    },
    {
     "data": {
      "text/plain": "<Figure size 600x155 with 1 Axes>",
      "image/png": "[encoded data removed]"
     },
     "metadata": {},
     "output_type": "display_data"
    }
   ],
   "source": [
    "baselines_display_names = ['LSTM-AE', 'TS2Vec', 'MCL', 'TimeNet']\n",
    "do_cd_analysis_multiple(df_summarized_baselines_external_results_mul,\n",
    "                        df_summarized_baselines_external_results_mul.columns,\n",
    "                        baselines_display_names)\n",
    "\n",
    "plt.savefig(PLOTS_OUTPUT_DIR / 'baselines_cd.eps', format='eps', bbox_inches='tight', dpi=300)"
   ],
   "metadata": {
    "collapsed": false,
    "ExecuteTime": {
     "end_time": "2024-06-05T15:43:49.545077Z",
     "start_time": "2024-06-05T15:43:49.452718Z"
    }
   },
   "id": "32a59998777d86d0",
   "execution_count": 51
  },
  {
   "cell_type": "markdown",
   "source": [
    "# 4. TSRC"
   ],
   "metadata": {
    "collapsed": false
   },
   "id": "befd1a74a4ef5f3c"
  },
  {
   "cell_type": "code",
   "outputs": [],
   "source": [
    "TSRC_MODEL_MAIN_DIR = CLUSTERING_MAIN_RESULTS_DIR / 'representations'"
   ],
   "metadata": {
    "collapsed": false,
    "ExecuteTime": {
     "end_time": "2024-06-05T15:43:49.559717Z",
     "start_time": "2024-06-05T15:43:49.558254Z"
    }
   },
   "id": "2e93362c003c410c",
   "execution_count": 55
  },
  {
   "cell_type": "markdown",
   "source": [
    "## 4.1. External Clustering Metric"
   ],
   "metadata": {
    "collapsed": false
   },
   "id": "b71e2ed4eb393923"
  },
  {
   "cell_type": "markdown",
   "source": [
    "### 4.1.1 Experiment 1"
   ],
   "metadata": {
    "collapsed": false
   },
   "id": "c51e6b71a8a43d21"
  },
  {
   "cell_type": "code",
   "outputs": [],
   "source": [
    "experiment_1_main_dir = TSRC_MODEL_MAIN_DIR / 'ts2vec_to_timenet_88c1e7d54bda54398837d6eff0022678'"
   ],
   "metadata": {
    "collapsed": false,
    "ExecuteTime": {
     "end_time": "2024-06-05T15:43:49.561774Z",
     "start_time": "2024-06-05T15:43:49.560296Z"
    }
   },
   "id": "5af842fed129335f",
   "execution_count": 56
  },
  {
   "cell_type": "code",
   "outputs": [],
   "source": [
    "experiment_1_results_dir = experiment_1_main_dir / 'compression_2'"
   ],
   "metadata": {
    "collapsed": false,
    "ExecuteTime": {
     "end_time": "2024-06-05T15:43:49.563816Z",
     "start_time": "2024-06-05T15:43:49.562360Z"
    }
   },
   "id": "acb9ff087f13dc5b",
   "execution_count": 57
  },
  {
   "cell_type": "code",
   "outputs": [],
   "source": [
    "experiment_1_encoders_list = ['tsrc-ts2vec-timenet - student-model-encoder']"
   ],
   "metadata": {
    "collapsed": false,
    "ExecuteTime": {
     "end_time": "2024-06-05T15:43:49.565828Z",
     "start_time": "2024-06-05T15:43:49.564320Z"
    }
   },
   "id": "484bb7ef63cd2707",
   "execution_count": 58
  },
  {
   "cell_type": "code",
   "outputs": [
    {
     "data": {
      "text/plain": "<IPython.core.display.Markdown object>",
      "text/markdown": "### ARI ###"
     },
     "metadata": {},
     "output_type": "display_data"
    },
    {
     "data": {
      "text/plain": "              tsrc-ts2vec-timenet - student-model-encoder\nACSF1                                         0.19 ± 0.02\nAdiac                                         0.22 ± 0.03\nArrowHead                                     0.03 ± 0.03\nBME                                           0.30 ± 0.11\nBeef                                          0.12 ± 0.05\n...                                                   ...\nWine                                          0.00 ± 0.02\nWordSynonyms                                  0.18 ± 0.02\nWorms                                         0.05 ± 0.01\nWormsTwoClass                                 0.00 ± 0.01\nYoga                                          0.00 ± 0.00\n\n[112 rows x 1 columns]",
      "text/html": "<div>\n<style scoped>\n    .dataframe tbody tr th:only-of-type {\n        vertical-align: middle;\n    }\n\n    .dataframe tbody tr th {\n        vertical-align: top;\n    }\n\n    .dataframe thead th {\n        text-align: right;\n    }\n</style>\n<table border=\"1\" class=\"dataframe\">\n  <thead>\n    <tr style=\"text-align: right;\">\n      <th></th>\n      <th>tsrc-ts2vec-timenet - student-model-encoder</th>\n    </tr>\n  </thead>\n  <tbody>\n    <tr>\n      <th>ACSF1</th>\n      <td>0.19 ± 0.02</td>\n    </tr>\n    <tr>\n      <th>Adiac</th>\n      <td>0.22 ± 0.03</td>\n    </tr>\n    <tr>\n      <th>ArrowHead</th>\n      <td>0.03 ± 0.03</td>\n    </tr>\n    <tr>\n      <th>BME</th>\n      <td>0.30 ± 0.11</td>\n    </tr>\n    <tr>\n      <th>Beef</th>\n      <td>0.12 ± 0.05</td>\n    </tr>\n    <tr>\n      <th>...</th>\n      <td>...</td>\n    </tr>\n    <tr>\n      <th>Wine</th>\n      <td>0.00 ± 0.02</td>\n    </tr>\n    <tr>\n      <th>WordSynonyms</th>\n      <td>0.18 ± 0.02</td>\n    </tr>\n    <tr>\n      <th>Worms</th>\n      <td>0.05 ± 0.01</td>\n    </tr>\n    <tr>\n      <th>WormsTwoClass</th>\n      <td>0.00 ± 0.01</td>\n    </tr>\n    <tr>\n      <th>Yoga</th>\n      <td>0.00 ± 0.00</td>\n    </tr>\n  </tbody>\n</table>\n<p>112 rows × 1 columns</p>\n</div>"
     },
     "metadata": {},
     "output_type": "display_data"
    },
    {
     "data": {
      "text/plain": "<IPython.core.display.Markdown object>",
      "text/markdown": "### CHS ###"
     },
     "metadata": {},
     "output_type": "display_data"
    },
    {
     "data": {
      "text/plain": "              tsrc-ts2vec-timenet - student-model-encoder\nACSF1                                       87.32 ± 14.40\nAdiac                                      187.50 ± 17.43\nArrowHead                                   67.50 ± 13.25\nBME                                        190.34 ± 66.11\nBeef                                        37.08 ± 16.03\n...                                                   ...\nWine                                        48.29 ± 11.50\nWordSynonyms                                 66.00 ± 5.62\nWorms                                        57.47 ± 3.43\nWormsTwoClass                                47.24 ± 4.81\nYoga                                      650.72 ± 101.61\n\n[112 rows x 1 columns]",
      "text/html": "<div>\n<style scoped>\n    .dataframe tbody tr th:only-of-type {\n        vertical-align: middle;\n    }\n\n    .dataframe tbody tr th {\n        vertical-align: top;\n    }\n\n    .dataframe thead th {\n        text-align: right;\n    }\n</style>\n<table border=\"1\" class=\"dataframe\">\n  <thead>\n    <tr style=\"text-align: right;\">\n      <th></th>\n      <th>tsrc-ts2vec-timenet - student-model-encoder</th>\n    </tr>\n  </thead>\n  <tbody>\n    <tr>\n      <th>ACSF1</th>\n      <td>87.32 ± 14.40</td>\n    </tr>\n    <tr>\n      <th>Adiac</th>\n      <td>187.50 ± 17.43</td>\n    </tr>\n    <tr>\n      <th>ArrowHead</th>\n      <td>67.50 ± 13.25</td>\n    </tr>\n    <tr>\n      <th>BME</th>\n      <td>190.34 ± 66.11</td>\n    </tr>\n    <tr>\n      <th>Beef</th>\n      <td>37.08 ± 16.03</td>\n    </tr>\n    <tr>\n      <th>...</th>\n      <td>...</td>\n    </tr>\n    <tr>\n      <th>Wine</th>\n      <td>48.29 ± 11.50</td>\n    </tr>\n    <tr>\n      <th>WordSynonyms</th>\n      <td>66.00 ± 5.62</td>\n    </tr>\n    <tr>\n      <th>Worms</th>\n      <td>57.47 ± 3.43</td>\n    </tr>\n    <tr>\n      <th>WormsTwoClass</th>\n      <td>47.24 ± 4.81</td>\n    </tr>\n    <tr>\n      <th>Yoga</th>\n      <td>650.72 ± 101.61</td>\n    </tr>\n  </tbody>\n</table>\n<p>112 rows × 1 columns</p>\n</div>"
     },
     "metadata": {},
     "output_type": "display_data"
    }
   ],
   "source": [
    "experiment_1_encoder_metric_tables, experiment_1_metric_encoder_tables, experiment_1_encoder_metric_tables_display, experiment_1_metric_encoder_tables_display = \\\n",
    "    analyze_representation_results(representations_results_folder=experiment_1_results_dir,\n",
    "                                   metrics=CLUSTERING_METRICS,\n",
    "                                   encoders_list=experiment_1_encoders_list)"
   ],
   "metadata": {
    "collapsed": false,
    "ExecuteTime": {
     "end_time": "2024-06-05T15:43:50.024366Z",
     "start_time": "2024-06-05T15:43:49.566285Z"
    }
   },
   "id": "27169810e820be9",
   "execution_count": 59
  },
  {
   "cell_type": "code",
   "outputs": [],
   "source": [
    "experiment_1_encoder_metric_tables_mul, experiment_1_metric_encoder_tables_mul = analyze_representation_results_2(\n",
    "    representations_results_folder=experiment_1_results_dir,\n",
    "    metrics=CLUSTERING_METRICS,\n",
    "    encoders_list=experiment_1_encoders_list)"
   ],
   "metadata": {
    "collapsed": false,
    "ExecuteTime": {
     "end_time": "2024-06-05T15:43:50.243735Z",
     "start_time": "2024-06-05T15:43:50.025027Z"
    }
   },
   "id": "bb1c3a0c6e8e9907",
   "execution_count": 60
  },
  {
   "cell_type": "code",
   "outputs": [],
   "source": [
    "experiment_1_baselines_columns = ['ts2vec - ts2vec', 'timenet - timenet']\n",
    "experiment_1_baseline_results_mul = df_summarized_baselines_external_results_mul[experiment_1_baselines_columns]"
   ],
   "metadata": {
    "collapsed": false,
    "ExecuteTime": {
     "end_time": "2024-06-05T15:43:50.246887Z",
     "start_time": "2024-06-05T15:43:50.244368Z"
    }
   },
   "id": "828b5e3418178673",
   "execution_count": 61
  },
  {
   "cell_type": "code",
   "outputs": [],
   "source": [
    "experiment_1_results_mul = pd.concat([experiment_1_metric_encoder_tables_mul[CLUSTERING_METRIC_TO_CONSIDER_EXTERNAL],\n",
    "                                      experiment_1_baseline_results_mul], axis=1)"
   ],
   "metadata": {
    "collapsed": false,
    "ExecuteTime": {
     "end_time": "2024-06-05T15:43:50.249401Z",
     "start_time": "2024-06-05T15:43:50.247458Z"
    }
   },
   "id": "60bd4126458446f6",
   "execution_count": 62
  },
  {
   "cell_type": "code",
   "outputs": [
    {
     "data": {
      "text/plain": "                     tsrc-ts2vec-timenet - student-model-encoder  \\\nACSF1          [0.1751800916830386, 0.1890776126444916, 0.164...   \nAdiac          [0.2033599667115128, 0.2289319214991436, 0.268...   \nArrowHead      [0.0385719736947621, -0.0028817525223046, 0.06...   \nBME            [0.1547334114172225, 0.3914258857644883, 0.418...   \nBeef           [0.0554738390418155, 0.1411383618695048, 0.198...   \n...                                                          ...   \nWine           [0.0040604879658993, 0.0059756435793348, -0.01...   \nWordSynonyms   [0.1448956754051437, 0.2063182473651053, 0.211...   \nWorms          [0.0658513193307987, 0.0365304444092738, 0.043...   \nWormsTwoClass  [-0.0009069351182092, -0.0013024430674507, -0....   \nYoga           [0.0005134507935972, 0.0015162263748471, -0.00...   \n\n                                                 ts2vec - ts2vec  \\\nACSF1          [0.1460556601799539, 0.1633524323109763, 0.140...   \nAdiac          [0.255732005759293, 0.2621799395403948, 0.2193...   \nArrowHead      [-0.0019887374668678, -0.007615017411341, -0.0...   \nBME            [-0.0005853140209722, 5.227778673276902e-05, 5...   \nBeef           [0.1005207154177043, 0.0543478260869565, 0.122...   \n...                                                          ...   \nWine           [-0.0130980795668271, 0.0023130222647372, -0.0...   \nWordSynonyms   [0.1631444466814253, 0.2366777707657013, 0.187...   \nWorms          [0.0483003655141829, 0.0520481298102271, 0.083...   \nWormsTwoClass  [0.042178623136506, 0.0426313686890855, 0.0746...   \nYoga           [0.0002246671438794, 0.0017251252567898, -0.00...   \n\n                                               timenet - timenet  \nACSF1          [0.2390230128476634, 0.1824705279343926, 0.242...  \nAdiac          [0.1246157676176382, 0.1765779371971556, 0.129...  \nArrowHead      [0.0185077769077625, 0.0332085597924477, 0.078...  \nBME            [0.40703819661866, 0.6797352726540677, 0.35807...  \nBeef           [0.1561391057487579, 0.0442031795269484, 0.089...  \n...                                                          ...  \nWine           [0.0452452047168379, -0.0068025604081536, 0.01...  \nWordSynonyms   [0.1563730414992939, 0.1687634732412142, 0.161...  \nWorms          [0.0683734241411386, 0.0622753496766431, 0.052...  \nWormsTwoClass  [0.0136340857309657, 0.0023409835511396, -0.00...  \nYoga           [-0.0003826098998726, -0.0009732720137929, -0....  \n\n[112 rows x 3 columns]",
      "text/html": "<div>\n<style scoped>\n    .dataframe tbody tr th:only-of-type {\n        vertical-align: middle;\n    }\n\n    .dataframe tbody tr th {\n        vertical-align: top;\n    }\n\n    .dataframe thead th {\n        text-align: right;\n    }\n</style>\n<table border=\"1\" class=\"dataframe\">\n  <thead>\n    <tr style=\"text-align: right;\">\n      <th></th>\n      <th>tsrc-ts2vec-timenet - student-model-encoder</th>\n      <th>ts2vec - ts2vec</th>\n      <th>timenet - timenet</th>\n    </tr>\n  </thead>\n  <tbody>\n    <tr>\n      <th>ACSF1</th>\n      <td>[0.1751800916830386, 0.1890776126444916, 0.164...</td>\n      <td>[0.1460556601799539, 0.1633524323109763, 0.140...</td>\n      <td>[0.2390230128476634, 0.1824705279343926, 0.242...</td>\n    </tr>\n    <tr>\n      <th>Adiac</th>\n      <td>[0.2033599667115128, 0.2289319214991436, 0.268...</td>\n      <td>[0.255732005759293, 0.2621799395403948, 0.2193...</td>\n      <td>[0.1246157676176382, 0.1765779371971556, 0.129...</td>\n    </tr>\n    <tr>\n      <th>ArrowHead</th>\n      <td>[0.0385719736947621, -0.0028817525223046, 0.06...</td>\n      <td>[-0.0019887374668678, -0.007615017411341, -0.0...</td>\n      <td>[0.0185077769077625, 0.0332085597924477, 0.078...</td>\n    </tr>\n    <tr>\n      <th>BME</th>\n      <td>[0.1547334114172225, 0.3914258857644883, 0.418...</td>\n      <td>[-0.0005853140209722, 5.227778673276902e-05, 5...</td>\n      <td>[0.40703819661866, 0.6797352726540677, 0.35807...</td>\n    </tr>\n    <tr>\n      <th>Beef</th>\n      <td>[0.0554738390418155, 0.1411383618695048, 0.198...</td>\n      <td>[0.1005207154177043, 0.0543478260869565, 0.122...</td>\n      <td>[0.1561391057487579, 0.0442031795269484, 0.089...</td>\n    </tr>\n    <tr>\n      <th>...</th>\n      <td>...</td>\n      <td>...</td>\n      <td>...</td>\n    </tr>\n    <tr>\n      <th>Wine</th>\n      <td>[0.0040604879658993, 0.0059756435793348, -0.01...</td>\n      <td>[-0.0130980795668271, 0.0023130222647372, -0.0...</td>\n      <td>[0.0452452047168379, -0.0068025604081536, 0.01...</td>\n    </tr>\n    <tr>\n      <th>WordSynonyms</th>\n      <td>[0.1448956754051437, 0.2063182473651053, 0.211...</td>\n      <td>[0.1631444466814253, 0.2366777707657013, 0.187...</td>\n      <td>[0.1563730414992939, 0.1687634732412142, 0.161...</td>\n    </tr>\n    <tr>\n      <th>Worms</th>\n      <td>[0.0658513193307987, 0.0365304444092738, 0.043...</td>\n      <td>[0.0483003655141829, 0.0520481298102271, 0.083...</td>\n      <td>[0.0683734241411386, 0.0622753496766431, 0.052...</td>\n    </tr>\n    <tr>\n      <th>WormsTwoClass</th>\n      <td>[-0.0009069351182092, -0.0013024430674507, -0....</td>\n      <td>[0.042178623136506, 0.0426313686890855, 0.0746...</td>\n      <td>[0.0136340857309657, 0.0023409835511396, -0.00...</td>\n    </tr>\n    <tr>\n      <th>Yoga</th>\n      <td>[0.0005134507935972, 0.0015162263748471, -0.00...</td>\n      <td>[0.0002246671438794, 0.0017251252567898, -0.00...</td>\n      <td>[-0.0003826098998726, -0.0009732720137929, -0....</td>\n    </tr>\n  </tbody>\n</table>\n<p>112 rows × 3 columns</p>\n</div>"
     },
     "execution_count": 63,
     "metadata": {},
     "output_type": "execute_result"
    }
   ],
   "source": [
    "experiment_1_results_mul"
   ],
   "metadata": {
    "collapsed": false,
    "ExecuteTime": {
     "end_time": "2024-06-05T15:43:50.256713Z",
     "start_time": "2024-06-05T15:43:50.249970Z"
    }
   },
   "id": "a8a9af442c9f87af",
   "execution_count": 63
  },
  {
   "cell_type": "code",
   "outputs": [
    {
     "data": {
      "text/plain": "                     tsrc-ts2vec-timenet - student-model-encoder  \\\nACSF1          [0.1751800916830386, 0.1890776126444916, 0.164...   \nAdiac          [0.2033599667115128, 0.2289319214991436, 0.268...   \nArrowHead      [0.0385719736947621, -0.0028817525223046, 0.06...   \nBME            [0.1547334114172225, 0.3914258857644883, 0.418...   \nBeef           [0.0554738390418155, 0.1411383618695048, 0.198...   \n...                                                          ...   \nWine           [0.0040604879658993, 0.0059756435793348, -0.01...   \nWordSynonyms   [0.1448956754051437, 0.2063182473651053, 0.211...   \nWorms          [0.0658513193307987, 0.0365304444092738, 0.043...   \nWormsTwoClass  [-0.0009069351182092, -0.0013024430674507, -0....   \nYoga           [0.0005134507935972, 0.0015162263748471, -0.00...   \n\n                                                 ts2vec - ts2vec  \\\nACSF1          [0.1460556601799539, 0.1633524323109763, 0.140...   \nAdiac          [0.255732005759293, 0.2621799395403948, 0.2193...   \nArrowHead      [-0.0019887374668678, -0.007615017411341, -0.0...   \nBME            [-0.0005853140209722, 5.227778673276902e-05, 5...   \nBeef           [0.1005207154177043, 0.0543478260869565, 0.122...   \n...                                                          ...   \nWine           [-0.0130980795668271, 0.0023130222647372, -0.0...   \nWordSynonyms   [0.1631444466814253, 0.2366777707657013, 0.187...   \nWorms          [0.0483003655141829, 0.0520481298102271, 0.083...   \nWormsTwoClass  [0.042178623136506, 0.0426313686890855, 0.0746...   \nYoga           [0.0002246671438794, 0.0017251252567898, -0.00...   \n\n                                               timenet - timenet  \nACSF1          [0.2390230128476634, 0.1824705279343926, 0.242...  \nAdiac          [0.1246157676176382, 0.1765779371971556, 0.129...  \nArrowHead      [0.0185077769077625, 0.0332085597924477, 0.078...  \nBME            [0.40703819661866, 0.6797352726540677, 0.35807...  \nBeef           [0.1561391057487579, 0.0442031795269484, 0.089...  \n...                                                          ...  \nWine           [0.0452452047168379, -0.0068025604081536, 0.01...  \nWordSynonyms   [0.1563730414992939, 0.1687634732412142, 0.161...  \nWorms          [0.0683734241411386, 0.0622753496766431, 0.052...  \nWormsTwoClass  [0.0136340857309657, 0.0023409835511396, -0.00...  \nYoga           [-0.0003826098998726, -0.0009732720137929, -0....  \n\n[112 rows x 3 columns]",
      "text/html": "<div>\n<style scoped>\n    .dataframe tbody tr th:only-of-type {\n        vertical-align: middle;\n    }\n\n    .dataframe tbody tr th {\n        vertical-align: top;\n    }\n\n    .dataframe thead th {\n        text-align: right;\n    }\n</style>\n<table border=\"1\" class=\"dataframe\">\n  <thead>\n    <tr style=\"text-align: right;\">\n      <th></th>\n      <th>tsrc-ts2vec-timenet - student-model-encoder</th>\n      <th>ts2vec - ts2vec</th>\n      <th>timenet - timenet</th>\n    </tr>\n  </thead>\n  <tbody>\n    <tr>\n      <th>ACSF1</th>\n      <td>[0.1751800916830386, 0.1890776126444916, 0.164...</td>\n      <td>[0.1460556601799539, 0.1633524323109763, 0.140...</td>\n      <td>[0.2390230128476634, 0.1824705279343926, 0.242...</td>\n    </tr>\n    <tr>\n      <th>Adiac</th>\n      <td>[0.2033599667115128, 0.2289319214991436, 0.268...</td>\n      <td>[0.255732005759293, 0.2621799395403948, 0.2193...</td>\n      <td>[0.1246157676176382, 0.1765779371971556, 0.129...</td>\n    </tr>\n    <tr>\n      <th>ArrowHead</th>\n      <td>[0.0385719736947621, -0.0028817525223046, 0.06...</td>\n      <td>[-0.0019887374668678, -0.007615017411341, -0.0...</td>\n      <td>[0.0185077769077625, 0.0332085597924477, 0.078...</td>\n    </tr>\n    <tr>\n      <th>BME</th>\n      <td>[0.1547334114172225, 0.3914258857644883, 0.418...</td>\n      <td>[-0.0005853140209722, 5.227778673276902e-05, 5...</td>\n      <td>[0.40703819661866, 0.6797352726540677, 0.35807...</td>\n    </tr>\n    <tr>\n      <th>Beef</th>\n      <td>[0.0554738390418155, 0.1411383618695048, 0.198...</td>\n      <td>[0.1005207154177043, 0.0543478260869565, 0.122...</td>\n      <td>[0.1561391057487579, 0.0442031795269484, 0.089...</td>\n    </tr>\n    <tr>\n      <th>...</th>\n      <td>...</td>\n      <td>...</td>\n      <td>...</td>\n    </tr>\n    <tr>\n      <th>Wine</th>\n      <td>[0.0040604879658993, 0.0059756435793348, -0.01...</td>\n      <td>[-0.0130980795668271, 0.0023130222647372, -0.0...</td>\n      <td>[0.0452452047168379, -0.0068025604081536, 0.01...</td>\n    </tr>\n    <tr>\n      <th>WordSynonyms</th>\n      <td>[0.1448956754051437, 0.2063182473651053, 0.211...</td>\n      <td>[0.1631444466814253, 0.2366777707657013, 0.187...</td>\n      <td>[0.1563730414992939, 0.1687634732412142, 0.161...</td>\n    </tr>\n    <tr>\n      <th>Worms</th>\n      <td>[0.0658513193307987, 0.0365304444092738, 0.043...</td>\n      <td>[0.0483003655141829, 0.0520481298102271, 0.083...</td>\n      <td>[0.0683734241411386, 0.0622753496766431, 0.052...</td>\n    </tr>\n    <tr>\n      <th>WormsTwoClass</th>\n      <td>[-0.0009069351182092, -0.0013024430674507, -0....</td>\n      <td>[0.042178623136506, 0.0426313686890855, 0.0746...</td>\n      <td>[0.0136340857309657, 0.0023409835511396, -0.00...</td>\n    </tr>\n    <tr>\n      <th>Yoga</th>\n      <td>[0.0005134507935972, 0.0015162263748471, -0.00...</td>\n      <td>[0.0002246671438794, 0.0017251252567898, -0.00...</td>\n      <td>[-0.0003826098998726, -0.0009732720137929, -0....</td>\n    </tr>\n  </tbody>\n</table>\n<p>112 rows × 3 columns</p>\n</div>"
     },
     "execution_count": 64,
     "metadata": {},
     "output_type": "execute_result"
    }
   ],
   "source": [
    "experiment_1_results_mul"
   ],
   "metadata": {
    "collapsed": false,
    "ExecuteTime": {
     "end_time": "2024-06-05T15:43:50.263941Z",
     "start_time": "2024-06-05T15:43:50.257315Z"
    }
   },
   "id": "459d5aa608b57de5",
   "execution_count": 64
  },
  {
   "cell_type": "code",
   "outputs": [],
   "source": [
    "experiment_1_baselines_results_display = df_summarized_baselines_results_external_display[\n",
    "    experiment_1_baselines_columns]\n",
    "experiment_1_results_display = pd.concat(\n",
    "    [experiment_1_metric_encoder_tables_display[CLUSTERING_METRIC_TO_CONSIDER_EXTERNAL],\n",
    "     experiment_1_baselines_results_display], axis=1)"
   ],
   "metadata": {
    "collapsed": false,
    "ExecuteTime": {
     "end_time": "2024-06-05T15:43:50.266977Z",
     "start_time": "2024-06-05T15:43:50.264615Z"
    }
   },
   "id": "3ecf83054f7b71c4",
   "execution_count": 65
  },
  {
   "cell_type": "code",
   "outputs": [
    {
     "data": {
      "text/plain": "              tsrc-ts2vec-timenet - student-model-encoder ts2vec - ts2vec  \\\nACSF1                                         0.19 ± 0.02     0.16 ± 0.01   \nAdiac                                         0.22 ± 0.03     0.25 ± 0.02   \nArrowHead                                     0.03 ± 0.03    -0.01 ± 0.00   \nBME                                           0.30 ± 0.11    -0.00 ± 0.00   \nBeef                                          0.12 ± 0.05     0.08 ± 0.03   \n...                                                   ...             ...   \nWine                                          0.00 ± 0.02    -0.01 ± 0.01   \nWordSynonyms                                  0.18 ± 0.02     0.20 ± 0.03   \nWorms                                         0.05 ± 0.01     0.06 ± 0.01   \nWormsTwoClass                                 0.00 ± 0.01     0.04 ± 0.02   \nYoga                                          0.00 ± 0.00     0.00 ± 0.00   \n\n              timenet - timenet  \nACSF1               0.22 ± 0.02  \nAdiac               0.14 ± 0.02  \nArrowHead           0.05 ± 0.02  \nBME                 0.37 ± 0.18  \nBeef                0.08 ± 0.04  \n...                         ...  \nWine                0.01 ± 0.02  \nWordSynonyms        0.16 ± 0.01  \nWorms               0.06 ± 0.01  \nWormsTwoClass       0.00 ± 0.01  \nYoga                0.00 ± 0.00  \n\n[112 rows x 3 columns]",
      "text/html": "<div>\n<style scoped>\n    .dataframe tbody tr th:only-of-type {\n        vertical-align: middle;\n    }\n\n    .dataframe tbody tr th {\n        vertical-align: top;\n    }\n\n    .dataframe thead th {\n        text-align: right;\n    }\n</style>\n<table border=\"1\" class=\"dataframe\">\n  <thead>\n    <tr style=\"text-align: right;\">\n      <th></th>\n      <th>tsrc-ts2vec-timenet - student-model-encoder</th>\n      <th>ts2vec - ts2vec</th>\n      <th>timenet - timenet</th>\n    </tr>\n  </thead>\n  <tbody>\n    <tr>\n      <th>ACSF1</th>\n      <td>0.19 ± 0.02</td>\n      <td>0.16 ± 0.01</td>\n      <td>0.22 ± 0.02</td>\n    </tr>\n    <tr>\n      <th>Adiac</th>\n      <td>0.22 ± 0.03</td>\n      <td>0.25 ± 0.02</td>\n      <td>0.14 ± 0.02</td>\n    </tr>\n    <tr>\n      <th>ArrowHead</th>\n      <td>0.03 ± 0.03</td>\n      <td>-0.01 ± 0.00</td>\n      <td>0.05 ± 0.02</td>\n    </tr>\n    <tr>\n      <th>BME</th>\n      <td>0.30 ± 0.11</td>\n      <td>-0.00 ± 0.00</td>\n      <td>0.37 ± 0.18</td>\n    </tr>\n    <tr>\n      <th>Beef</th>\n      <td>0.12 ± 0.05</td>\n      <td>0.08 ± 0.03</td>\n      <td>0.08 ± 0.04</td>\n    </tr>\n    <tr>\n      <th>...</th>\n      <td>...</td>\n      <td>...</td>\n      <td>...</td>\n    </tr>\n    <tr>\n      <th>Wine</th>\n      <td>0.00 ± 0.02</td>\n      <td>-0.01 ± 0.01</td>\n      <td>0.01 ± 0.02</td>\n    </tr>\n    <tr>\n      <th>WordSynonyms</th>\n      <td>0.18 ± 0.02</td>\n      <td>0.20 ± 0.03</td>\n      <td>0.16 ± 0.01</td>\n    </tr>\n    <tr>\n      <th>Worms</th>\n      <td>0.05 ± 0.01</td>\n      <td>0.06 ± 0.01</td>\n      <td>0.06 ± 0.01</td>\n    </tr>\n    <tr>\n      <th>WormsTwoClass</th>\n      <td>0.00 ± 0.01</td>\n      <td>0.04 ± 0.02</td>\n      <td>0.00 ± 0.01</td>\n    </tr>\n    <tr>\n      <th>Yoga</th>\n      <td>0.00 ± 0.00</td>\n      <td>0.00 ± 0.00</td>\n      <td>0.00 ± 0.00</td>\n    </tr>\n  </tbody>\n</table>\n<p>112 rows × 3 columns</p>\n</div>"
     },
     "execution_count": 66,
     "metadata": {},
     "output_type": "execute_result"
    }
   ],
   "source": [
    "experiment_1_results_display"
   ],
   "metadata": {
    "collapsed": false,
    "ExecuteTime": {
     "end_time": "2024-06-05T15:43:50.270782Z",
     "start_time": "2024-06-05T15:43:50.267535Z"
    }
   },
   "id": "d4457ce9513db21f",
   "execution_count": 66
  },
  {
   "cell_type": "markdown",
   "source": [
    "### 4.1.2 Experiment 2"
   ],
   "metadata": {
    "collapsed": false
   },
   "id": "298a10fd216f8f93"
  },
  {
   "cell_type": "code",
   "outputs": [],
   "source": [
    "experiment_2_main_dir = TSRC_MODEL_MAIN_DIR / 'ts2vec_to_lstmae_aecc4ffa8c36aa6d9bccaf9d83dac024'"
   ],
   "metadata": {
    "collapsed": false,
    "ExecuteTime": {
     "end_time": "2024-06-05T15:43:50.272680Z",
     "start_time": "2024-06-05T15:43:50.271362Z"
    }
   },
   "id": "e032e011c4c19678",
   "execution_count": 67
  },
  {
   "cell_type": "code",
   "outputs": [],
   "source": [
    "experiment_2_results_dir = experiment_2_main_dir / 'compression_2'"
   ],
   "metadata": {
    "collapsed": false,
    "ExecuteTime": {
     "end_time": "2024-06-05T15:43:50.274488Z",
     "start_time": "2024-06-05T15:43:50.273142Z"
    }
   },
   "id": "ad105a9705a45d45",
   "execution_count": 68
  },
  {
   "cell_type": "code",
   "outputs": [],
   "source": [
    "experiment_2_encoders_list = ['tsrc-ts2vec-lstmae - student-model-encoder']"
   ],
   "metadata": {
    "collapsed": false,
    "ExecuteTime": {
     "end_time": "2024-06-05T15:43:50.276333Z",
     "start_time": "2024-06-05T15:43:50.275017Z"
    }
   },
   "id": "3ca818a6b9085057",
   "execution_count": 69
  },
  {
   "cell_type": "code",
   "outputs": [
    {
     "data": {
      "text/plain": "<IPython.core.display.Markdown object>",
      "text/markdown": "### ARI ###"
     },
     "metadata": {},
     "output_type": "display_data"
    },
    {
     "data": {
      "text/plain": "              tsrc-ts2vec-lstmae - student-model-encoder\nACSF1                                        0.23 ± 0.01\nAdiac                                        0.18 ± 0.03\nArrowHead                                    0.09 ± 0.03\nBME                                          0.21 ± 0.10\nBeef                                         0.04 ± 0.00\n...                                                  ...\nWine                                         0.00 ± 0.01\nWordSynonyms                                 0.12 ± 0.01\nWorms                                        0.05 ± 0.01\nWormsTwoClass                               -0.00 ± 0.00\nYoga                                         0.00 ± 0.00\n\n[112 rows x 1 columns]",
      "text/html": "<div>\n<style scoped>\n    .dataframe tbody tr th:only-of-type {\n        vertical-align: middle;\n    }\n\n    .dataframe tbody tr th {\n        vertical-align: top;\n    }\n\n    .dataframe thead th {\n        text-align: right;\n    }\n</style>\n<table border=\"1\" class=\"dataframe\">\n  <thead>\n    <tr style=\"text-align: right;\">\n      <th></th>\n      <th>tsrc-ts2vec-lstmae - student-model-encoder</th>\n    </tr>\n  </thead>\n  <tbody>\n    <tr>\n      <th>ACSF1</th>\n      <td>0.23 ± 0.01</td>\n    </tr>\n    <tr>\n      <th>Adiac</th>\n      <td>0.18 ± 0.03</td>\n    </tr>\n    <tr>\n      <th>ArrowHead</th>\n      <td>0.09 ± 0.03</td>\n    </tr>\n    <tr>\n      <th>BME</th>\n      <td>0.21 ± 0.10</td>\n    </tr>\n    <tr>\n      <th>Beef</th>\n      <td>0.04 ± 0.00</td>\n    </tr>\n    <tr>\n      <th>...</th>\n      <td>...</td>\n    </tr>\n    <tr>\n      <th>Wine</th>\n      <td>0.00 ± 0.01</td>\n    </tr>\n    <tr>\n      <th>WordSynonyms</th>\n      <td>0.12 ± 0.01</td>\n    </tr>\n    <tr>\n      <th>Worms</th>\n      <td>0.05 ± 0.01</td>\n    </tr>\n    <tr>\n      <th>WormsTwoClass</th>\n      <td>-0.00 ± 0.00</td>\n    </tr>\n    <tr>\n      <th>Yoga</th>\n      <td>0.00 ± 0.00</td>\n    </tr>\n  </tbody>\n</table>\n<p>112 rows × 1 columns</p>\n</div>"
     },
     "metadata": {},
     "output_type": "display_data"
    },
    {
     "data": {
      "text/plain": "<IPython.core.display.Markdown object>",
      "text/markdown": "### CHS ###"
     },
     "metadata": {},
     "output_type": "display_data"
    },
    {
     "data": {
      "text/plain": "              tsrc-ts2vec-lstmae - student-model-encoder\nACSF1                                     131.70 ± 10.39\nAdiac                                    353.35 ± 104.14\nArrowHead                                  89.98 ± 10.55\nBME                                       378.58 ± 91.95\nBeef                                      962.64 ± 83.37\n...                                                  ...\nWine                                      111.66 ± 34.72\nWordSynonyms                              101.97 ± 15.82\nWorms                                    149.01 ± 118.86\nWormsTwoClass                             191.95 ± 86.71\nYoga                                      731.20 ± 83.56\n\n[112 rows x 1 columns]",
      "text/html": "<div>\n<style scoped>\n    .dataframe tbody tr th:only-of-type {\n        vertical-align: middle;\n    }\n\n    .dataframe tbody tr th {\n        vertical-align: top;\n    }\n\n    .dataframe thead th {\n        text-align: right;\n    }\n</style>\n<table border=\"1\" class=\"dataframe\">\n  <thead>\n    <tr style=\"text-align: right;\">\n      <th></th>\n      <th>tsrc-ts2vec-lstmae - student-model-encoder</th>\n    </tr>\n  </thead>\n  <tbody>\n    <tr>\n      <th>ACSF1</th>\n      <td>131.70 ± 10.39</td>\n    </tr>\n    <tr>\n      <th>Adiac</th>\n      <td>353.35 ± 104.14</td>\n    </tr>\n    <tr>\n      <th>ArrowHead</th>\n      <td>89.98 ± 10.55</td>\n    </tr>\n    <tr>\n      <th>BME</th>\n      <td>378.58 ± 91.95</td>\n    </tr>\n    <tr>\n      <th>Beef</th>\n      <td>962.64 ± 83.37</td>\n    </tr>\n    <tr>\n      <th>...</th>\n      <td>...</td>\n    </tr>\n    <tr>\n      <th>Wine</th>\n      <td>111.66 ± 34.72</td>\n    </tr>\n    <tr>\n      <th>WordSynonyms</th>\n      <td>101.97 ± 15.82</td>\n    </tr>\n    <tr>\n      <th>Worms</th>\n      <td>149.01 ± 118.86</td>\n    </tr>\n    <tr>\n      <th>WormsTwoClass</th>\n      <td>191.95 ± 86.71</td>\n    </tr>\n    <tr>\n      <th>Yoga</th>\n      <td>731.20 ± 83.56</td>\n    </tr>\n  </tbody>\n</table>\n<p>112 rows × 1 columns</p>\n</div>"
     },
     "metadata": {},
     "output_type": "display_data"
    }
   ],
   "source": [
    "experiment_2_encoder_metric_tables, experiment_2_metric_encoder_tables, experiment_2_encoder_metric_tables_display, experiment_2_metric_encoder_tables_display = \\\n",
    "    analyze_representation_results(representations_results_folder=experiment_2_results_dir,\n",
    "                                   metrics=CLUSTERING_METRICS,\n",
    "                                   encoders_list=experiment_2_encoders_list)"
   ],
   "metadata": {
    "collapsed": false,
    "ExecuteTime": {
     "end_time": "2024-06-05T15:43:50.729067Z",
     "start_time": "2024-06-05T15:43:50.276930Z"
    }
   },
   "id": "34b2d5ab6d488592",
   "execution_count": 70
  },
  {
   "cell_type": "code",
   "outputs": [],
   "source": [
    "experiment_2_encoder_metric_tables_mul, experiment_2_metric_encoder_tables_mul = analyze_representation_results_2(\n",
    "    representations_results_folder=experiment_2_results_dir,\n",
    "    metrics=CLUSTERING_METRICS,\n",
    "    encoders_list=experiment_2_encoders_list)"
   ],
   "metadata": {
    "collapsed": false,
    "ExecuteTime": {
     "end_time": "2024-06-05T15:43:50.948348Z",
     "start_time": "2024-06-05T15:43:50.729875Z"
    }
   },
   "id": "c616ab2272acb923",
   "execution_count": 71
  },
  {
   "cell_type": "code",
   "outputs": [],
   "source": [
    "experiment_2_baselines_columns = ['ts2vec - ts2vec', 'lstm-auto-encoder - encoder']\n",
    "experiment_2_baselines_results_mul = df_summarized_baselines_external_results_mul[experiment_2_baselines_columns]"
   ],
   "metadata": {
    "collapsed": false,
    "ExecuteTime": {
     "end_time": "2024-06-05T15:43:50.951362Z",
     "start_time": "2024-06-05T15:43:50.949134Z"
    }
   },
   "id": "7d9538fe2293d0b8",
   "execution_count": 72
  },
  {
   "cell_type": "code",
   "outputs": [],
   "source": [
    "experiment_2_results_mul = pd.concat([experiment_2_metric_encoder_tables_mul[CLUSTERING_METRIC_TO_CONSIDER_EXTERNAL],\n",
    "                                      experiment_2_baselines_results_mul], axis=1)"
   ],
   "metadata": {
    "collapsed": false,
    "ExecuteTime": {
     "end_time": "2024-06-05T15:43:50.954046Z",
     "start_time": "2024-06-05T15:43:50.952138Z"
    }
   },
   "id": "b954f46e17ef8017",
   "execution_count": 73
  },
  {
   "cell_type": "code",
   "outputs": [],
   "source": [
    "experiment_2_baselines_results_display = df_summarized_baselines_results_external_display[\n",
    "    experiment_2_baselines_columns]\n",
    "experiment_2_results_display = pd.concat(\n",
    "    [experiment_2_metric_encoder_tables_display[CLUSTERING_METRIC_TO_CONSIDER_EXTERNAL],\n",
    "     experiment_2_baselines_results_display], axis=1)"
   ],
   "metadata": {
    "collapsed": false,
    "ExecuteTime": {
     "end_time": "2024-06-05T15:43:50.956848Z",
     "start_time": "2024-06-05T15:43:50.954816Z"
    }
   },
   "id": "c90b088ce11a704c",
   "execution_count": 74
  },
  {
   "cell_type": "code",
   "outputs": [
    {
     "data": {
      "text/plain": "              tsrc-ts2vec-lstmae - student-model-encoder ts2vec - ts2vec  \\\nACSF1                                        0.23 ± 0.01     0.16 ± 0.01   \nAdiac                                        0.18 ± 0.03     0.25 ± 0.02   \nArrowHead                                    0.09 ± 0.03    -0.01 ± 0.00   \nBME                                          0.21 ± 0.10    -0.00 ± 0.00   \nBeef                                         0.04 ± 0.00     0.08 ± 0.03   \n...                                                  ...             ...   \nWine                                         0.00 ± 0.01    -0.01 ± 0.01   \nWordSynonyms                                 0.12 ± 0.01     0.20 ± 0.03   \nWorms                                        0.05 ± 0.01     0.06 ± 0.01   \nWormsTwoClass                               -0.00 ± 0.00     0.04 ± 0.02   \nYoga                                         0.00 ± 0.00     0.00 ± 0.00   \n\n              lstm-auto-encoder - encoder  \nACSF1                         0.23 ± 0.02  \nAdiac                         0.12 ± 0.03  \nArrowHead                     0.05 ± 0.01  \nBME                           0.22 ± 0.07  \nBeef                          0.04 ± 0.00  \n...                                   ...  \nWine                         -0.01 ± 0.00  \nWordSynonyms                  0.06 ± 0.01  \nWorms                         0.04 ± 0.00  \nWormsTwoClass                -0.00 ± 0.00  \nYoga                          0.00 ± 0.00  \n\n[112 rows x 3 columns]",
      "text/html": "<div>\n<style scoped>\n    .dataframe tbody tr th:only-of-type {\n        vertical-align: middle;\n    }\n\n    .dataframe tbody tr th {\n        vertical-align: top;\n    }\n\n    .dataframe thead th {\n        text-align: right;\n    }\n</style>\n<table border=\"1\" class=\"dataframe\">\n  <thead>\n    <tr style=\"text-align: right;\">\n      <th></th>\n      <th>tsrc-ts2vec-lstmae - student-model-encoder</th>\n      <th>ts2vec - ts2vec</th>\n      <th>lstm-auto-encoder - encoder</th>\n    </tr>\n  </thead>\n  <tbody>\n    <tr>\n      <th>ACSF1</th>\n      <td>0.23 ± 0.01</td>\n      <td>0.16 ± 0.01</td>\n      <td>0.23 ± 0.02</td>\n    </tr>\n    <tr>\n      <th>Adiac</th>\n      <td>0.18 ± 0.03</td>\n      <td>0.25 ± 0.02</td>\n      <td>0.12 ± 0.03</td>\n    </tr>\n    <tr>\n      <th>ArrowHead</th>\n      <td>0.09 ± 0.03</td>\n      <td>-0.01 ± 0.00</td>\n      <td>0.05 ± 0.01</td>\n    </tr>\n    <tr>\n      <th>BME</th>\n      <td>0.21 ± 0.10</td>\n      <td>-0.00 ± 0.00</td>\n      <td>0.22 ± 0.07</td>\n    </tr>\n    <tr>\n      <th>Beef</th>\n      <td>0.04 ± 0.00</td>\n      <td>0.08 ± 0.03</td>\n      <td>0.04 ± 0.00</td>\n    </tr>\n    <tr>\n      <th>...</th>\n      <td>...</td>\n      <td>...</td>\n      <td>...</td>\n    </tr>\n    <tr>\n      <th>Wine</th>\n      <td>0.00 ± 0.01</td>\n      <td>-0.01 ± 0.01</td>\n      <td>-0.01 ± 0.00</td>\n    </tr>\n    <tr>\n      <th>WordSynonyms</th>\n      <td>0.12 ± 0.01</td>\n      <td>0.20 ± 0.03</td>\n      <td>0.06 ± 0.01</td>\n    </tr>\n    <tr>\n      <th>Worms</th>\n      <td>0.05 ± 0.01</td>\n      <td>0.06 ± 0.01</td>\n      <td>0.04 ± 0.00</td>\n    </tr>\n    <tr>\n      <th>WormsTwoClass</th>\n      <td>-0.00 ± 0.00</td>\n      <td>0.04 ± 0.02</td>\n      <td>-0.00 ± 0.00</td>\n    </tr>\n    <tr>\n      <th>Yoga</th>\n      <td>0.00 ± 0.00</td>\n      <td>0.00 ± 0.00</td>\n      <td>0.00 ± 0.00</td>\n    </tr>\n  </tbody>\n</table>\n<p>112 rows × 3 columns</p>\n</div>"
     },
     "execution_count": 75,
     "metadata": {},
     "output_type": "execute_result"
    }
   ],
   "source": [
    "experiment_2_results_display"
   ],
   "metadata": {
    "collapsed": false,
    "ExecuteTime": {
     "end_time": "2024-06-05T15:43:50.960862Z",
     "start_time": "2024-06-05T15:43:50.957452Z"
    }
   },
   "id": "65a7b9f1af26de3f",
   "execution_count": 75
  },
  {
   "cell_type": "markdown",
   "source": [
    "### 4.1.3 Experiment 3"
   ],
   "metadata": {
    "collapsed": false
   },
   "id": "fd4d0dc5589ee407"
  },
  {
   "cell_type": "code",
   "outputs": [],
   "source": [
    "experiment_3_main_dir = TSRC_MODEL_MAIN_DIR / 'mcl_to_lstmae_841548f56ad1cc5fd09a9f2e2086e6df'"
   ],
   "metadata": {
    "collapsed": false,
    "ExecuteTime": {
     "end_time": "2024-06-05T15:43:50.963099Z",
     "start_time": "2024-06-05T15:43:50.961630Z"
    }
   },
   "id": "320b26a04465ce1f",
   "execution_count": 76
  },
  {
   "cell_type": "code",
   "outputs": [],
   "source": [
    "experiment_3_results_dir = experiment_3_main_dir / 'compression_2'"
   ],
   "metadata": {
    "collapsed": false,
    "ExecuteTime": {
     "end_time": "2024-06-05T15:43:50.965159Z",
     "start_time": "2024-06-05T15:43:50.963719Z"
    }
   },
   "id": "cb9faf6683504003",
   "execution_count": 77
  },
  {
   "cell_type": "code",
   "outputs": [],
   "source": [
    "experiment_3_encoders_list = ['tsrc-mcl-lstmae - student-model-encoder']"
   ],
   "metadata": {
    "collapsed": false,
    "ExecuteTime": {
     "end_time": "2024-06-05T15:43:50.967069Z",
     "start_time": "2024-06-05T15:43:50.965759Z"
    }
   },
   "id": "5a0dba02953050a7",
   "execution_count": 78
  },
  {
   "cell_type": "code",
   "outputs": [
    {
     "data": {
      "text/plain": "<IPython.core.display.Markdown object>",
      "text/markdown": "### ARI ###"
     },
     "metadata": {},
     "output_type": "display_data"
    },
    {
     "data": {
      "text/plain": "              tsrc-mcl-lstmae - student-model-encoder\nACSF1                                     0.21 ± 0.04\nAdiac                                     0.23 ± 0.04\nArrowHead                                 0.11 ± 0.03\nBME                                       0.33 ± 0.13\nBeef                                      0.11 ± 0.02\n...                                               ...\nWine                                      0.00 ± 0.01\nWordSynonyms                              0.09 ± 0.02\nWorms                                     0.03 ± 0.02\nWormsTwoClass                            -0.01 ± 0.00\nYoga                                      0.00 ± 0.01\n\n[112 rows x 1 columns]",
      "text/html": "<div>\n<style scoped>\n    .dataframe tbody tr th:only-of-type {\n        vertical-align: middle;\n    }\n\n    .dataframe tbody tr th {\n        vertical-align: top;\n    }\n\n    .dataframe thead th {\n        text-align: right;\n    }\n</style>\n<table border=\"1\" class=\"dataframe\">\n  <thead>\n    <tr style=\"text-align: right;\">\n      <th></th>\n      <th>tsrc-mcl-lstmae - student-model-encoder</th>\n    </tr>\n  </thead>\n  <tbody>\n    <tr>\n      <th>ACSF1</th>\n      <td>0.21 ± 0.04</td>\n    </tr>\n    <tr>\n      <th>Adiac</th>\n      <td>0.23 ± 0.04</td>\n    </tr>\n    <tr>\n      <th>ArrowHead</th>\n      <td>0.11 ± 0.03</td>\n    </tr>\n    <tr>\n      <th>BME</th>\n      <td>0.33 ± 0.13</td>\n    </tr>\n    <tr>\n      <th>Beef</th>\n      <td>0.11 ± 0.02</td>\n    </tr>\n    <tr>\n      <th>...</th>\n      <td>...</td>\n    </tr>\n    <tr>\n      <th>Wine</th>\n      <td>0.00 ± 0.01</td>\n    </tr>\n    <tr>\n      <th>WordSynonyms</th>\n      <td>0.09 ± 0.02</td>\n    </tr>\n    <tr>\n      <th>Worms</th>\n      <td>0.03 ± 0.02</td>\n    </tr>\n    <tr>\n      <th>WormsTwoClass</th>\n      <td>-0.01 ± 0.00</td>\n    </tr>\n    <tr>\n      <th>Yoga</th>\n      <td>0.00 ± 0.01</td>\n    </tr>\n  </tbody>\n</table>\n<p>112 rows × 1 columns</p>\n</div>"
     },
     "metadata": {},
     "output_type": "display_data"
    },
    {
     "data": {
      "text/plain": "<IPython.core.display.Markdown object>",
      "text/markdown": "### CHS ###"
     },
     "metadata": {},
     "output_type": "display_data"
    },
    {
     "data": {
      "text/plain": "              tsrc-mcl-lstmae - student-model-encoder\nACSF1                                 418.45 ± 415.06\nAdiac                                  109.51 ± 29.18\nArrowHead                               56.73 ± 20.18\nBME                                     90.85 ± 30.39\nBeef                                 1517.10 ± 851.21\n...                                               ...\nWine                                  133.25 ± 192.82\nWordSynonyms                           162.49 ± 62.18\nWorms                                1252.17 ± 227.58\nWormsTwoClass                         404.59 ± 353.53\nYoga                                 2286.78 ± 562.95\n\n[112 rows x 1 columns]",
      "text/html": "<div>\n<style scoped>\n    .dataframe tbody tr th:only-of-type {\n        vertical-align: middle;\n    }\n\n    .dataframe tbody tr th {\n        vertical-align: top;\n    }\n\n    .dataframe thead th {\n        text-align: right;\n    }\n</style>\n<table border=\"1\" class=\"dataframe\">\n  <thead>\n    <tr style=\"text-align: right;\">\n      <th></th>\n      <th>tsrc-mcl-lstmae - student-model-encoder</th>\n    </tr>\n  </thead>\n  <tbody>\n    <tr>\n      <th>ACSF1</th>\n      <td>418.45 ± 415.06</td>\n    </tr>\n    <tr>\n      <th>Adiac</th>\n      <td>109.51 ± 29.18</td>\n    </tr>\n    <tr>\n      <th>ArrowHead</th>\n      <td>56.73 ± 20.18</td>\n    </tr>\n    <tr>\n      <th>BME</th>\n      <td>90.85 ± 30.39</td>\n    </tr>\n    <tr>\n      <th>Beef</th>\n      <td>1517.10 ± 851.21</td>\n    </tr>\n    <tr>\n      <th>...</th>\n      <td>...</td>\n    </tr>\n    <tr>\n      <th>Wine</th>\n      <td>133.25 ± 192.82</td>\n    </tr>\n    <tr>\n      <th>WordSynonyms</th>\n      <td>162.49 ± 62.18</td>\n    </tr>\n    <tr>\n      <th>Worms</th>\n      <td>1252.17 ± 227.58</td>\n    </tr>\n    <tr>\n      <th>WormsTwoClass</th>\n      <td>404.59 ± 353.53</td>\n    </tr>\n    <tr>\n      <th>Yoga</th>\n      <td>2286.78 ± 562.95</td>\n    </tr>\n  </tbody>\n</table>\n<p>112 rows × 1 columns</p>\n</div>"
     },
     "metadata": {},
     "output_type": "display_data"
    }
   ],
   "source": [
    "experiment_3_encoder_metric_tables, experiment_3_metric_encoder_tables, experiment_3_encoder_metric_tables_display, experiment_3_metric_encoder_tables_display = \\\n",
    "    analyze_representation_results(representations_results_folder=experiment_3_results_dir,\n",
    "                                   metrics=CLUSTERING_METRICS,\n",
    "                                   encoders_list=experiment_3_encoders_list)"
   ],
   "metadata": {
    "collapsed": false,
    "ExecuteTime": {
     "end_time": "2024-06-05T15:43:51.431883Z",
     "start_time": "2024-06-05T15:43:50.967714Z"
    }
   },
   "id": "b8ad4c148d496d2f",
   "execution_count": 79
  },
  {
   "cell_type": "code",
   "outputs": [],
   "source": [
    "experiment_3_encoder_metric_tables_mul, experiment_3_metric_encoder_tables_mul = analyze_representation_results_2(\n",
    "    representations_results_folder=experiment_3_results_dir,\n",
    "    metrics=CLUSTERING_METRICS,\n",
    "    encoders_list=experiment_3_encoders_list)"
   ],
   "metadata": {
    "collapsed": false,
    "ExecuteTime": {
     "end_time": "2024-06-05T15:43:51.653039Z",
     "start_time": "2024-06-05T15:43:51.432728Z"
    }
   },
   "id": "6413e7e869424470",
   "execution_count": 80
  },
  {
   "cell_type": "code",
   "outputs": [],
   "source": [
    "experiment_3_baselines_columns = ['mcl - mcl', 'lstm-auto-encoder - encoder']"
   ],
   "metadata": {
    "collapsed": false,
    "ExecuteTime": {
     "end_time": "2024-06-05T15:43:51.655509Z",
     "start_time": "2024-06-05T15:43:51.653788Z"
    }
   },
   "id": "66f398807b02a60e",
   "execution_count": 81
  },
  {
   "cell_type": "code",
   "outputs": [],
   "source": [
    "experiment_3_baselines_results_mul = df_summarized_baselines_external_results_mul[experiment_3_baselines_columns]"
   ],
   "metadata": {
    "collapsed": false,
    "ExecuteTime": {
     "end_time": "2024-06-05T15:43:51.658094Z",
     "start_time": "2024-06-05T15:43:51.656341Z"
    }
   },
   "id": "32ed8a4d106876d6",
   "execution_count": 82
  },
  {
   "cell_type": "code",
   "outputs": [],
   "source": [
    "experiment_3_results_mul = pd.concat([experiment_3_metric_encoder_tables_mul[CLUSTERING_METRIC_TO_CONSIDER_EXTERNAL],\n",
    "                                      experiment_3_baselines_results_mul], axis=1)"
   ],
   "metadata": {
    "collapsed": false,
    "ExecuteTime": {
     "end_time": "2024-06-05T15:43:51.660607Z",
     "start_time": "2024-06-05T15:43:51.658720Z"
    }
   },
   "id": "fc8b24ab0aa319f3",
   "execution_count": 83
  },
  {
   "cell_type": "code",
   "outputs": [],
   "source": [
    "experiment_3_baselines_results_display = df_summarized_baselines_results_external_display[\n",
    "    experiment_3_baselines_columns]\n",
    "experiment_3_results_display = pd.concat(\n",
    "    [experiment_3_metric_encoder_tables_display[CLUSTERING_METRIC_TO_CONSIDER_EXTERNAL],\n",
    "     experiment_3_baselines_results_display], axis=1)"
   ],
   "metadata": {
    "collapsed": false,
    "ExecuteTime": {
     "end_time": "2024-06-05T15:43:51.663291Z",
     "start_time": "2024-06-05T15:43:51.661202Z"
    }
   },
   "id": "853d03a147c29981",
   "execution_count": 84
  },
  {
   "cell_type": "markdown",
   "source": [
    "## 4.1.4. All Experiments"
   ],
   "metadata": {
    "collapsed": false
   },
   "id": "2b15578677a8eb2e"
  },
  {
   "cell_type": "code",
   "outputs": [],
   "source": [
    "all_experiments_results_mul = pd.concat([experiment_1_results_mul, experiment_2_results_mul, experiment_3_results_mul,\n",
    "                                         df_summarized_baselines_external_results_mul], axis=1)\n",
    "all_experiments_results_mul = all_experiments_results_mul.loc[:, ~all_experiments_results_mul.columns.duplicated()]"
   ],
   "metadata": {
    "collapsed": false,
    "ExecuteTime": {
     "end_time": "2024-06-05T15:43:51.665932Z",
     "start_time": "2024-06-05T15:43:51.663850Z"
    }
   },
   "id": "e3fa9614956b60a0",
   "execution_count": 85
  },
  {
   "cell_type": "markdown",
   "source": [],
   "metadata": {
    "collapsed": false
   },
   "id": "f0e1c69df999760c"
  },
  {
   "cell_type": "code",
   "outputs": [],
   "source": [
    "all_experiment_results_display = pd.concat(\n",
    "    [experiment_1_results_display, experiment_2_results_display, experiment_3_results_display], axis=1)\n",
    "all_experiment_results_display = all_experiment_results_display.loc[:,\n",
    "                                 ~all_experiment_results_display.columns.duplicated()]\n",
    "# rename the columns to be more descriptive (use the mapping)\n",
    "all_experiment_results_display.columns = [MODEL_TO_DISPLAY_NAME_MAP[col] for col in\n",
    "                                          all_experiment_results_display.columns]\n",
    "# order the columns and put the baselines first\n",
    "all_experiment_results_display = all_experiment_results_display[\n",
    "    baselines_display_names + all_experiment_results_display.columns.difference(baselines_display_names).tolist()]"
   ],
   "metadata": {
    "collapsed": false,
    "ExecuteTime": {
     "end_time": "2024-06-05T15:43:51.669163Z",
     "start_time": "2024-06-05T15:43:51.666440Z"
    }
   },
   "id": "8b2f8447a0e9791f",
   "execution_count": 86
  },
  {
   "cell_type": "code",
   "outputs": [
    {
     "data": {
      "text/plain": "                    LSTM-AE        TS2Vec           MCL      TimeNet  \\\nACSF1           0.23 ± 0.02   0.16 ± 0.01   0.26 ± 0.01  0.22 ± 0.02   \nAdiac           0.12 ± 0.03   0.25 ± 0.02   0.31 ± 0.02  0.14 ± 0.02   \nArrowHead       0.05 ± 0.01  -0.01 ± 0.00   0.09 ± 0.04  0.05 ± 0.02   \nBME             0.22 ± 0.07  -0.00 ± 0.00   0.25 ± 0.07  0.37 ± 0.18   \nBeef            0.04 ± 0.00   0.08 ± 0.03   0.17 ± 0.06  0.08 ± 0.04   \n...                     ...           ...           ...          ...   \nWine           -0.01 ± 0.00  -0.01 ± 0.01   0.04 ± 0.05  0.01 ± 0.02   \nWordSynonyms    0.06 ± 0.01   0.20 ± 0.03   0.15 ± 0.01  0.16 ± 0.01   \nWorms           0.04 ± 0.00   0.06 ± 0.01  -0.00 ± 0.01  0.06 ± 0.01   \nWormsTwoClass  -0.00 ± 0.00   0.04 ± 0.02  -0.00 ± 0.00  0.00 ± 0.01   \nYoga            0.00 ± 0.00   0.00 ± 0.00   0.00 ± 0.00  0.00 ± 0.00   \n\n              LSTM-AE w/ TSRC (MCL) LSTM-AE w/ TSRC (TS2Vec)  \\\nACSF1                   0.21 ± 0.04              0.23 ± 0.01   \nAdiac                   0.23 ± 0.04              0.18 ± 0.03   \nArrowHead               0.11 ± 0.03              0.09 ± 0.03   \nBME                     0.33 ± 0.13              0.21 ± 0.10   \nBeef                    0.11 ± 0.02              0.04 ± 0.00   \n...                             ...                      ...   \nWine                    0.00 ± 0.01              0.00 ± 0.01   \nWordSynonyms            0.09 ± 0.02              0.12 ± 0.01   \nWorms                   0.03 ± 0.02              0.05 ± 0.01   \nWormsTwoClass          -0.01 ± 0.00             -0.00 ± 0.00   \nYoga                    0.00 ± 0.01              0.00 ± 0.00   \n\n              TimeNet w/ TSRC (TS2Vec)  \nACSF1                      0.19 ± 0.02  \nAdiac                      0.22 ± 0.03  \nArrowHead                  0.03 ± 0.03  \nBME                        0.30 ± 0.11  \nBeef                       0.12 ± 0.05  \n...                                ...  \nWine                       0.00 ± 0.02  \nWordSynonyms               0.18 ± 0.02  \nWorms                      0.05 ± 0.01  \nWormsTwoClass              0.00 ± 0.01  \nYoga                       0.00 ± 0.00  \n\n[112 rows x 7 columns]",
      "text/html": "<div>\n<style scoped>\n    .dataframe tbody tr th:only-of-type {\n        vertical-align: middle;\n    }\n\n    .dataframe tbody tr th {\n        vertical-align: top;\n    }\n\n    .dataframe thead th {\n        text-align: right;\n    }\n</style>\n<table border=\"1\" class=\"dataframe\">\n  <thead>\n    <tr style=\"text-align: right;\">\n      <th></th>\n      <th>LSTM-AE</th>\n      <th>TS2Vec</th>\n      <th>MCL</th>\n      <th>TimeNet</th>\n      <th>LSTM-AE w/ TSRC (MCL)</th>\n      <th>LSTM-AE w/ TSRC (TS2Vec)</th>\n      <th>TimeNet w/ TSRC (TS2Vec)</th>\n    </tr>\n  </thead>\n  <tbody>\n    <tr>\n      <th>ACSF1</th>\n      <td>0.23 ± 0.02</td>\n      <td>0.16 ± 0.01</td>\n      <td>0.26 ± 0.01</td>\n      <td>0.22 ± 0.02</td>\n      <td>0.21 ± 0.04</td>\n      <td>0.23 ± 0.01</td>\n      <td>0.19 ± 0.02</td>\n    </tr>\n    <tr>\n      <th>Adiac</th>\n      <td>0.12 ± 0.03</td>\n      <td>0.25 ± 0.02</td>\n      <td>0.31 ± 0.02</td>\n      <td>0.14 ± 0.02</td>\n      <td>0.23 ± 0.04</td>\n      <td>0.18 ± 0.03</td>\n      <td>0.22 ± 0.03</td>\n    </tr>\n    <tr>\n      <th>ArrowHead</th>\n      <td>0.05 ± 0.01</td>\n      <td>-0.01 ± 0.00</td>\n      <td>0.09 ± 0.04</td>\n      <td>0.05 ± 0.02</td>\n      <td>0.11 ± 0.03</td>\n      <td>0.09 ± 0.03</td>\n      <td>0.03 ± 0.03</td>\n    </tr>\n    <tr>\n      <th>BME</th>\n      <td>0.22 ± 0.07</td>\n      <td>-0.00 ± 0.00</td>\n      <td>0.25 ± 0.07</td>\n      <td>0.37 ± 0.18</td>\n      <td>0.33 ± 0.13</td>\n      <td>0.21 ± 0.10</td>\n      <td>0.30 ± 0.11</td>\n    </tr>\n    <tr>\n      <th>Beef</th>\n      <td>0.04 ± 0.00</td>\n      <td>0.08 ± 0.03</td>\n      <td>0.17 ± 0.06</td>\n      <td>0.08 ± 0.04</td>\n      <td>0.11 ± 0.02</td>\n      <td>0.04 ± 0.00</td>\n      <td>0.12 ± 0.05</td>\n    </tr>\n    <tr>\n      <th>...</th>\n      <td>...</td>\n      <td>...</td>\n      <td>...</td>\n      <td>...</td>\n      <td>...</td>\n      <td>...</td>\n      <td>...</td>\n    </tr>\n    <tr>\n      <th>Wine</th>\n      <td>-0.01 ± 0.00</td>\n      <td>-0.01 ± 0.01</td>\n      <td>0.04 ± 0.05</td>\n      <td>0.01 ± 0.02</td>\n      <td>0.00 ± 0.01</td>\n      <td>0.00 ± 0.01</td>\n      <td>0.00 ± 0.02</td>\n    </tr>\n    <tr>\n      <th>WordSynonyms</th>\n      <td>0.06 ± 0.01</td>\n      <td>0.20 ± 0.03</td>\n      <td>0.15 ± 0.01</td>\n      <td>0.16 ± 0.01</td>\n      <td>0.09 ± 0.02</td>\n      <td>0.12 ± 0.01</td>\n      <td>0.18 ± 0.02</td>\n    </tr>\n    <tr>\n      <th>Worms</th>\n      <td>0.04 ± 0.00</td>\n      <td>0.06 ± 0.01</td>\n      <td>-0.00 ± 0.01</td>\n      <td>0.06 ± 0.01</td>\n      <td>0.03 ± 0.02</td>\n      <td>0.05 ± 0.01</td>\n      <td>0.05 ± 0.01</td>\n    </tr>\n    <tr>\n      <th>WormsTwoClass</th>\n      <td>-0.00 ± 0.00</td>\n      <td>0.04 ± 0.02</td>\n      <td>-0.00 ± 0.00</td>\n      <td>0.00 ± 0.01</td>\n      <td>-0.01 ± 0.00</td>\n      <td>-0.00 ± 0.00</td>\n      <td>0.00 ± 0.01</td>\n    </tr>\n    <tr>\n      <th>Yoga</th>\n      <td>0.00 ± 0.00</td>\n      <td>0.00 ± 0.00</td>\n      <td>0.00 ± 0.00</td>\n      <td>0.00 ± 0.00</td>\n      <td>0.00 ± 0.01</td>\n      <td>0.00 ± 0.00</td>\n      <td>0.00 ± 0.00</td>\n    </tr>\n  </tbody>\n</table>\n<p>112 rows × 7 columns</p>\n</div>"
     },
     "execution_count": 87,
     "metadata": {},
     "output_type": "execute_result"
    }
   ],
   "source": [
    "all_experiment_results_display"
   ],
   "metadata": {
    "collapsed": false,
    "ExecuteTime": {
     "end_time": "2024-06-05T15:43:51.673971Z",
     "start_time": "2024-06-05T15:43:51.669743Z"
    }
   },
   "id": "69c0775817e442d9",
   "execution_count": 87
  },
  {
   "cell_type": "code",
   "outputs": [],
   "source": [
    "# save as latex\n",
    "save_df_as_latex(all_experiment_results_display, 'all_experiments_results')"
   ],
   "metadata": {
    "collapsed": false,
    "ExecuteTime": {
     "end_time": "2024-06-05T15:43:51.714777Z",
     "start_time": "2024-06-05T15:43:51.674509Z"
    }
   },
   "id": "4f5f4da480d11f",
   "execution_count": 88
  },
  {
   "cell_type": "code",
   "outputs": [
    {
     "name": "stdout",
     "output_type": "stream",
     "text": [
      "Statistics=156.61873754152845, p=3.0786569050092414e-31\n",
      "Significant differences found. Proceeding to CD analysis.\n",
      "Number of datasets: 560\n",
      "Number of algorithms: 7\n",
      "Critical difference: 0.38062647530967497\n",
      "\n",
      "Algorithm Name                 Rank\n",
      "-------------------------------------\n",
      "TimeNet w/ TSRC (TS2Vec)       3.48\n",
      "TS2Vec                         3.53\n",
      "TimeNet                        3.77\n",
      "LSTM-AE w/ TSRC (TS2Vec)       3.93\n",
      "MCL                            4.16\n",
      "LSTM-AE w/ TSRC (MCL)          4.40\n",
      "LSTM-AE                        4.73\n"
     ]
    },
    {
     "data": {
      "text/plain": "<Figure size 600x225 with 1 Axes>",
      "image/png": "[encoded data removed]"
     },
     "metadata": {},
     "output_type": "display_data"
    }
   ],
   "source": [
    "all_experiments_display_names = [MODEL_TO_DISPLAY_NAME_MAP[col] for col in all_experiments_results_mul.columns]\n",
    "\n",
    "do_cd_analysis_multiple(all_experiments_results_mul, all_experiments_results_mul.columns, all_experiments_display_names)\n",
    "\n",
    "# save the figure as eps\n",
    "plt.savefig(PLOTS_OUTPUT_DIR / 'all_experiments_cd.eps', format='eps', bbox_inches='tight', dpi=300)\n",
    "\n",
    "# save the figure as png\n",
    "plt.savefig(PLOTS_OUTPUT_DIR / 'all_experiments_cd.png', format='png', bbox_inches='tight', dpi=300)"
   ],
   "metadata": {
    "collapsed": false,
    "ExecuteTime": {
     "end_time": "2024-06-05T15:43:51.900856Z",
     "start_time": "2024-06-05T15:43:51.715607Z"
    }
   },
   "id": "2f027d2acde9f8c5",
   "execution_count": 89
  },
  {
   "cell_type": "code",
   "outputs": [
    {
     "data": {
      "text/plain": "({'TimeNet_w_TSRC_TS2Vec': 7.6923076923076925,\n  'LSTM_AE_w_TSRC_TS2Vec': 16.913319238900637,\n  'LSTM_AE_w_TSRC_MCL': 6.976744186046513},\n 10.527457039084949)"
     },
     "execution_count": 90,
     "metadata": {},
     "output_type": "execute_result"
    }
   ],
   "source": [
    "# Calculating improvements:\n",
    "\n",
    "ranks_original = {\n",
    "    \"TimeNet_w_TSRC_TS2Vec\": 3.48,\n",
    "    \"TS2Vec\": 3.53,\n",
    "    \"TimeNet\": 3.77,\n",
    "    \"LSTM_AE_w_TSRC_TS2Vec\": 3.93,\n",
    "    \"MCL\": 4.16,\n",
    "    \"LSTM_AE_w_TSRC_MCL\": 4.40,\n",
    "    \"LSTM_AE\": 4.73\n",
    "}\n",
    "improvements = {\n",
    "    \"TimeNet_w_TSRC_TS2Vec\": ((ranks_original[\"TimeNet\"] - ranks_original[\"TimeNet_w_TSRC_TS2Vec\"]) / ranks_original[\n",
    "        \"TimeNet\"]) * 100,\n",
    "    \"LSTM_AE_w_TSRC_TS2Vec\": ((ranks_original[\"LSTM_AE\"] - ranks_original[\"LSTM_AE_w_TSRC_TS2Vec\"]) / ranks_original[\n",
    "        \"LSTM_AE\"]) * 100,\n",
    "    \"LSTM_AE_w_TSRC_MCL\": ((ranks_original[\"LSTM_AE\"] - ranks_original[\"LSTM_AE_w_TSRC_MCL\"]) / ranks_original[\n",
    "        \"LSTM_AE\"]) * 100,\n",
    "}\n",
    "\n",
    "# Calculate the mean of the improvements:\n",
    "mean_improvement = sum(improvements.values()) / len(improvements)\n",
    "improvements, mean_improvement"
   ],
   "metadata": {
    "collapsed": false,
    "ExecuteTime": {
     "end_time": "2024-06-05T15:43:51.904937Z",
     "start_time": "2024-06-05T15:43:51.901674Z"
    }
   },
   "id": "191fec8a9b21bfed",
   "execution_count": 90
  },
  {
   "cell_type": "markdown",
   "source": [
    "## 4.2. Internal Clustering Metric"
   ],
   "metadata": {
    "collapsed": false
   },
   "id": "6e96696fb55dbbe"
  },
  {
   "cell_type": "markdown",
   "source": [
    "### 4.2.1 Experiment 1"
   ],
   "metadata": {
    "collapsed": false
   },
   "id": "9579f1c7480c9882"
  },
  {
   "cell_type": "code",
   "outputs": [],
   "source": [
    "experiment_1_results_mul_internal = pd.concat(\n",
    "    [experiment_1_metric_encoder_tables_mul[CLUSTERING_METRIC_TO_CONSIDER_INTERNAL],\n",
    "     experiment_1_baseline_results_mul], axis=1)"
   ],
   "metadata": {
    "collapsed": false,
    "ExecuteTime": {
     "end_time": "2024-06-05T15:43:51.907414Z",
     "start_time": "2024-06-05T15:43:51.905515Z"
    }
   },
   "id": "794e92601cf0c2d3",
   "execution_count": 91
  },
  {
   "cell_type": "code",
   "outputs": [],
   "source": [
    "experiment_1_baselines_results_display_internal = df_summarized_baselines_results_internal_display[\n",
    "    experiment_1_baselines_columns]\n",
    "experiment_1_results_display_internal = pd.concat(\n",
    "    [experiment_1_metric_encoder_tables_display[CLUSTERING_METRIC_TO_CONSIDER_INTERNAL],\n",
    "     experiment_1_baselines_results_display_internal], axis=1)"
   ],
   "metadata": {
    "collapsed": false,
    "ExecuteTime": {
     "end_time": "2024-06-05T15:43:51.909889Z",
     "start_time": "2024-06-05T15:43:51.907993Z"
    }
   },
   "id": "7d343c16428a987a",
   "execution_count": 92
  },
  {
   "cell_type": "code",
   "outputs": [
    {
     "data": {
      "text/plain": "              tsrc-ts2vec-timenet - student-model-encoder ts2vec - ts2vec  \\\nACSF1                                       87.32 ± 14.40  164.21 ± 34.50   \nAdiac                                      187.50 ± 17.43  106.76 ± 19.63   \nArrowHead                                   67.50 ± 13.25    63.58 ± 9.14   \nBME                                        190.34 ± 66.11  462.14 ± 80.76   \nBeef                                        37.08 ± 16.03    44.79 ± 6.51   \n...                                                   ...             ...   \nWine                                        48.29 ± 11.50    41.02 ± 2.10   \nWordSynonyms                                 66.00 ± 5.62    25.24 ± 2.79   \nWorms                                        57.47 ± 3.43    22.78 ± 3.42   \nWormsTwoClass                                47.24 ± 4.81    32.77 ± 4.34   \nYoga                                      650.72 ± 101.61  494.60 ± 50.15   \n\n              timenet - timenet  \nACSF1            106.55 ± 23.43  \nAdiac           405.99 ± 136.36  \nArrowHead         70.94 ± 24.64  \nBME                64.21 ± 8.69  \nBeef            180.20 ± 140.03  \n...                         ...  \nWine               33.06 ± 5.19  \nWordSynonyms      96.31 ± 21.44  \nWorms            103.10 ± 68.16  \nWormsTwoClass      50.20 ± 6.23  \nYoga            973.13 ± 144.93  \n\n[112 rows x 3 columns]",
      "text/html": "<div>\n<style scoped>\n    .dataframe tbody tr th:only-of-type {\n        vertical-align: middle;\n    }\n\n    .dataframe tbody tr th {\n        vertical-align: top;\n    }\n\n    .dataframe thead th {\n        text-align: right;\n    }\n</style>\n<table border=\"1\" class=\"dataframe\">\n  <thead>\n    <tr style=\"text-align: right;\">\n      <th></th>\n      <th>tsrc-ts2vec-timenet - student-model-encoder</th>\n      <th>ts2vec - ts2vec</th>\n      <th>timenet - timenet</th>\n    </tr>\n  </thead>\n  <tbody>\n    <tr>\n      <th>ACSF1</th>\n      <td>87.32 ± 14.40</td>\n      <td>164.21 ± 34.50</td>\n      <td>106.55 ± 23.43</td>\n    </tr>\n    <tr>\n      <th>Adiac</th>\n      <td>187.50 ± 17.43</td>\n      <td>106.76 ± 19.63</td>\n      <td>405.99 ± 136.36</td>\n    </tr>\n    <tr>\n      <th>ArrowHead</th>\n      <td>67.50 ± 13.25</td>\n      <td>63.58 ± 9.14</td>\n      <td>70.94 ± 24.64</td>\n    </tr>\n    <tr>\n      <th>BME</th>\n      <td>190.34 ± 66.11</td>\n      <td>462.14 ± 80.76</td>\n      <td>64.21 ± 8.69</td>\n    </tr>\n    <tr>\n      <th>Beef</th>\n      <td>37.08 ± 16.03</td>\n      <td>44.79 ± 6.51</td>\n      <td>180.20 ± 140.03</td>\n    </tr>\n    <tr>\n      <th>...</th>\n      <td>...</td>\n      <td>...</td>\n      <td>...</td>\n    </tr>\n    <tr>\n      <th>Wine</th>\n      <td>48.29 ± 11.50</td>\n      <td>41.02 ± 2.10</td>\n      <td>33.06 ± 5.19</td>\n    </tr>\n    <tr>\n      <th>WordSynonyms</th>\n      <td>66.00 ± 5.62</td>\n      <td>25.24 ± 2.79</td>\n      <td>96.31 ± 21.44</td>\n    </tr>\n    <tr>\n      <th>Worms</th>\n      <td>57.47 ± 3.43</td>\n      <td>22.78 ± 3.42</td>\n      <td>103.10 ± 68.16</td>\n    </tr>\n    <tr>\n      <th>WormsTwoClass</th>\n      <td>47.24 ± 4.81</td>\n      <td>32.77 ± 4.34</td>\n      <td>50.20 ± 6.23</td>\n    </tr>\n    <tr>\n      <th>Yoga</th>\n      <td>650.72 ± 101.61</td>\n      <td>494.60 ± 50.15</td>\n      <td>973.13 ± 144.93</td>\n    </tr>\n  </tbody>\n</table>\n<p>112 rows × 3 columns</p>\n</div>"
     },
     "execution_count": 93,
     "metadata": {},
     "output_type": "execute_result"
    }
   ],
   "source": [
    "experiment_1_results_display_internal"
   ],
   "metadata": {
    "collapsed": false,
    "ExecuteTime": {
     "end_time": "2024-06-05T15:43:51.913951Z",
     "start_time": "2024-06-05T15:43:51.910394Z"
    }
   },
   "id": "6060d005abf23671",
   "execution_count": 93
  },
  {
   "cell_type": "markdown",
   "source": [
    "### 4.2.2 Experiment 2"
   ],
   "metadata": {
    "collapsed": false
   },
   "id": "24d65f4a80eaf803"
  },
  {
   "cell_type": "code",
   "outputs": [],
   "source": [
    "experiment_2_results_mul_internal = pd.concat(\n",
    "    [experiment_2_metric_encoder_tables_mul[CLUSTERING_METRIC_TO_CONSIDER_INTERNAL],\n",
    "     experiment_2_baselines_results_mul], axis=1)"
   ],
   "metadata": {
    "collapsed": false,
    "ExecuteTime": {
     "end_time": "2024-06-05T15:43:51.916157Z",
     "start_time": "2024-06-05T15:43:51.914508Z"
    }
   },
   "id": "2f1c1d6fbe7d7578",
   "execution_count": 94
  },
  {
   "cell_type": "code",
   "outputs": [],
   "source": [
    "experiment_2_baselines_results_display_internal = df_summarized_baselines_results_internal_display[\n",
    "    experiment_2_baselines_columns]\n",
    "experiment_2_results_display_internal = pd.concat(\n",
    "    [experiment_2_metric_encoder_tables_display[CLUSTERING_METRIC_TO_CONSIDER_INTERNAL],\n",
    "     experiment_2_baselines_results_display_internal], axis=1)"
   ],
   "metadata": {
    "collapsed": false,
    "ExecuteTime": {
     "end_time": "2024-06-05T15:43:51.918740Z",
     "start_time": "2024-06-05T15:43:51.916733Z"
    }
   },
   "id": "3ba171744f13813b",
   "execution_count": 95
  },
  {
   "cell_type": "code",
   "outputs": [
    {
     "data": {
      "text/plain": "              tsrc-ts2vec-lstmae - student-model-encoder ts2vec - ts2vec  \\\nACSF1                                     131.70 ± 10.39  164.21 ± 34.50   \nAdiac                                    353.35 ± 104.14  106.76 ± 19.63   \nArrowHead                                  89.98 ± 10.55    63.58 ± 9.14   \nBME                                       378.58 ± 91.95  462.14 ± 80.76   \nBeef                                      962.64 ± 83.37    44.79 ± 6.51   \n...                                                  ...             ...   \nWine                                      111.66 ± 34.72    41.02 ± 2.10   \nWordSynonyms                              101.97 ± 15.82    25.24 ± 2.79   \nWorms                                    149.01 ± 118.86    22.78 ± 3.42   \nWormsTwoClass                             191.95 ± 86.71    32.77 ± 4.34   \nYoga                                      731.20 ± 83.56  494.60 ± 50.15   \n\n              lstm-auto-encoder - encoder  \nACSF1                      124.03 ± 27.44  \nAdiac                     554.75 ± 330.38  \nArrowHead                  119.86 ± 32.01  \nBME                        182.64 ± 78.64  \nBeef                     1212.85 ± 418.01  \n...                                   ...  \nWine                        55.94 ± 13.78  \nWordSynonyms               268.11 ± 61.29  \nWorms                       394.48 ± 6.15  \nWormsTwoClass               268.58 ± 1.22  \nYoga                     1429.04 ± 964.82  \n\n[112 rows x 3 columns]",
      "text/html": "<div>\n<style scoped>\n    .dataframe tbody tr th:only-of-type {\n        vertical-align: middle;\n    }\n\n    .dataframe tbody tr th {\n        vertical-align: top;\n    }\n\n    .dataframe thead th {\n        text-align: right;\n    }\n</style>\n<table border=\"1\" class=\"dataframe\">\n  <thead>\n    <tr style=\"text-align: right;\">\n      <th></th>\n      <th>tsrc-ts2vec-lstmae - student-model-encoder</th>\n      <th>ts2vec - ts2vec</th>\n      <th>lstm-auto-encoder - encoder</th>\n    </tr>\n  </thead>\n  <tbody>\n    <tr>\n      <th>ACSF1</th>\n      <td>131.70 ± 10.39</td>\n      <td>164.21 ± 34.50</td>\n      <td>124.03 ± 27.44</td>\n    </tr>\n    <tr>\n      <th>Adiac</th>\n      <td>353.35 ± 104.14</td>\n      <td>106.76 ± 19.63</td>\n      <td>554.75 ± 330.38</td>\n    </tr>\n    <tr>\n      <th>ArrowHead</th>\n      <td>89.98 ± 10.55</td>\n      <td>63.58 ± 9.14</td>\n      <td>119.86 ± 32.01</td>\n    </tr>\n    <tr>\n      <th>BME</th>\n      <td>378.58 ± 91.95</td>\n      <td>462.14 ± 80.76</td>\n      <td>182.64 ± 78.64</td>\n    </tr>\n    <tr>\n      <th>Beef</th>\n      <td>962.64 ± 83.37</td>\n      <td>44.79 ± 6.51</td>\n      <td>1212.85 ± 418.01</td>\n    </tr>\n    <tr>\n      <th>...</th>\n      <td>...</td>\n      <td>...</td>\n      <td>...</td>\n    </tr>\n    <tr>\n      <th>Wine</th>\n      <td>111.66 ± 34.72</td>\n      <td>41.02 ± 2.10</td>\n      <td>55.94 ± 13.78</td>\n    </tr>\n    <tr>\n      <th>WordSynonyms</th>\n      <td>101.97 ± 15.82</td>\n      <td>25.24 ± 2.79</td>\n      <td>268.11 ± 61.29</td>\n    </tr>\n    <tr>\n      <th>Worms</th>\n      <td>149.01 ± 118.86</td>\n      <td>22.78 ± 3.42</td>\n      <td>394.48 ± 6.15</td>\n    </tr>\n    <tr>\n      <th>WormsTwoClass</th>\n      <td>191.95 ± 86.71</td>\n      <td>32.77 ± 4.34</td>\n      <td>268.58 ± 1.22</td>\n    </tr>\n    <tr>\n      <th>Yoga</th>\n      <td>731.20 ± 83.56</td>\n      <td>494.60 ± 50.15</td>\n      <td>1429.04 ± 964.82</td>\n    </tr>\n  </tbody>\n</table>\n<p>112 rows × 3 columns</p>\n</div>"
     },
     "execution_count": 96,
     "metadata": {},
     "output_type": "execute_result"
    }
   ],
   "source": [
    "experiment_2_results_display_internal"
   ],
   "metadata": {
    "collapsed": false,
    "ExecuteTime": {
     "end_time": "2024-06-05T15:43:51.922838Z",
     "start_time": "2024-06-05T15:43:51.919270Z"
    }
   },
   "id": "36acc690bde9b1ce",
   "execution_count": 96
  },
  {
   "cell_type": "markdown",
   "source": [
    "### 4.2.3 Experiment 3"
   ],
   "metadata": {
    "collapsed": false
   },
   "id": "247dbbb30d34c879"
  },
  {
   "cell_type": "code",
   "outputs": [],
   "source": [
    "experiment_3_results_mul_internal = pd.concat(\n",
    "    [experiment_3_metric_encoder_tables_mul[CLUSTERING_METRIC_TO_CONSIDER_INTERNAL],\n",
    "     experiment_3_baselines_results_mul], axis=1)"
   ],
   "metadata": {
    "collapsed": false,
    "ExecuteTime": {
     "end_time": "2024-06-05T15:43:51.924844Z",
     "start_time": "2024-06-05T15:43:51.923408Z"
    }
   },
   "id": "fc592acce271713b",
   "execution_count": 97
  },
  {
   "cell_type": "code",
   "outputs": [],
   "source": [
    "experiment_3_baselines_results_display_internal = df_summarized_baselines_results_internal_display[\n",
    "    experiment_3_baselines_columns]\n",
    "experiment_3_results_display_internal = pd.concat(\n",
    "    [experiment_3_metric_encoder_tables_display[CLUSTERING_METRIC_TO_CONSIDER_INTERNAL],\n",
    "     experiment_3_baselines_results_display_internal], axis=1)"
   ],
   "metadata": {
    "collapsed": false,
    "ExecuteTime": {
     "end_time": "2024-06-05T15:43:51.927412Z",
     "start_time": "2024-06-05T15:43:51.925432Z"
    }
   },
   "id": "34c0afaa9fafd497",
   "execution_count": 98
  },
  {
   "cell_type": "markdown",
   "source": [
    "## 4.2.4. All Experiments"
   ],
   "metadata": {
    "collapsed": false
   },
   "id": "be671c5d9265ff94"
  },
  {
   "cell_type": "code",
   "outputs": [],
   "source": [
    "all_experiments_results_mul_internal = pd.concat(\n",
    "    [experiment_1_results_mul_internal, experiment_2_results_mul_internal, experiment_3_results_mul_internal,\n",
    "     df_summarized_baselines_internal_results_mul], axis=1)\n",
    "all_experiments_results_mul_internal = all_experiments_results_mul_internal.loc[:,\n",
    "                                       ~all_experiments_results_mul_internal.columns.duplicated()]"
   ],
   "metadata": {
    "collapsed": false,
    "ExecuteTime": {
     "end_time": "2024-06-05T15:43:51.936560Z",
     "start_time": "2024-06-05T15:43:51.934024Z"
    }
   },
   "id": "6873092f84dfabc3",
   "execution_count": 99
  },
  {
   "cell_type": "code",
   "outputs": [],
   "source": [
    "all_experiment_results_display_internal = pd.concat(\n",
    "    [experiment_1_results_display_internal, experiment_2_results_display_internal,\n",
    "     experiment_3_results_display_internal], axis=1)\n",
    "all_experiment_results_display_internal = all_experiment_results_display_internal.loc[:,\n",
    "                                          ~all_experiment_results_display_internal.columns.duplicated()]\n",
    "# rename the columns to be more descriptive (use the mapping)\n",
    "all_experiment_results_display_internal.columns = [MODEL_TO_DISPLAY_NAME_MAP[col] for col in\n",
    "                                                   all_experiment_results_display_internal.columns]\n",
    "# order the columns and put the baselines first\n",
    "all_experiment_results_display_internal = all_experiment_results_display_internal[\n",
    "    baselines_display_names + all_experiment_results_display_internal.columns.difference(\n",
    "        baselines_display_names).tolist()]"
   ],
   "metadata": {
    "collapsed": false,
    "ExecuteTime": {
     "end_time": "2024-06-05T15:43:51.940609Z",
     "start_time": "2024-06-05T15:43:51.937220Z"
    }
   },
   "id": "70e72fb36c78a1f6",
   "execution_count": 100
  },
  {
   "cell_type": "code",
   "outputs": [
    {
     "data": {
      "text/plain": "                        LSTM-AE          TS2Vec             MCL  \\\nACSF1            124.03 ± 27.44  164.21 ± 34.50   67.71 ± 12.97   \nAdiac           554.75 ± 330.38  106.76 ± 19.63   93.91 ± 10.38   \nArrowHead        119.86 ± 32.01    63.58 ± 9.14    33.99 ± 6.30   \nBME              182.64 ± 78.64  462.14 ± 80.76    24.75 ± 3.34   \nBeef           1212.85 ± 418.01    44.79 ± 6.51    25.39 ± 7.57   \n...                         ...             ...             ...   \nWine              55.94 ± 13.78    41.02 ± 2.10    18.71 ± 3.79   \nWordSynonyms     268.11 ± 61.29    25.24 ± 2.79    39.91 ± 3.81   \nWorms             394.48 ± 6.15    22.78 ± 3.42    18.97 ± 1.52   \nWormsTwoClass     268.58 ± 1.22    32.77 ± 4.34    23.65 ± 1.19   \nYoga           1429.04 ± 964.82  494.60 ± 50.15  331.77 ± 48.57   \n\n                       TimeNet LSTM-AE w/ TSRC (MCL) LSTM-AE w/ TSRC (TS2Vec)  \\\nACSF1           106.55 ± 23.43       418.45 ± 415.06           131.70 ± 10.39   \nAdiac          405.99 ± 136.36        109.51 ± 29.18          353.35 ± 104.14   \nArrowHead        70.94 ± 24.64         56.73 ± 20.18            89.98 ± 10.55   \nBME               64.21 ± 8.69         90.85 ± 30.39           378.58 ± 91.95   \nBeef           180.20 ± 140.03      1517.10 ± 851.21           962.64 ± 83.37   \n...                        ...                   ...                      ...   \nWine              33.06 ± 5.19       133.25 ± 192.82           111.66 ± 34.72   \nWordSynonyms     96.31 ± 21.44        162.49 ± 62.18           101.97 ± 15.82   \nWorms           103.10 ± 68.16      1252.17 ± 227.58          149.01 ± 118.86   \nWormsTwoClass     50.20 ± 6.23       404.59 ± 353.53           191.95 ± 86.71   \nYoga           973.13 ± 144.93      2286.78 ± 562.95           731.20 ± 83.56   \n\n              TimeNet w/ TSRC (TS2Vec)  \nACSF1                    87.32 ± 14.40  \nAdiac                   187.50 ± 17.43  \nArrowHead                67.50 ± 13.25  \nBME                     190.34 ± 66.11  \nBeef                     37.08 ± 16.03  \n...                                ...  \nWine                     48.29 ± 11.50  \nWordSynonyms              66.00 ± 5.62  \nWorms                     57.47 ± 3.43  \nWormsTwoClass             47.24 ± 4.81  \nYoga                   650.72 ± 101.61  \n\n[112 rows x 7 columns]",
      "text/html": "<div>\n<style scoped>\n    .dataframe tbody tr th:only-of-type {\n        vertical-align: middle;\n    }\n\n    .dataframe tbody tr th {\n        vertical-align: top;\n    }\n\n    .dataframe thead th {\n        text-align: right;\n    }\n</style>\n<table border=\"1\" class=\"dataframe\">\n  <thead>\n    <tr style=\"text-align: right;\">\n      <th></th>\n      <th>LSTM-AE</th>\n      <th>TS2Vec</th>\n      <th>MCL</th>\n      <th>TimeNet</th>\n      <th>LSTM-AE w/ TSRC (MCL)</th>\n      <th>LSTM-AE w/ TSRC (TS2Vec)</th>\n      <th>TimeNet w/ TSRC (TS2Vec)</th>\n    </tr>\n  </thead>\n  <tbody>\n    <tr>\n      <th>ACSF1</th>\n      <td>124.03 ± 27.44</td>\n      <td>164.21 ± 34.50</td>\n      <td>67.71 ± 12.97</td>\n      <td>106.55 ± 23.43</td>\n      <td>418.45 ± 415.06</td>\n      <td>131.70 ± 10.39</td>\n      <td>87.32 ± 14.40</td>\n    </tr>\n    <tr>\n      <th>Adiac</th>\n      <td>554.75 ± 330.38</td>\n      <td>106.76 ± 19.63</td>\n      <td>93.91 ± 10.38</td>\n      <td>405.99 ± 136.36</td>\n      <td>109.51 ± 29.18</td>\n      <td>353.35 ± 104.14</td>\n      <td>187.50 ± 17.43</td>\n    </tr>\n    <tr>\n      <th>ArrowHead</th>\n      <td>119.86 ± 32.01</td>\n      <td>63.58 ± 9.14</td>\n      <td>33.99 ± 6.30</td>\n      <td>70.94 ± 24.64</td>\n      <td>56.73 ± 20.18</td>\n      <td>89.98 ± 10.55</td>\n      <td>67.50 ± 13.25</td>\n    </tr>\n    <tr>\n      <th>BME</th>\n      <td>182.64 ± 78.64</td>\n      <td>462.14 ± 80.76</td>\n      <td>24.75 ± 3.34</td>\n      <td>64.21 ± 8.69</td>\n      <td>90.85 ± 30.39</td>\n      <td>378.58 ± 91.95</td>\n      <td>190.34 ± 66.11</td>\n    </tr>\n    <tr>\n      <th>Beef</th>\n      <td>1212.85 ± 418.01</td>\n      <td>44.79 ± 6.51</td>\n      <td>25.39 ± 7.57</td>\n      <td>180.20 ± 140.03</td>\n      <td>1517.10 ± 851.21</td>\n      <td>962.64 ± 83.37</td>\n      <td>37.08 ± 16.03</td>\n    </tr>\n    <tr>\n      <th>...</th>\n      <td>...</td>\n      <td>...</td>\n      <td>...</td>\n      <td>...</td>\n      <td>...</td>\n      <td>...</td>\n      <td>...</td>\n    </tr>\n    <tr>\n      <th>Wine</th>\n      <td>55.94 ± 13.78</td>\n      <td>41.02 ± 2.10</td>\n      <td>18.71 ± 3.79</td>\n      <td>33.06 ± 5.19</td>\n      <td>133.25 ± 192.82</td>\n      <td>111.66 ± 34.72</td>\n      <td>48.29 ± 11.50</td>\n    </tr>\n    <tr>\n      <th>WordSynonyms</th>\n      <td>268.11 ± 61.29</td>\n      <td>25.24 ± 2.79</td>\n      <td>39.91 ± 3.81</td>\n      <td>96.31 ± 21.44</td>\n      <td>162.49 ± 62.18</td>\n      <td>101.97 ± 15.82</td>\n      <td>66.00 ± 5.62</td>\n    </tr>\n    <tr>\n      <th>Worms</th>\n      <td>394.48 ± 6.15</td>\n      <td>22.78 ± 3.42</td>\n      <td>18.97 ± 1.52</td>\n      <td>103.10 ± 68.16</td>\n      <td>1252.17 ± 227.58</td>\n      <td>149.01 ± 118.86</td>\n      <td>57.47 ± 3.43</td>\n    </tr>\n    <tr>\n      <th>WormsTwoClass</th>\n      <td>268.58 ± 1.22</td>\n      <td>32.77 ± 4.34</td>\n      <td>23.65 ± 1.19</td>\n      <td>50.20 ± 6.23</td>\n      <td>404.59 ± 353.53</td>\n      <td>191.95 ± 86.71</td>\n      <td>47.24 ± 4.81</td>\n    </tr>\n    <tr>\n      <th>Yoga</th>\n      <td>1429.04 ± 964.82</td>\n      <td>494.60 ± 50.15</td>\n      <td>331.77 ± 48.57</td>\n      <td>973.13 ± 144.93</td>\n      <td>2286.78 ± 562.95</td>\n      <td>731.20 ± 83.56</td>\n      <td>650.72 ± 101.61</td>\n    </tr>\n  </tbody>\n</table>\n<p>112 rows × 7 columns</p>\n</div>"
     },
     "execution_count": 101,
     "metadata": {},
     "output_type": "execute_result"
    }
   ],
   "source": [
    "all_experiment_results_display_internal"
   ],
   "metadata": {
    "collapsed": false,
    "ExecuteTime": {
     "end_time": "2024-06-05T15:43:51.945698Z",
     "start_time": "2024-06-05T15:43:51.941378Z"
    }
   },
   "id": "9edc6df3c1089734",
   "execution_count": 101
  },
  {
   "cell_type": "code",
   "outputs": [],
   "source": [
    "# save as latex\n",
    "save_df_as_latex(all_experiment_results_display_internal, 'all_experiments_results_internal')"
   ],
   "metadata": {
    "collapsed": false,
    "ExecuteTime": {
     "end_time": "2024-06-05T15:43:51.991041Z",
     "start_time": "2024-06-05T15:43:51.946325Z"
    }
   },
   "id": "90de89473ec00351",
   "execution_count": 102
  },
  {
   "cell_type": "code",
   "outputs": [
    {
     "name": "stdout",
     "output_type": "stream",
     "text": [
      "Statistics=2594.6520762467094, p=0.0\n",
      "Significant differences found. Proceeding to CD analysis.\n",
      "Number of datasets: 560\n",
      "Number of algorithms: 7\n",
      "Critical difference: 0.38062647530967497\n",
      "\n",
      "Algorithm Name                 Rank\n",
      "-------------------------------------\n",
      "LSTM-AE w/ TSRC (TS2Vec)       1.64\n",
      "LSTM-AE w/ TSRC (MCL)          2.06\n",
      "TimeNet w/ TSRC (TS2Vec)       2.30\n",
      "TS2Vec                         5.20\n",
      "TimeNet                        5.33\n",
      "MCL                            5.61\n",
      "LSTM-AE                        5.86\n"
     ]
    },
    {
     "data": {
      "text/plain": "<Figure size 600x215 with 1 Axes>",
      "image/png": "[encoded data removed]"
     },
     "metadata": {},
     "output_type": "display_data"
    }
   ],
   "source": [
    "all_experiments_display_names = [MODEL_TO_DISPLAY_NAME_MAP[col] for col in all_experiments_results_mul_internal.columns]\n",
    "\n",
    "do_cd_analysis_multiple(all_experiments_results_mul_internal, all_experiments_results_mul_internal.columns,\n",
    "                        all_experiments_display_names)\n",
    "\n",
    "# save the figure as eps\n",
    "plt.savefig(PLOTS_OUTPUT_DIR / 'all_experiments_cd_internal.eps', format='eps', bbox_inches='tight', dpi=300)\n",
    "\n",
    "# save the figure as png\n",
    "plt.savefig(PLOTS_OUTPUT_DIR / 'all_experiments_cd_internal.png', format='png', bbox_inches='tight', dpi=300)"
   ],
   "metadata": {
    "collapsed": false,
    "ExecuteTime": {
     "end_time": "2024-06-05T15:43:52.169648Z",
     "start_time": "2024-06-05T15:43:51.991697Z"
    }
   },
   "id": "b7e07a02abaec26c",
   "execution_count": 103
  },
  {
   "cell_type": "code",
   "outputs": [
    {
     "data": {
      "text/plain": "({'TimeNet_w_TSRC_TS2Vec': 56.84803001876173,\n  'LSTM_AE_w_TSRC_TS2Vec': 72.01365187713311,\n  'LSTM_AE_w_TSRC_MCL': 64.84641638225256},\n 64.5693660927158)"
     },
     "execution_count": 104,
     "metadata": {},
     "output_type": "execute_result"
    }
   ],
   "source": [
    "# Calculating improvements:\n",
    "\n",
    "ranks_original = {\n",
    "    \"LSTM_AE_w_TSRC_TS2Vec\": 1.64,\n",
    "    \"LSTM_AE_w_TSRC_MCL\": 2.06,\n",
    "    \"TimeNet_w_TSRC_TS2Vec\": 2.30,\n",
    "    \"TS2Vec\": 5.20,\n",
    "    \"TimeNet\": 5.33,\n",
    "    \"MCL\": 5.61,\n",
    "    \"LSTM_AE\": 5.86\n",
    "}\n",
    "improvements = {\n",
    "    \"TimeNet_w_TSRC_TS2Vec\": ((ranks_original[\"TimeNet\"] - ranks_original[\"TimeNet_w_TSRC_TS2Vec\"]) / ranks_original[\n",
    "        \"TimeNet\"]) * 100,\n",
    "    \"LSTM_AE_w_TSRC_TS2Vec\": ((ranks_original[\"LSTM_AE\"] - ranks_original[\"LSTM_AE_w_TSRC_TS2Vec\"]) / ranks_original[\n",
    "        \"LSTM_AE\"]) * 100,\n",
    "    \"LSTM_AE_w_TSRC_MCL\": ((ranks_original[\"LSTM_AE\"] - ranks_original[\"LSTM_AE_w_TSRC_MCL\"]) / ranks_original[\n",
    "        \"LSTM_AE\"]) * 100,\n",
    "}\n",
    "\n",
    "# Calculate the mean of the improvements:\n",
    "mean_improvement = sum(improvements.values()) / len(improvements)\n",
    "improvements, mean_improvement"
   ],
   "metadata": {
    "collapsed": false,
    "ExecuteTime": {
     "end_time": "2024-06-05T15:43:52.173811Z",
     "start_time": "2024-06-05T15:43:52.170392Z"
    }
   },
   "id": "caf934ff464e6625",
   "execution_count": 104
  }
 ],
 "metadata": {
  "kernelspec": {
   "display_name": "Python 3",
   "language": "python",
   "name": "python3"
  },
  "language_info": {
   "codemirror_mode": {
    "name": "ipython",
    "version": 2
   },
   "file_extension": ".py",
   "mimetype": "text/x-python",
   "name": "python",
   "nbconvert_exporter": "python",
   "pygments_lexer": "ipython2",
   "version": "2.7.6"
  }
 },
 "nbformat": 4,
 "nbformat_minor": 5
}
