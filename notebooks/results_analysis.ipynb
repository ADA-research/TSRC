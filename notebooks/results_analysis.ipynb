{
 "cells": [
  {
   "cell_type": "markdown",
   "source": [
    "# Section I: Preparation"
   ],
   "metadata": {
    "collapsed": false
   },
   "id": "3ca62fa9899e089a"
  },
  {
   "cell_type": "markdown",
   "source": [
    "# 1. Imports & Constants"
   ],
   "metadata": {
    "collapsed": false
   },
   "id": "212b6191e15c61ea"
  },
  {
   "cell_type": "code",
   "source": [
    "import math\n",
    "from pathlib import Path\n",
    "\n",
    "import matplotlib.pyplot as plt\n",
    "import numpy as np\n",
    "import pandas as pd\n",
    "import scipy.stats as stats\n",
    "from IPython.display import display, Markdown"
   ],
   "metadata": {
    "collapsed": false,
    "ExecuteTime": {
     "end_time": "2025-04-07T09:18:32.583748Z",
     "start_time": "2025-04-07T09:18:32.582109Z"
    }
   },
   "id": "initial_id",
   "outputs": [],
   "execution_count": 1
  },
  {
   "cell_type": "code",
   "source": [
    "# Constants\n",
    "CLUSTERING_METRICS = ['ari', 'chs']"
   ],
   "metadata": {
    "collapsed": false,
    "ExecuteTime": {
     "end_time": "2025-04-07T09:18:32.588291Z",
     "start_time": "2025-04-07T09:18:32.586721Z"
    }
   },
   "id": "9bb1d3d21fede209",
   "outputs": [],
   "execution_count": 2
  },
  {
   "cell_type": "code",
   "source": [
    "# constants\n",
    "CLUSTERING_METRIC_TO_CONSIDER_EXTERNAL = 'ari'\n",
    "CLUSTERING_METRIC_TO_CONSIDER_INTERNAL = 'chs'"
   ],
   "metadata": {
    "collapsed": false,
    "ExecuteTime": {
     "end_time": "2025-04-07T09:18:32.670695Z",
     "start_time": "2025-04-07T09:18:32.664665Z"
    }
   },
   "id": "b2608efe0e7cbb3",
   "outputs": [],
   "execution_count": 3
  },
  {
   "cell_type": "code",
   "source": [
    "DATASETS_TO_SKIP = []  # put any datasets to skip here"
   ],
   "metadata": {
    "collapsed": false,
    "ExecuteTime": {
     "end_time": "2025-04-07T09:18:32.682328Z",
     "start_time": "2025-04-07T09:18:32.680168Z"
    }
   },
   "id": "14ec753f5e7d47e0",
   "outputs": [],
   "execution_count": 4
  },
  {
   "cell_type": "code",
   "source": [
    "MODEL_TO_DISPLAY_NAME_MAP = {\n",
    "    'lstm-auto-encoder - encoder': 'LSTM-AE',\n",
    "    'ts2vec - ts2vec': 'TS2Vec',\n",
    "    'mcl - mcl': 'MCL',\n",
    "    'timenet - timenet': 'TimeNet',\n",
    "    'tsrc-mcl-lstmae - student-model-encoder': 'LSTM-AE w/ TSRC (MCL)',\n",
    "    'tsrc-ts2vec-lstmae - student-model-encoder': 'LSTM-AE w/ TSRC (TS2Vec)',\n",
    "    'tsrc-ts2vec-timenet - student-model-encoder': 'TimeNet w/ TSRC (TS2Vec)',\n",
    "    'raw': 'Raw Data',\n",
    "}"
   ],
   "metadata": {
    "collapsed": false,
    "ExecuteTime": {
     "end_time": "2025-04-07T09:18:32.691480Z",
     "start_time": "2025-04-07T09:18:32.689679Z"
    }
   },
   "id": "921b5201922d283c",
   "outputs": [],
   "execution_count": 5
  },
  {
   "cell_type": "code",
   "source": [
    "EXPERIMENTS_MAIN_OUTPUTS_DIR = Path('../experiments_outputs_2/')\n",
    "CLUSTERING_MAIN_RESULTS_DIR = EXPERIMENTS_MAIN_OUTPUTS_DIR / 'clustering' / 'positioning'"
   ],
   "metadata": {
    "collapsed": false,
    "ExecuteTime": {
     "end_time": "2025-04-07T09:18:32.696922Z",
     "start_time": "2025-04-07T09:18:32.695281Z"
    }
   },
   "id": "309a9398f267499e",
   "outputs": [],
   "execution_count": 6
  },
  {
   "cell_type": "code",
   "source": [
    "# Make a directory for storing the plots\n",
    "PLOTS_OUTPUT_DIR = Path('./analysis_output')\n",
    "PLOTS_OUTPUT_DIR.mkdir(parents=True, exist_ok=True)"
   ],
   "metadata": {
    "collapsed": false,
    "ExecuteTime": {
     "end_time": "2025-04-07T09:18:32.706101Z",
     "start_time": "2025-04-07T09:18:32.704367Z"
    }
   },
   "id": "e880403b69929529",
   "outputs": [],
   "execution_count": 7
  },
  {
   "cell_type": "markdown",
   "source": [
    "# 2. Functions"
   ],
   "metadata": {
    "collapsed": false
   },
   "id": "b44efd4b6c1aaf57"
  },
  {
   "cell_type": "markdown",
   "source": [
    "## 2.1. Plotting Functions"
   ],
   "metadata": {
    "collapsed": false
   },
   "id": "f928f00f6dc26ac5"
  },
  {
   "cell_type": "code",
   "source": [
    "# This function is taken from Orange3 v.3.29.3 source code under GNU [GPL-3.0] license\n",
    "\n",
    "def compute_CD(avranks, num_datasets, alpha=\"0.05\", test=\"nemenyi\"):\n",
    "    \"\"\"\n",
    "    Computes the Critical Difference for Nemenyi test.\n",
    "    \"\"\"\n",
    "    k = len(avranks)\n",
    "    print(f\"Number of datasets: {num_datasets}\")\n",
    "    print(f\"Number of algorithms: {k}\")\n",
    "    d = {(\"nemenyi\", \"0.05\"): [0, 0, 1.959964, 2.343701, 2.569032, 2.727774,\n",
    "                               2.849705, 2.94832, 3.030879, 3.101730, 3.163684,\n",
    "                               3.218654, 3.268004, 3.312739, 3.353618, 3.39123,\n",
    "                               3.426041, 3.458425, 3.488685, 3.517073,\n",
    "                               3.543799],\n",
    "         (\"nemenyi\", \"0.1\"): [0, 0, 1.644854, 2.052293, 2.291341, 2.459516,\n",
    "                              2.588521, 2.692732, 2.779884, 2.854606, 2.919889,\n",
    "                              2.977768, 3.029694, 3.076733, 3.119693, 3.159199,\n",
    "                              3.195743, 3.229723, 3.261461, 3.291224, 3.319233],\n",
    "         (\"bonferroni-dunn\", \"0.05\"): [0, 0, 1.960, 2.241, 2.394, 2.498, 2.576,\n",
    "                                       2.638, 2.690, 2.724, 2.773],\n",
    "         (\"bonferroni-dunn\", \"0.1\"): [0, 0, 1.645, 1.960, 2.128, 2.241, 2.326,\n",
    "                                      2.394, 2.450, 2.498, 2.539]}\n",
    "    q = d[(test, alpha)]\n",
    "    cd = q[k] * (k * (k + 1) / (6.0 * num_datasets)) ** 0.5\n",
    "    return cd"
   ],
   "metadata": {
    "collapsed": false,
    "ExecuteTime": {
     "end_time": "2025-04-07T09:18:32.716380Z",
     "start_time": "2025-04-07T09:18:32.713345Z"
    }
   },
   "id": "e3d9e6b2b898f346",
   "outputs": [],
   "execution_count": 8
  },
  {
   "cell_type": "code",
   "source": [
    "# This function is taken from Orange3 v.3.29.3 source code under GNU [GPL-3.0] license\n",
    "\n",
    "def graph_ranks(avranks, names, cd=None, cdmethod=None, lowv=None, highv=None,\n",
    "                width=6, textspace=1, reverse=False, filename=None, **kwargs):\n",
    "    \"\"\"\n",
    "    Draws a CD graph, which is used to display  the differences in methods'\n",
    "    performance. See Janez Demsar, Statistical Comparisons of Classifiers over\n",
    "    Multiple Data Sets, 7(Jan):1--30, 2006.\n",
    "\n",
    "    Needs matplotlib to work.\n",
    "\n",
    "    The image is ploted on `plt` imported using\n",
    "    `import matplotlib.pyplot as plt`.\n",
    "\n",
    "    Args:\n",
    "        avranks (list of float): average ranks of methods.\n",
    "        names (list of str): names of methods.\n",
    "        cd (float): Critical difference used for statistically significance of\n",
    "            difference between methods.\n",
    "        cdmethod (int, optional): the method that is compared with other methods\n",
    "            If omitted, show pairwise comparison of methods\n",
    "        lowv (int, optional): the lowest shown rank\n",
    "        highv (int, optional): the highest shown rank\n",
    "        width (int, optional): default width in inches (default: 6)\n",
    "        textspace (int, optional): space on figure sides (in inches) for the\n",
    "            method names (default: 1)\n",
    "        reverse (bool, optional):  if set to `True`, the lowest rank is on the\n",
    "            right (default: `False`)\n",
    "        filename (str, optional): output file name (with extension). If not\n",
    "            given, the function does not write a file.\n",
    "    \"\"\"\n",
    "    try:\n",
    "        import matplotlib.pyplot as plt\n",
    "        from matplotlib.backends.backend_agg import FigureCanvasAgg\n",
    "    except ImportError:\n",
    "        raise ImportError(\"Function graph_ranks requires matplotlib.\")\n",
    "\n",
    "    width = float(width)\n",
    "    textspace = float(textspace)\n",
    "\n",
    "    def nth(l, n):\n",
    "        \"\"\"\n",
    "        Returns only nth elemnt in a list.\n",
    "        \"\"\"\n",
    "        n = lloc(l, n)\n",
    "        return [a[n] for a in l]\n",
    "\n",
    "    def lloc(l, n):\n",
    "        \"\"\"\n",
    "        List location in list of list structure.\n",
    "        Enable the use of negative locations:\n",
    "        -1 is the last element, -2 second last...\n",
    "        \"\"\"\n",
    "        if n < 0:\n",
    "            return len(l[0]) + n\n",
    "        else:\n",
    "            return n\n",
    "\n",
    "    def mxrange(lr):\n",
    "        \"\"\"\n",
    "        Multiple xranges. Can be used to traverse matrices.\n",
    "        This function is very slow due to unknown number of\n",
    "        parameters.\n",
    "\n",
    "        >>> mxrange([3,5])\n",
    "        [(0, 0), (0, 1), (0, 2), (1, 0), (1, 1), (1, 2)]\n",
    "\n",
    "        >>> mxrange([[3,5,1],[9,0,-3]])\n",
    "        [(3, 9), (3, 6), (3, 3), (4, 9), (4, 6), (4, 3)]\n",
    "\n",
    "        \"\"\"\n",
    "        if not len(lr):\n",
    "            yield ()\n",
    "        else:\n",
    "            # it can work with single numbers\n",
    "            index = lr[0]\n",
    "            if isinstance(index, int):\n",
    "                index = [index]\n",
    "            for a in range(*index):\n",
    "                for b in mxrange(lr[1:]):\n",
    "                    yield tuple([a] + list(b))\n",
    "\n",
    "    def print_figure(fig, *args, **kwargs):\n",
    "        canvas = FigureCanvasAgg(fig)\n",
    "        canvas.print_figure(*args, **kwargs)\n",
    "\n",
    "    sums = avranks\n",
    "\n",
    "    tempsort = sorted([(a, i) for i, a in enumerate(sums)], reverse=reverse)\n",
    "    ssums = nth(tempsort, 0)\n",
    "    sortidx = nth(tempsort, 1)\n",
    "    nnames = [names[x] for x in sortidx]\n",
    "\n",
    "    if lowv is None:\n",
    "        lowv = min(1, int(math.floor(min(ssums))))\n",
    "    if highv is None:\n",
    "        highv = max(len(avranks), int(math.ceil(max(ssums))))\n",
    "\n",
    "    cline = 0.4\n",
    "\n",
    "    k = len(sums)\n",
    "\n",
    "    lines = None\n",
    "\n",
    "    linesblank = 0\n",
    "    scalewidth = width - 2 * textspace\n",
    "\n",
    "    def rankpos(rank):\n",
    "        if not reverse:\n",
    "            a = rank - lowv\n",
    "        else:\n",
    "            a = highv - rank\n",
    "        return textspace + scalewidth / (highv - lowv) * a\n",
    "\n",
    "    distanceh = 0.25\n",
    "\n",
    "    if cd and cdmethod is None:\n",
    "        # get pairs of non significant methods\n",
    "\n",
    "        def get_lines(sums, hsd):\n",
    "            # get all pairs\n",
    "            lsums = len(sums)\n",
    "            allpairs = [(i, j) for i, j in mxrange([[lsums], [lsums]]) if j > i]\n",
    "            # remove not significant\n",
    "            notSig = [(i, j) for i, j in allpairs\n",
    "                      if abs(sums[i] - sums[j]) <= hsd]\n",
    "\n",
    "            # keep only longest\n",
    "\n",
    "            def no_longer(ij_tuple, notSig):\n",
    "                i, j = ij_tuple\n",
    "                for i1, j1 in notSig:\n",
    "                    if (i1 <= i and j1 > j) or (i1 < i and j1 >= j):\n",
    "                        return False\n",
    "                return True\n",
    "\n",
    "            longest = [(i, j) for i, j in notSig if no_longer((i, j), notSig)]\n",
    "\n",
    "            return longest\n",
    "\n",
    "        lines = get_lines(ssums, cd)\n",
    "        linesblank = 0.2 + 0.2 + (len(lines) - 1) * 0.1\n",
    "\n",
    "        # add scale\n",
    "        distanceh = 0.25\n",
    "        cline += distanceh\n",
    "\n",
    "    # calculate height needed height of an image\n",
    "    minnotsignificant = max(2 * 0.2, linesblank)\n",
    "    height = cline + ((k + 1) / 2) * 0.2 + minnotsignificant\n",
    "\n",
    "    fig = plt.figure(figsize=(width, height))\n",
    "    fig.set_facecolor('white')\n",
    "    ax = fig.add_axes([0, 0, 1, 1])  # reverse y axis\n",
    "    ax.set_axis_off()\n",
    "\n",
    "    hf = 1. / height  # height factor\n",
    "    wf = 1. / width\n",
    "\n",
    "    def hfl(l):\n",
    "        return [a * hf for a in l]\n",
    "\n",
    "    def wfl(l):\n",
    "        return [a * wf for a in l]\n",
    "\n",
    "    # Upper left corner is (0,0).\n",
    "    ax.plot([0, 1], [0, 1], c=\"w\")\n",
    "    ax.set_xlim(0, 1)\n",
    "    ax.set_ylim(1, 0)\n",
    "\n",
    "    def line(l, color='k', **kwargs):\n",
    "        \"\"\"\n",
    "        Input is a list of pairs of points.\n",
    "        \"\"\"\n",
    "        ax.plot(wfl(nth(l, 0)), hfl(nth(l, 1)), color=color, **kwargs)\n",
    "\n",
    "    def text(x, y, s, *args, **kwargs):\n",
    "        ax.text(wf * x, hf * y, s, *args, **kwargs)\n",
    "\n",
    "    line([(textspace, cline), (width - textspace, cline)], linewidth=0.7)\n",
    "\n",
    "    bigtick = 0.1\n",
    "    smalltick = 0.05\n",
    "\n",
    "    tick = None\n",
    "    for a in list(np.arange(lowv, highv, 0.5)) + [highv]:\n",
    "        tick = smalltick\n",
    "        if a == int(a):\n",
    "            tick = bigtick\n",
    "        line([(rankpos(a), cline - tick / 2),\n",
    "              (rankpos(a), cline)],\n",
    "             linewidth=0.7)\n",
    "\n",
    "    for a in range(lowv, highv + 1):\n",
    "        text(rankpos(a), cline - tick / 2 - 0.05, str(a),\n",
    "             ha=\"center\", va=\"bottom\")\n",
    "\n",
    "    k = len(ssums)\n",
    "\n",
    "    for i in range(math.ceil(k / 2)):\n",
    "        chei = cline + minnotsignificant + i * 0.2\n",
    "        line([(rankpos(ssums[i]), cline),\n",
    "              (rankpos(ssums[i]), chei),\n",
    "              (textspace - 0.1, chei)],\n",
    "             linewidth=0.7)\n",
    "        text(textspace - 0.2, chei, nnames[i], ha=\"right\", va=\"center\")\n",
    "\n",
    "    for i in range(math.ceil(k / 2), k):\n",
    "        chei = cline + minnotsignificant + (k - i - 1) * 0.2\n",
    "        line([(rankpos(ssums[i]), cline),\n",
    "              (rankpos(ssums[i]), chei),\n",
    "              (textspace + scalewidth + 0.1, chei)],\n",
    "             linewidth=0.7)\n",
    "        text(textspace + scalewidth + 0.2, chei, nnames[i],\n",
    "             ha=\"left\", va=\"center\")\n",
    "\n",
    "    if cd and cdmethod is None:\n",
    "        # upper scale\n",
    "        if not reverse:\n",
    "            begin, end = rankpos(lowv), rankpos(lowv + cd)\n",
    "        else:\n",
    "            begin, end = rankpos(highv), rankpos(highv - cd)\n",
    "\n",
    "        line([(begin, distanceh), (end, distanceh)], linewidth=0.7)\n",
    "        line([(begin, distanceh + bigtick / 2),\n",
    "              (begin, distanceh - bigtick / 2)],\n",
    "             linewidth=0.7)\n",
    "        line([(end, distanceh + bigtick / 2),\n",
    "              (end, distanceh - bigtick / 2)],\n",
    "             linewidth=0.7)\n",
    "        text((begin + end) / 2, distanceh - 0.05, \"CD\",\n",
    "             ha=\"center\", va=\"bottom\")\n",
    "\n",
    "        # no-significance lines\n",
    "        def draw_lines(lines, side=0.05, height=0.1):\n",
    "            start = cline + 0.2\n",
    "            for l, r in lines:\n",
    "                line([(rankpos(ssums[l]) - side, start),\n",
    "                      (rankpos(ssums[r]) + side, start)],\n",
    "                     linewidth=2.5)\n",
    "                start += height\n",
    "\n",
    "        draw_lines(lines)\n",
    "\n",
    "    elif cd:\n",
    "        begin = rankpos(avranks[cdmethod] - cd)\n",
    "        end = rankpos(avranks[cdmethod] + cd)\n",
    "        line([(begin, cline), (end, cline)],\n",
    "             linewidth=2.5)\n",
    "        line([(begin, cline + bigtick / 2),\n",
    "              (begin, cline - bigtick / 2)],\n",
    "             linewidth=2.5)\n",
    "        line([(end, cline + bigtick / 2),\n",
    "              (end, cline - bigtick / 2)],\n",
    "             linewidth=2.5)\n",
    "\n",
    "    if filename:\n",
    "        print_figure(fig, filename, **kwargs)"
   ],
   "metadata": {
    "collapsed": false,
    "ExecuteTime": {
     "end_time": "2025-04-07T09:18:32.738432Z",
     "start_time": "2025-04-07T09:18:32.724978Z"
    }
   },
   "id": "7ca4185550d43d5f",
   "outputs": [],
   "execution_count": 9
  },
  {
   "cell_type": "markdown",
   "source": [
    "## 2.2. Statistical Tests Functions"
   ],
   "metadata": {
    "collapsed": false
   },
   "id": "aa79bddd6e5f89f"
  },
  {
   "cell_type": "code",
   "source": [
    "def perform_cd_analysis_multiple(means, algorithm_names, alpha=\"0.05\"):\n",
    "    \"\"\"\n",
    "    Perform Critical Difference Analysis with multiple runs.\n",
    "    means is a 3D array: datasets x runs x algorithms\n",
    "    \"\"\"\n",
    "    # Flatten runs and datasets into one dimension while keeping algorithms separate\n",
    "    reshaped_means = means.reshape(-1, means.shape[2]).T\n",
    "    ranks = np.array([stats.rankdata(-m) for m in reshaped_means.T])\n",
    "    avg_ranks = np.mean(ranks, axis=0)\n",
    "    stat, p_value = stats.friedmanchisquare(*reshaped_means)\n",
    "\n",
    "    print(f\"Statistics={stat}, p={p_value}\")\n",
    "\n",
    "    if p_value < 0.05:\n",
    "        print(\"Significant differences found. Proceeding to CD analysis.\")\n",
    "        cd = compute_CD(avg_ranks, reshaped_means.shape[1], alpha)\n",
    "        print(f\"Critical difference: {cd}\")\n",
    "        # Print ranking of each algorithm\n",
    "        sorted_indexes = np.argsort(avg_ranks)\n",
    "        print(\"\\nAlgorithm Name                 Rank\")\n",
    "        print(\"-------------------------------------\")\n",
    "        for i in sorted_indexes:\n",
    "            print(f\"{algorithm_names[i]:30s} {avg_ranks[i]:.2f}\")\n",
    "        graph_ranks(avranks=avg_ranks, names=algorithm_names, cd=cd, reverse=True, filename=None)\n",
    "    else:\n",
    "        print(\"No significant differences found.\")\n"
   ],
   "metadata": {
    "collapsed": false,
    "ExecuteTime": {
     "end_time": "2025-04-07T09:18:32.743703Z",
     "start_time": "2025-04-07T09:18:32.740963Z"
    }
   },
   "id": "77ffb08f21672d0e",
   "outputs": [],
   "execution_count": 10
  },
  {
   "cell_type": "code",
   "source": [
    "def do_cd_analysis_multiple(results_table, algorithms_names, algorithms_display_name):\n",
    "    \"\"\"\n",
    "    Perform Critical Difference Analysis with multiple runs data.\n",
    "    \n",
    "    Arguments:\n",
    "    results_table: DataFrame where each cell contains a list of performance data.\n",
    "    algorithms_names: List of column names in results_table that correspond to different algorithms.\n",
    "    algorithms_display_name: List of names for displaying the results.\n",
    "    \"\"\"\n",
    "    # Gather all dataset names (index of the DataFrame)\n",
    "    datasets = results_table.index.tolist()\n",
    "\n",
    "    # Determine the number of runs (assuming uniform across all cells)\n",
    "    number_of_runs = len(results_table.iloc[0, 0])\n",
    "\n",
    "    # Preparing the 3D array: datasets x runs x algorithms\n",
    "    data = np.empty((len(datasets), number_of_runs, len(algorithms_names)))\n",
    "\n",
    "    for i, algorithm in enumerate(algorithms_names):\n",
    "        for j, dataset in enumerate(datasets):\n",
    "            data[j, :, i] = results_table.at[dataset, algorithm]\n",
    "\n",
    "    # Pass the prepared data to the analysis function\n",
    "    perform_cd_analysis_multiple(data, algorithms_display_name)\n"
   ],
   "metadata": {
    "collapsed": false,
    "ExecuteTime": {
     "end_time": "2025-04-07T09:18:32.750284Z",
     "start_time": "2025-04-07T09:18:32.747962Z"
    }
   },
   "id": "33ddc97225d5d66",
   "outputs": [],
   "execution_count": 11
  },
  {
   "metadata": {
    "ExecuteTime": {
     "end_time": "2025-04-07T09:18:32.757409Z",
     "start_time": "2025-04-07T09:18:32.754392Z"
    }
   },
   "cell_type": "code",
   "source": [
    "# Function to perform Wilcoxon signed-rank test\n",
    "def perform_wilcoxon_test(performance_data, algorithm_names, alpha=0.05):\n",
    "    \"\"\"\n",
    "    Perform Wilcoxon signed-rank test with mean performances.\n",
    "    \"\"\"\n",
    "\n",
    "    if performance_data.shape[0] != 2 or len(algorithm_names) != 2:\n",
    "        raise ValueError(\"There must be exactly two algorithms for comparison.\")\n",
    "\n",
    "    # Perform the Wilcoxon signed-rank test\n",
    "    res = stats.wilcoxon(performance_data[0], performance_data[1])\n",
    "\n",
    "    # Output the results\n",
    "    print(f\"Wilcoxon signed-rank test statistic: {res.statistic}\")\n",
    "    print(f\"P-value: {res.pvalue}\")\n",
    "\n",
    "    # Determine which algorithm is better\n",
    "    better_algorithm = algorithm_names[0] if np.mean(performance_data[0]) > np.mean(performance_data[1]) else \\\n",
    "        algorithm_names[1]\n",
    "\n",
    "    if res.pvalue < alpha:\n",
    "        print(\n",
    "            f\"There is a statistically significant difference between the two algorithms. {better_algorithm} performs better.\")\n",
    "    else:\n",
    "        print(\"There is no statistically significant difference between the two algorithms' performance.\")"
   ],
   "id": "c82154f0e647a04a",
   "outputs": [],
   "execution_count": 12
  },
  {
   "metadata": {
    "ExecuteTime": {
     "end_time": "2025-04-07T09:18:32.768470Z",
     "start_time": "2025-04-07T09:18:32.766232Z"
    }
   },
   "cell_type": "code",
   "source": [
    "def do_wilcoxon_test_multiple(metric_results_table, algorithms_names):\n",
    "    \"\"\"\n",
    "    Perform Wilcoxon signed-rank test with multiple runs data.\n",
    "\n",
    "    Arguments:\n",
    "    metric_results_table: DataFrame where each cell contains a list of performance data.\n",
    "    algorithms_names: List of two algorithm names for comparison.\n",
    "    \"\"\"\n",
    "    if len(algorithms_names) != 2:\n",
    "        raise ValueError(\"There must be exactly two algorithms for the Wilcoxon test.\")\n",
    "\n",
    "    # Extract performance data for both algorithms\n",
    "    data1 = np.array(metric_results_table[algorithms_names[0]].tolist())\n",
    "    data2 = np.array(metric_results_table[algorithms_names[1]].tolist())\n",
    "\n",
    "    # Flatten data from multiple runs\n",
    "    data1_flattened = data1.flatten()\n",
    "    data2_flattened = data2.flatten()\n",
    "\n",
    "    # Call the perform_wilcoxon_test function\n",
    "    perform_wilcoxon_test(np.array([data1_flattened, data2_flattened]), algorithms_names)\n"
   ],
   "id": "418a200a6503375c",
   "outputs": [],
   "execution_count": 13
  },
  {
   "cell_type": "markdown",
   "source": [
    "## 2.3. Utils Functions"
   ],
   "metadata": {
    "collapsed": false
   },
   "id": "6d26ea956d90adfa"
  },
  {
   "cell_type": "code",
   "source": [
    "def save_df_as_latex(df, filename, output_dir_path: Path = PLOTS_OUTPUT_DIR):\n",
    "    \"\"\"\n",
    "    Save a DataFrame as a LaTeX table in a file.\n",
    "    \"\"\"\n",
    "    df_copy = df.fillna('')  # Fill NaN values with empty strings\n",
    "\n",
    "    full_file_path = output_dir_path / f'{filename}.tex'\n",
    "    with open(full_file_path, 'w') as f:\n",
    "        f.write(df_copy.style.to_latex(hrules=True, multicol_align='c', multirow_align='c'))"
   ],
   "metadata": {
    "collapsed": false,
    "ExecuteTime": {
     "end_time": "2025-04-07T09:18:32.778440Z",
     "start_time": "2025-04-07T09:18:32.776512Z"
    }
   },
   "id": "ce158f35851601ca",
   "outputs": [],
   "execution_count": 14
  },
  {
   "cell_type": "markdown",
   "source": [
    "## 2.4. Data Processing Functions"
   ],
   "metadata": {
    "collapsed": false
   },
   "id": "b0c0e68d96033a44"
  },
  {
   "metadata": {
    "ExecuteTime": {
     "end_time": "2025-04-07T09:18:32.786077Z",
     "start_time": "2025-04-07T09:18:32.783021Z"
    }
   },
   "cell_type": "code",
   "source": [
    "def process_df_raw_data_results(datasets_to_skip, metric_to_keep):\n",
    "\n",
    "    df_results_all = pd.DataFrame()\n",
    "    base_results_dir = CLUSTERING_MAIN_RESULTS_DIR / 'raw'\n",
    "\n",
    "    # Collect results from each seed\n",
    "    for seed_number in [1, 3, 5, 7, 9]:\n",
    "        results_file = base_results_dir / f'raw_pos_clustering_results_seed_{seed_number}.csv'\n",
    "        if results_file.exists():\n",
    "            df_seed = pd.read_csv(results_file)\n",
    "            # Filter and keep only needed columns\n",
    "            df_seed = df_seed[['dataset_name', metric_to_keep]].copy()\n",
    "            # Add to overall results\n",
    "            df_results_all = pd.concat([df_results_all, df_seed], ignore_index=True)\n",
    "\n",
    "    # Process the combined results\n",
    "    if df_results_all.empty:\n",
    "        raise FileNotFoundError(\"No raw data clustering result files found\")\n",
    "\n",
    "    # Group by dataset_name to get lists of metric values\n",
    "    df_grouped = df_results_all.groupby('dataset_name')[metric_to_keep].apply(list).reset_index()\n",
    "\n",
    "    # Filter out datasets to skip\n",
    "    df_filtered = df_grouped[~df_grouped['dataset_name'].isin(datasets_to_skip)].copy()\n",
    "\n",
    "    # Set index and rename column\n",
    "    df_filtered.set_index('dataset_name', inplace=True, drop=True)\n",
    "    df_filtered.rename(columns={metric_to_keep: 'raw'}, inplace=True)\n",
    "\n",
    "    # Create a copy for mean ± std format\n",
    "    df_filtered_mean_std = df_filtered.copy()\n",
    "    df_filtered_mean_std['raw'] = df_filtered_mean_std['raw'].apply(lambda x: f\"{np.mean(x):.2f} ± {np.std(x):.2f}\")\n",
    "\n",
    "    return df_filtered, df_filtered_mean_std"
   ],
   "id": "751d2f86aedf66f9",
   "outputs": [],
   "execution_count": 15
  },
  {
   "metadata": {
    "collapsed": false,
    "ExecuteTime": {
     "end_time": "2025-04-07T09:18:32.795456Z",
     "start_time": "2025-04-07T09:18:32.793553Z"
    }
   },
   "cell_type": "code",
   "source": [
    "def process_df_representations_results(df_results, datasets_to_skip):\n",
    "    df_filtered = df_results[~df_results['dataset_name'].isin(datasets_to_skip)].copy()\n",
    "    df_filtered['model_encoder_pair'] = df_filtered['model_name'] + \" - \" + df_filtered['encoder_name']\n",
    "    return df_filtered"
   ],
   "id": "2a2b4d99b0655d66",
   "outputs": [],
   "execution_count": 16
  },
  {
   "metadata": {
    "collapsed": false,
    "ExecuteTime": {
     "end_time": "2025-04-07T09:18:32.807799Z",
     "start_time": "2025-04-07T09:18:32.803311Z"
    }
   },
   "cell_type": "code",
   "source": [
    "def compute_metrics_across_runs_representations(list_df_data,\n",
    "                                                encoders_list,\n",
    "                                                metrics,\n",
    "                                                aggregate=True,\n",
    "                                                values_format=\"mean\"):\n",
    "    encoder_metric_tables = {encoder: {} for encoder in encoders_list}\n",
    "    metric_encoder_tables = {metric: {} for metric in metrics}\n",
    "\n",
    "    # Table 1: One table per encoder\n",
    "    for encoder in encoders_list:\n",
    "        dataset_metric_values = {}\n",
    "\n",
    "        for metric in metrics:\n",
    "            for df_data in list_df_data:\n",
    "                for dataset in df_data['dataset_name'].unique():\n",
    "                    if dataset not in dataset_metric_values:\n",
    "                        dataset_metric_values[dataset] = {m: [] for m in metrics}\n",
    "\n",
    "            for df_data in list_df_data:\n",
    "                df_filtered_data = df_data[df_data['model_encoder_pair'] == encoder]\n",
    "                for dataset in df_filtered_data['dataset_name'].unique():\n",
    "                    values = df_filtered_data[df_filtered_data['dataset_name'] == dataset][metric].tolist()\n",
    "                    dataset_metric_values[dataset][metric].extend(values)\n",
    "\n",
    "        if aggregate:\n",
    "            for dataset, metrics_values in dataset_metric_values.items():\n",
    "                for m, values in metrics_values.items():\n",
    "                    mean = np.mean(values)\n",
    "                    std = np.std(values)\n",
    "                    dataset_metric_values[dataset][\n",
    "                        m] = f\"{mean:.2f} ± {std:.2f}\" if values_format == 'mean_std' else mean\n",
    "\n",
    "        result_table = pd.DataFrame.from_dict(dataset_metric_values, orient='index')\n",
    "        encoder_metric_tables[encoder] = result_table\n",
    "\n",
    "    # Table 2: One table per metric\n",
    "    for metric in metrics:\n",
    "        encoder_values = {}\n",
    "\n",
    "        for encoder in encoders_list:\n",
    "            for df_data in list_df_data:\n",
    "                for dataset in df_data['dataset_name'].unique():\n",
    "                    if dataset not in encoder_values:\n",
    "                        encoder_values[dataset] = {e: [] for e in encoders_list}\n",
    "\n",
    "            for df_data in list_df_data:\n",
    "                df_filtered_data = df_data[df_data['model_encoder_pair'] == encoder]\n",
    "                for dataset in df_filtered_data['dataset_name'].unique():\n",
    "                    values = df_filtered_data[df_filtered_data['dataset_name'] == dataset][metric].tolist()\n",
    "                    encoder_values[dataset][encoder].extend(values)\n",
    "\n",
    "        if aggregate:\n",
    "            for dataset, encoders_values in encoder_values.items():\n",
    "                for e, values in encoders_values.items():\n",
    "                    mean = np.mean(values)\n",
    "                    std = np.std(values)\n",
    "                    encoder_values[dataset][e] = f\"{mean:.2f} ± {std:.2f}\" if values_format == 'mean_std' else mean\n",
    "\n",
    "        result_table = pd.DataFrame.from_dict(encoder_values, orient='index')\n",
    "        metric_encoder_tables[metric] = result_table\n",
    "\n",
    "    return encoder_metric_tables, metric_encoder_tables\n"
   ],
   "id": "c545bba7fc172ad7",
   "outputs": [],
   "execution_count": 17
  },
  {
   "metadata": {
    "collapsed": false,
    "ExecuteTime": {
     "end_time": "2025-04-07T09:18:32.816319Z",
     "start_time": "2025-04-07T09:18:32.813468Z"
    }
   },
   "cell_type": "code",
   "source": [
    "def process_and_prepare_representations_data(data_folder_path: Path,\n",
    "                                             datasets_to_skip: list,\n",
    "                                             encoders_list: list,\n",
    "                                             metrics: list,\n",
    "                                             aggregate: bool = True,\n",
    "                                             values_format: str = 'mean'):\n",
    "    csv_files = [file for file in data_folder_path.iterdir() if file.suffix == '.csv']\n",
    "\n",
    "    results_files_dataframes = [pd.read_csv(file) for file in csv_files]\n",
    "\n",
    "    results_files_dataframes = [process_df_representations_results(df, datasets_to_skip) for df in\n",
    "                                results_files_dataframes]\n",
    "\n",
    "    encoder_metric_tables, metric_encoder_tables = compute_metrics_across_runs_representations(\n",
    "        list_df_data=results_files_dataframes,\n",
    "        encoders_list=encoders_list,\n",
    "        metrics=metrics,\n",
    "        aggregate=aggregate,\n",
    "        values_format=values_format)\n",
    "\n",
    "    return encoder_metric_tables, metric_encoder_tables"
   ],
   "id": "efc12300cb45174c",
   "outputs": [],
   "execution_count": 18
  },
  {
   "metadata": {
    "collapsed": false,
    "ExecuteTime": {
     "end_time": "2025-04-07T09:18:32.822432Z",
     "start_time": "2025-04-07T09:18:32.820250Z"
    }
   },
   "cell_type": "code",
   "source": [
    "def analyze_representation_results(representations_results_folder: Path,\n",
    "                                   metrics: list,\n",
    "                                   encoders_list: list, ):\n",
    "    encoder_metric_tables_display, metric_encoder_tables_display = process_and_prepare_representations_data(\n",
    "        data_folder_path=representations_results_folder,\n",
    "        datasets_to_skip=DATASETS_TO_SKIP,\n",
    "        encoders_list=encoders_list,\n",
    "        metrics=metrics,\n",
    "        values_format='mean_std')\n",
    "\n",
    "    for metric in metrics:\n",
    "        display(Markdown(f'### {metric.upper()} ###'))\n",
    "        display(metric_encoder_tables_display[metric].sort_index())\n",
    "\n",
    "    encoder_metric_tables, metric_encoder_tables = process_and_prepare_representations_data(\n",
    "        data_folder_path=representations_results_folder,\n",
    "        datasets_to_skip=DATASETS_TO_SKIP,\n",
    "        encoders_list=encoders_list,\n",
    "        metrics=metrics,\n",
    "        values_format='mean')\n",
    "\n",
    "    return encoder_metric_tables, metric_encoder_tables, encoder_metric_tables_display, metric_encoder_tables_display"
   ],
   "id": "1e49e5d7772686e5",
   "outputs": [],
   "execution_count": 19
  },
  {
   "metadata": {
    "collapsed": false,
    "ExecuteTime": {
     "end_time": "2025-04-07T09:18:32.835118Z",
     "start_time": "2025-04-07T09:18:32.833198Z"
    }
   },
   "cell_type": "code",
   "source": [
    "def analyze_representation_results_2(representations_results_folder: Path,\n",
    "                                     metrics: list,\n",
    "                                     encoders_list: list, ):\n",
    "    encoder_metric_tables_mul, metric_encoder_tables_mul = process_and_prepare_representations_data(\n",
    "        data_folder_path=representations_results_folder,\n",
    "        datasets_to_skip=DATASETS_TO_SKIP,\n",
    "        encoders_list=encoders_list,\n",
    "        metrics=metrics,\n",
    "        aggregate=False,\n",
    "        values_format='mean_std')\n",
    "\n",
    "    return encoder_metric_tables_mul, metric_encoder_tables_mul"
   ],
   "id": "833960a8c3744279",
   "outputs": [],
   "execution_count": 20
  },
  {
   "metadata": {
    "collapsed": false
   },
   "cell_type": "markdown",
   "source": "### 2.5. Summarising",
   "id": "f8e6a6ded6d167a8"
  },
  {
   "metadata": {
    "collapsed": false,
    "ExecuteTime": {
     "end_time": "2025-04-07T09:18:32.844464Z",
     "start_time": "2025-04-07T09:18:32.842474Z"
    }
   },
   "cell_type": "code",
   "source": [
    "def summarize_baselines_results(baselines_tables: dict,\n",
    "                                clustering_metric_to_consider: str = CLUSTERING_METRIC_TO_CONSIDER_EXTERNAL):\n",
    "    df_summarized_baselines_results = pd.DataFrame()\n",
    "    for baseline_name, baseline_table in baselines_tables.items():\n",
    "        metric_table = baseline_table[clustering_metric_to_consider]\n",
    "        df_summarized_baselines_results = pd.concat(\n",
    "            [df_summarized_baselines_results, metric_table],\n",
    "            axis=1)\n",
    "\n",
    "    return df_summarized_baselines_results"
   ],
   "id": "2c66d854cc8165d8",
   "outputs": [],
   "execution_count": 21
  },
  {
   "cell_type": "markdown",
   "source": [
    "# Section II: Analysis"
   ],
   "metadata": {
    "collapsed": false
   },
   "id": "5a5df1564d98a1cc"
  },
  {
   "cell_type": "markdown",
   "source": [
    "# 3. Baselines"
   ],
   "metadata": {
    "collapsed": false
   },
   "id": "3ce28651e30165b3"
  },
  {
   "cell_type": "code",
   "source": [
    "BASELINES_MAIN_DIR = CLUSTERING_MAIN_RESULTS_DIR / 'baselines'"
   ],
   "metadata": {
    "collapsed": false,
    "ExecuteTime": {
     "end_time": "2025-04-07T09:18:32.851778Z",
     "start_time": "2025-04-07T09:18:32.850201Z"
    }
   },
   "id": "821c4a4b5af83c9d",
   "outputs": [],
   "execution_count": 22
  },
  {
   "cell_type": "markdown",
   "source": [
    "## 3.1. LSTM Autoencoder (LSTM-AE)"
   ],
   "metadata": {
    "collapsed": false
   },
   "id": "4762a7ba2ba55e44"
  },
  {
   "cell_type": "code",
   "source": [
    "lstm_ae_encoders_list = ['lstm-auto-encoder - encoder']\n",
    "lstm_ae_main_dir = BASELINES_MAIN_DIR / 'ae'\n",
    "lstm_ae_results_dir = lstm_ae_main_dir / 'compression_2'"
   ],
   "metadata": {
    "collapsed": false,
    "ExecuteTime": {
     "end_time": "2025-04-07T09:18:32.859471Z",
     "start_time": "2025-04-07T09:18:32.857698Z"
    }
   },
   "id": "e4c31d1fe08c6a79",
   "outputs": [],
   "execution_count": 23
  },
  {
   "cell_type": "code",
   "source": [
    "lstm_ae_comp_2_encoder_metric_tables, lstm_ae_comp_2_metric_encoder_tables, lstm_ae_comp_2_encoder_metric_tables_display, lstm_ae_comp_2_metric_encoder_tables_display = \\\n",
    "    analyze_representation_results(representations_results_folder=lstm_ae_results_dir,\n",
    "                                   metrics=CLUSTERING_METRICS,\n",
    "                                   encoders_list=lstm_ae_encoders_list)"
   ],
   "metadata": {
    "collapsed": false,
    "ExecuteTime": {
     "end_time": "2025-04-07T09:18:33.296450Z",
     "start_time": "2025-04-07T09:18:32.865097Z"
    }
   },
   "id": "72048207c2c33587",
   "outputs": [
    {
     "data": {
      "text/plain": [
       "<IPython.core.display.Markdown object>"
      ],
      "text/markdown": "### ARI ###"
     },
     "metadata": {},
     "output_type": "display_data"
    },
    {
     "data": {
      "text/plain": [
       "              lstm-auto-encoder - encoder\n",
       "ACSF1                         0.22 ± 0.01\n",
       "Adiac                         0.12 ± 0.03\n",
       "ArrowHead                     0.05 ± 0.01\n",
       "BME                           0.22 ± 0.07\n",
       "Beef                          0.04 ± 0.00\n",
       "...                                   ...\n",
       "Wine                         -0.01 ± 0.00\n",
       "WordSynonyms                  0.06 ± 0.01\n",
       "Worms                         0.04 ± 0.00\n",
       "WormsTwoClass                -0.00 ± 0.00\n",
       "Yoga                          0.00 ± 0.00\n",
       "\n",
       "[112 rows x 1 columns]"
      ],
      "text/html": [
       "<div>\n",
       "<style scoped>\n",
       "    .dataframe tbody tr th:only-of-type {\n",
       "        vertical-align: middle;\n",
       "    }\n",
       "\n",
       "    .dataframe tbody tr th {\n",
       "        vertical-align: top;\n",
       "    }\n",
       "\n",
       "    .dataframe thead th {\n",
       "        text-align: right;\n",
       "    }\n",
       "</style>\n",
       "<table border=\"1\" class=\"dataframe\">\n",
       "  <thead>\n",
       "    <tr style=\"text-align: right;\">\n",
       "      <th></th>\n",
       "      <th>lstm-auto-encoder - encoder</th>\n",
       "    </tr>\n",
       "  </thead>\n",
       "  <tbody>\n",
       "    <tr>\n",
       "      <th>ACSF1</th>\n",
       "      <td>0.22 ± 0.01</td>\n",
       "    </tr>\n",
       "    <tr>\n",
       "      <th>Adiac</th>\n",
       "      <td>0.12 ± 0.03</td>\n",
       "    </tr>\n",
       "    <tr>\n",
       "      <th>ArrowHead</th>\n",
       "      <td>0.05 ± 0.01</td>\n",
       "    </tr>\n",
       "    <tr>\n",
       "      <th>BME</th>\n",
       "      <td>0.22 ± 0.07</td>\n",
       "    </tr>\n",
       "    <tr>\n",
       "      <th>Beef</th>\n",
       "      <td>0.04 ± 0.00</td>\n",
       "    </tr>\n",
       "    <tr>\n",
       "      <th>...</th>\n",
       "      <td>...</td>\n",
       "    </tr>\n",
       "    <tr>\n",
       "      <th>Wine</th>\n",
       "      <td>-0.01 ± 0.00</td>\n",
       "    </tr>\n",
       "    <tr>\n",
       "      <th>WordSynonyms</th>\n",
       "      <td>0.06 ± 0.01</td>\n",
       "    </tr>\n",
       "    <tr>\n",
       "      <th>Worms</th>\n",
       "      <td>0.04 ± 0.00</td>\n",
       "    </tr>\n",
       "    <tr>\n",
       "      <th>WormsTwoClass</th>\n",
       "      <td>-0.00 ± 0.00</td>\n",
       "    </tr>\n",
       "    <tr>\n",
       "      <th>Yoga</th>\n",
       "      <td>0.00 ± 0.00</td>\n",
       "    </tr>\n",
       "  </tbody>\n",
       "</table>\n",
       "<p>112 rows × 1 columns</p>\n",
       "</div>"
      ]
     },
     "metadata": {},
     "output_type": "display_data"
    },
    {
     "data": {
      "text/plain": [
       "<IPython.core.display.Markdown object>"
      ],
      "text/markdown": "### CHS ###"
     },
     "metadata": {},
     "output_type": "display_data"
    },
    {
     "data": {
      "text/plain": [
       "              lstm-auto-encoder - encoder\n",
       "ACSF1                      124.22 ± 27.73\n",
       "Adiac                     549.68 ± 322.67\n",
       "ArrowHead                  119.86 ± 32.01\n",
       "BME                        182.64 ± 78.64\n",
       "Beef                     1212.85 ± 418.01\n",
       "...                                   ...\n",
       "Wine                        55.94 ± 13.78\n",
       "WordSynonyms               269.52 ± 59.45\n",
       "Worms                       394.48 ± 6.15\n",
       "WormsTwoClass               268.58 ± 1.22\n",
       "Yoga                     1429.04 ± 964.82\n",
       "\n",
       "[112 rows x 1 columns]"
      ],
      "text/html": [
       "<div>\n",
       "<style scoped>\n",
       "    .dataframe tbody tr th:only-of-type {\n",
       "        vertical-align: middle;\n",
       "    }\n",
       "\n",
       "    .dataframe tbody tr th {\n",
       "        vertical-align: top;\n",
       "    }\n",
       "\n",
       "    .dataframe thead th {\n",
       "        text-align: right;\n",
       "    }\n",
       "</style>\n",
       "<table border=\"1\" class=\"dataframe\">\n",
       "  <thead>\n",
       "    <tr style=\"text-align: right;\">\n",
       "      <th></th>\n",
       "      <th>lstm-auto-encoder - encoder</th>\n",
       "    </tr>\n",
       "  </thead>\n",
       "  <tbody>\n",
       "    <tr>\n",
       "      <th>ACSF1</th>\n",
       "      <td>124.22 ± 27.73</td>\n",
       "    </tr>\n",
       "    <tr>\n",
       "      <th>Adiac</th>\n",
       "      <td>549.68 ± 322.67</td>\n",
       "    </tr>\n",
       "    <tr>\n",
       "      <th>ArrowHead</th>\n",
       "      <td>119.86 ± 32.01</td>\n",
       "    </tr>\n",
       "    <tr>\n",
       "      <th>BME</th>\n",
       "      <td>182.64 ± 78.64</td>\n",
       "    </tr>\n",
       "    <tr>\n",
       "      <th>Beef</th>\n",
       "      <td>1212.85 ± 418.01</td>\n",
       "    </tr>\n",
       "    <tr>\n",
       "      <th>...</th>\n",
       "      <td>...</td>\n",
       "    </tr>\n",
       "    <tr>\n",
       "      <th>Wine</th>\n",
       "      <td>55.94 ± 13.78</td>\n",
       "    </tr>\n",
       "    <tr>\n",
       "      <th>WordSynonyms</th>\n",
       "      <td>269.52 ± 59.45</td>\n",
       "    </tr>\n",
       "    <tr>\n",
       "      <th>Worms</th>\n",
       "      <td>394.48 ± 6.15</td>\n",
       "    </tr>\n",
       "    <tr>\n",
       "      <th>WormsTwoClass</th>\n",
       "      <td>268.58 ± 1.22</td>\n",
       "    </tr>\n",
       "    <tr>\n",
       "      <th>Yoga</th>\n",
       "      <td>1429.04 ± 964.82</td>\n",
       "    </tr>\n",
       "  </tbody>\n",
       "</table>\n",
       "<p>112 rows × 1 columns</p>\n",
       "</div>"
      ]
     },
     "metadata": {},
     "output_type": "display_data"
    }
   ],
   "execution_count": 24
  },
  {
   "cell_type": "code",
   "source": [
    "lstm_ae_comp_2_encoder_metric_tables_mul, lstm_ae_comp_2_metric_encoder_tables_mul = analyze_representation_results_2(\n",
    "    representations_results_folder=lstm_ae_results_dir,\n",
    "    metrics=CLUSTERING_METRICS,\n",
    "    encoders_list=lstm_ae_encoders_list)"
   ],
   "metadata": {
    "collapsed": false,
    "ExecuteTime": {
     "end_time": "2025-04-07T09:18:33.477076Z",
     "start_time": "2025-04-07T09:18:33.303679Z"
    }
   },
   "id": "2fe487a931587c53",
   "outputs": [],
   "execution_count": 25
  },
  {
   "cell_type": "markdown",
   "source": [
    "## 3.2. TS2Vec"
   ],
   "metadata": {
    "collapsed": false
   },
   "id": "f8d4e2f9b86fceb3"
  },
  {
   "cell_type": "code",
   "source": [
    "ts2vec_encoders_list = ['ts2vec - ts2vec']\n",
    "ts2vec_main_dir = BASELINES_MAIN_DIR / 'ts2vec'\n",
    "ts2vec_results_dir = ts2vec_main_dir / 'compression_2'"
   ],
   "metadata": {
    "collapsed": false,
    "ExecuteTime": {
     "end_time": "2025-04-07T09:18:33.492861Z",
     "start_time": "2025-04-07T09:18:33.491136Z"
    }
   },
   "id": "82cb52504ada0cef",
   "outputs": [],
   "execution_count": 26
  },
  {
   "cell_type": "code",
   "source": [
    "ts2vec_comp_2_encoder_metric_tables, ts2vec_comp_2_metric_encoder_tables, ts2vec_comp_2_encoder_metric_tables_display, ts2vec_comp_2_metric_encoder_tables_display = \\\n",
    "    analyze_representation_results(representations_results_folder=ts2vec_results_dir,\n",
    "                                   metrics=CLUSTERING_METRICS,\n",
    "                                   encoders_list=ts2vec_encoders_list)"
   ],
   "metadata": {
    "collapsed": false,
    "ExecuteTime": {
     "end_time": "2025-04-07T09:18:33.869978Z",
     "start_time": "2025-04-07T09:18:33.497305Z"
    }
   },
   "id": "89c403044eda8832",
   "outputs": [
    {
     "data": {
      "text/plain": [
       "<IPython.core.display.Markdown object>"
      ],
      "text/markdown": "### ARI ###"
     },
     "metadata": {},
     "output_type": "display_data"
    },
    {
     "data": {
      "text/plain": [
       "              ts2vec - ts2vec\n",
       "ACSF1             0.18 ± 0.03\n",
       "Adiac             0.25 ± 0.01\n",
       "ArrowHead        -0.01 ± 0.00\n",
       "BME              -0.00 ± 0.00\n",
       "Beef              0.08 ± 0.03\n",
       "...                       ...\n",
       "Wine             -0.01 ± 0.01\n",
       "WordSynonyms      0.20 ± 0.02\n",
       "Worms             0.05 ± 0.01\n",
       "WormsTwoClass     0.05 ± 0.02\n",
       "Yoga              0.00 ± 0.00\n",
       "\n",
       "[112 rows x 1 columns]"
      ],
      "text/html": [
       "<div>\n",
       "<style scoped>\n",
       "    .dataframe tbody tr th:only-of-type {\n",
       "        vertical-align: middle;\n",
       "    }\n",
       "\n",
       "    .dataframe tbody tr th {\n",
       "        vertical-align: top;\n",
       "    }\n",
       "\n",
       "    .dataframe thead th {\n",
       "        text-align: right;\n",
       "    }\n",
       "</style>\n",
       "<table border=\"1\" class=\"dataframe\">\n",
       "  <thead>\n",
       "    <tr style=\"text-align: right;\">\n",
       "      <th></th>\n",
       "      <th>ts2vec - ts2vec</th>\n",
       "    </tr>\n",
       "  </thead>\n",
       "  <tbody>\n",
       "    <tr>\n",
       "      <th>ACSF1</th>\n",
       "      <td>0.18 ± 0.03</td>\n",
       "    </tr>\n",
       "    <tr>\n",
       "      <th>Adiac</th>\n",
       "      <td>0.25 ± 0.01</td>\n",
       "    </tr>\n",
       "    <tr>\n",
       "      <th>ArrowHead</th>\n",
       "      <td>-0.01 ± 0.00</td>\n",
       "    </tr>\n",
       "    <tr>\n",
       "      <th>BME</th>\n",
       "      <td>-0.00 ± 0.00</td>\n",
       "    </tr>\n",
       "    <tr>\n",
       "      <th>Beef</th>\n",
       "      <td>0.08 ± 0.03</td>\n",
       "    </tr>\n",
       "    <tr>\n",
       "      <th>...</th>\n",
       "      <td>...</td>\n",
       "    </tr>\n",
       "    <tr>\n",
       "      <th>Wine</th>\n",
       "      <td>-0.01 ± 0.01</td>\n",
       "    </tr>\n",
       "    <tr>\n",
       "      <th>WordSynonyms</th>\n",
       "      <td>0.20 ± 0.02</td>\n",
       "    </tr>\n",
       "    <tr>\n",
       "      <th>Worms</th>\n",
       "      <td>0.05 ± 0.01</td>\n",
       "    </tr>\n",
       "    <tr>\n",
       "      <th>WormsTwoClass</th>\n",
       "      <td>0.05 ± 0.02</td>\n",
       "    </tr>\n",
       "    <tr>\n",
       "      <th>Yoga</th>\n",
       "      <td>0.00 ± 0.00</td>\n",
       "    </tr>\n",
       "  </tbody>\n",
       "</table>\n",
       "<p>112 rows × 1 columns</p>\n",
       "</div>"
      ]
     },
     "metadata": {},
     "output_type": "display_data"
    },
    {
     "data": {
      "text/plain": [
       "<IPython.core.display.Markdown object>"
      ],
      "text/markdown": "### CHS ###"
     },
     "metadata": {},
     "output_type": "display_data"
    },
    {
     "data": {
      "text/plain": [
       "              ts2vec - ts2vec\n",
       "ACSF1          164.76 ± 33.72\n",
       "Adiac          106.86 ± 19.94\n",
       "ArrowHead        63.58 ± 9.14\n",
       "BME            462.14 ± 80.76\n",
       "Beef             44.79 ± 6.51\n",
       "...                       ...\n",
       "Wine             41.02 ± 2.10\n",
       "WordSynonyms     25.22 ± 2.80\n",
       "Worms            22.74 ± 3.37\n",
       "WormsTwoClass    32.79 ± 4.33\n",
       "Yoga           494.60 ± 50.15\n",
       "\n",
       "[112 rows x 1 columns]"
      ],
      "text/html": [
       "<div>\n",
       "<style scoped>\n",
       "    .dataframe tbody tr th:only-of-type {\n",
       "        vertical-align: middle;\n",
       "    }\n",
       "\n",
       "    .dataframe tbody tr th {\n",
       "        vertical-align: top;\n",
       "    }\n",
       "\n",
       "    .dataframe thead th {\n",
       "        text-align: right;\n",
       "    }\n",
       "</style>\n",
       "<table border=\"1\" class=\"dataframe\">\n",
       "  <thead>\n",
       "    <tr style=\"text-align: right;\">\n",
       "      <th></th>\n",
       "      <th>ts2vec - ts2vec</th>\n",
       "    </tr>\n",
       "  </thead>\n",
       "  <tbody>\n",
       "    <tr>\n",
       "      <th>ACSF1</th>\n",
       "      <td>164.76 ± 33.72</td>\n",
       "    </tr>\n",
       "    <tr>\n",
       "      <th>Adiac</th>\n",
       "      <td>106.86 ± 19.94</td>\n",
       "    </tr>\n",
       "    <tr>\n",
       "      <th>ArrowHead</th>\n",
       "      <td>63.58 ± 9.14</td>\n",
       "    </tr>\n",
       "    <tr>\n",
       "      <th>BME</th>\n",
       "      <td>462.14 ± 80.76</td>\n",
       "    </tr>\n",
       "    <tr>\n",
       "      <th>Beef</th>\n",
       "      <td>44.79 ± 6.51</td>\n",
       "    </tr>\n",
       "    <tr>\n",
       "      <th>...</th>\n",
       "      <td>...</td>\n",
       "    </tr>\n",
       "    <tr>\n",
       "      <th>Wine</th>\n",
       "      <td>41.02 ± 2.10</td>\n",
       "    </tr>\n",
       "    <tr>\n",
       "      <th>WordSynonyms</th>\n",
       "      <td>25.22 ± 2.80</td>\n",
       "    </tr>\n",
       "    <tr>\n",
       "      <th>Worms</th>\n",
       "      <td>22.74 ± 3.37</td>\n",
       "    </tr>\n",
       "    <tr>\n",
       "      <th>WormsTwoClass</th>\n",
       "      <td>32.79 ± 4.33</td>\n",
       "    </tr>\n",
       "    <tr>\n",
       "      <th>Yoga</th>\n",
       "      <td>494.60 ± 50.15</td>\n",
       "    </tr>\n",
       "  </tbody>\n",
       "</table>\n",
       "<p>112 rows × 1 columns</p>\n",
       "</div>"
      ]
     },
     "metadata": {},
     "output_type": "display_data"
    }
   ],
   "execution_count": 27
  },
  {
   "cell_type": "code",
   "source": [
    "ts2vec_comp_2_encoder_metric_tables_mul, ts2vec_comp_2_metric_encoder_tables_mul = analyze_representation_results_2(\n",
    "    representations_results_folder=ts2vec_results_dir,\n",
    "    metrics=CLUSTERING_METRICS,\n",
    "    encoders_list=ts2vec_encoders_list)"
   ],
   "metadata": {
    "collapsed": false,
    "ExecuteTime": {
     "end_time": "2025-04-07T09:18:34.057437Z",
     "start_time": "2025-04-07T09:18:33.879377Z"
    }
   },
   "id": "76d4189a61f8e4d8",
   "outputs": [],
   "execution_count": 28
  },
  {
   "cell_type": "markdown",
   "source": [
    "## 3.3. MCL"
   ],
   "metadata": {
    "collapsed": false
   },
   "id": "ceceb743ce5d42b7"
  },
  {
   "cell_type": "code",
   "source": [
    "mcl_encoders_list = ['mcl - mcl']\n",
    "mcl_main_dir = BASELINES_MAIN_DIR / 'mcl'\n",
    "mcl_results_dir = mcl_main_dir / 'compression_2'"
   ],
   "metadata": {
    "collapsed": false,
    "ExecuteTime": {
     "end_time": "2025-04-07T09:18:34.069707Z",
     "start_time": "2025-04-07T09:18:34.067971Z"
    }
   },
   "id": "c063894b0d084745",
   "outputs": [],
   "execution_count": 29
  },
  {
   "cell_type": "code",
   "source": [
    "mcl_comp_2_encoder_metric_tables, mcl_comp_2_metric_encoder_tables, mcl_comp_2_encoder_metrics_tables_display, mcl_comp_2_metric_encoder_tables_display = \\\n",
    "    analyze_representation_results(representations_results_folder=mcl_results_dir,\n",
    "                                   metrics=CLUSTERING_METRICS,\n",
    "                                   encoders_list=mcl_encoders_list)"
   ],
   "metadata": {
    "collapsed": false,
    "ExecuteTime": {
     "end_time": "2025-04-07T09:18:34.467384Z",
     "start_time": "2025-04-07T09:18:34.089528Z"
    }
   },
   "id": "de4fbff97fd92159",
   "outputs": [
    {
     "data": {
      "text/plain": [
       "<IPython.core.display.Markdown object>"
      ],
      "text/markdown": "### ARI ###"
     },
     "metadata": {},
     "output_type": "display_data"
    },
    {
     "data": {
      "text/plain": [
       "                  mcl - mcl\n",
       "ACSF1           0.26 ± 0.01\n",
       "Adiac           0.30 ± 0.02\n",
       "ArrowHead       0.09 ± 0.04\n",
       "BME             0.25 ± 0.07\n",
       "Beef            0.18 ± 0.07\n",
       "...                     ...\n",
       "Wine            0.04 ± 0.05\n",
       "WordSynonyms    0.14 ± 0.01\n",
       "Worms           0.00 ± 0.01\n",
       "WormsTwoClass  -0.00 ± 0.00\n",
       "Yoga            0.00 ± 0.00\n",
       "\n",
       "[112 rows x 1 columns]"
      ],
      "text/html": [
       "<div>\n",
       "<style scoped>\n",
       "    .dataframe tbody tr th:only-of-type {\n",
       "        vertical-align: middle;\n",
       "    }\n",
       "\n",
       "    .dataframe tbody tr th {\n",
       "        vertical-align: top;\n",
       "    }\n",
       "\n",
       "    .dataframe thead th {\n",
       "        text-align: right;\n",
       "    }\n",
       "</style>\n",
       "<table border=\"1\" class=\"dataframe\">\n",
       "  <thead>\n",
       "    <tr style=\"text-align: right;\">\n",
       "      <th></th>\n",
       "      <th>mcl - mcl</th>\n",
       "    </tr>\n",
       "  </thead>\n",
       "  <tbody>\n",
       "    <tr>\n",
       "      <th>ACSF1</th>\n",
       "      <td>0.26 ± 0.01</td>\n",
       "    </tr>\n",
       "    <tr>\n",
       "      <th>Adiac</th>\n",
       "      <td>0.30 ± 0.02</td>\n",
       "    </tr>\n",
       "    <tr>\n",
       "      <th>ArrowHead</th>\n",
       "      <td>0.09 ± 0.04</td>\n",
       "    </tr>\n",
       "    <tr>\n",
       "      <th>BME</th>\n",
       "      <td>0.25 ± 0.07</td>\n",
       "    </tr>\n",
       "    <tr>\n",
       "      <th>Beef</th>\n",
       "      <td>0.18 ± 0.07</td>\n",
       "    </tr>\n",
       "    <tr>\n",
       "      <th>...</th>\n",
       "      <td>...</td>\n",
       "    </tr>\n",
       "    <tr>\n",
       "      <th>Wine</th>\n",
       "      <td>0.04 ± 0.05</td>\n",
       "    </tr>\n",
       "    <tr>\n",
       "      <th>WordSynonyms</th>\n",
       "      <td>0.14 ± 0.01</td>\n",
       "    </tr>\n",
       "    <tr>\n",
       "      <th>Worms</th>\n",
       "      <td>0.00 ± 0.01</td>\n",
       "    </tr>\n",
       "    <tr>\n",
       "      <th>WormsTwoClass</th>\n",
       "      <td>-0.00 ± 0.00</td>\n",
       "    </tr>\n",
       "    <tr>\n",
       "      <th>Yoga</th>\n",
       "      <td>0.00 ± 0.00</td>\n",
       "    </tr>\n",
       "  </tbody>\n",
       "</table>\n",
       "<p>112 rows × 1 columns</p>\n",
       "</div>"
      ]
     },
     "metadata": {},
     "output_type": "display_data"
    },
    {
     "data": {
      "text/plain": [
       "<IPython.core.display.Markdown object>"
      ],
      "text/markdown": "### CHS ###"
     },
     "metadata": {},
     "output_type": "display_data"
    },
    {
     "data": {
      "text/plain": [
       "                    mcl - mcl\n",
       "ACSF1           67.70 ± 13.01\n",
       "Adiac            93.71 ± 9.83\n",
       "ArrowHead        33.99 ± 6.30\n",
       "BME              24.75 ± 3.34\n",
       "Beef             25.39 ± 7.57\n",
       "...                       ...\n",
       "Wine             18.71 ± 3.79\n",
       "WordSynonyms     40.03 ± 3.83\n",
       "Worms            18.98 ± 1.48\n",
       "WormsTwoClass    23.65 ± 1.19\n",
       "Yoga           331.77 ± 48.57\n",
       "\n",
       "[112 rows x 1 columns]"
      ],
      "text/html": [
       "<div>\n",
       "<style scoped>\n",
       "    .dataframe tbody tr th:only-of-type {\n",
       "        vertical-align: middle;\n",
       "    }\n",
       "\n",
       "    .dataframe tbody tr th {\n",
       "        vertical-align: top;\n",
       "    }\n",
       "\n",
       "    .dataframe thead th {\n",
       "        text-align: right;\n",
       "    }\n",
       "</style>\n",
       "<table border=\"1\" class=\"dataframe\">\n",
       "  <thead>\n",
       "    <tr style=\"text-align: right;\">\n",
       "      <th></th>\n",
       "      <th>mcl - mcl</th>\n",
       "    </tr>\n",
       "  </thead>\n",
       "  <tbody>\n",
       "    <tr>\n",
       "      <th>ACSF1</th>\n",
       "      <td>67.70 ± 13.01</td>\n",
       "    </tr>\n",
       "    <tr>\n",
       "      <th>Adiac</th>\n",
       "      <td>93.71 ± 9.83</td>\n",
       "    </tr>\n",
       "    <tr>\n",
       "      <th>ArrowHead</th>\n",
       "      <td>33.99 ± 6.30</td>\n",
       "    </tr>\n",
       "    <tr>\n",
       "      <th>BME</th>\n",
       "      <td>24.75 ± 3.34</td>\n",
       "    </tr>\n",
       "    <tr>\n",
       "      <th>Beef</th>\n",
       "      <td>25.39 ± 7.57</td>\n",
       "    </tr>\n",
       "    <tr>\n",
       "      <th>...</th>\n",
       "      <td>...</td>\n",
       "    </tr>\n",
       "    <tr>\n",
       "      <th>Wine</th>\n",
       "      <td>18.71 ± 3.79</td>\n",
       "    </tr>\n",
       "    <tr>\n",
       "      <th>WordSynonyms</th>\n",
       "      <td>40.03 ± 3.83</td>\n",
       "    </tr>\n",
       "    <tr>\n",
       "      <th>Worms</th>\n",
       "      <td>18.98 ± 1.48</td>\n",
       "    </tr>\n",
       "    <tr>\n",
       "      <th>WormsTwoClass</th>\n",
       "      <td>23.65 ± 1.19</td>\n",
       "    </tr>\n",
       "    <tr>\n",
       "      <th>Yoga</th>\n",
       "      <td>331.77 ± 48.57</td>\n",
       "    </tr>\n",
       "  </tbody>\n",
       "</table>\n",
       "<p>112 rows × 1 columns</p>\n",
       "</div>"
      ]
     },
     "metadata": {},
     "output_type": "display_data"
    }
   ],
   "execution_count": 30
  },
  {
   "cell_type": "code",
   "source": [
    "mcl_comp_2_encoder_metric_tables_mul, mcl_comp_2_metric_encoder_tables_mul = analyze_representation_results_2(\n",
    "    representations_results_folder=mcl_results_dir,\n",
    "    metrics=CLUSTERING_METRICS,\n",
    "    encoders_list=mcl_encoders_list)"
   ],
   "metadata": {
    "collapsed": false,
    "ExecuteTime": {
     "end_time": "2025-04-07T09:18:34.643319Z",
     "start_time": "2025-04-07T09:18:34.470456Z"
    }
   },
   "id": "8cd273bf19c4c5b",
   "outputs": [],
   "execution_count": 31
  },
  {
   "cell_type": "markdown",
   "source": [
    "## 3.4. TimeNet"
   ],
   "metadata": {
    "collapsed": false
   },
   "id": "f9841a1555f61d75"
  },
  {
   "cell_type": "code",
   "source": [
    "timenet_encoders_list = ['timenet - timenet']\n",
    "timenet_main_dir = BASELINES_MAIN_DIR / 'timenet'\n",
    "timenet_results_dir = timenet_main_dir / 'compression_2'"
   ],
   "metadata": {
    "collapsed": false,
    "ExecuteTime": {
     "end_time": "2025-04-07T09:18:34.657617Z",
     "start_time": "2025-04-07T09:18:34.656097Z"
    }
   },
   "id": "8c85b4057b9ed1ab",
   "outputs": [],
   "execution_count": 32
  },
  {
   "cell_type": "code",
   "source": [
    "timenet_comp_2_encoder_metric_tables, timenet_comp_2_metric_encoder_tables, timenet_comp_2_encoder_metrics_tables_display, timenet_comp_2_metric_encoder_tables_display = \\\n",
    "    analyze_representation_results(representations_results_folder=timenet_results_dir,\n",
    "                                   metrics=CLUSTERING_METRICS,\n",
    "                                   encoders_list=timenet_encoders_list)"
   ],
   "metadata": {
    "collapsed": false,
    "ExecuteTime": {
     "end_time": "2025-04-07T09:18:35.037764Z",
     "start_time": "2025-04-07T09:18:34.669990Z"
    }
   },
   "id": "6c52734bdb28ee46",
   "outputs": [
    {
     "data": {
      "text/plain": [
       "<IPython.core.display.Markdown object>"
      ],
      "text/markdown": "### ARI ###"
     },
     "metadata": {},
     "output_type": "display_data"
    },
    {
     "data": {
      "text/plain": [
       "              timenet - timenet\n",
       "ACSF1               0.22 ± 0.02\n",
       "Adiac               0.15 ± 0.01\n",
       "ArrowHead           0.05 ± 0.02\n",
       "BME                 0.37 ± 0.18\n",
       "Beef                0.08 ± 0.04\n",
       "...                         ...\n",
       "Wine                0.01 ± 0.02\n",
       "WordSynonyms        0.16 ± 0.01\n",
       "Worms               0.06 ± 0.01\n",
       "WormsTwoClass       0.00 ± 0.01\n",
       "Yoga                0.00 ± 0.00\n",
       "\n",
       "[112 rows x 1 columns]"
      ],
      "text/html": [
       "<div>\n",
       "<style scoped>\n",
       "    .dataframe tbody tr th:only-of-type {\n",
       "        vertical-align: middle;\n",
       "    }\n",
       "\n",
       "    .dataframe tbody tr th {\n",
       "        vertical-align: top;\n",
       "    }\n",
       "\n",
       "    .dataframe thead th {\n",
       "        text-align: right;\n",
       "    }\n",
       "</style>\n",
       "<table border=\"1\" class=\"dataframe\">\n",
       "  <thead>\n",
       "    <tr style=\"text-align: right;\">\n",
       "      <th></th>\n",
       "      <th>timenet - timenet</th>\n",
       "    </tr>\n",
       "  </thead>\n",
       "  <tbody>\n",
       "    <tr>\n",
       "      <th>ACSF1</th>\n",
       "      <td>0.22 ± 0.02</td>\n",
       "    </tr>\n",
       "    <tr>\n",
       "      <th>Adiac</th>\n",
       "      <td>0.15 ± 0.01</td>\n",
       "    </tr>\n",
       "    <tr>\n",
       "      <th>ArrowHead</th>\n",
       "      <td>0.05 ± 0.02</td>\n",
       "    </tr>\n",
       "    <tr>\n",
       "      <th>BME</th>\n",
       "      <td>0.37 ± 0.18</td>\n",
       "    </tr>\n",
       "    <tr>\n",
       "      <th>Beef</th>\n",
       "      <td>0.08 ± 0.04</td>\n",
       "    </tr>\n",
       "    <tr>\n",
       "      <th>...</th>\n",
       "      <td>...</td>\n",
       "    </tr>\n",
       "    <tr>\n",
       "      <th>Wine</th>\n",
       "      <td>0.01 ± 0.02</td>\n",
       "    </tr>\n",
       "    <tr>\n",
       "      <th>WordSynonyms</th>\n",
       "      <td>0.16 ± 0.01</td>\n",
       "    </tr>\n",
       "    <tr>\n",
       "      <th>Worms</th>\n",
       "      <td>0.06 ± 0.01</td>\n",
       "    </tr>\n",
       "    <tr>\n",
       "      <th>WormsTwoClass</th>\n",
       "      <td>0.00 ± 0.01</td>\n",
       "    </tr>\n",
       "    <tr>\n",
       "      <th>Yoga</th>\n",
       "      <td>0.00 ± 0.00</td>\n",
       "    </tr>\n",
       "  </tbody>\n",
       "</table>\n",
       "<p>112 rows × 1 columns</p>\n",
       "</div>"
      ]
     },
     "metadata": {},
     "output_type": "display_data"
    },
    {
     "data": {
      "text/plain": [
       "<IPython.core.display.Markdown object>"
      ],
      "text/markdown": "### CHS ###"
     },
     "metadata": {},
     "output_type": "display_data"
    },
    {
     "data": {
      "text/plain": [
       "              timenet - timenet\n",
       "ACSF1            106.62 ± 23.38\n",
       "Adiac           410.73 ± 136.96\n",
       "ArrowHead         70.94 ± 24.64\n",
       "BME                64.21 ± 8.69\n",
       "Beef            180.20 ± 140.03\n",
       "...                         ...\n",
       "Wine               33.06 ± 5.19\n",
       "WordSynonyms      95.94 ± 20.68\n",
       "Worms            103.10 ± 68.16\n",
       "WormsTwoClass      50.21 ± 6.22\n",
       "Yoga            973.13 ± 144.93\n",
       "\n",
       "[112 rows x 1 columns]"
      ],
      "text/html": [
       "<div>\n",
       "<style scoped>\n",
       "    .dataframe tbody tr th:only-of-type {\n",
       "        vertical-align: middle;\n",
       "    }\n",
       "\n",
       "    .dataframe tbody tr th {\n",
       "        vertical-align: top;\n",
       "    }\n",
       "\n",
       "    .dataframe thead th {\n",
       "        text-align: right;\n",
       "    }\n",
       "</style>\n",
       "<table border=\"1\" class=\"dataframe\">\n",
       "  <thead>\n",
       "    <tr style=\"text-align: right;\">\n",
       "      <th></th>\n",
       "      <th>timenet - timenet</th>\n",
       "    </tr>\n",
       "  </thead>\n",
       "  <tbody>\n",
       "    <tr>\n",
       "      <th>ACSF1</th>\n",
       "      <td>106.62 ± 23.38</td>\n",
       "    </tr>\n",
       "    <tr>\n",
       "      <th>Adiac</th>\n",
       "      <td>410.73 ± 136.96</td>\n",
       "    </tr>\n",
       "    <tr>\n",
       "      <th>ArrowHead</th>\n",
       "      <td>70.94 ± 24.64</td>\n",
       "    </tr>\n",
       "    <tr>\n",
       "      <th>BME</th>\n",
       "      <td>64.21 ± 8.69</td>\n",
       "    </tr>\n",
       "    <tr>\n",
       "      <th>Beef</th>\n",
       "      <td>180.20 ± 140.03</td>\n",
       "    </tr>\n",
       "    <tr>\n",
       "      <th>...</th>\n",
       "      <td>...</td>\n",
       "    </tr>\n",
       "    <tr>\n",
       "      <th>Wine</th>\n",
       "      <td>33.06 ± 5.19</td>\n",
       "    </tr>\n",
       "    <tr>\n",
       "      <th>WordSynonyms</th>\n",
       "      <td>95.94 ± 20.68</td>\n",
       "    </tr>\n",
       "    <tr>\n",
       "      <th>Worms</th>\n",
       "      <td>103.10 ± 68.16</td>\n",
       "    </tr>\n",
       "    <tr>\n",
       "      <th>WormsTwoClass</th>\n",
       "      <td>50.21 ± 6.22</td>\n",
       "    </tr>\n",
       "    <tr>\n",
       "      <th>Yoga</th>\n",
       "      <td>973.13 ± 144.93</td>\n",
       "    </tr>\n",
       "  </tbody>\n",
       "</table>\n",
       "<p>112 rows × 1 columns</p>\n",
       "</div>"
      ]
     },
     "metadata": {},
     "output_type": "display_data"
    }
   ],
   "execution_count": 33
  },
  {
   "cell_type": "code",
   "source": [
    "timenet_comp_2_encoder_metric_tables_mul, timenet_comp_2_metric_encoder_tables_mul = analyze_representation_results_2(\n",
    "    representations_results_folder=timenet_results_dir,\n",
    "    metrics=CLUSTERING_METRICS,\n",
    "    encoders_list=timenet_encoders_list)"
   ],
   "metadata": {
    "collapsed": false,
    "ExecuteTime": {
     "end_time": "2025-04-07T09:18:35.223300Z",
     "start_time": "2025-04-07T09:18:35.051843Z"
    }
   },
   "id": "2e492fd445ca0236",
   "outputs": [],
   "execution_count": 34
  },
  {
   "cell_type": "markdown",
   "source": [
    "## 3.5. Baselines Summary"
   ],
   "metadata": {
    "collapsed": false
   },
   "id": "6ecf0f81ec9004b4"
  },
  {
   "cell_type": "code",
   "source": [
    "baselines_tables_display = {\n",
    "    'lstm_ae': lstm_ae_comp_2_metric_encoder_tables_display,\n",
    "    'ts2vec': ts2vec_comp_2_metric_encoder_tables_display,\n",
    "    'mcl': mcl_comp_2_metric_encoder_tables_display,\n",
    "    'timenet': timenet_comp_2_metric_encoder_tables_display\n",
    "}"
   ],
   "metadata": {
    "collapsed": false,
    "ExecuteTime": {
     "end_time": "2025-04-07T09:18:35.241831Z",
     "start_time": "2025-04-07T09:18:35.240046Z"
    }
   },
   "id": "7c6972bd3b00adf1",
   "outputs": [],
   "execution_count": 35
  },
  {
   "cell_type": "code",
   "source": [
    "baselines_tables = {\n",
    "    'lstm_ae': lstm_ae_comp_2_metric_encoder_tables,\n",
    "    'ts2vec': ts2vec_comp_2_metric_encoder_tables,\n",
    "    'mcl': mcl_comp_2_metric_encoder_tables,\n",
    "    'timenet': timenet_comp_2_metric_encoder_tables,\n",
    "}"
   ],
   "metadata": {
    "collapsed": false,
    "ExecuteTime": {
     "end_time": "2025-04-07T09:18:35.277745Z",
     "start_time": "2025-04-07T09:18:35.276050Z"
    }
   },
   "id": "11bbf1d9157b7de7",
   "outputs": [],
   "execution_count": 36
  },
  {
   "cell_type": "code",
   "source": [
    "baselines_tables_mul = {\n",
    "    'lstm_ae': lstm_ae_comp_2_metric_encoder_tables_mul,\n",
    "    'ts2vec': ts2vec_comp_2_metric_encoder_tables_mul,\n",
    "    'mcl': mcl_comp_2_metric_encoder_tables_mul,\n",
    "    'timenet': timenet_comp_2_metric_encoder_tables_mul,\n",
    "}"
   ],
   "metadata": {
    "collapsed": false,
    "ExecuteTime": {
     "end_time": "2025-04-07T09:18:35.303809Z",
     "start_time": "2025-04-07T09:18:35.302133Z"
    }
   },
   "id": "9f788185440366f5",
   "outputs": [],
   "execution_count": 37
  },
  {
   "cell_type": "markdown",
   "source": [
    "### 3.5.1. Internal Clustering Metric"
   ],
   "metadata": {
    "collapsed": false
   },
   "id": "ffe011bd9bff1e5a"
  },
  {
   "cell_type": "code",
   "source": [
    "df_summarized_baselines_results_internal_display \\\n",
    "    = summarize_baselines_results(baselines_tables=baselines_tables_display,\n",
    "                                  clustering_metric_to_consider=CLUSTERING_METRIC_TO_CONSIDER_INTERNAL)\n"
   ],
   "metadata": {
    "collapsed": false,
    "ExecuteTime": {
     "end_time": "2025-04-07T09:18:35.349977Z",
     "start_time": "2025-04-07T09:18:35.346883Z"
    }
   },
   "id": "ee28511b1539f4d3",
   "outputs": [],
   "execution_count": 38
  },
  {
   "cell_type": "code",
   "source": [
    "df_summarized_baselines_results_internal_display"
   ],
   "metadata": {
    "collapsed": false,
    "ExecuteTime": {
     "end_time": "2025-04-07T09:18:35.366320Z",
     "start_time": "2025-04-07T09:18:35.362584Z"
    }
   },
   "id": "7869644b42d16cac",
   "outputs": [
    {
     "data": {
      "text/plain": [
       "                            lstm-auto-encoder - encoder  ts2vec - ts2vec  \\\n",
       "BirdChicken                               118.07 ± 2.39     17.77 ± 2.11   \n",
       "Meat                                     124.33 ± 34.75    64.30 ± 11.59   \n",
       "FaceFour                                  62.81 ± 13.59     47.76 ± 7.45   \n",
       "Strawberry                               349.45 ± 80.62   425.25 ± 21.27   \n",
       "PigCVP                                 2529.64 ± 995.25  496.42 ± 102.12   \n",
       "...                                                 ...              ...   \n",
       "EOGVerticalSignal                       2101.07 ± 23.84   109.80 ± 26.45   \n",
       "DistalPhalanxOutlineCorrect             689.94 ± 197.02   266.65 ± 40.83   \n",
       "ECG200                                   117.69 ± 29.81     27.16 ± 1.18   \n",
       "PigArtPressure                        4204.80 ± 1017.83     36.22 ± 0.72   \n",
       "Phoneme                                 161.39 ± 142.82     31.82 ± 0.87   \n",
       "\n",
       "                                  mcl - mcl timenet - timenet  \n",
       "BirdChicken                     8.41 ± 2.01     117.47 ± 0.56  \n",
       "Meat                           23.22 ± 3.15     80.98 ± 18.75  \n",
       "FaceFour                       18.19 ± 2.49      43.12 ± 8.23  \n",
       "Strawberry                   115.66 ± 14.19    315.24 ± 47.69  \n",
       "PigCVP                         18.64 ± 1.03   437.03 ± 726.10  \n",
       "...                                     ...               ...  \n",
       "EOGVerticalSignal             75.77 ± 14.68  1850.36 ± 438.64  \n",
       "DistalPhalanxOutlineCorrect    76.79 ± 8.26    659.77 ± 67.60  \n",
       "ECG200                        35.21 ± 13.81     93.78 ± 14.19  \n",
       "PigArtPressure                 15.47 ± 0.99   538.06 ± 369.68  \n",
       "Phoneme                        30.11 ± 2.42      63.46 ± 8.21  \n",
       "\n",
       "[112 rows x 4 columns]"
      ],
      "text/html": [
       "<div>\n",
       "<style scoped>\n",
       "    .dataframe tbody tr th:only-of-type {\n",
       "        vertical-align: middle;\n",
       "    }\n",
       "\n",
       "    .dataframe tbody tr th {\n",
       "        vertical-align: top;\n",
       "    }\n",
       "\n",
       "    .dataframe thead th {\n",
       "        text-align: right;\n",
       "    }\n",
       "</style>\n",
       "<table border=\"1\" class=\"dataframe\">\n",
       "  <thead>\n",
       "    <tr style=\"text-align: right;\">\n",
       "      <th></th>\n",
       "      <th>lstm-auto-encoder - encoder</th>\n",
       "      <th>ts2vec - ts2vec</th>\n",
       "      <th>mcl - mcl</th>\n",
       "      <th>timenet - timenet</th>\n",
       "    </tr>\n",
       "  </thead>\n",
       "  <tbody>\n",
       "    <tr>\n",
       "      <th>BirdChicken</th>\n",
       "      <td>118.07 ± 2.39</td>\n",
       "      <td>17.77 ± 2.11</td>\n",
       "      <td>8.41 ± 2.01</td>\n",
       "      <td>117.47 ± 0.56</td>\n",
       "    </tr>\n",
       "    <tr>\n",
       "      <th>Meat</th>\n",
       "      <td>124.33 ± 34.75</td>\n",
       "      <td>64.30 ± 11.59</td>\n",
       "      <td>23.22 ± 3.15</td>\n",
       "      <td>80.98 ± 18.75</td>\n",
       "    </tr>\n",
       "    <tr>\n",
       "      <th>FaceFour</th>\n",
       "      <td>62.81 ± 13.59</td>\n",
       "      <td>47.76 ± 7.45</td>\n",
       "      <td>18.19 ± 2.49</td>\n",
       "      <td>43.12 ± 8.23</td>\n",
       "    </tr>\n",
       "    <tr>\n",
       "      <th>Strawberry</th>\n",
       "      <td>349.45 ± 80.62</td>\n",
       "      <td>425.25 ± 21.27</td>\n",
       "      <td>115.66 ± 14.19</td>\n",
       "      <td>315.24 ± 47.69</td>\n",
       "    </tr>\n",
       "    <tr>\n",
       "      <th>PigCVP</th>\n",
       "      <td>2529.64 ± 995.25</td>\n",
       "      <td>496.42 ± 102.12</td>\n",
       "      <td>18.64 ± 1.03</td>\n",
       "      <td>437.03 ± 726.10</td>\n",
       "    </tr>\n",
       "    <tr>\n",
       "      <th>...</th>\n",
       "      <td>...</td>\n",
       "      <td>...</td>\n",
       "      <td>...</td>\n",
       "      <td>...</td>\n",
       "    </tr>\n",
       "    <tr>\n",
       "      <th>EOGVerticalSignal</th>\n",
       "      <td>2101.07 ± 23.84</td>\n",
       "      <td>109.80 ± 26.45</td>\n",
       "      <td>75.77 ± 14.68</td>\n",
       "      <td>1850.36 ± 438.64</td>\n",
       "    </tr>\n",
       "    <tr>\n",
       "      <th>DistalPhalanxOutlineCorrect</th>\n",
       "      <td>689.94 ± 197.02</td>\n",
       "      <td>266.65 ± 40.83</td>\n",
       "      <td>76.79 ± 8.26</td>\n",
       "      <td>659.77 ± 67.60</td>\n",
       "    </tr>\n",
       "    <tr>\n",
       "      <th>ECG200</th>\n",
       "      <td>117.69 ± 29.81</td>\n",
       "      <td>27.16 ± 1.18</td>\n",
       "      <td>35.21 ± 13.81</td>\n",
       "      <td>93.78 ± 14.19</td>\n",
       "    </tr>\n",
       "    <tr>\n",
       "      <th>PigArtPressure</th>\n",
       "      <td>4204.80 ± 1017.83</td>\n",
       "      <td>36.22 ± 0.72</td>\n",
       "      <td>15.47 ± 0.99</td>\n",
       "      <td>538.06 ± 369.68</td>\n",
       "    </tr>\n",
       "    <tr>\n",
       "      <th>Phoneme</th>\n",
       "      <td>161.39 ± 142.82</td>\n",
       "      <td>31.82 ± 0.87</td>\n",
       "      <td>30.11 ± 2.42</td>\n",
       "      <td>63.46 ± 8.21</td>\n",
       "    </tr>\n",
       "  </tbody>\n",
       "</table>\n",
       "<p>112 rows × 4 columns</p>\n",
       "</div>"
      ]
     },
     "execution_count": 39,
     "metadata": {},
     "output_type": "execute_result"
    }
   ],
   "execution_count": 39
  },
  {
   "cell_type": "code",
   "source": [
    "df_summarized_baselines_internal_results_mul \\\n",
    "    = summarize_baselines_results(baselines_tables=baselines_tables_mul,\n",
    "                                  clustering_metric_to_consider=CLUSTERING_METRIC_TO_CONSIDER_INTERNAL)"
   ],
   "metadata": {
    "collapsed": false,
    "ExecuteTime": {
     "end_time": "2025-04-07T09:18:35.407700Z",
     "start_time": "2025-04-07T09:18:35.404813Z"
    }
   },
   "id": "bce4c78880f6439",
   "outputs": [],
   "execution_count": 40
  },
  {
   "cell_type": "code",
   "source": [
    "df_summarized_baselines_internal_results_mul"
   ],
   "metadata": {
    "collapsed": false,
    "ExecuteTime": {
     "end_time": "2025-04-07T09:18:35.439848Z",
     "start_time": "2025-04-07T09:18:35.432866Z"
    }
   },
   "id": "46de65e1eb6c0125",
   "outputs": [
    {
     "data": {
      "text/plain": [
       "                                                   lstm-auto-encoder - encoder  \\\n",
       "BirdChicken                  [116.97077678910664, 115.96227852986624, 119.8...   \n",
       "Meat                         [75.89080070448293, 111.16380704626528, 121.94...   \n",
       "FaceFour                     [41.5074351479448, 73.07103555828088, 54.46438...   \n",
       "Strawberry                   [311.48371223122854, 213.14470611500195, 430.7...   \n",
       "PigCVP                       [4426.605663941817, 2536.4735790477584, 1936.4...   \n",
       "...                                                                        ...   \n",
       "EOGVerticalSignal            [2105.260456518081, 2143.347490253615, 2094.56...   \n",
       "DistalPhalanxOutlineCorrect  [1036.8715971954607, 677.4815782270201, 509.56...   \n",
       "ECG200                       [136.59810617193824, 120.20819052990474, 99.87...   \n",
       "PigArtPressure               [3125.724515766628, 3222.9579462895704, 4962.5...   \n",
       "Phoneme                      [75.24107722564861, 90.50848203517452, 77.1292...   \n",
       "\n",
       "                                                               ts2vec - ts2vec  \\\n",
       "BirdChicken                  [20.979796630647307, 16.556138714230006, 17.55...   \n",
       "Meat                         [55.46792079271597, 57.52125348779969, 61.2909...   \n",
       "FaceFour                     [51.7285209527488, 46.78528552652914, 41.84466...   \n",
       "Strawberry                   [427.8235153869032, 399.4580407513343, 425.776...   \n",
       "PigCVP                       [467.8024137961087, 503.9176890951551, 453.470...   \n",
       "...                                                                        ...   \n",
       "EOGVerticalSignal            [98.7753197159428, 81.24398750739046, 114.9002...   \n",
       "DistalPhalanxOutlineCorrect  [277.40288047972695, 215.6680954791981, 337.82...   \n",
       "ECG200                       [27.23049336758693, 25.487838181431925, 28.790...   \n",
       "PigArtPressure               [35.887818581961255, 35.63977257380111, 36.343...   \n",
       "Phoneme                      [32.44562157780273, 31.045526352006657, 30.763...   \n",
       "\n",
       "                                                                     mcl - mcl  \\\n",
       "BirdChicken                  [11.293433549460962, 7.9178227745444385, 6.201...   \n",
       "Meat                         [19.534630168653447, 22.647268991578727, 20.45...   \n",
       "FaceFour                     [20.003339661775403, 19.676342357828965, 15.21...   \n",
       "Strawberry                   [100.3836530842985, 130.1737149281695, 135.007...   \n",
       "PigCVP                       [18.412872181124467, 16.766373021147526, 19.78...   \n",
       "...                                                                        ...   \n",
       "EOGVerticalSignal            [83.3518389942423, 64.97877828446275, 60.33655...   \n",
       "DistalPhalanxOutlineCorrect  [70.58081204077006, 91.90950568370768, 76.0778...   \n",
       "ECG200                       [31.07315995796525, 21.93747253235856, 60.9533...   \n",
       "PigArtPressure               [17.026021140005714, 14.208039437868644, 16.09...   \n",
       "Phoneme                      [26.893783602567485, 29.34504316956253, 33.671...   \n",
       "\n",
       "                                                             timenet - timenet  \n",
       "BirdChicken                  [116.70472573157592, 117.56491658929286, 117.6...  \n",
       "Meat                         [68.18886011320602, 74.07395478452239, 93.5236...  \n",
       "FaceFour                     [50.66582440481232, 49.08103377136788, 37.3483...  \n",
       "Strawberry                   [311.4144327479835, 387.80041848080816, 347.00...  \n",
       "PigCVP                       [1888.601402756868, 51.02540894112912, 112.627...  \n",
       "...                                                                        ...  \n",
       "EOGVerticalSignal            [1771.425715173334, 2092.8317257553645, 1331.1...  \n",
       "DistalPhalanxOutlineCorrect  [669.5494764811115, 772.8793428310539, 663.246...  \n",
       "ECG200                       [98.68068733826328, 85.91940585508989, 70.0343...  \n",
       "PigArtPressure               [349.66062150603426, 211.60401798840732, 1259....  \n",
       "Phoneme                      [66.3328176718467, 76.12549818633579, 64.98074...  \n",
       "\n",
       "[112 rows x 4 columns]"
      ],
      "text/html": [
       "<div>\n",
       "<style scoped>\n",
       "    .dataframe tbody tr th:only-of-type {\n",
       "        vertical-align: middle;\n",
       "    }\n",
       "\n",
       "    .dataframe tbody tr th {\n",
       "        vertical-align: top;\n",
       "    }\n",
       "\n",
       "    .dataframe thead th {\n",
       "        text-align: right;\n",
       "    }\n",
       "</style>\n",
       "<table border=\"1\" class=\"dataframe\">\n",
       "  <thead>\n",
       "    <tr style=\"text-align: right;\">\n",
       "      <th></th>\n",
       "      <th>lstm-auto-encoder - encoder</th>\n",
       "      <th>ts2vec - ts2vec</th>\n",
       "      <th>mcl - mcl</th>\n",
       "      <th>timenet - timenet</th>\n",
       "    </tr>\n",
       "  </thead>\n",
       "  <tbody>\n",
       "    <tr>\n",
       "      <th>BirdChicken</th>\n",
       "      <td>[116.97077678910664, 115.96227852986624, 119.8...</td>\n",
       "      <td>[20.979796630647307, 16.556138714230006, 17.55...</td>\n",
       "      <td>[11.293433549460962, 7.9178227745444385, 6.201...</td>\n",
       "      <td>[116.70472573157592, 117.56491658929286, 117.6...</td>\n",
       "    </tr>\n",
       "    <tr>\n",
       "      <th>Meat</th>\n",
       "      <td>[75.89080070448293, 111.16380704626528, 121.94...</td>\n",
       "      <td>[55.46792079271597, 57.52125348779969, 61.2909...</td>\n",
       "      <td>[19.534630168653447, 22.647268991578727, 20.45...</td>\n",
       "      <td>[68.18886011320602, 74.07395478452239, 93.5236...</td>\n",
       "    </tr>\n",
       "    <tr>\n",
       "      <th>FaceFour</th>\n",
       "      <td>[41.5074351479448, 73.07103555828088, 54.46438...</td>\n",
       "      <td>[51.7285209527488, 46.78528552652914, 41.84466...</td>\n",
       "      <td>[20.003339661775403, 19.676342357828965, 15.21...</td>\n",
       "      <td>[50.66582440481232, 49.08103377136788, 37.3483...</td>\n",
       "    </tr>\n",
       "    <tr>\n",
       "      <th>Strawberry</th>\n",
       "      <td>[311.48371223122854, 213.14470611500195, 430.7...</td>\n",
       "      <td>[427.8235153869032, 399.4580407513343, 425.776...</td>\n",
       "      <td>[100.3836530842985, 130.1737149281695, 135.007...</td>\n",
       "      <td>[311.4144327479835, 387.80041848080816, 347.00...</td>\n",
       "    </tr>\n",
       "    <tr>\n",
       "      <th>PigCVP</th>\n",
       "      <td>[4426.605663941817, 2536.4735790477584, 1936.4...</td>\n",
       "      <td>[467.8024137961087, 503.9176890951551, 453.470...</td>\n",
       "      <td>[18.412872181124467, 16.766373021147526, 19.78...</td>\n",
       "      <td>[1888.601402756868, 51.02540894112912, 112.627...</td>\n",
       "    </tr>\n",
       "    <tr>\n",
       "      <th>...</th>\n",
       "      <td>...</td>\n",
       "      <td>...</td>\n",
       "      <td>...</td>\n",
       "      <td>...</td>\n",
       "    </tr>\n",
       "    <tr>\n",
       "      <th>EOGVerticalSignal</th>\n",
       "      <td>[2105.260456518081, 2143.347490253615, 2094.56...</td>\n",
       "      <td>[98.7753197159428, 81.24398750739046, 114.9002...</td>\n",
       "      <td>[83.3518389942423, 64.97877828446275, 60.33655...</td>\n",
       "      <td>[1771.425715173334, 2092.8317257553645, 1331.1...</td>\n",
       "    </tr>\n",
       "    <tr>\n",
       "      <th>DistalPhalanxOutlineCorrect</th>\n",
       "      <td>[1036.8715971954607, 677.4815782270201, 509.56...</td>\n",
       "      <td>[277.40288047972695, 215.6680954791981, 337.82...</td>\n",
       "      <td>[70.58081204077006, 91.90950568370768, 76.0778...</td>\n",
       "      <td>[669.5494764811115, 772.8793428310539, 663.246...</td>\n",
       "    </tr>\n",
       "    <tr>\n",
       "      <th>ECG200</th>\n",
       "      <td>[136.59810617193824, 120.20819052990474, 99.87...</td>\n",
       "      <td>[27.23049336758693, 25.487838181431925, 28.790...</td>\n",
       "      <td>[31.07315995796525, 21.93747253235856, 60.9533...</td>\n",
       "      <td>[98.68068733826328, 85.91940585508989, 70.0343...</td>\n",
       "    </tr>\n",
       "    <tr>\n",
       "      <th>PigArtPressure</th>\n",
       "      <td>[3125.724515766628, 3222.9579462895704, 4962.5...</td>\n",
       "      <td>[35.887818581961255, 35.63977257380111, 36.343...</td>\n",
       "      <td>[17.026021140005714, 14.208039437868644, 16.09...</td>\n",
       "      <td>[349.66062150603426, 211.60401798840732, 1259....</td>\n",
       "    </tr>\n",
       "    <tr>\n",
       "      <th>Phoneme</th>\n",
       "      <td>[75.24107722564861, 90.50848203517452, 77.1292...</td>\n",
       "      <td>[32.44562157780273, 31.045526352006657, 30.763...</td>\n",
       "      <td>[26.893783602567485, 29.34504316956253, 33.671...</td>\n",
       "      <td>[66.3328176718467, 76.12549818633579, 64.98074...</td>\n",
       "    </tr>\n",
       "  </tbody>\n",
       "</table>\n",
       "<p>112 rows × 4 columns</p>\n",
       "</div>"
      ]
     },
     "execution_count": 41,
     "metadata": {},
     "output_type": "execute_result"
    }
   ],
   "execution_count": 41
  },
  {
   "cell_type": "code",
   "source": [
    "baselines_display_names = [MODEL_TO_DISPLAY_NAME_MAP[name] for name in df_summarized_baselines_internal_results_mul.columns]\n",
    "do_cd_analysis_multiple(df_summarized_baselines_internal_results_mul,\n",
    "                        df_summarized_baselines_internal_results_mul.columns,\n",
    "                        baselines_display_names)\n",
    "\n",
    "plt.savefig(PLOTS_OUTPUT_DIR / 'baselines_cd_internal.eps', format='eps', bbox_inches='tight', dpi=300)"
   ],
   "metadata": {
    "collapsed": false,
    "ExecuteTime": {
     "end_time": "2025-04-07T09:18:35.625686Z",
     "start_time": "2025-04-07T09:18:35.481680Z"
    }
   },
   "id": "ca8c5973e9497fc0",
   "outputs": [
    {
     "name": "stdout",
     "output_type": "stream",
     "text": [
      "Statistics=1146.3321428571435, p=3.2293240142992236e-248\n",
      "Significant differences found. Proceeding to CD analysis.\n",
      "Number of datasets: 560\n",
      "Number of algorithms: 4\n",
      "Critical difference: 0.19820512187990647\n",
      "\n",
      "Algorithm Name                 Rank\n",
      "-------------------------------------\n",
      "LSTM-AE                        1.38\n",
      "TimeNet                        1.93\n",
      "TS2Vec                         2.89\n",
      "MCL                            3.80\n"
     ]
    },
    {
     "data": {
      "text/plain": [
       "<Figure size 600x155 with 1 Axes>"
      ],
      "image/png": "[encoded data removed]"
     },
     "metadata": {},
     "output_type": "display_data"
    }
   ],
   "execution_count": 42
  },
  {
   "cell_type": "markdown",
   "source": [
    "### 3.5.2. External Clustering Metric"
   ],
   "metadata": {
    "collapsed": false
   },
   "id": "8618d91cfe2e1165"
  },
  {
   "cell_type": "code",
   "source": [
    "df_summarized_baselines_results_external_display \\\n",
    "    = summarize_baselines_results(baselines_tables=baselines_tables_display,\n",
    "                                  clustering_metric_to_consider=CLUSTERING_METRIC_TO_CONSIDER_EXTERNAL)\n"
   ],
   "metadata": {
    "collapsed": false,
    "ExecuteTime": {
     "end_time": "2025-04-07T09:18:35.646475Z",
     "start_time": "2025-04-07T09:18:35.643306Z"
    }
   },
   "id": "aeca49ebef88293c",
   "outputs": [],
   "execution_count": 43
  },
  {
   "cell_type": "code",
   "source": [
    "df_summarized_baselines_results_external_display"
   ],
   "metadata": {
    "collapsed": false,
    "ExecuteTime": {
     "end_time": "2025-04-07T09:18:35.689724Z",
     "start_time": "2025-04-07T09:18:35.684706Z"
    }
   },
   "id": "8950112e5e3291ed",
   "outputs": [
    {
     "data": {
      "text/plain": [
       "                            lstm-auto-encoder - encoder ts2vec - ts2vec  \\\n",
       "BirdChicken                                -0.01 ± 0.00    -0.03 ± 0.02   \n",
       "Meat                                        0.05 ± 0.02    -0.01 ± 0.02   \n",
       "FaceFour                                    0.21 ± 0.01     0.07 ± 0.05   \n",
       "Strawberry                                 -0.01 ± 0.01    -0.00 ± 0.00   \n",
       "PigCVP                                      0.01 ± 0.01     0.12 ± 0.01   \n",
       "...                                                 ...             ...   \n",
       "EOGVerticalSignal                           0.04 ± 0.00     0.05 ± 0.00   \n",
       "DistalPhalanxOutlineCorrect                -0.00 ± 0.00     0.00 ± 0.00   \n",
       "ECG200                                      0.19 ± 0.06     0.16 ± 0.09   \n",
       "PigArtPressure                              0.01 ± 0.01     0.44 ± 0.02   \n",
       "Phoneme                                     0.02 ± 0.00     0.06 ± 0.01   \n",
       "\n",
       "                                mcl - mcl timenet - timenet  \n",
       "BirdChicken                  -0.01 ± 0.03      -0.01 ± 0.00  \n",
       "Meat                          0.43 ± 0.06       0.34 ± 0.11  \n",
       "FaceFour                      0.34 ± 0.14       0.19 ± 0.06  \n",
       "Strawberry                   -0.01 ± 0.02       0.01 ± 0.02  \n",
       "PigCVP                        0.02 ± 0.01       0.05 ± 0.02  \n",
       "...                                   ...               ...  \n",
       "EOGVerticalSignal             0.08 ± 0.01       0.04 ± 0.00  \n",
       "DistalPhalanxOutlineCorrect  -0.00 ± 0.00       0.00 ± 0.00  \n",
       "ECG200                        0.22 ± 0.17       0.23 ± 0.06  \n",
       "PigArtPressure                0.14 ± 0.01       0.00 ± 0.01  \n",
       "Phoneme                       0.00 ± 0.00       0.02 ± 0.00  \n",
       "\n",
       "[112 rows x 4 columns]"
      ],
      "text/html": [
       "<div>\n",
       "<style scoped>\n",
       "    .dataframe tbody tr th:only-of-type {\n",
       "        vertical-align: middle;\n",
       "    }\n",
       "\n",
       "    .dataframe tbody tr th {\n",
       "        vertical-align: top;\n",
       "    }\n",
       "\n",
       "    .dataframe thead th {\n",
       "        text-align: right;\n",
       "    }\n",
       "</style>\n",
       "<table border=\"1\" class=\"dataframe\">\n",
       "  <thead>\n",
       "    <tr style=\"text-align: right;\">\n",
       "      <th></th>\n",
       "      <th>lstm-auto-encoder - encoder</th>\n",
       "      <th>ts2vec - ts2vec</th>\n",
       "      <th>mcl - mcl</th>\n",
       "      <th>timenet - timenet</th>\n",
       "    </tr>\n",
       "  </thead>\n",
       "  <tbody>\n",
       "    <tr>\n",
       "      <th>BirdChicken</th>\n",
       "      <td>-0.01 ± 0.00</td>\n",
       "      <td>-0.03 ± 0.02</td>\n",
       "      <td>-0.01 ± 0.03</td>\n",
       "      <td>-0.01 ± 0.00</td>\n",
       "    </tr>\n",
       "    <tr>\n",
       "      <th>Meat</th>\n",
       "      <td>0.05 ± 0.02</td>\n",
       "      <td>-0.01 ± 0.02</td>\n",
       "      <td>0.43 ± 0.06</td>\n",
       "      <td>0.34 ± 0.11</td>\n",
       "    </tr>\n",
       "    <tr>\n",
       "      <th>FaceFour</th>\n",
       "      <td>0.21 ± 0.01</td>\n",
       "      <td>0.07 ± 0.05</td>\n",
       "      <td>0.34 ± 0.14</td>\n",
       "      <td>0.19 ± 0.06</td>\n",
       "    </tr>\n",
       "    <tr>\n",
       "      <th>Strawberry</th>\n",
       "      <td>-0.01 ± 0.01</td>\n",
       "      <td>-0.00 ± 0.00</td>\n",
       "      <td>-0.01 ± 0.02</td>\n",
       "      <td>0.01 ± 0.02</td>\n",
       "    </tr>\n",
       "    <tr>\n",
       "      <th>PigCVP</th>\n",
       "      <td>0.01 ± 0.01</td>\n",
       "      <td>0.12 ± 0.01</td>\n",
       "      <td>0.02 ± 0.01</td>\n",
       "      <td>0.05 ± 0.02</td>\n",
       "    </tr>\n",
       "    <tr>\n",
       "      <th>...</th>\n",
       "      <td>...</td>\n",
       "      <td>...</td>\n",
       "      <td>...</td>\n",
       "      <td>...</td>\n",
       "    </tr>\n",
       "    <tr>\n",
       "      <th>EOGVerticalSignal</th>\n",
       "      <td>0.04 ± 0.00</td>\n",
       "      <td>0.05 ± 0.00</td>\n",
       "      <td>0.08 ± 0.01</td>\n",
       "      <td>0.04 ± 0.00</td>\n",
       "    </tr>\n",
       "    <tr>\n",
       "      <th>DistalPhalanxOutlineCorrect</th>\n",
       "      <td>-0.00 ± 0.00</td>\n",
       "      <td>0.00 ± 0.00</td>\n",
       "      <td>-0.00 ± 0.00</td>\n",
       "      <td>0.00 ± 0.00</td>\n",
       "    </tr>\n",
       "    <tr>\n",
       "      <th>ECG200</th>\n",
       "      <td>0.19 ± 0.06</td>\n",
       "      <td>0.16 ± 0.09</td>\n",
       "      <td>0.22 ± 0.17</td>\n",
       "      <td>0.23 ± 0.06</td>\n",
       "    </tr>\n",
       "    <tr>\n",
       "      <th>PigArtPressure</th>\n",
       "      <td>0.01 ± 0.01</td>\n",
       "      <td>0.44 ± 0.02</td>\n",
       "      <td>0.14 ± 0.01</td>\n",
       "      <td>0.00 ± 0.01</td>\n",
       "    </tr>\n",
       "    <tr>\n",
       "      <th>Phoneme</th>\n",
       "      <td>0.02 ± 0.00</td>\n",
       "      <td>0.06 ± 0.01</td>\n",
       "      <td>0.00 ± 0.00</td>\n",
       "      <td>0.02 ± 0.00</td>\n",
       "    </tr>\n",
       "  </tbody>\n",
       "</table>\n",
       "<p>112 rows × 4 columns</p>\n",
       "</div>"
      ]
     },
     "execution_count": 44,
     "metadata": {},
     "output_type": "execute_result"
    }
   ],
   "execution_count": 44
  },
  {
   "cell_type": "code",
   "source": [
    "df_summarized_baselines_external_results_mul \\\n",
    "    = summarize_baselines_results(baselines_tables=baselines_tables_mul,\n",
    "                                  clustering_metric_to_consider=CLUSTERING_METRIC_TO_CONSIDER_EXTERNAL)"
   ],
   "metadata": {
    "collapsed": false,
    "ExecuteTime": {
     "end_time": "2025-04-07T09:18:35.716994Z",
     "start_time": "2025-04-07T09:18:35.714366Z"
    }
   },
   "id": "b1a719fbb3d453a7",
   "outputs": [],
   "execution_count": 45
  },
  {
   "cell_type": "code",
   "source": [
    "df_summarized_baselines_external_results_mul"
   ],
   "metadata": {
    "collapsed": false,
    "ExecuteTime": {
     "end_time": "2025-04-07T09:18:35.761552Z",
     "start_time": "2025-04-07T09:18:35.752571Z"
    }
   },
   "id": "6d0df4f93b6687d1",
   "outputs": [
    {
     "data": {
      "text/plain": [
       "                                                   lstm-auto-encoder - encoder  \\\n",
       "BirdChicken                  [-0.0110864745011086, -0.0110864745011086, -0....   \n",
       "Meat                         [0.068360517252583, 0.0574763314230535, 0.0393...   \n",
       "FaceFour                     [0.2003070531924501, 0.1986824031590575, 0.227...   \n",
       "Strawberry                   [-0.0090023522703105, -0.0383817204544089, 0.0...   \n",
       "PigCVP                       [0.0132695789950203, 0.005432014938041, 0.0034...   \n",
       "...                                                                        ...   \n",
       "EOGVerticalSignal            [0.0353420939661834, 0.0353420939661834, 0.033...   \n",
       "DistalPhalanxOutlineCorrect  [-0.0017182965486296, -0.0019659912601773, -0....   \n",
       "ECG200                       [0.1801678703884442, 0.1882073839766717, 0.298...   \n",
       "PigArtPressure               [0.0096745967542223, -0.0044134645696872, 0.01...   \n",
       "Phoneme                      [0.0238474352499896, 0.0255267623185734, 0.025...   \n",
       "\n",
       "                                                               ts2vec - ts2vec  \\\n",
       "BirdChicken                  [-0.0398009950248756, -0.0398009950248756, -0....   \n",
       "Meat                         [0.0261551202788852, -0.0217793622036506, -0.0...   \n",
       "FaceFour                     [0.0068611050500642, 0.0527049104731287, 0.079...   \n",
       "Strawberry                   [-0.0037733427041697, -0.0028386165634782, 0.0...   \n",
       "PigCVP                       [0.1147387264512829, 0.1091305929428883, 0.126...   \n",
       "...                                                                        ...   \n",
       "EOGVerticalSignal            [0.0439255262767568, 0.0526235770783559, 0.045...   \n",
       "DistalPhalanxOutlineCorrect  [0.0017456666765303, 0.0007089831246657, 0.002...   \n",
       "ECG200                       [0.1801678703884442, 0.1137146329934499, 0.004...   \n",
       "PigArtPressure               [0.4348072361666725, 0.4183453110064785, 0.436...   \n",
       "Phoneme                      [0.0448725963895696, 0.0668404665647178, 0.055...   \n",
       "\n",
       "                                                                     mcl - mcl  \\\n",
       "BirdChicken                  [-0.0110864745011086, -0.0133333333333333, -0....   \n",
       "Meat                         [0.3298285617768769, 0.5083023700065076, 0.416...   \n",
       "FaceFour                     [0.3770316540734212, 0.2033492111087967, 0.177...   \n",
       "Strawberry                   [0.019853591023958, -0.0310876190657011, -0.01...   \n",
       "PigCVP                       [0.0139853348225125, 0.0196803180391963, 0.038...   \n",
       "...                                                                        ...   \n",
       "EOGVerticalSignal            [0.0761772754934297, 0.0858285334810657, 0.091...   \n",
       "DistalPhalanxOutlineCorrect  [-0.0003513030251179, -0.0019698886830878, -0....   \n",
       "ECG200                       [0.3525831930596918, 0.390981911007438, 0.3461...   \n",
       "PigArtPressure               [0.1350386468406641, 0.1409632262520425, 0.142...   \n",
       "Phoneme                      [0.004597851176992, 0.0045854011833007, 0.0043...   \n",
       "\n",
       "                                                             timenet - timenet  \n",
       "BirdChicken                  [-0.0110864745011086, -0.0110864745011086, -0....  \n",
       "Meat                         [0.4131390238260467, 0.5013870072898523, 0.252...  \n",
       "FaceFour                     [0.2185435851759229, 0.2104904529004709, 0.139...  \n",
       "Strawberry                   [0.0089095928104872, 0.0352375167411948, 0.001...  \n",
       "PigCVP                       [0.0091416302031654, 0.0838593188166484, 0.053...  \n",
       "...                                                                        ...  \n",
       "EOGVerticalSignal            [0.0427773345950841, 0.0353633190894678, 0.046...  \n",
       "DistalPhalanxOutlineCorrect  [-0.0005856688714065, 0.0042211621569673, -0.0...  \n",
       "ECG200                       [0.1635385690375209, 0.2431092667646251, 0.166...  \n",
       "PigArtPressure               [-0.0021965103328795, 0.0270298082530099, -0.0...  \n",
       "Phoneme                      [0.0210014139558805, 0.0229762806914723, 0.029...  \n",
       "\n",
       "[112 rows x 4 columns]"
      ],
      "text/html": [
       "<div>\n",
       "<style scoped>\n",
       "    .dataframe tbody tr th:only-of-type {\n",
       "        vertical-align: middle;\n",
       "    }\n",
       "\n",
       "    .dataframe tbody tr th {\n",
       "        vertical-align: top;\n",
       "    }\n",
       "\n",
       "    .dataframe thead th {\n",
       "        text-align: right;\n",
       "    }\n",
       "</style>\n",
       "<table border=\"1\" class=\"dataframe\">\n",
       "  <thead>\n",
       "    <tr style=\"text-align: right;\">\n",
       "      <th></th>\n",
       "      <th>lstm-auto-encoder - encoder</th>\n",
       "      <th>ts2vec - ts2vec</th>\n",
       "      <th>mcl - mcl</th>\n",
       "      <th>timenet - timenet</th>\n",
       "    </tr>\n",
       "  </thead>\n",
       "  <tbody>\n",
       "    <tr>\n",
       "      <th>BirdChicken</th>\n",
       "      <td>[-0.0110864745011086, -0.0110864745011086, -0....</td>\n",
       "      <td>[-0.0398009950248756, -0.0398009950248756, -0....</td>\n",
       "      <td>[-0.0110864745011086, -0.0133333333333333, -0....</td>\n",
       "      <td>[-0.0110864745011086, -0.0110864745011086, -0....</td>\n",
       "    </tr>\n",
       "    <tr>\n",
       "      <th>Meat</th>\n",
       "      <td>[0.068360517252583, 0.0574763314230535, 0.0393...</td>\n",
       "      <td>[0.0261551202788852, -0.0217793622036506, -0.0...</td>\n",
       "      <td>[0.3298285617768769, 0.5083023700065076, 0.416...</td>\n",
       "      <td>[0.4131390238260467, 0.5013870072898523, 0.252...</td>\n",
       "    </tr>\n",
       "    <tr>\n",
       "      <th>FaceFour</th>\n",
       "      <td>[0.2003070531924501, 0.1986824031590575, 0.227...</td>\n",
       "      <td>[0.0068611050500642, 0.0527049104731287, 0.079...</td>\n",
       "      <td>[0.3770316540734212, 0.2033492111087967, 0.177...</td>\n",
       "      <td>[0.2185435851759229, 0.2104904529004709, 0.139...</td>\n",
       "    </tr>\n",
       "    <tr>\n",
       "      <th>Strawberry</th>\n",
       "      <td>[-0.0090023522703105, -0.0383817204544089, 0.0...</td>\n",
       "      <td>[-0.0037733427041697, -0.0028386165634782, 0.0...</td>\n",
       "      <td>[0.019853591023958, -0.0310876190657011, -0.01...</td>\n",
       "      <td>[0.0089095928104872, 0.0352375167411948, 0.001...</td>\n",
       "    </tr>\n",
       "    <tr>\n",
       "      <th>PigCVP</th>\n",
       "      <td>[0.0132695789950203, 0.005432014938041, 0.0034...</td>\n",
       "      <td>[0.1147387264512829, 0.1091305929428883, 0.126...</td>\n",
       "      <td>[0.0139853348225125, 0.0196803180391963, 0.038...</td>\n",
       "      <td>[0.0091416302031654, 0.0838593188166484, 0.053...</td>\n",
       "    </tr>\n",
       "    <tr>\n",
       "      <th>...</th>\n",
       "      <td>...</td>\n",
       "      <td>...</td>\n",
       "      <td>...</td>\n",
       "      <td>...</td>\n",
       "    </tr>\n",
       "    <tr>\n",
       "      <th>EOGVerticalSignal</th>\n",
       "      <td>[0.0353420939661834, 0.0353420939661834, 0.033...</td>\n",
       "      <td>[0.0439255262767568, 0.0526235770783559, 0.045...</td>\n",
       "      <td>[0.0761772754934297, 0.0858285334810657, 0.091...</td>\n",
       "      <td>[0.0427773345950841, 0.0353633190894678, 0.046...</td>\n",
       "    </tr>\n",
       "    <tr>\n",
       "      <th>DistalPhalanxOutlineCorrect</th>\n",
       "      <td>[-0.0017182965486296, -0.0019659912601773, -0....</td>\n",
       "      <td>[0.0017456666765303, 0.0007089831246657, 0.002...</td>\n",
       "      <td>[-0.0003513030251179, -0.0019698886830878, -0....</td>\n",
       "      <td>[-0.0005856688714065, 0.0042211621569673, -0.0...</td>\n",
       "    </tr>\n",
       "    <tr>\n",
       "      <th>ECG200</th>\n",
       "      <td>[0.1801678703884442, 0.1882073839766717, 0.298...</td>\n",
       "      <td>[0.1801678703884442, 0.1137146329934499, 0.004...</td>\n",
       "      <td>[0.3525831930596918, 0.390981911007438, 0.3461...</td>\n",
       "      <td>[0.1635385690375209, 0.2431092667646251, 0.166...</td>\n",
       "    </tr>\n",
       "    <tr>\n",
       "      <th>PigArtPressure</th>\n",
       "      <td>[0.0096745967542223, -0.0044134645696872, 0.01...</td>\n",
       "      <td>[0.4348072361666725, 0.4183453110064785, 0.436...</td>\n",
       "      <td>[0.1350386468406641, 0.1409632262520425, 0.142...</td>\n",
       "      <td>[-0.0021965103328795, 0.0270298082530099, -0.0...</td>\n",
       "    </tr>\n",
       "    <tr>\n",
       "      <th>Phoneme</th>\n",
       "      <td>[0.0238474352499896, 0.0255267623185734, 0.025...</td>\n",
       "      <td>[0.0448725963895696, 0.0668404665647178, 0.055...</td>\n",
       "      <td>[0.004597851176992, 0.0045854011833007, 0.0043...</td>\n",
       "      <td>[0.0210014139558805, 0.0229762806914723, 0.029...</td>\n",
       "    </tr>\n",
       "  </tbody>\n",
       "</table>\n",
       "<p>112 rows × 4 columns</p>\n",
       "</div>"
      ]
     },
     "execution_count": 46,
     "metadata": {},
     "output_type": "execute_result"
    }
   ],
   "execution_count": 46
  },
  {
   "cell_type": "code",
   "source": [
    "df_summarized_baselines_external_results_mul = summarize_baselines_results(baselines_tables=baselines_tables_mul,\n",
    "                                                                           clustering_metric_to_consider=CLUSTERING_METRIC_TO_CONSIDER_EXTERNAL)"
   ],
   "metadata": {
    "collapsed": false,
    "ExecuteTime": {
     "end_time": "2025-04-07T09:18:35.812110Z",
     "start_time": "2025-04-07T09:18:35.808898Z"
    }
   },
   "id": "270e4303ea82da61",
   "outputs": [],
   "execution_count": 47
  },
  {
   "cell_type": "code",
   "source": [
    "baselines_display_names = [MODEL_TO_DISPLAY_NAME_MAP[name] for name in df_summarized_baselines_external_results_mul.columns]\n",
    "do_cd_analysis_multiple(df_summarized_baselines_external_results_mul,\n",
    "                        df_summarized_baselines_external_results_mul.columns,\n",
    "                        baselines_display_names)\n",
    "\n",
    "plt.savefig(PLOTS_OUTPUT_DIR / 'baselines_cd.eps', format='eps', bbox_inches='tight', dpi=300)"
   ],
   "metadata": {
    "collapsed": false,
    "ExecuteTime": {
     "end_time": "2025-04-07T09:18:35.947374Z",
     "start_time": "2025-04-07T09:18:35.880225Z"
    }
   },
   "id": "32a59998777d86d0",
   "outputs": [
    {
     "name": "stdout",
     "output_type": "stream",
     "text": [
      "Statistics=90.99444752915142, p=1.3395247648895524e-19\n",
      "Significant differences found. Proceeding to CD analysis.\n",
      "Number of datasets: 560\n",
      "Number of algorithms: 4\n",
      "Critical difference: 0.19820512187990647\n",
      "\n",
      "Algorithm Name                 Rank\n",
      "-------------------------------------\n",
      "TS2Vec                         2.19\n",
      "TimeNet                        2.34\n",
      "MCL                            2.61\n",
      "LSTM-AE                        2.86\n"
     ]
    },
    {
     "data": {
      "text/plain": [
       "<Figure size 600x155 with 1 Axes>"
      ],
      "image/png": "[encoded data removed]"
     },
     "metadata": {},
     "output_type": "display_data"
    }
   ],
   "execution_count": 48
  },
  {
   "cell_type": "markdown",
   "source": [
    "# 4. TSRC"
   ],
   "metadata": {
    "collapsed": false
   },
   "id": "befd1a74a4ef5f3c"
  },
  {
   "cell_type": "code",
   "source": [
    "TSRC_MODEL_MAIN_DIR = CLUSTERING_MAIN_RESULTS_DIR / 'representations'"
   ],
   "metadata": {
    "collapsed": false,
    "ExecuteTime": {
     "end_time": "2025-04-07T09:18:35.981780Z",
     "start_time": "2025-04-07T09:18:35.979598Z"
    }
   },
   "id": "2e93362c003c410c",
   "outputs": [],
   "execution_count": 49
  },
  {
   "cell_type": "markdown",
   "source": [
    "## 4.1. External Clustering Metric"
   ],
   "metadata": {
    "collapsed": false
   },
   "id": "b71e2ed4eb393923"
  },
  {
   "cell_type": "markdown",
   "source": [
    "### 4.1.1 Experiment 1"
   ],
   "metadata": {
    "collapsed": false
   },
   "id": "c51e6b71a8a43d21"
  },
  {
   "cell_type": "code",
   "source": [
    "experiment_1_main_dir = TSRC_MODEL_MAIN_DIR / 'ts2vec_to_timenet_88c1e7d54bda54398837d6eff0022678'"
   ],
   "metadata": {
    "collapsed": false,
    "ExecuteTime": {
     "end_time": "2025-04-07T09:18:36.016081Z",
     "start_time": "2025-04-07T09:18:36.014435Z"
    }
   },
   "id": "5af842fed129335f",
   "outputs": [],
   "execution_count": 50
  },
  {
   "cell_type": "code",
   "source": [
    "experiment_1_results_dir = experiment_1_main_dir / 'compression_2'"
   ],
   "metadata": {
    "collapsed": false,
    "ExecuteTime": {
     "end_time": "2025-04-07T09:18:36.066379Z",
     "start_time": "2025-04-07T09:18:36.064964Z"
    }
   },
   "id": "acb9ff087f13dc5b",
   "outputs": [],
   "execution_count": 51
  },
  {
   "cell_type": "code",
   "source": [
    "experiment_1_encoders_list = ['tsrc-ts2vec-timenet - student-model-encoder']"
   ],
   "metadata": {
    "collapsed": false,
    "ExecuteTime": {
     "end_time": "2025-04-07T09:18:36.071140Z",
     "start_time": "2025-04-07T09:18:36.069796Z"
    }
   },
   "id": "484bb7ef63cd2707",
   "outputs": [],
   "execution_count": 52
  },
  {
   "cell_type": "code",
   "source": [
    "experiment_1_encoder_metric_tables, experiment_1_metric_encoder_tables, experiment_1_encoder_metric_tables_display, experiment_1_metric_encoder_tables_display = \\\n",
    "    analyze_representation_results(representations_results_folder=experiment_1_results_dir,\n",
    "                                   metrics=CLUSTERING_METRICS,\n",
    "                                   encoders_list=experiment_1_encoders_list)"
   ],
   "metadata": {
    "collapsed": false,
    "ExecuteTime": {
     "end_time": "2025-04-07T09:18:36.477479Z",
     "start_time": "2025-04-07T09:18:36.094736Z"
    }
   },
   "id": "27169810e820be9",
   "outputs": [
    {
     "data": {
      "text/plain": [
       "<IPython.core.display.Markdown object>"
      ],
      "text/markdown": "### ARI ###"
     },
     "metadata": {},
     "output_type": "display_data"
    },
    {
     "data": {
      "text/plain": [
       "              tsrc-ts2vec-timenet - student-model-encoder\n",
       "ACSF1                                         0.19 ± 0.01\n",
       "Adiac                                         0.22 ± 0.03\n",
       "ArrowHead                                     0.03 ± 0.03\n",
       "BME                                           0.31 ± 0.11\n",
       "Beef                                          0.11 ± 0.05\n",
       "...                                                   ...\n",
       "Wine                                          0.00 ± 0.02\n",
       "WordSynonyms                                  0.20 ± 0.02\n",
       "Worms                                         0.05 ± 0.01\n",
       "WormsTwoClass                                 0.00 ± 0.01\n",
       "Yoga                                          0.00 ± 0.00\n",
       "\n",
       "[112 rows x 1 columns]"
      ],
      "text/html": [
       "<div>\n",
       "<style scoped>\n",
       "    .dataframe tbody tr th:only-of-type {\n",
       "        vertical-align: middle;\n",
       "    }\n",
       "\n",
       "    .dataframe tbody tr th {\n",
       "        vertical-align: top;\n",
       "    }\n",
       "\n",
       "    .dataframe thead th {\n",
       "        text-align: right;\n",
       "    }\n",
       "</style>\n",
       "<table border=\"1\" class=\"dataframe\">\n",
       "  <thead>\n",
       "    <tr style=\"text-align: right;\">\n",
       "      <th></th>\n",
       "      <th>tsrc-ts2vec-timenet - student-model-encoder</th>\n",
       "    </tr>\n",
       "  </thead>\n",
       "  <tbody>\n",
       "    <tr>\n",
       "      <th>ACSF1</th>\n",
       "      <td>0.19 ± 0.01</td>\n",
       "    </tr>\n",
       "    <tr>\n",
       "      <th>Adiac</th>\n",
       "      <td>0.22 ± 0.03</td>\n",
       "    </tr>\n",
       "    <tr>\n",
       "      <th>ArrowHead</th>\n",
       "      <td>0.03 ± 0.03</td>\n",
       "    </tr>\n",
       "    <tr>\n",
       "      <th>BME</th>\n",
       "      <td>0.31 ± 0.11</td>\n",
       "    </tr>\n",
       "    <tr>\n",
       "      <th>Beef</th>\n",
       "      <td>0.11 ± 0.05</td>\n",
       "    </tr>\n",
       "    <tr>\n",
       "      <th>...</th>\n",
       "      <td>...</td>\n",
       "    </tr>\n",
       "    <tr>\n",
       "      <th>Wine</th>\n",
       "      <td>0.00 ± 0.02</td>\n",
       "    </tr>\n",
       "    <tr>\n",
       "      <th>WordSynonyms</th>\n",
       "      <td>0.20 ± 0.02</td>\n",
       "    </tr>\n",
       "    <tr>\n",
       "      <th>Worms</th>\n",
       "      <td>0.05 ± 0.01</td>\n",
       "    </tr>\n",
       "    <tr>\n",
       "      <th>WormsTwoClass</th>\n",
       "      <td>0.00 ± 0.01</td>\n",
       "    </tr>\n",
       "    <tr>\n",
       "      <th>Yoga</th>\n",
       "      <td>0.00 ± 0.00</td>\n",
       "    </tr>\n",
       "  </tbody>\n",
       "</table>\n",
       "<p>112 rows × 1 columns</p>\n",
       "</div>"
      ]
     },
     "metadata": {},
     "output_type": "display_data"
    },
    {
     "data": {
      "text/plain": [
       "<IPython.core.display.Markdown object>"
      ],
      "text/markdown": "### CHS ###"
     },
     "metadata": {},
     "output_type": "display_data"
    },
    {
     "data": {
      "text/plain": [
       "              tsrc-ts2vec-timenet - student-model-encoder\n",
       "ACSF1                                       87.38 ± 14.33\n",
       "Adiac                                      187.46 ± 17.90\n",
       "ArrowHead                                   67.48 ± 13.25\n",
       "BME                                        190.43 ± 66.15\n",
       "Beef                                        37.08 ± 16.03\n",
       "...                                                   ...\n",
       "Wine                                        48.29 ± 11.50\n",
       "WordSynonyms                                 65.83 ± 5.51\n",
       "Worms                                        57.47 ± 3.39\n",
       "WormsTwoClass                                47.24 ± 4.81\n",
       "Yoga                                      650.72 ± 101.61\n",
       "\n",
       "[112 rows x 1 columns]"
      ],
      "text/html": [
       "<div>\n",
       "<style scoped>\n",
       "    .dataframe tbody tr th:only-of-type {\n",
       "        vertical-align: middle;\n",
       "    }\n",
       "\n",
       "    .dataframe tbody tr th {\n",
       "        vertical-align: top;\n",
       "    }\n",
       "\n",
       "    .dataframe thead th {\n",
       "        text-align: right;\n",
       "    }\n",
       "</style>\n",
       "<table border=\"1\" class=\"dataframe\">\n",
       "  <thead>\n",
       "    <tr style=\"text-align: right;\">\n",
       "      <th></th>\n",
       "      <th>tsrc-ts2vec-timenet - student-model-encoder</th>\n",
       "    </tr>\n",
       "  </thead>\n",
       "  <tbody>\n",
       "    <tr>\n",
       "      <th>ACSF1</th>\n",
       "      <td>87.38 ± 14.33</td>\n",
       "    </tr>\n",
       "    <tr>\n",
       "      <th>Adiac</th>\n",
       "      <td>187.46 ± 17.90</td>\n",
       "    </tr>\n",
       "    <tr>\n",
       "      <th>ArrowHead</th>\n",
       "      <td>67.48 ± 13.25</td>\n",
       "    </tr>\n",
       "    <tr>\n",
       "      <th>BME</th>\n",
       "      <td>190.43 ± 66.15</td>\n",
       "    </tr>\n",
       "    <tr>\n",
       "      <th>Beef</th>\n",
       "      <td>37.08 ± 16.03</td>\n",
       "    </tr>\n",
       "    <tr>\n",
       "      <th>...</th>\n",
       "      <td>...</td>\n",
       "    </tr>\n",
       "    <tr>\n",
       "      <th>Wine</th>\n",
       "      <td>48.29 ± 11.50</td>\n",
       "    </tr>\n",
       "    <tr>\n",
       "      <th>WordSynonyms</th>\n",
       "      <td>65.83 ± 5.51</td>\n",
       "    </tr>\n",
       "    <tr>\n",
       "      <th>Worms</th>\n",
       "      <td>57.47 ± 3.39</td>\n",
       "    </tr>\n",
       "    <tr>\n",
       "      <th>WormsTwoClass</th>\n",
       "      <td>47.24 ± 4.81</td>\n",
       "    </tr>\n",
       "    <tr>\n",
       "      <th>Yoga</th>\n",
       "      <td>650.72 ± 101.61</td>\n",
       "    </tr>\n",
       "  </tbody>\n",
       "</table>\n",
       "<p>112 rows × 1 columns</p>\n",
       "</div>"
      ]
     },
     "metadata": {},
     "output_type": "display_data"
    }
   ],
   "execution_count": 53
  },
  {
   "cell_type": "code",
   "source": [
    "experiment_1_encoder_metric_tables_mul, experiment_1_metric_encoder_tables_mul = analyze_representation_results_2(\n",
    "    representations_results_folder=experiment_1_results_dir,\n",
    "    metrics=CLUSTERING_METRICS,\n",
    "    encoders_list=experiment_1_encoders_list)"
   ],
   "metadata": {
    "collapsed": false,
    "ExecuteTime": {
     "end_time": "2025-04-07T09:18:36.731134Z",
     "start_time": "2025-04-07T09:18:36.503376Z"
    }
   },
   "id": "bb1c3a0c6e8e9907",
   "outputs": [],
   "execution_count": 54
  },
  {
   "cell_type": "code",
   "source": [
    "experiment_1_baselines_columns = ['ts2vec - ts2vec', 'timenet - timenet']\n",
    "experiment_1_baseline_results_mul = df_summarized_baselines_external_results_mul[experiment_1_baselines_columns]"
   ],
   "metadata": {
    "collapsed": false,
    "ExecuteTime": {
     "end_time": "2025-04-07T09:18:36.768457Z",
     "start_time": "2025-04-07T09:18:36.766345Z"
    }
   },
   "id": "828b5e3418178673",
   "outputs": [],
   "execution_count": 55
  },
  {
   "cell_type": "code",
   "source": [
    "experiment_1_results_mul = pd.concat([experiment_1_metric_encoder_tables_mul[CLUSTERING_METRIC_TO_CONSIDER_EXTERNAL],\n",
    "                                      experiment_1_baseline_results_mul], axis=1)"
   ],
   "metadata": {
    "collapsed": false,
    "ExecuteTime": {
     "end_time": "2025-04-07T09:18:36.799530Z",
     "start_time": "2025-04-07T09:18:36.797459Z"
    }
   },
   "id": "60bd4126458446f6",
   "outputs": [],
   "execution_count": 56
  },
  {
   "cell_type": "code",
   "source": [
    "experiment_1_results_mul"
   ],
   "metadata": {
    "collapsed": false,
    "ExecuteTime": {
     "end_time": "2025-04-07T09:18:36.834128Z",
     "start_time": "2025-04-07T09:18:36.828082Z"
    }
   },
   "id": "a8a9af442c9f87af",
   "outputs": [
    {
     "data": {
      "text/plain": [
       "                                  tsrc-ts2vec-timenet - student-model-encoder  \\\n",
       "Fish                        [0.0929762279243248, 0.1392893903864162, 0.091...   \n",
       "PowerCons                   [0.6027199258706454, 0.6027188236926064, 0.551...   \n",
       "Haptics                     [0.0284120595918943, 0.0121129204153964, 0.029...   \n",
       "ToeSegmentation1            [0.0005247154925951, 0.0006431234361549, -0.00...   \n",
       "GunPointAgeSpan             [-0.0033048146354169, -0.0033048146354169, -0....   \n",
       "...                                                                       ...   \n",
       "RefrigerationDevices        [0.0102751958153268, 0.0101601148262433, 0.011...   \n",
       "FreezerSmallTrain           [0.2054185665510239, 0.2381634025911946, 0.240...   \n",
       "SemgHandSubjectCh2          [0.0683675272302541, 0.0466972614904718, 0.093...   \n",
       "Adiac                       [0.2204710652966962, 0.1725006270901752, 0.198...   \n",
       "NonInvasiveFetalECGThorax1  [0.3162255787877864, 0.3719327559911665, 0.357...   \n",
       "\n",
       "                                                              ts2vec - ts2vec  \\\n",
       "Fish                        [0.0696167914401941, 0.0521844293272864, 0.100...   \n",
       "PowerCons                   [0.3303094258828358, 0.5029074445005466, 0.426...   \n",
       "Haptics                     [0.0457634423236138, 0.0658865538860917, 0.089...   \n",
       "ToeSegmentation1            [0.1692130055723824, 0.1449957328603223, 0.157...   \n",
       "GunPointAgeSpan             [-0.0033048146354169, -0.0033048146354169, -0....   \n",
       "...                                                                       ...   \n",
       "RefrigerationDevices        [0.0488148229945894, 0.064286745863637, 0.0577...   \n",
       "FreezerSmallTrain           [0.2079516020695801, 0.2130569507106048, 0.214...   \n",
       "SemgHandSubjectCh2          [0.0750277674275449, 0.0653420124754291, 0.074...   \n",
       "Adiac                       [0.2482650649878982, 0.2460619522194201, 0.264...   \n",
       "NonInvasiveFetalECGThorax1  [0.3876072083214685, 0.3759199400592672, 0.381...   \n",
       "\n",
       "                                                            timenet - timenet  \n",
       "Fish                        [0.1037464356507365, 0.1141632311644858, 0.085...  \n",
       "PowerCons                   [0.0085154058528909, 0.0107600568122157, 0.010...  \n",
       "Haptics                     [0.0369663085536759, 0.034315396879518, 0.0538...  \n",
       "ToeSegmentation1            [-0.0066576804436808, -0.0073248138117806, 0.0...  \n",
       "GunPointAgeSpan             [-0.0033048146354169, -0.0033048146354169, -0....  \n",
       "...                                                                       ...  \n",
       "RefrigerationDevices        [0.0092347240806816, 0.0087202954836809, 0.007...  \n",
       "FreezerSmallTrain           [0.0682444670618024, 0.0734246551809148, 0.321...  \n",
       "SemgHandSubjectCh2          [0.1160227094484118, 0.0638286614534631, 0.136...  \n",
       "Adiac                       [0.1570163995759669, 0.1599347112061983, 0.125...  \n",
       "NonInvasiveFetalECGThorax1  [0.3659030231412723, 0.388798804649531, 0.3501...  \n",
       "\n",
       "[112 rows x 3 columns]"
      ],
      "text/html": [
       "<div>\n",
       "<style scoped>\n",
       "    .dataframe tbody tr th:only-of-type {\n",
       "        vertical-align: middle;\n",
       "    }\n",
       "\n",
       "    .dataframe tbody tr th {\n",
       "        vertical-align: top;\n",
       "    }\n",
       "\n",
       "    .dataframe thead th {\n",
       "        text-align: right;\n",
       "    }\n",
       "</style>\n",
       "<table border=\"1\" class=\"dataframe\">\n",
       "  <thead>\n",
       "    <tr style=\"text-align: right;\">\n",
       "      <th></th>\n",
       "      <th>tsrc-ts2vec-timenet - student-model-encoder</th>\n",
       "      <th>ts2vec - ts2vec</th>\n",
       "      <th>timenet - timenet</th>\n",
       "    </tr>\n",
       "  </thead>\n",
       "  <tbody>\n",
       "    <tr>\n",
       "      <th>Fish</th>\n",
       "      <td>[0.0929762279243248, 0.1392893903864162, 0.091...</td>\n",
       "      <td>[0.0696167914401941, 0.0521844293272864, 0.100...</td>\n",
       "      <td>[0.1037464356507365, 0.1141632311644858, 0.085...</td>\n",
       "    </tr>\n",
       "    <tr>\n",
       "      <th>PowerCons</th>\n",
       "      <td>[0.6027199258706454, 0.6027188236926064, 0.551...</td>\n",
       "      <td>[0.3303094258828358, 0.5029074445005466, 0.426...</td>\n",
       "      <td>[0.0085154058528909, 0.0107600568122157, 0.010...</td>\n",
       "    </tr>\n",
       "    <tr>\n",
       "      <th>Haptics</th>\n",
       "      <td>[0.0284120595918943, 0.0121129204153964, 0.029...</td>\n",
       "      <td>[0.0457634423236138, 0.0658865538860917, 0.089...</td>\n",
       "      <td>[0.0369663085536759, 0.034315396879518, 0.0538...</td>\n",
       "    </tr>\n",
       "    <tr>\n",
       "      <th>ToeSegmentation1</th>\n",
       "      <td>[0.0005247154925951, 0.0006431234361549, -0.00...</td>\n",
       "      <td>[0.1692130055723824, 0.1449957328603223, 0.157...</td>\n",
       "      <td>[-0.0066576804436808, -0.0073248138117806, 0.0...</td>\n",
       "    </tr>\n",
       "    <tr>\n",
       "      <th>GunPointAgeSpan</th>\n",
       "      <td>[-0.0033048146354169, -0.0033048146354169, -0....</td>\n",
       "      <td>[-0.0033048146354169, -0.0033048146354169, -0....</td>\n",
       "      <td>[-0.0033048146354169, -0.0033048146354169, -0....</td>\n",
       "    </tr>\n",
       "    <tr>\n",
       "      <th>...</th>\n",
       "      <td>...</td>\n",
       "      <td>...</td>\n",
       "      <td>...</td>\n",
       "    </tr>\n",
       "    <tr>\n",
       "      <th>RefrigerationDevices</th>\n",
       "      <td>[0.0102751958153268, 0.0101601148262433, 0.011...</td>\n",
       "      <td>[0.0488148229945894, 0.064286745863637, 0.0577...</td>\n",
       "      <td>[0.0092347240806816, 0.0087202954836809, 0.007...</td>\n",
       "    </tr>\n",
       "    <tr>\n",
       "      <th>FreezerSmallTrain</th>\n",
       "      <td>[0.2054185665510239, 0.2381634025911946, 0.240...</td>\n",
       "      <td>[0.2079516020695801, 0.2130569507106048, 0.214...</td>\n",
       "      <td>[0.0682444670618024, 0.0734246551809148, 0.321...</td>\n",
       "    </tr>\n",
       "    <tr>\n",
       "      <th>SemgHandSubjectCh2</th>\n",
       "      <td>[0.0683675272302541, 0.0466972614904718, 0.093...</td>\n",
       "      <td>[0.0750277674275449, 0.0653420124754291, 0.074...</td>\n",
       "      <td>[0.1160227094484118, 0.0638286614534631, 0.136...</td>\n",
       "    </tr>\n",
       "    <tr>\n",
       "      <th>Adiac</th>\n",
       "      <td>[0.2204710652966962, 0.1725006270901752, 0.198...</td>\n",
       "      <td>[0.2482650649878982, 0.2460619522194201, 0.264...</td>\n",
       "      <td>[0.1570163995759669, 0.1599347112061983, 0.125...</td>\n",
       "    </tr>\n",
       "    <tr>\n",
       "      <th>NonInvasiveFetalECGThorax1</th>\n",
       "      <td>[0.3162255787877864, 0.3719327559911665, 0.357...</td>\n",
       "      <td>[0.3876072083214685, 0.3759199400592672, 0.381...</td>\n",
       "      <td>[0.3659030231412723, 0.388798804649531, 0.3501...</td>\n",
       "    </tr>\n",
       "  </tbody>\n",
       "</table>\n",
       "<p>112 rows × 3 columns</p>\n",
       "</div>"
      ]
     },
     "execution_count": 57,
     "metadata": {},
     "output_type": "execute_result"
    }
   ],
   "execution_count": 57
  },
  {
   "cell_type": "code",
   "source": [
    "experiment_1_results_mul"
   ],
   "metadata": {
    "collapsed": false,
    "ExecuteTime": {
     "end_time": "2025-04-07T09:18:36.921732Z",
     "start_time": "2025-04-07T09:18:36.915775Z"
    }
   },
   "id": "459d5aa608b57de5",
   "outputs": [
    {
     "data": {
      "text/plain": [
       "                                  tsrc-ts2vec-timenet - student-model-encoder  \\\n",
       "Fish                        [0.0929762279243248, 0.1392893903864162, 0.091...   \n",
       "PowerCons                   [0.6027199258706454, 0.6027188236926064, 0.551...   \n",
       "Haptics                     [0.0284120595918943, 0.0121129204153964, 0.029...   \n",
       "ToeSegmentation1            [0.0005247154925951, 0.0006431234361549, -0.00...   \n",
       "GunPointAgeSpan             [-0.0033048146354169, -0.0033048146354169, -0....   \n",
       "...                                                                       ...   \n",
       "RefrigerationDevices        [0.0102751958153268, 0.0101601148262433, 0.011...   \n",
       "FreezerSmallTrain           [0.2054185665510239, 0.2381634025911946, 0.240...   \n",
       "SemgHandSubjectCh2          [0.0683675272302541, 0.0466972614904718, 0.093...   \n",
       "Adiac                       [0.2204710652966962, 0.1725006270901752, 0.198...   \n",
       "NonInvasiveFetalECGThorax1  [0.3162255787877864, 0.3719327559911665, 0.357...   \n",
       "\n",
       "                                                              ts2vec - ts2vec  \\\n",
       "Fish                        [0.0696167914401941, 0.0521844293272864, 0.100...   \n",
       "PowerCons                   [0.3303094258828358, 0.5029074445005466, 0.426...   \n",
       "Haptics                     [0.0457634423236138, 0.0658865538860917, 0.089...   \n",
       "ToeSegmentation1            [0.1692130055723824, 0.1449957328603223, 0.157...   \n",
       "GunPointAgeSpan             [-0.0033048146354169, -0.0033048146354169, -0....   \n",
       "...                                                                       ...   \n",
       "RefrigerationDevices        [0.0488148229945894, 0.064286745863637, 0.0577...   \n",
       "FreezerSmallTrain           [0.2079516020695801, 0.2130569507106048, 0.214...   \n",
       "SemgHandSubjectCh2          [0.0750277674275449, 0.0653420124754291, 0.074...   \n",
       "Adiac                       [0.2482650649878982, 0.2460619522194201, 0.264...   \n",
       "NonInvasiveFetalECGThorax1  [0.3876072083214685, 0.3759199400592672, 0.381...   \n",
       "\n",
       "                                                            timenet - timenet  \n",
       "Fish                        [0.1037464356507365, 0.1141632311644858, 0.085...  \n",
       "PowerCons                   [0.0085154058528909, 0.0107600568122157, 0.010...  \n",
       "Haptics                     [0.0369663085536759, 0.034315396879518, 0.0538...  \n",
       "ToeSegmentation1            [-0.0066576804436808, -0.0073248138117806, 0.0...  \n",
       "GunPointAgeSpan             [-0.0033048146354169, -0.0033048146354169, -0....  \n",
       "...                                                                       ...  \n",
       "RefrigerationDevices        [0.0092347240806816, 0.0087202954836809, 0.007...  \n",
       "FreezerSmallTrain           [0.0682444670618024, 0.0734246551809148, 0.321...  \n",
       "SemgHandSubjectCh2          [0.1160227094484118, 0.0638286614534631, 0.136...  \n",
       "Adiac                       [0.1570163995759669, 0.1599347112061983, 0.125...  \n",
       "NonInvasiveFetalECGThorax1  [0.3659030231412723, 0.388798804649531, 0.3501...  \n",
       "\n",
       "[112 rows x 3 columns]"
      ],
      "text/html": [
       "<div>\n",
       "<style scoped>\n",
       "    .dataframe tbody tr th:only-of-type {\n",
       "        vertical-align: middle;\n",
       "    }\n",
       "\n",
       "    .dataframe tbody tr th {\n",
       "        vertical-align: top;\n",
       "    }\n",
       "\n",
       "    .dataframe thead th {\n",
       "        text-align: right;\n",
       "    }\n",
       "</style>\n",
       "<table border=\"1\" class=\"dataframe\">\n",
       "  <thead>\n",
       "    <tr style=\"text-align: right;\">\n",
       "      <th></th>\n",
       "      <th>tsrc-ts2vec-timenet - student-model-encoder</th>\n",
       "      <th>ts2vec - ts2vec</th>\n",
       "      <th>timenet - timenet</th>\n",
       "    </tr>\n",
       "  </thead>\n",
       "  <tbody>\n",
       "    <tr>\n",
       "      <th>Fish</th>\n",
       "      <td>[0.0929762279243248, 0.1392893903864162, 0.091...</td>\n",
       "      <td>[0.0696167914401941, 0.0521844293272864, 0.100...</td>\n",
       "      <td>[0.1037464356507365, 0.1141632311644858, 0.085...</td>\n",
       "    </tr>\n",
       "    <tr>\n",
       "      <th>PowerCons</th>\n",
       "      <td>[0.6027199258706454, 0.6027188236926064, 0.551...</td>\n",
       "      <td>[0.3303094258828358, 0.5029074445005466, 0.426...</td>\n",
       "      <td>[0.0085154058528909, 0.0107600568122157, 0.010...</td>\n",
       "    </tr>\n",
       "    <tr>\n",
       "      <th>Haptics</th>\n",
       "      <td>[0.0284120595918943, 0.0121129204153964, 0.029...</td>\n",
       "      <td>[0.0457634423236138, 0.0658865538860917, 0.089...</td>\n",
       "      <td>[0.0369663085536759, 0.034315396879518, 0.0538...</td>\n",
       "    </tr>\n",
       "    <tr>\n",
       "      <th>ToeSegmentation1</th>\n",
       "      <td>[0.0005247154925951, 0.0006431234361549, -0.00...</td>\n",
       "      <td>[0.1692130055723824, 0.1449957328603223, 0.157...</td>\n",
       "      <td>[-0.0066576804436808, -0.0073248138117806, 0.0...</td>\n",
       "    </tr>\n",
       "    <tr>\n",
       "      <th>GunPointAgeSpan</th>\n",
       "      <td>[-0.0033048146354169, -0.0033048146354169, -0....</td>\n",
       "      <td>[-0.0033048146354169, -0.0033048146354169, -0....</td>\n",
       "      <td>[-0.0033048146354169, -0.0033048146354169, -0....</td>\n",
       "    </tr>\n",
       "    <tr>\n",
       "      <th>...</th>\n",
       "      <td>...</td>\n",
       "      <td>...</td>\n",
       "      <td>...</td>\n",
       "    </tr>\n",
       "    <tr>\n",
       "      <th>RefrigerationDevices</th>\n",
       "      <td>[0.0102751958153268, 0.0101601148262433, 0.011...</td>\n",
       "      <td>[0.0488148229945894, 0.064286745863637, 0.0577...</td>\n",
       "      <td>[0.0092347240806816, 0.0087202954836809, 0.007...</td>\n",
       "    </tr>\n",
       "    <tr>\n",
       "      <th>FreezerSmallTrain</th>\n",
       "      <td>[0.2054185665510239, 0.2381634025911946, 0.240...</td>\n",
       "      <td>[0.2079516020695801, 0.2130569507106048, 0.214...</td>\n",
       "      <td>[0.0682444670618024, 0.0734246551809148, 0.321...</td>\n",
       "    </tr>\n",
       "    <tr>\n",
       "      <th>SemgHandSubjectCh2</th>\n",
       "      <td>[0.0683675272302541, 0.0466972614904718, 0.093...</td>\n",
       "      <td>[0.0750277674275449, 0.0653420124754291, 0.074...</td>\n",
       "      <td>[0.1160227094484118, 0.0638286614534631, 0.136...</td>\n",
       "    </tr>\n",
       "    <tr>\n",
       "      <th>Adiac</th>\n",
       "      <td>[0.2204710652966962, 0.1725006270901752, 0.198...</td>\n",
       "      <td>[0.2482650649878982, 0.2460619522194201, 0.264...</td>\n",
       "      <td>[0.1570163995759669, 0.1599347112061983, 0.125...</td>\n",
       "    </tr>\n",
       "    <tr>\n",
       "      <th>NonInvasiveFetalECGThorax1</th>\n",
       "      <td>[0.3162255787877864, 0.3719327559911665, 0.357...</td>\n",
       "      <td>[0.3876072083214685, 0.3759199400592672, 0.381...</td>\n",
       "      <td>[0.3659030231412723, 0.388798804649531, 0.3501...</td>\n",
       "    </tr>\n",
       "  </tbody>\n",
       "</table>\n",
       "<p>112 rows × 3 columns</p>\n",
       "</div>"
      ]
     },
     "execution_count": 58,
     "metadata": {},
     "output_type": "execute_result"
    }
   ],
   "execution_count": 58
  },
  {
   "cell_type": "code",
   "source": [
    "experiment_1_baselines_results_display = df_summarized_baselines_results_external_display[\n",
    "    experiment_1_baselines_columns]\n",
    "experiment_1_results_display = pd.concat(\n",
    "    [experiment_1_metric_encoder_tables_display[CLUSTERING_METRIC_TO_CONSIDER_EXTERNAL],\n",
    "     experiment_1_baselines_results_display], axis=1)"
   ],
   "metadata": {
    "collapsed": false,
    "ExecuteTime": {
     "end_time": "2025-04-07T09:18:36.943893Z",
     "start_time": "2025-04-07T09:18:36.941523Z"
    }
   },
   "id": "3ecf83054f7b71c4",
   "outputs": [],
   "execution_count": 59
  },
  {
   "cell_type": "code",
   "source": [
    "experiment_1_results_display"
   ],
   "metadata": {
    "collapsed": false,
    "ExecuteTime": {
     "end_time": "2025-04-07T09:18:37.001215Z",
     "start_time": "2025-04-07T09:18:36.997241Z"
    }
   },
   "id": "d4457ce9513db21f",
   "outputs": [
    {
     "data": {
      "text/plain": [
       "                           tsrc-ts2vec-timenet - student-model-encoder  \\\n",
       "Fish                                                       0.11 ± 0.02   \n",
       "PowerCons                                                  0.58 ± 0.04   \n",
       "Haptics                                                    0.04 ± 0.02   \n",
       "ToeSegmentation1                                          -0.00 ± 0.00   \n",
       "GunPointAgeSpan                                           -0.00 ± 0.00   \n",
       "...                                                                ...   \n",
       "RefrigerationDevices                                       0.01 ± 0.00   \n",
       "FreezerSmallTrain                                          0.23 ± 0.01   \n",
       "SemgHandSubjectCh2                                         0.07 ± 0.02   \n",
       "Adiac                                                      0.22 ± 0.03   \n",
       "NonInvasiveFetalECGThorax1                                 0.35 ± 0.02   \n",
       "\n",
       "                           ts2vec - ts2vec timenet - timenet  \n",
       "Fish                           0.08 ± 0.02       0.09 ± 0.01  \n",
       "PowerCons                      0.41 ± 0.09       0.01 ± 0.00  \n",
       "Haptics                        0.07 ± 0.02       0.03 ± 0.01  \n",
       "ToeSegmentation1               0.16 ± 0.01       0.00 ± 0.01  \n",
       "GunPointAgeSpan               -0.00 ± 0.00      -0.00 ± 0.00  \n",
       "...                                    ...               ...  \n",
       "RefrigerationDevices           0.06 ± 0.01       0.01 ± 0.00  \n",
       "FreezerSmallTrain              0.21 ± 0.01       0.12 ± 0.10  \n",
       "SemgHandSubjectCh2             0.07 ± 0.01       0.10 ± 0.02  \n",
       "Adiac                          0.25 ± 0.01       0.15 ± 0.01  \n",
       "NonInvasiveFetalECGThorax1     0.38 ± 0.01       0.36 ± 0.05  \n",
       "\n",
       "[112 rows x 3 columns]"
      ],
      "text/html": [
       "<div>\n",
       "<style scoped>\n",
       "    .dataframe tbody tr th:only-of-type {\n",
       "        vertical-align: middle;\n",
       "    }\n",
       "\n",
       "    .dataframe tbody tr th {\n",
       "        vertical-align: top;\n",
       "    }\n",
       "\n",
       "    .dataframe thead th {\n",
       "        text-align: right;\n",
       "    }\n",
       "</style>\n",
       "<table border=\"1\" class=\"dataframe\">\n",
       "  <thead>\n",
       "    <tr style=\"text-align: right;\">\n",
       "      <th></th>\n",
       "      <th>tsrc-ts2vec-timenet - student-model-encoder</th>\n",
       "      <th>ts2vec - ts2vec</th>\n",
       "      <th>timenet - timenet</th>\n",
       "    </tr>\n",
       "  </thead>\n",
       "  <tbody>\n",
       "    <tr>\n",
       "      <th>Fish</th>\n",
       "      <td>0.11 ± 0.02</td>\n",
       "      <td>0.08 ± 0.02</td>\n",
       "      <td>0.09 ± 0.01</td>\n",
       "    </tr>\n",
       "    <tr>\n",
       "      <th>PowerCons</th>\n",
       "      <td>0.58 ± 0.04</td>\n",
       "      <td>0.41 ± 0.09</td>\n",
       "      <td>0.01 ± 0.00</td>\n",
       "    </tr>\n",
       "    <tr>\n",
       "      <th>Haptics</th>\n",
       "      <td>0.04 ± 0.02</td>\n",
       "      <td>0.07 ± 0.02</td>\n",
       "      <td>0.03 ± 0.01</td>\n",
       "    </tr>\n",
       "    <tr>\n",
       "      <th>ToeSegmentation1</th>\n",
       "      <td>-0.00 ± 0.00</td>\n",
       "      <td>0.16 ± 0.01</td>\n",
       "      <td>0.00 ± 0.01</td>\n",
       "    </tr>\n",
       "    <tr>\n",
       "      <th>GunPointAgeSpan</th>\n",
       "      <td>-0.00 ± 0.00</td>\n",
       "      <td>-0.00 ± 0.00</td>\n",
       "      <td>-0.00 ± 0.00</td>\n",
       "    </tr>\n",
       "    <tr>\n",
       "      <th>...</th>\n",
       "      <td>...</td>\n",
       "      <td>...</td>\n",
       "      <td>...</td>\n",
       "    </tr>\n",
       "    <tr>\n",
       "      <th>RefrigerationDevices</th>\n",
       "      <td>0.01 ± 0.00</td>\n",
       "      <td>0.06 ± 0.01</td>\n",
       "      <td>0.01 ± 0.00</td>\n",
       "    </tr>\n",
       "    <tr>\n",
       "      <th>FreezerSmallTrain</th>\n",
       "      <td>0.23 ± 0.01</td>\n",
       "      <td>0.21 ± 0.01</td>\n",
       "      <td>0.12 ± 0.10</td>\n",
       "    </tr>\n",
       "    <tr>\n",
       "      <th>SemgHandSubjectCh2</th>\n",
       "      <td>0.07 ± 0.02</td>\n",
       "      <td>0.07 ± 0.01</td>\n",
       "      <td>0.10 ± 0.02</td>\n",
       "    </tr>\n",
       "    <tr>\n",
       "      <th>Adiac</th>\n",
       "      <td>0.22 ± 0.03</td>\n",
       "      <td>0.25 ± 0.01</td>\n",
       "      <td>0.15 ± 0.01</td>\n",
       "    </tr>\n",
       "    <tr>\n",
       "      <th>NonInvasiveFetalECGThorax1</th>\n",
       "      <td>0.35 ± 0.02</td>\n",
       "      <td>0.38 ± 0.01</td>\n",
       "      <td>0.36 ± 0.05</td>\n",
       "    </tr>\n",
       "  </tbody>\n",
       "</table>\n",
       "<p>112 rows × 3 columns</p>\n",
       "</div>"
      ]
     },
     "execution_count": 60,
     "metadata": {},
     "output_type": "execute_result"
    }
   ],
   "execution_count": 60
  },
  {
   "cell_type": "markdown",
   "source": [
    "### 4.1.2 Experiment 2"
   ],
   "metadata": {
    "collapsed": false
   },
   "id": "298a10fd216f8f93"
  },
  {
   "cell_type": "code",
   "source": [
    "experiment_2_main_dir = TSRC_MODEL_MAIN_DIR / 'ts2vec_to_lstmae_aecc4ffa8c36aa6d9bccaf9d83dac024'"
   ],
   "metadata": {
    "collapsed": false,
    "ExecuteTime": {
     "end_time": "2025-04-07T09:18:37.040096Z",
     "start_time": "2025-04-07T09:18:37.038456Z"
    }
   },
   "id": "e032e011c4c19678",
   "outputs": [],
   "execution_count": 61
  },
  {
   "cell_type": "code",
   "source": [
    "experiment_2_results_dir = experiment_2_main_dir / 'compression_2'"
   ],
   "metadata": {
    "collapsed": false,
    "ExecuteTime": {
     "end_time": "2025-04-07T09:18:37.093220Z",
     "start_time": "2025-04-07T09:18:37.091595Z"
    }
   },
   "id": "ad105a9705a45d45",
   "outputs": [],
   "execution_count": 62
  },
  {
   "cell_type": "code",
   "source": [
    "experiment_2_encoders_list = ['tsrc-ts2vec-lstmae - student-model-encoder']"
   ],
   "metadata": {
    "collapsed": false,
    "ExecuteTime": {
     "end_time": "2025-04-07T09:18:37.158890Z",
     "start_time": "2025-04-07T09:18:37.157467Z"
    }
   },
   "id": "3ca818a6b9085057",
   "outputs": [],
   "execution_count": 63
  },
  {
   "cell_type": "code",
   "source": [
    "experiment_2_encoder_metric_tables, experiment_2_metric_encoder_tables, experiment_2_encoder_metric_tables_display, experiment_2_metric_encoder_tables_display = \\\n",
    "    analyze_representation_results(representations_results_folder=experiment_2_results_dir,\n",
    "                                   metrics=CLUSTERING_METRICS,\n",
    "                                   encoders_list=experiment_2_encoders_list)"
   ],
   "metadata": {
    "collapsed": false,
    "ExecuteTime": {
     "end_time": "2025-04-07T09:18:37.590184Z",
     "start_time": "2025-04-07T09:18:37.200372Z"
    }
   },
   "id": "34b2d5ab6d488592",
   "outputs": [
    {
     "data": {
      "text/plain": [
       "<IPython.core.display.Markdown object>"
      ],
      "text/markdown": "### ARI ###"
     },
     "metadata": {},
     "output_type": "display_data"
    },
    {
     "data": {
      "text/plain": [
       "              tsrc-ts2vec-lstmae - student-model-encoder\n",
       "ACSF1                                        0.24 ± 0.01\n",
       "Adiac                                        0.18 ± 0.03\n",
       "ArrowHead                                    0.09 ± 0.03\n",
       "BME                                          0.21 ± 0.10\n",
       "Beef                                         0.04 ± 0.00\n",
       "...                                                  ...\n",
       "Wine                                         0.00 ± 0.01\n",
       "WordSynonyms                                 0.12 ± 0.02\n",
       "Worms                                        0.06 ± 0.02\n",
       "WormsTwoClass                               -0.00 ± 0.00\n",
       "Yoga                                         0.00 ± 0.00\n",
       "\n",
       "[112 rows x 1 columns]"
      ],
      "text/html": [
       "<div>\n",
       "<style scoped>\n",
       "    .dataframe tbody tr th:only-of-type {\n",
       "        vertical-align: middle;\n",
       "    }\n",
       "\n",
       "    .dataframe tbody tr th {\n",
       "        vertical-align: top;\n",
       "    }\n",
       "\n",
       "    .dataframe thead th {\n",
       "        text-align: right;\n",
       "    }\n",
       "</style>\n",
       "<table border=\"1\" class=\"dataframe\">\n",
       "  <thead>\n",
       "    <tr style=\"text-align: right;\">\n",
       "      <th></th>\n",
       "      <th>tsrc-ts2vec-lstmae - student-model-encoder</th>\n",
       "    </tr>\n",
       "  </thead>\n",
       "  <tbody>\n",
       "    <tr>\n",
       "      <th>ACSF1</th>\n",
       "      <td>0.24 ± 0.01</td>\n",
       "    </tr>\n",
       "    <tr>\n",
       "      <th>Adiac</th>\n",
       "      <td>0.18 ± 0.03</td>\n",
       "    </tr>\n",
       "    <tr>\n",
       "      <th>ArrowHead</th>\n",
       "      <td>0.09 ± 0.03</td>\n",
       "    </tr>\n",
       "    <tr>\n",
       "      <th>BME</th>\n",
       "      <td>0.21 ± 0.10</td>\n",
       "    </tr>\n",
       "    <tr>\n",
       "      <th>Beef</th>\n",
       "      <td>0.04 ± 0.00</td>\n",
       "    </tr>\n",
       "    <tr>\n",
       "      <th>...</th>\n",
       "      <td>...</td>\n",
       "    </tr>\n",
       "    <tr>\n",
       "      <th>Wine</th>\n",
       "      <td>0.00 ± 0.01</td>\n",
       "    </tr>\n",
       "    <tr>\n",
       "      <th>WordSynonyms</th>\n",
       "      <td>0.12 ± 0.02</td>\n",
       "    </tr>\n",
       "    <tr>\n",
       "      <th>Worms</th>\n",
       "      <td>0.06 ± 0.02</td>\n",
       "    </tr>\n",
       "    <tr>\n",
       "      <th>WormsTwoClass</th>\n",
       "      <td>-0.00 ± 0.00</td>\n",
       "    </tr>\n",
       "    <tr>\n",
       "      <th>Yoga</th>\n",
       "      <td>0.00 ± 0.00</td>\n",
       "    </tr>\n",
       "  </tbody>\n",
       "</table>\n",
       "<p>112 rows × 1 columns</p>\n",
       "</div>"
      ]
     },
     "metadata": {},
     "output_type": "display_data"
    },
    {
     "data": {
      "text/plain": [
       "<IPython.core.display.Markdown object>"
      ],
      "text/markdown": "### CHS ###"
     },
     "metadata": {},
     "output_type": "display_data"
    },
    {
     "data": {
      "text/plain": [
       "              tsrc-ts2vec-lstmae - student-model-encoder\n",
       "ACSF1                                     131.00 ± 10.24\n",
       "Adiac                                    350.71 ± 103.66\n",
       "ArrowHead                                  89.98 ± 10.55\n",
       "BME                                       378.58 ± 91.95\n",
       "Beef                                      962.64 ± 83.37\n",
       "...                                                  ...\n",
       "Wine                                      111.66 ± 34.72\n",
       "WordSynonyms                              101.93 ± 15.25\n",
       "Worms                                    149.01 ± 118.86\n",
       "WormsTwoClass                             191.95 ± 86.71\n",
       "Yoga                                      731.20 ± 83.56\n",
       "\n",
       "[112 rows x 1 columns]"
      ],
      "text/html": [
       "<div>\n",
       "<style scoped>\n",
       "    .dataframe tbody tr th:only-of-type {\n",
       "        vertical-align: middle;\n",
       "    }\n",
       "\n",
       "    .dataframe tbody tr th {\n",
       "        vertical-align: top;\n",
       "    }\n",
       "\n",
       "    .dataframe thead th {\n",
       "        text-align: right;\n",
       "    }\n",
       "</style>\n",
       "<table border=\"1\" class=\"dataframe\">\n",
       "  <thead>\n",
       "    <tr style=\"text-align: right;\">\n",
       "      <th></th>\n",
       "      <th>tsrc-ts2vec-lstmae - student-model-encoder</th>\n",
       "    </tr>\n",
       "  </thead>\n",
       "  <tbody>\n",
       "    <tr>\n",
       "      <th>ACSF1</th>\n",
       "      <td>131.00 ± 10.24</td>\n",
       "    </tr>\n",
       "    <tr>\n",
       "      <th>Adiac</th>\n",
       "      <td>350.71 ± 103.66</td>\n",
       "    </tr>\n",
       "    <tr>\n",
       "      <th>ArrowHead</th>\n",
       "      <td>89.98 ± 10.55</td>\n",
       "    </tr>\n",
       "    <tr>\n",
       "      <th>BME</th>\n",
       "      <td>378.58 ± 91.95</td>\n",
       "    </tr>\n",
       "    <tr>\n",
       "      <th>Beef</th>\n",
       "      <td>962.64 ± 83.37</td>\n",
       "    </tr>\n",
       "    <tr>\n",
       "      <th>...</th>\n",
       "      <td>...</td>\n",
       "    </tr>\n",
       "    <tr>\n",
       "      <th>Wine</th>\n",
       "      <td>111.66 ± 34.72</td>\n",
       "    </tr>\n",
       "    <tr>\n",
       "      <th>WordSynonyms</th>\n",
       "      <td>101.93 ± 15.25</td>\n",
       "    </tr>\n",
       "    <tr>\n",
       "      <th>Worms</th>\n",
       "      <td>149.01 ± 118.86</td>\n",
       "    </tr>\n",
       "    <tr>\n",
       "      <th>WormsTwoClass</th>\n",
       "      <td>191.95 ± 86.71</td>\n",
       "    </tr>\n",
       "    <tr>\n",
       "      <th>Yoga</th>\n",
       "      <td>731.20 ± 83.56</td>\n",
       "    </tr>\n",
       "  </tbody>\n",
       "</table>\n",
       "<p>112 rows × 1 columns</p>\n",
       "</div>"
      ]
     },
     "metadata": {},
     "output_type": "display_data"
    }
   ],
   "execution_count": 64
  },
  {
   "cell_type": "code",
   "source": [
    "experiment_2_encoder_metric_tables_mul, experiment_2_metric_encoder_tables_mul = analyze_representation_results_2(\n",
    "    representations_results_folder=experiment_2_results_dir,\n",
    "    metrics=CLUSTERING_METRICS,\n",
    "    encoders_list=experiment_2_encoders_list)"
   ],
   "metadata": {
    "collapsed": false,
    "ExecuteTime": {
     "end_time": "2025-04-07T09:18:37.772228Z",
     "start_time": "2025-04-07T09:18:37.593426Z"
    }
   },
   "id": "c616ab2272acb923",
   "outputs": [],
   "execution_count": 65
  },
  {
   "cell_type": "code",
   "source": [
    "experiment_2_baselines_columns = ['ts2vec - ts2vec', 'lstm-auto-encoder - encoder']\n",
    "experiment_2_baselines_results_mul = df_summarized_baselines_external_results_mul[experiment_2_baselines_columns]"
   ],
   "metadata": {
    "collapsed": false,
    "ExecuteTime": {
     "end_time": "2025-04-07T09:18:37.807067Z",
     "start_time": "2025-04-07T09:18:37.805205Z"
    }
   },
   "id": "7d9538fe2293d0b8",
   "outputs": [],
   "execution_count": 66
  },
  {
   "cell_type": "code",
   "source": [
    "experiment_2_results_mul = pd.concat([experiment_2_metric_encoder_tables_mul[CLUSTERING_METRIC_TO_CONSIDER_EXTERNAL],\n",
    "                                      experiment_2_baselines_results_mul], axis=1)"
   ],
   "metadata": {
    "collapsed": false,
    "ExecuteTime": {
     "end_time": "2025-04-07T09:18:37.871848Z",
     "start_time": "2025-04-07T09:18:37.869887Z"
    }
   },
   "id": "b954f46e17ef8017",
   "outputs": [],
   "execution_count": 67
  },
  {
   "cell_type": "code",
   "source": [
    "experiment_2_baselines_results_display = df_summarized_baselines_results_external_display[\n",
    "    experiment_2_baselines_columns]\n",
    "experiment_2_results_display = pd.concat(\n",
    "    [experiment_2_metric_encoder_tables_display[CLUSTERING_METRIC_TO_CONSIDER_EXTERNAL],\n",
    "     experiment_2_baselines_results_display], axis=1)"
   ],
   "metadata": {
    "collapsed": false,
    "ExecuteTime": {
     "end_time": "2025-04-07T09:18:37.877811Z",
     "start_time": "2025-04-07T09:18:37.875724Z"
    }
   },
   "id": "c90b088ce11a704c",
   "outputs": [],
   "execution_count": 68
  },
  {
   "cell_type": "code",
   "source": [
    "experiment_2_results_display"
   ],
   "metadata": {
    "collapsed": false,
    "ExecuteTime": {
     "end_time": "2025-04-07T09:18:37.915027Z",
     "start_time": "2025-04-07T09:18:37.911619Z"
    }
   },
   "id": "65a7b9f1af26de3f",
   "outputs": [
    {
     "data": {
      "text/plain": [
       "                      tsrc-ts2vec-lstmae - student-model-encoder  \\\n",
       "Beef                                                 0.04 ± 0.00   \n",
       "Trace                                                0.37 ± 0.22   \n",
       "Car                                                  0.06 ± 0.03   \n",
       "Plane                                                0.53 ± 0.08   \n",
       "BeetleFly                                            0.12 ± 0.00   \n",
       "...                                                          ...   \n",
       "Meat                                                 0.42 ± 0.20   \n",
       "CBF                                                  0.72 ± 0.09   \n",
       "UMD                                                  0.11 ± 0.05   \n",
       "OSULeaf                                              0.07 ± 0.04   \n",
       "MixedShapesSmallTrain                                0.11 ± 0.08   \n",
       "\n",
       "                      ts2vec - ts2vec lstm-auto-encoder - encoder  \n",
       "Beef                      0.08 ± 0.03                 0.04 ± 0.00  \n",
       "Trace                     0.43 ± 0.02                 0.24 ± 0.06  \n",
       "Car                       0.06 ± 0.01                 0.02 ± 0.00  \n",
       "Plane                     0.89 ± 0.05                 0.53 ± 0.01  \n",
       "BeetleFly                 0.20 ± 0.04                 0.12 ± 0.00  \n",
       "...                               ...                         ...  \n",
       "Meat                     -0.01 ± 0.02                 0.05 ± 0.02  \n",
       "CBF                       0.63 ± 0.05                 0.26 ± 0.13  \n",
       "UMD                       0.00 ± 0.00                 0.01 ± 0.02  \n",
       "OSULeaf                   0.21 ± 0.04                 0.06 ± 0.01  \n",
       "MixedShapesSmallTrain     0.49 ± 0.02                 0.15 ± 0.11  \n",
       "\n",
       "[112 rows x 3 columns]"
      ],
      "text/html": [
       "<div>\n",
       "<style scoped>\n",
       "    .dataframe tbody tr th:only-of-type {\n",
       "        vertical-align: middle;\n",
       "    }\n",
       "\n",
       "    .dataframe tbody tr th {\n",
       "        vertical-align: top;\n",
       "    }\n",
       "\n",
       "    .dataframe thead th {\n",
       "        text-align: right;\n",
       "    }\n",
       "</style>\n",
       "<table border=\"1\" class=\"dataframe\">\n",
       "  <thead>\n",
       "    <tr style=\"text-align: right;\">\n",
       "      <th></th>\n",
       "      <th>tsrc-ts2vec-lstmae - student-model-encoder</th>\n",
       "      <th>ts2vec - ts2vec</th>\n",
       "      <th>lstm-auto-encoder - encoder</th>\n",
       "    </tr>\n",
       "  </thead>\n",
       "  <tbody>\n",
       "    <tr>\n",
       "      <th>Beef</th>\n",
       "      <td>0.04 ± 0.00</td>\n",
       "      <td>0.08 ± 0.03</td>\n",
       "      <td>0.04 ± 0.00</td>\n",
       "    </tr>\n",
       "    <tr>\n",
       "      <th>Trace</th>\n",
       "      <td>0.37 ± 0.22</td>\n",
       "      <td>0.43 ± 0.02</td>\n",
       "      <td>0.24 ± 0.06</td>\n",
       "    </tr>\n",
       "    <tr>\n",
       "      <th>Car</th>\n",
       "      <td>0.06 ± 0.03</td>\n",
       "      <td>0.06 ± 0.01</td>\n",
       "      <td>0.02 ± 0.00</td>\n",
       "    </tr>\n",
       "    <tr>\n",
       "      <th>Plane</th>\n",
       "      <td>0.53 ± 0.08</td>\n",
       "      <td>0.89 ± 0.05</td>\n",
       "      <td>0.53 ± 0.01</td>\n",
       "    </tr>\n",
       "    <tr>\n",
       "      <th>BeetleFly</th>\n",
       "      <td>0.12 ± 0.00</td>\n",
       "      <td>0.20 ± 0.04</td>\n",
       "      <td>0.12 ± 0.00</td>\n",
       "    </tr>\n",
       "    <tr>\n",
       "      <th>...</th>\n",
       "      <td>...</td>\n",
       "      <td>...</td>\n",
       "      <td>...</td>\n",
       "    </tr>\n",
       "    <tr>\n",
       "      <th>Meat</th>\n",
       "      <td>0.42 ± 0.20</td>\n",
       "      <td>-0.01 ± 0.02</td>\n",
       "      <td>0.05 ± 0.02</td>\n",
       "    </tr>\n",
       "    <tr>\n",
       "      <th>CBF</th>\n",
       "      <td>0.72 ± 0.09</td>\n",
       "      <td>0.63 ± 0.05</td>\n",
       "      <td>0.26 ± 0.13</td>\n",
       "    </tr>\n",
       "    <tr>\n",
       "      <th>UMD</th>\n",
       "      <td>0.11 ± 0.05</td>\n",
       "      <td>0.00 ± 0.00</td>\n",
       "      <td>0.01 ± 0.02</td>\n",
       "    </tr>\n",
       "    <tr>\n",
       "      <th>OSULeaf</th>\n",
       "      <td>0.07 ± 0.04</td>\n",
       "      <td>0.21 ± 0.04</td>\n",
       "      <td>0.06 ± 0.01</td>\n",
       "    </tr>\n",
       "    <tr>\n",
       "      <th>MixedShapesSmallTrain</th>\n",
       "      <td>0.11 ± 0.08</td>\n",
       "      <td>0.49 ± 0.02</td>\n",
       "      <td>0.15 ± 0.11</td>\n",
       "    </tr>\n",
       "  </tbody>\n",
       "</table>\n",
       "<p>112 rows × 3 columns</p>\n",
       "</div>"
      ]
     },
     "execution_count": 69,
     "metadata": {},
     "output_type": "execute_result"
    }
   ],
   "execution_count": 69
  },
  {
   "cell_type": "markdown",
   "source": [
    "### 4.1.3 Experiment 3"
   ],
   "metadata": {
    "collapsed": false
   },
   "id": "fd4d0dc5589ee407"
  },
  {
   "cell_type": "code",
   "source": [
    "experiment_3_main_dir = TSRC_MODEL_MAIN_DIR / 'mcl_to_lstmae_841548f56ad1cc5fd09a9f2e2086e6df'"
   ],
   "metadata": {
    "collapsed": false,
    "ExecuteTime": {
     "end_time": "2025-04-07T09:18:37.973393Z",
     "start_time": "2025-04-07T09:18:37.971728Z"
    }
   },
   "id": "320b26a04465ce1f",
   "outputs": [],
   "execution_count": 70
  },
  {
   "cell_type": "code",
   "source": [
    "experiment_3_results_dir = experiment_3_main_dir / 'compression_2'"
   ],
   "metadata": {
    "collapsed": false,
    "ExecuteTime": {
     "end_time": "2025-04-07T09:18:37.999542Z",
     "start_time": "2025-04-07T09:18:37.997972Z"
    }
   },
   "id": "cb9faf6683504003",
   "outputs": [],
   "execution_count": 71
  },
  {
   "cell_type": "code",
   "source": [
    "experiment_3_encoders_list = ['tsrc-mcl-lstmae - student-model-encoder']"
   ],
   "metadata": {
    "collapsed": false,
    "ExecuteTime": {
     "end_time": "2025-04-07T09:18:38.062972Z",
     "start_time": "2025-04-07T09:18:38.061248Z"
    }
   },
   "id": "5a0dba02953050a7",
   "outputs": [],
   "execution_count": 72
  },
  {
   "cell_type": "code",
   "source": [
    "experiment_3_encoder_metric_tables, experiment_3_metric_encoder_tables, experiment_3_encoder_metric_tables_display, experiment_3_metric_encoder_tables_display = \\\n",
    "    analyze_representation_results(representations_results_folder=experiment_3_results_dir,\n",
    "                                   metrics=CLUSTERING_METRICS,\n",
    "                                   encoders_list=experiment_3_encoders_list)"
   ],
   "metadata": {
    "collapsed": false,
    "ExecuteTime": {
     "end_time": "2025-04-07T09:18:38.442703Z",
     "start_time": "2025-04-07T09:18:38.067547Z"
    }
   },
   "id": "b8ad4c148d496d2f",
   "outputs": [
    {
     "data": {
      "text/plain": [
       "<IPython.core.display.Markdown object>"
      ],
      "text/markdown": "### ARI ###"
     },
     "metadata": {},
     "output_type": "display_data"
    },
    {
     "data": {
      "text/plain": [
       "              tsrc-mcl-lstmae - student-model-encoder\n",
       "ACSF1                                     0.20 ± 0.04\n",
       "Adiac                                     0.23 ± 0.04\n",
       "ArrowHead                                 0.11 ± 0.03\n",
       "BME                                       0.33 ± 0.13\n",
       "Beef                                      0.11 ± 0.02\n",
       "...                                               ...\n",
       "Wine                                      0.00 ± 0.01\n",
       "WordSynonyms                              0.09 ± 0.02\n",
       "Worms                                     0.03 ± 0.02\n",
       "WormsTwoClass                            -0.01 ± 0.00\n",
       "Yoga                                      0.00 ± 0.01\n",
       "\n",
       "[112 rows x 1 columns]"
      ],
      "text/html": [
       "<div>\n",
       "<style scoped>\n",
       "    .dataframe tbody tr th:only-of-type {\n",
       "        vertical-align: middle;\n",
       "    }\n",
       "\n",
       "    .dataframe tbody tr th {\n",
       "        vertical-align: top;\n",
       "    }\n",
       "\n",
       "    .dataframe thead th {\n",
       "        text-align: right;\n",
       "    }\n",
       "</style>\n",
       "<table border=\"1\" class=\"dataframe\">\n",
       "  <thead>\n",
       "    <tr style=\"text-align: right;\">\n",
       "      <th></th>\n",
       "      <th>tsrc-mcl-lstmae - student-model-encoder</th>\n",
       "    </tr>\n",
       "  </thead>\n",
       "  <tbody>\n",
       "    <tr>\n",
       "      <th>ACSF1</th>\n",
       "      <td>0.20 ± 0.04</td>\n",
       "    </tr>\n",
       "    <tr>\n",
       "      <th>Adiac</th>\n",
       "      <td>0.23 ± 0.04</td>\n",
       "    </tr>\n",
       "    <tr>\n",
       "      <th>ArrowHead</th>\n",
       "      <td>0.11 ± 0.03</td>\n",
       "    </tr>\n",
       "    <tr>\n",
       "      <th>BME</th>\n",
       "      <td>0.33 ± 0.13</td>\n",
       "    </tr>\n",
       "    <tr>\n",
       "      <th>Beef</th>\n",
       "      <td>0.11 ± 0.02</td>\n",
       "    </tr>\n",
       "    <tr>\n",
       "      <th>...</th>\n",
       "      <td>...</td>\n",
       "    </tr>\n",
       "    <tr>\n",
       "      <th>Wine</th>\n",
       "      <td>0.00 ± 0.01</td>\n",
       "    </tr>\n",
       "    <tr>\n",
       "      <th>WordSynonyms</th>\n",
       "      <td>0.09 ± 0.02</td>\n",
       "    </tr>\n",
       "    <tr>\n",
       "      <th>Worms</th>\n",
       "      <td>0.03 ± 0.02</td>\n",
       "    </tr>\n",
       "    <tr>\n",
       "      <th>WormsTwoClass</th>\n",
       "      <td>-0.01 ± 0.00</td>\n",
       "    </tr>\n",
       "    <tr>\n",
       "      <th>Yoga</th>\n",
       "      <td>0.00 ± 0.01</td>\n",
       "    </tr>\n",
       "  </tbody>\n",
       "</table>\n",
       "<p>112 rows × 1 columns</p>\n",
       "</div>"
      ]
     },
     "metadata": {},
     "output_type": "display_data"
    },
    {
     "data": {
      "text/plain": [
       "<IPython.core.display.Markdown object>"
      ],
      "text/markdown": "### CHS ###"
     },
     "metadata": {},
     "output_type": "display_data"
    },
    {
     "data": {
      "text/plain": [
       "              tsrc-mcl-lstmae - student-model-encoder\n",
       "ACSF1                                 417.49 ± 413.78\n",
       "Adiac                                  110.43 ± 29.15\n",
       "ArrowHead                               56.73 ± 20.18\n",
       "BME                                     90.85 ± 30.39\n",
       "Beef                                 1517.10 ± 851.21\n",
       "...                                               ...\n",
       "Wine                                  133.25 ± 192.82\n",
       "WordSynonyms                           162.90 ± 62.43\n",
       "Worms                                1252.17 ± 227.58\n",
       "WormsTwoClass                         404.59 ± 353.53\n",
       "Yoga                                 2286.78 ± 562.95\n",
       "\n",
       "[112 rows x 1 columns]"
      ],
      "text/html": [
       "<div>\n",
       "<style scoped>\n",
       "    .dataframe tbody tr th:only-of-type {\n",
       "        vertical-align: middle;\n",
       "    }\n",
       "\n",
       "    .dataframe tbody tr th {\n",
       "        vertical-align: top;\n",
       "    }\n",
       "\n",
       "    .dataframe thead th {\n",
       "        text-align: right;\n",
       "    }\n",
       "</style>\n",
       "<table border=\"1\" class=\"dataframe\">\n",
       "  <thead>\n",
       "    <tr style=\"text-align: right;\">\n",
       "      <th></th>\n",
       "      <th>tsrc-mcl-lstmae - student-model-encoder</th>\n",
       "    </tr>\n",
       "  </thead>\n",
       "  <tbody>\n",
       "    <tr>\n",
       "      <th>ACSF1</th>\n",
       "      <td>417.49 ± 413.78</td>\n",
       "    </tr>\n",
       "    <tr>\n",
       "      <th>Adiac</th>\n",
       "      <td>110.43 ± 29.15</td>\n",
       "    </tr>\n",
       "    <tr>\n",
       "      <th>ArrowHead</th>\n",
       "      <td>56.73 ± 20.18</td>\n",
       "    </tr>\n",
       "    <tr>\n",
       "      <th>BME</th>\n",
       "      <td>90.85 ± 30.39</td>\n",
       "    </tr>\n",
       "    <tr>\n",
       "      <th>Beef</th>\n",
       "      <td>1517.10 ± 851.21</td>\n",
       "    </tr>\n",
       "    <tr>\n",
       "      <th>...</th>\n",
       "      <td>...</td>\n",
       "    </tr>\n",
       "    <tr>\n",
       "      <th>Wine</th>\n",
       "      <td>133.25 ± 192.82</td>\n",
       "    </tr>\n",
       "    <tr>\n",
       "      <th>WordSynonyms</th>\n",
       "      <td>162.90 ± 62.43</td>\n",
       "    </tr>\n",
       "    <tr>\n",
       "      <th>Worms</th>\n",
       "      <td>1252.17 ± 227.58</td>\n",
       "    </tr>\n",
       "    <tr>\n",
       "      <th>WormsTwoClass</th>\n",
       "      <td>404.59 ± 353.53</td>\n",
       "    </tr>\n",
       "    <tr>\n",
       "      <th>Yoga</th>\n",
       "      <td>2286.78 ± 562.95</td>\n",
       "    </tr>\n",
       "  </tbody>\n",
       "</table>\n",
       "<p>112 rows × 1 columns</p>\n",
       "</div>"
      ]
     },
     "metadata": {},
     "output_type": "display_data"
    }
   ],
   "execution_count": 73
  },
  {
   "cell_type": "code",
   "source": [
    "experiment_3_encoder_metric_tables_mul, experiment_3_metric_encoder_tables_mul = analyze_representation_results_2(\n",
    "    representations_results_folder=experiment_3_results_dir,\n",
    "    metrics=CLUSTERING_METRICS,\n",
    "    encoders_list=experiment_3_encoders_list)"
   ],
   "metadata": {
    "collapsed": false,
    "ExecuteTime": {
     "end_time": "2025-04-07T09:18:38.659191Z",
     "start_time": "2025-04-07T09:18:38.478099Z"
    }
   },
   "id": "6413e7e869424470",
   "outputs": [],
   "execution_count": 74
  },
  {
   "cell_type": "code",
   "source": [
    "experiment_3_baselines_columns = ['mcl - mcl', 'lstm-auto-encoder - encoder']"
   ],
   "metadata": {
    "collapsed": false,
    "ExecuteTime": {
     "end_time": "2025-04-07T09:18:38.704854Z",
     "start_time": "2025-04-07T09:18:38.703170Z"
    }
   },
   "id": "66f398807b02a60e",
   "outputs": [],
   "execution_count": 75
  },
  {
   "cell_type": "code",
   "source": [
    "experiment_3_baselines_results_mul = df_summarized_baselines_external_results_mul[experiment_3_baselines_columns]"
   ],
   "metadata": {
    "collapsed": false,
    "ExecuteTime": {
     "end_time": "2025-04-07T09:18:38.744722Z",
     "start_time": "2025-04-07T09:18:38.742834Z"
    }
   },
   "id": "32ed8a4d106876d6",
   "outputs": [],
   "execution_count": 76
  },
  {
   "cell_type": "code",
   "source": [
    "experiment_3_results_mul = pd.concat([experiment_3_metric_encoder_tables_mul[CLUSTERING_METRIC_TO_CONSIDER_EXTERNAL],\n",
    "                                      experiment_3_baselines_results_mul], axis=1)"
   ],
   "metadata": {
    "collapsed": false,
    "ExecuteTime": {
     "end_time": "2025-04-07T09:18:38.785885Z",
     "start_time": "2025-04-07T09:18:38.783928Z"
    }
   },
   "id": "fc8b24ab0aa319f3",
   "outputs": [],
   "execution_count": 77
  },
  {
   "cell_type": "code",
   "source": [
    "experiment_3_baselines_results_display = df_summarized_baselines_results_external_display[\n",
    "    experiment_3_baselines_columns]\n",
    "experiment_3_results_display = pd.concat(\n",
    "    [experiment_3_metric_encoder_tables_display[CLUSTERING_METRIC_TO_CONSIDER_EXTERNAL],\n",
    "     experiment_3_baselines_results_display], axis=1)"
   ],
   "metadata": {
    "collapsed": false,
    "ExecuteTime": {
     "end_time": "2025-04-07T09:18:38.866794Z",
     "start_time": "2025-04-07T09:18:38.864378Z"
    }
   },
   "id": "853d03a147c29981",
   "outputs": [],
   "execution_count": 78
  },
  {
   "cell_type": "markdown",
   "source": [
    "## 4.1.4. All Experiments"
   ],
   "metadata": {
    "collapsed": false
   },
   "id": "2b15578677a8eb2e"
  },
  {
   "metadata": {
    "ExecuteTime": {
     "end_time": "2025-04-07T09:18:38.882496Z",
     "start_time": "2025-04-07T09:18:38.870740Z"
    }
   },
   "cell_type": "code",
   "source": "df_raw_data_external, df_raw_data_external_display = process_df_raw_data_results(datasets_to_skip=DATASETS_TO_SKIP,metric_to_keep=CLUSTERING_METRIC_TO_CONSIDER_EXTERNAL)",
   "id": "e2283084b83ce01f",
   "outputs": [],
   "execution_count": 79
  },
  {
   "metadata": {
    "ExecuteTime": {
     "end_time": "2025-04-07T09:18:38.925408Z",
     "start_time": "2025-04-07T09:18:38.922152Z"
    }
   },
   "cell_type": "code",
   "source": "df_raw_data_external_display",
   "id": "c572db24d8010c85",
   "outputs": [
    {
     "data": {
      "text/plain": [
       "                        raw\n",
       "dataset_name               \n",
       "ACSF1           0.09 ± 0.00\n",
       "Adiac           0.14 ± 0.01\n",
       "ArrowHead       0.09 ± 0.01\n",
       "BME             0.35 ± 0.01\n",
       "Beef            0.06 ± 0.01\n",
       "...                     ...\n",
       "Wine           -0.00 ± 0.01\n",
       "WordSynonyms    0.16 ± 0.02\n",
       "Worms           0.03 ± 0.00\n",
       "WormsTwoClass   0.00 ± 0.00\n",
       "Yoga           -0.00 ± 0.00\n",
       "\n",
       "[112 rows x 1 columns]"
      ],
      "text/html": [
       "<div>\n",
       "<style scoped>\n",
       "    .dataframe tbody tr th:only-of-type {\n",
       "        vertical-align: middle;\n",
       "    }\n",
       "\n",
       "    .dataframe tbody tr th {\n",
       "        vertical-align: top;\n",
       "    }\n",
       "\n",
       "    .dataframe thead th {\n",
       "        text-align: right;\n",
       "    }\n",
       "</style>\n",
       "<table border=\"1\" class=\"dataframe\">\n",
       "  <thead>\n",
       "    <tr style=\"text-align: right;\">\n",
       "      <th></th>\n",
       "      <th>raw</th>\n",
       "    </tr>\n",
       "    <tr>\n",
       "      <th>dataset_name</th>\n",
       "      <th></th>\n",
       "    </tr>\n",
       "  </thead>\n",
       "  <tbody>\n",
       "    <tr>\n",
       "      <th>ACSF1</th>\n",
       "      <td>0.09 ± 0.00</td>\n",
       "    </tr>\n",
       "    <tr>\n",
       "      <th>Adiac</th>\n",
       "      <td>0.14 ± 0.01</td>\n",
       "    </tr>\n",
       "    <tr>\n",
       "      <th>ArrowHead</th>\n",
       "      <td>0.09 ± 0.01</td>\n",
       "    </tr>\n",
       "    <tr>\n",
       "      <th>BME</th>\n",
       "      <td>0.35 ± 0.01</td>\n",
       "    </tr>\n",
       "    <tr>\n",
       "      <th>Beef</th>\n",
       "      <td>0.06 ± 0.01</td>\n",
       "    </tr>\n",
       "    <tr>\n",
       "      <th>...</th>\n",
       "      <td>...</td>\n",
       "    </tr>\n",
       "    <tr>\n",
       "      <th>Wine</th>\n",
       "      <td>-0.00 ± 0.01</td>\n",
       "    </tr>\n",
       "    <tr>\n",
       "      <th>WordSynonyms</th>\n",
       "      <td>0.16 ± 0.02</td>\n",
       "    </tr>\n",
       "    <tr>\n",
       "      <th>Worms</th>\n",
       "      <td>0.03 ± 0.00</td>\n",
       "    </tr>\n",
       "    <tr>\n",
       "      <th>WormsTwoClass</th>\n",
       "      <td>0.00 ± 0.00</td>\n",
       "    </tr>\n",
       "    <tr>\n",
       "      <th>Yoga</th>\n",
       "      <td>-0.00 ± 0.00</td>\n",
       "    </tr>\n",
       "  </tbody>\n",
       "</table>\n",
       "<p>112 rows × 1 columns</p>\n",
       "</div>"
      ]
     },
     "execution_count": 80,
     "metadata": {},
     "output_type": "execute_result"
    }
   ],
   "execution_count": 80
  },
  {
   "metadata": {
    "collapsed": false,
    "ExecuteTime": {
     "end_time": "2025-04-07T09:18:38.985868Z",
     "start_time": "2025-04-07T09:18:38.983295Z"
    }
   },
   "cell_type": "code",
   "source": [
    "all_experiments_results_mul = pd.concat([df_raw_data_external, experiment_1_results_mul, experiment_2_results_mul, experiment_3_results_mul,\n",
    "                                         df_summarized_baselines_external_results_mul], axis=1)\n",
    "all_experiments_results_mul = all_experiments_results_mul.loc[:, ~all_experiments_results_mul.columns.duplicated()]"
   ],
   "id": "e3fa9614956b60a0",
   "outputs": [],
   "execution_count": 81
  },
  {
   "metadata": {
    "ExecuteTime": {
     "end_time": "2025-04-07T09:18:39.021593Z",
     "start_time": "2025-04-07T09:18:39.011345Z"
    }
   },
   "cell_type": "code",
   "source": "all_experiments_results_mul",
   "id": "75941afd5e71a4b1",
   "outputs": [
    {
     "data": {
      "text/plain": [
       "                                                             raw  \\\n",
       "ACSF1          [0.0817736530033513, 0.0926150938301606, 0.088...   \n",
       "Adiac          [0.1288944587674917, 0.1391998476786531, 0.145...   \n",
       "ArrowHead      [0.0962471497986977, 0.0693576582081398, 0.076...   \n",
       "BME            [0.3550292251525254, 0.3550292251525254, 0.355...   \n",
       "Beef           [0.0533127293799497, 0.0802445548337791, 0.053...   \n",
       "...                                                          ...   \n",
       "Wine           [0.0079068205470934, -0.0122102282781808, 0.00...   \n",
       "WordSynonyms   [0.1988132139415665, 0.1487872560527381, 0.143...   \n",
       "Worms          [0.0248191661781275, 0.0343259608100887, 0.035...   \n",
       "WormsTwoClass  [0.0021575664510039, -0.0049270520227957, 0.00...   \n",
       "Yoga           [-0.000500182751078, -0.0017605391806779, -0.0...   \n",
       "\n",
       "                     tsrc-ts2vec-timenet - student-model-encoder  \\\n",
       "ACSF1          [0.1890776126444916, 0.1976823449216087, 0.185...   \n",
       "Adiac          [0.2204710652966962, 0.1725006270901752, 0.198...   \n",
       "ArrowHead      [-0.0028817525223046, 0.0435211615187003, 0.03...   \n",
       "BME            [0.3914258857644883, 0.3550292251525254, 0.154...   \n",
       "Beef           [0.1411383618695048, 0.074861760952786, 0.0554...   \n",
       "...                                                          ...   \n",
       "Wine           [0.0059756435793348, 0.0318616945277896, 0.004...   \n",
       "WordSynonyms   [0.1966427698711924, 0.1756306975889335, 0.184...   \n",
       "Worms          [0.0307553165099137, 0.0543280718755222, 0.065...   \n",
       "WormsTwoClass  [-0.0013024430674507, 0.0059019268517838, -0.0...   \n",
       "Yoga           [0.0015162263748471, 0.0009215993366346, 0.000...   \n",
       "\n",
       "                                                 ts2vec - ts2vec  \\\n",
       "ACSF1          [0.1595672751859364, 0.2051612903225806, 0.140...   \n",
       "Adiac          [0.2482650649878982, 0.2460619522194201, 0.264...   \n",
       "ArrowHead      [-0.007615017411341, -0.0033966776638283, -0.0...   \n",
       "BME            [5.227778673276902e-05, -0.0005853140209722, -...   \n",
       "Beef           [0.0543478260869565, 0.0543478260869565, 0.100...   \n",
       "...                                                          ...   \n",
       "Wine           [0.0023130222647372, 0.0023130222647372, -0.01...   \n",
       "WordSynonyms   [0.1927626100237714, 0.1844580208168144, 0.175...   \n",
       "Worms          [0.0520481298102271, 0.0495205615252068, 0.049...   \n",
       "WormsTwoClass  [0.057472257979648, 0.0164716756737931, 0.0421...   \n",
       "Yoga           [0.0017251252567898, 0.0007657263724829, 0.000...   \n",
       "\n",
       "                                               timenet - timenet  \\\n",
       "ACSF1          [0.2025552684467413, 0.230024758046365, 0.2399...   \n",
       "Adiac          [0.1570163995759669, 0.1599347112061983, 0.125...   \n",
       "ArrowHead      [0.0332085597924477, 0.0693459886663044, 0.018...   \n",
       "BME            [0.6797352726540677, 0.2562850029273831, 0.407...   \n",
       "Beef           [0.0442031795269484, 0.0442031795269484, 0.156...   \n",
       "...                                                          ...   \n",
       "Wine           [-0.0068025604081536, -0.0179363047873425, 0.0...   \n",
       "WordSynonyms   [0.1428555647937571, 0.1652814356071807, 0.168...   \n",
       "Worms          [0.0622753496766431, 0.0637096273747577, 0.068...   \n",
       "WormsTwoClass  [0.0023409835511396, -0.0007501822625919, 0.01...   \n",
       "Yoga           [-0.0009732720137929, 0.0029228600294207, -0.0...   \n",
       "\n",
       "                      tsrc-ts2vec-lstmae - student-model-encoder  \\\n",
       "ACSF1          [0.2342301261589907, 0.2436282436282436, 0.240...   \n",
       "Adiac          [0.1792846038231737, 0.2002070939695651, 0.167...   \n",
       "ArrowHead      [0.0675626822399728, 0.0526656980708466, 0.145...   \n",
       "BME            [0.3051933363900351, 0.3550292251525254, 0.153...   \n",
       "Beef           [0.0442031795269484, 0.0442031795269484, 0.044...   \n",
       "...                                                          ...   \n",
       "Wine           [0.0079068205470934, -0.0035909372697179, 0.00...   \n",
       "WordSynonyms   [0.1229503771623263, 0.0941679047925491, 0.132...   \n",
       "Worms          [0.0331164413622774, 0.0779580172606538, 0.063...   \n",
       "WormsTwoClass  [-0.0078891592378101, -0.0068124796115287, -0....   \n",
       "Yoga           [0.0015163629540318, 0.0011169985052715, 0.000...   \n",
       "\n",
       "                                     lstm-auto-encoder - encoder  \\\n",
       "ACSF1          [0.2153316106804479, 0.2219378687708822, 0.230...   \n",
       "Adiac          [0.0895573167664022, 0.1268761032347374, 0.091...   \n",
       "ArrowHead      [0.0306864472980531, 0.0407091607573259, 0.052...   \n",
       "BME            [0.2628428661926386, 0.1883976552436401, 0.153...   \n",
       "Beef           [0.0442031795269484, 0.0442031795269484, 0.044...   \n",
       "...                                                          ...   \n",
       "Wine           [-0.0139928353991826, -0.0045991872300165, -0....   \n",
       "WordSynonyms   [0.0615537851188984, 0.0589845494597888, 0.059...   \n",
       "Worms          [0.0437424068595912, 0.0436647876754495, 0.051...   \n",
       "WormsTwoClass  [-0.0028387099197115, -0.0028387099197115, -0....   \n",
       "Yoga           [0.000667419032194, -0.0003970632760726, 0.000...   \n",
       "\n",
       "                         tsrc-mcl-lstmae - student-model-encoder  \\\n",
       "ACSF1          [0.2000579458206577, 0.2483333333333333, 0.222...   \n",
       "Adiac          [0.2037873205646816, 0.2186901849556999, 0.286...   \n",
       "ArrowHead      [0.1336854665259219, 0.0928349464305662, 0.123...   \n",
       "BME            [0.5282104408619739, 0.3594227338270157, 0.370...   \n",
       "Beef           [0.1212121212121212, 0.1212121212121212, 0.115...   \n",
       "...                                                          ...   \n",
       "Wine           [0.0059756435793348, -0.0053912896975823, 0.00...   \n",
       "WordSynonyms   [0.1089392155632717, 0.1175537593775946, 0.069...   \n",
       "Worms          [0.0319810902889548, 0.0548846246777902, 0.031...   \n",
       "WormsTwoClass  [-0.0082476845427648, -0.0071211497583996, -0....   \n",
       "Yoga           [0.0001630905639829, -0.0004296776651391, 0.00...   \n",
       "\n",
       "                                                       mcl - mcl  \n",
       "ACSF1          [0.2581271227559437, 0.2871925360474979, 0.243...  \n",
       "Adiac          [0.3039894650361991, 0.2730681801564307, 0.330...  \n",
       "ArrowHead      [0.0891879000835918, 0.0805409892223774, 0.152...  \n",
       "BME            [0.2056986827800672, 0.2798407907973582, 0.293...  \n",
       "Beef           [0.1017161992465466, 0.2628297362110312, 0.215...  \n",
       "...                                                          ...  \n",
       "Wine           [-0.0166882518681444, 0.0946751895744901, 0.00...  \n",
       "WordSynonyms   [0.1311626914957118, 0.1569602832261662, 0.131...  \n",
       "Worms          [0.0103421078136576, -0.0101470944092107, -0.0...  \n",
       "WormsTwoClass  [-0.0071164394701918, -0.0076833413685989, -0....  \n",
       "Yoga           [-0.0005119849247229, -0.0007414481772134, 0.0...  \n",
       "\n",
       "[112 rows x 8 columns]"
      ],
      "text/html": [
       "<div>\n",
       "<style scoped>\n",
       "    .dataframe tbody tr th:only-of-type {\n",
       "        vertical-align: middle;\n",
       "    }\n",
       "\n",
       "    .dataframe tbody tr th {\n",
       "        vertical-align: top;\n",
       "    }\n",
       "\n",
       "    .dataframe thead th {\n",
       "        text-align: right;\n",
       "    }\n",
       "</style>\n",
       "<table border=\"1\" class=\"dataframe\">\n",
       "  <thead>\n",
       "    <tr style=\"text-align: right;\">\n",
       "      <th></th>\n",
       "      <th>raw</th>\n",
       "      <th>tsrc-ts2vec-timenet - student-model-encoder</th>\n",
       "      <th>ts2vec - ts2vec</th>\n",
       "      <th>timenet - timenet</th>\n",
       "      <th>tsrc-ts2vec-lstmae - student-model-encoder</th>\n",
       "      <th>lstm-auto-encoder - encoder</th>\n",
       "      <th>tsrc-mcl-lstmae - student-model-encoder</th>\n",
       "      <th>mcl - mcl</th>\n",
       "    </tr>\n",
       "  </thead>\n",
       "  <tbody>\n",
       "    <tr>\n",
       "      <th>ACSF1</th>\n",
       "      <td>[0.0817736530033513, 0.0926150938301606, 0.088...</td>\n",
       "      <td>[0.1890776126444916, 0.1976823449216087, 0.185...</td>\n",
       "      <td>[0.1595672751859364, 0.2051612903225806, 0.140...</td>\n",
       "      <td>[0.2025552684467413, 0.230024758046365, 0.2399...</td>\n",
       "      <td>[0.2342301261589907, 0.2436282436282436, 0.240...</td>\n",
       "      <td>[0.2153316106804479, 0.2219378687708822, 0.230...</td>\n",
       "      <td>[0.2000579458206577, 0.2483333333333333, 0.222...</td>\n",
       "      <td>[0.2581271227559437, 0.2871925360474979, 0.243...</td>\n",
       "    </tr>\n",
       "    <tr>\n",
       "      <th>Adiac</th>\n",
       "      <td>[0.1288944587674917, 0.1391998476786531, 0.145...</td>\n",
       "      <td>[0.2204710652966962, 0.1725006270901752, 0.198...</td>\n",
       "      <td>[0.2482650649878982, 0.2460619522194201, 0.264...</td>\n",
       "      <td>[0.1570163995759669, 0.1599347112061983, 0.125...</td>\n",
       "      <td>[0.1792846038231737, 0.2002070939695651, 0.167...</td>\n",
       "      <td>[0.0895573167664022, 0.1268761032347374, 0.091...</td>\n",
       "      <td>[0.2037873205646816, 0.2186901849556999, 0.286...</td>\n",
       "      <td>[0.3039894650361991, 0.2730681801564307, 0.330...</td>\n",
       "    </tr>\n",
       "    <tr>\n",
       "      <th>ArrowHead</th>\n",
       "      <td>[0.0962471497986977, 0.0693576582081398, 0.076...</td>\n",
       "      <td>[-0.0028817525223046, 0.0435211615187003, 0.03...</td>\n",
       "      <td>[-0.007615017411341, -0.0033966776638283, -0.0...</td>\n",
       "      <td>[0.0332085597924477, 0.0693459886663044, 0.018...</td>\n",
       "      <td>[0.0675626822399728, 0.0526656980708466, 0.145...</td>\n",
       "      <td>[0.0306864472980531, 0.0407091607573259, 0.052...</td>\n",
       "      <td>[0.1336854665259219, 0.0928349464305662, 0.123...</td>\n",
       "      <td>[0.0891879000835918, 0.0805409892223774, 0.152...</td>\n",
       "    </tr>\n",
       "    <tr>\n",
       "      <th>BME</th>\n",
       "      <td>[0.3550292251525254, 0.3550292251525254, 0.355...</td>\n",
       "      <td>[0.3914258857644883, 0.3550292251525254, 0.154...</td>\n",
       "      <td>[5.227778673276902e-05, -0.0005853140209722, -...</td>\n",
       "      <td>[0.6797352726540677, 0.2562850029273831, 0.407...</td>\n",
       "      <td>[0.3051933363900351, 0.3550292251525254, 0.153...</td>\n",
       "      <td>[0.2628428661926386, 0.1883976552436401, 0.153...</td>\n",
       "      <td>[0.5282104408619739, 0.3594227338270157, 0.370...</td>\n",
       "      <td>[0.2056986827800672, 0.2798407907973582, 0.293...</td>\n",
       "    </tr>\n",
       "    <tr>\n",
       "      <th>Beef</th>\n",
       "      <td>[0.0533127293799497, 0.0802445548337791, 0.053...</td>\n",
       "      <td>[0.1411383618695048, 0.074861760952786, 0.0554...</td>\n",
       "      <td>[0.0543478260869565, 0.0543478260869565, 0.100...</td>\n",
       "      <td>[0.0442031795269484, 0.0442031795269484, 0.156...</td>\n",
       "      <td>[0.0442031795269484, 0.0442031795269484, 0.044...</td>\n",
       "      <td>[0.0442031795269484, 0.0442031795269484, 0.044...</td>\n",
       "      <td>[0.1212121212121212, 0.1212121212121212, 0.115...</td>\n",
       "      <td>[0.1017161992465466, 0.2628297362110312, 0.215...</td>\n",
       "    </tr>\n",
       "    <tr>\n",
       "      <th>...</th>\n",
       "      <td>...</td>\n",
       "      <td>...</td>\n",
       "      <td>...</td>\n",
       "      <td>...</td>\n",
       "      <td>...</td>\n",
       "      <td>...</td>\n",
       "      <td>...</td>\n",
       "      <td>...</td>\n",
       "    </tr>\n",
       "    <tr>\n",
       "      <th>Wine</th>\n",
       "      <td>[0.0079068205470934, -0.0122102282781808, 0.00...</td>\n",
       "      <td>[0.0059756435793348, 0.0318616945277896, 0.004...</td>\n",
       "      <td>[0.0023130222647372, 0.0023130222647372, -0.01...</td>\n",
       "      <td>[-0.0068025604081536, -0.0179363047873425, 0.0...</td>\n",
       "      <td>[0.0079068205470934, -0.0035909372697179, 0.00...</td>\n",
       "      <td>[-0.0139928353991826, -0.0045991872300165, -0....</td>\n",
       "      <td>[0.0059756435793348, -0.0053912896975823, 0.00...</td>\n",
       "      <td>[-0.0166882518681444, 0.0946751895744901, 0.00...</td>\n",
       "    </tr>\n",
       "    <tr>\n",
       "      <th>WordSynonyms</th>\n",
       "      <td>[0.1988132139415665, 0.1487872560527381, 0.143...</td>\n",
       "      <td>[0.1966427698711924, 0.1756306975889335, 0.184...</td>\n",
       "      <td>[0.1927626100237714, 0.1844580208168144, 0.175...</td>\n",
       "      <td>[0.1428555647937571, 0.1652814356071807, 0.168...</td>\n",
       "      <td>[0.1229503771623263, 0.0941679047925491, 0.132...</td>\n",
       "      <td>[0.0615537851188984, 0.0589845494597888, 0.059...</td>\n",
       "      <td>[0.1089392155632717, 0.1175537593775946, 0.069...</td>\n",
       "      <td>[0.1311626914957118, 0.1569602832261662, 0.131...</td>\n",
       "    </tr>\n",
       "    <tr>\n",
       "      <th>Worms</th>\n",
       "      <td>[0.0248191661781275, 0.0343259608100887, 0.035...</td>\n",
       "      <td>[0.0307553165099137, 0.0543280718755222, 0.065...</td>\n",
       "      <td>[0.0520481298102271, 0.0495205615252068, 0.049...</td>\n",
       "      <td>[0.0622753496766431, 0.0637096273747577, 0.068...</td>\n",
       "      <td>[0.0331164413622774, 0.0779580172606538, 0.063...</td>\n",
       "      <td>[0.0437424068595912, 0.0436647876754495, 0.051...</td>\n",
       "      <td>[0.0319810902889548, 0.0548846246777902, 0.031...</td>\n",
       "      <td>[0.0103421078136576, -0.0101470944092107, -0.0...</td>\n",
       "    </tr>\n",
       "    <tr>\n",
       "      <th>WormsTwoClass</th>\n",
       "      <td>[0.0021575664510039, -0.0049270520227957, 0.00...</td>\n",
       "      <td>[-0.0013024430674507, 0.0059019268517838, -0.0...</td>\n",
       "      <td>[0.057472257979648, 0.0164716756737931, 0.0421...</td>\n",
       "      <td>[0.0023409835511396, -0.0007501822625919, 0.01...</td>\n",
       "      <td>[-0.0078891592378101, -0.0068124796115287, -0....</td>\n",
       "      <td>[-0.0028387099197115, -0.0028387099197115, -0....</td>\n",
       "      <td>[-0.0082476845427648, -0.0071211497583996, -0....</td>\n",
       "      <td>[-0.0071164394701918, -0.0076833413685989, -0....</td>\n",
       "    </tr>\n",
       "    <tr>\n",
       "      <th>Yoga</th>\n",
       "      <td>[-0.000500182751078, -0.0017605391806779, -0.0...</td>\n",
       "      <td>[0.0015162263748471, 0.0009215993366346, 0.000...</td>\n",
       "      <td>[0.0017251252567898, 0.0007657263724829, 0.000...</td>\n",
       "      <td>[-0.0009732720137929, 0.0029228600294207, -0.0...</td>\n",
       "      <td>[0.0015163629540318, 0.0011169985052715, 0.000...</td>\n",
       "      <td>[0.000667419032194, -0.0003970632760726, 0.000...</td>\n",
       "      <td>[0.0001630905639829, -0.0004296776651391, 0.00...</td>\n",
       "      <td>[-0.0005119849247229, -0.0007414481772134, 0.0...</td>\n",
       "    </tr>\n",
       "  </tbody>\n",
       "</table>\n",
       "<p>112 rows × 8 columns</p>\n",
       "</div>"
      ]
     },
     "execution_count": 82,
     "metadata": {},
     "output_type": "execute_result"
    }
   ],
   "execution_count": 82
  },
  {
   "metadata": {
    "collapsed": false,
    "ExecuteTime": {
     "end_time": "2025-04-07T09:18:39.066510Z",
     "start_time": "2025-04-07T09:18:39.063267Z"
    }
   },
   "cell_type": "code",
   "source": [
    "full_baselines_display_names = [\"Raw Data\"] + baselines_display_names\n",
    "all_experiment_results_display = pd.concat(\n",
    "    [df_raw_data_external_display,experiment_1_results_display, experiment_2_results_display, experiment_3_results_display], axis=1)\n",
    "all_experiment_results_display = all_experiment_results_display.loc[:,\n",
    "                                 ~all_experiment_results_display.columns.duplicated()]\n",
    "# # rename the columns to be more descriptive (use the mapping)\n",
    "all_experiment_results_display.columns = [MODEL_TO_DISPLAY_NAME_MAP[col] for col in\n",
    "                                          all_experiment_results_display.columns]\n",
    "\n",
    "# # order the columns and put the baselines first\n",
    "all_experiment_results_display = all_experiment_results_display[full_baselines_display_names + all_experiment_results_display.columns.difference(full_baselines_display_names).tolist()]"
   ],
   "id": "8b2f8447a0e9791f",
   "outputs": [],
   "execution_count": 83
  },
  {
   "metadata": {
    "ExecuteTime": {
     "end_time": "2025-04-07T09:18:39.112854Z",
     "start_time": "2025-04-07T09:18:39.108481Z"
    }
   },
   "cell_type": "code",
   "source": "all_experiment_results_display",
   "id": "f67d2d6bd1d95730",
   "outputs": [
    {
     "data": {
      "text/plain": [
       "                   Raw Data       LSTM-AE        TS2Vec           MCL  \\\n",
       "ACSF1           0.09 ± 0.00   0.22 ± 0.01   0.18 ± 0.03   0.26 ± 0.01   \n",
       "Adiac           0.14 ± 0.01   0.12 ± 0.03   0.25 ± 0.01   0.30 ± 0.02   \n",
       "ArrowHead       0.09 ± 0.01   0.05 ± 0.01  -0.01 ± 0.00   0.09 ± 0.04   \n",
       "BME             0.35 ± 0.01   0.22 ± 0.07  -0.00 ± 0.00   0.25 ± 0.07   \n",
       "Beef            0.06 ± 0.01   0.04 ± 0.00   0.08 ± 0.03   0.18 ± 0.07   \n",
       "...                     ...           ...           ...           ...   \n",
       "Wine           -0.00 ± 0.01  -0.01 ± 0.00  -0.01 ± 0.01   0.04 ± 0.05   \n",
       "WordSynonyms    0.16 ± 0.02   0.06 ± 0.01   0.20 ± 0.02   0.14 ± 0.01   \n",
       "Worms           0.03 ± 0.00   0.04 ± 0.00   0.05 ± 0.01   0.00 ± 0.01   \n",
       "WormsTwoClass   0.00 ± 0.00  -0.00 ± 0.00   0.05 ± 0.02  -0.00 ± 0.00   \n",
       "Yoga           -0.00 ± 0.00   0.00 ± 0.00   0.00 ± 0.00   0.00 ± 0.00   \n",
       "\n",
       "                   TimeNet LSTM-AE w/ TSRC (MCL) LSTM-AE w/ TSRC (TS2Vec)  \\\n",
       "ACSF1          0.22 ± 0.02           0.20 ± 0.04              0.24 ± 0.01   \n",
       "Adiac          0.15 ± 0.01           0.23 ± 0.04              0.18 ± 0.03   \n",
       "ArrowHead      0.05 ± 0.02           0.11 ± 0.03              0.09 ± 0.03   \n",
       "BME            0.37 ± 0.18           0.33 ± 0.13              0.21 ± 0.10   \n",
       "Beef           0.08 ± 0.04           0.11 ± 0.02              0.04 ± 0.00   \n",
       "...                    ...                   ...                      ...   \n",
       "Wine           0.01 ± 0.02           0.00 ± 0.01              0.00 ± 0.01   \n",
       "WordSynonyms   0.16 ± 0.01           0.09 ± 0.02              0.12 ± 0.02   \n",
       "Worms          0.06 ± 0.01           0.03 ± 0.02              0.06 ± 0.02   \n",
       "WormsTwoClass  0.00 ± 0.01          -0.01 ± 0.00             -0.00 ± 0.00   \n",
       "Yoga           0.00 ± 0.00           0.00 ± 0.01              0.00 ± 0.00   \n",
       "\n",
       "              TimeNet w/ TSRC (TS2Vec)  \n",
       "ACSF1                      0.19 ± 0.01  \n",
       "Adiac                      0.22 ± 0.03  \n",
       "ArrowHead                  0.03 ± 0.03  \n",
       "BME                        0.31 ± 0.11  \n",
       "Beef                       0.11 ± 0.05  \n",
       "...                                ...  \n",
       "Wine                       0.00 ± 0.02  \n",
       "WordSynonyms               0.20 ± 0.02  \n",
       "Worms                      0.05 ± 0.01  \n",
       "WormsTwoClass              0.00 ± 0.01  \n",
       "Yoga                       0.00 ± 0.00  \n",
       "\n",
       "[112 rows x 8 columns]"
      ],
      "text/html": [
       "<div>\n",
       "<style scoped>\n",
       "    .dataframe tbody tr th:only-of-type {\n",
       "        vertical-align: middle;\n",
       "    }\n",
       "\n",
       "    .dataframe tbody tr th {\n",
       "        vertical-align: top;\n",
       "    }\n",
       "\n",
       "    .dataframe thead th {\n",
       "        text-align: right;\n",
       "    }\n",
       "</style>\n",
       "<table border=\"1\" class=\"dataframe\">\n",
       "  <thead>\n",
       "    <tr style=\"text-align: right;\">\n",
       "      <th></th>\n",
       "      <th>Raw Data</th>\n",
       "      <th>LSTM-AE</th>\n",
       "      <th>TS2Vec</th>\n",
       "      <th>MCL</th>\n",
       "      <th>TimeNet</th>\n",
       "      <th>LSTM-AE w/ TSRC (MCL)</th>\n",
       "      <th>LSTM-AE w/ TSRC (TS2Vec)</th>\n",
       "      <th>TimeNet w/ TSRC (TS2Vec)</th>\n",
       "    </tr>\n",
       "  </thead>\n",
       "  <tbody>\n",
       "    <tr>\n",
       "      <th>ACSF1</th>\n",
       "      <td>0.09 ± 0.00</td>\n",
       "      <td>0.22 ± 0.01</td>\n",
       "      <td>0.18 ± 0.03</td>\n",
       "      <td>0.26 ± 0.01</td>\n",
       "      <td>0.22 ± 0.02</td>\n",
       "      <td>0.20 ± 0.04</td>\n",
       "      <td>0.24 ± 0.01</td>\n",
       "      <td>0.19 ± 0.01</td>\n",
       "    </tr>\n",
       "    <tr>\n",
       "      <th>Adiac</th>\n",
       "      <td>0.14 ± 0.01</td>\n",
       "      <td>0.12 ± 0.03</td>\n",
       "      <td>0.25 ± 0.01</td>\n",
       "      <td>0.30 ± 0.02</td>\n",
       "      <td>0.15 ± 0.01</td>\n",
       "      <td>0.23 ± 0.04</td>\n",
       "      <td>0.18 ± 0.03</td>\n",
       "      <td>0.22 ± 0.03</td>\n",
       "    </tr>\n",
       "    <tr>\n",
       "      <th>ArrowHead</th>\n",
       "      <td>0.09 ± 0.01</td>\n",
       "      <td>0.05 ± 0.01</td>\n",
       "      <td>-0.01 ± 0.00</td>\n",
       "      <td>0.09 ± 0.04</td>\n",
       "      <td>0.05 ± 0.02</td>\n",
       "      <td>0.11 ± 0.03</td>\n",
       "      <td>0.09 ± 0.03</td>\n",
       "      <td>0.03 ± 0.03</td>\n",
       "    </tr>\n",
       "    <tr>\n",
       "      <th>BME</th>\n",
       "      <td>0.35 ± 0.01</td>\n",
       "      <td>0.22 ± 0.07</td>\n",
       "      <td>-0.00 ± 0.00</td>\n",
       "      <td>0.25 ± 0.07</td>\n",
       "      <td>0.37 ± 0.18</td>\n",
       "      <td>0.33 ± 0.13</td>\n",
       "      <td>0.21 ± 0.10</td>\n",
       "      <td>0.31 ± 0.11</td>\n",
       "    </tr>\n",
       "    <tr>\n",
       "      <th>Beef</th>\n",
       "      <td>0.06 ± 0.01</td>\n",
       "      <td>0.04 ± 0.00</td>\n",
       "      <td>0.08 ± 0.03</td>\n",
       "      <td>0.18 ± 0.07</td>\n",
       "      <td>0.08 ± 0.04</td>\n",
       "      <td>0.11 ± 0.02</td>\n",
       "      <td>0.04 ± 0.00</td>\n",
       "      <td>0.11 ± 0.05</td>\n",
       "    </tr>\n",
       "    <tr>\n",
       "      <th>...</th>\n",
       "      <td>...</td>\n",
       "      <td>...</td>\n",
       "      <td>...</td>\n",
       "      <td>...</td>\n",
       "      <td>...</td>\n",
       "      <td>...</td>\n",
       "      <td>...</td>\n",
       "      <td>...</td>\n",
       "    </tr>\n",
       "    <tr>\n",
       "      <th>Wine</th>\n",
       "      <td>-0.00 ± 0.01</td>\n",
       "      <td>-0.01 ± 0.00</td>\n",
       "      <td>-0.01 ± 0.01</td>\n",
       "      <td>0.04 ± 0.05</td>\n",
       "      <td>0.01 ± 0.02</td>\n",
       "      <td>0.00 ± 0.01</td>\n",
       "      <td>0.00 ± 0.01</td>\n",
       "      <td>0.00 ± 0.02</td>\n",
       "    </tr>\n",
       "    <tr>\n",
       "      <th>WordSynonyms</th>\n",
       "      <td>0.16 ± 0.02</td>\n",
       "      <td>0.06 ± 0.01</td>\n",
       "      <td>0.20 ± 0.02</td>\n",
       "      <td>0.14 ± 0.01</td>\n",
       "      <td>0.16 ± 0.01</td>\n",
       "      <td>0.09 ± 0.02</td>\n",
       "      <td>0.12 ± 0.02</td>\n",
       "      <td>0.20 ± 0.02</td>\n",
       "    </tr>\n",
       "    <tr>\n",
       "      <th>Worms</th>\n",
       "      <td>0.03 ± 0.00</td>\n",
       "      <td>0.04 ± 0.00</td>\n",
       "      <td>0.05 ± 0.01</td>\n",
       "      <td>0.00 ± 0.01</td>\n",
       "      <td>0.06 ± 0.01</td>\n",
       "      <td>0.03 ± 0.02</td>\n",
       "      <td>0.06 ± 0.02</td>\n",
       "      <td>0.05 ± 0.01</td>\n",
       "    </tr>\n",
       "    <tr>\n",
       "      <th>WormsTwoClass</th>\n",
       "      <td>0.00 ± 0.00</td>\n",
       "      <td>-0.00 ± 0.00</td>\n",
       "      <td>0.05 ± 0.02</td>\n",
       "      <td>-0.00 ± 0.00</td>\n",
       "      <td>0.00 ± 0.01</td>\n",
       "      <td>-0.01 ± 0.00</td>\n",
       "      <td>-0.00 ± 0.00</td>\n",
       "      <td>0.00 ± 0.01</td>\n",
       "    </tr>\n",
       "    <tr>\n",
       "      <th>Yoga</th>\n",
       "      <td>-0.00 ± 0.00</td>\n",
       "      <td>0.00 ± 0.00</td>\n",
       "      <td>0.00 ± 0.00</td>\n",
       "      <td>0.00 ± 0.00</td>\n",
       "      <td>0.00 ± 0.00</td>\n",
       "      <td>0.00 ± 0.01</td>\n",
       "      <td>0.00 ± 0.00</td>\n",
       "      <td>0.00 ± 0.00</td>\n",
       "    </tr>\n",
       "  </tbody>\n",
       "</table>\n",
       "<p>112 rows × 8 columns</p>\n",
       "</div>"
      ]
     },
     "execution_count": 84,
     "metadata": {},
     "output_type": "execute_result"
    }
   ],
   "execution_count": 84
  },
  {
   "metadata": {
    "collapsed": false,
    "ExecuteTime": {
     "end_time": "2025-04-07T09:18:39.208147Z",
     "start_time": "2025-04-07T09:18:39.160358Z"
    }
   },
   "cell_type": "code",
   "source": [
    "# save as latex\n",
    "save_df_as_latex(all_experiment_results_display, 'all_experiments_results')"
   ],
   "id": "4f5f4da480d11f",
   "outputs": [],
   "execution_count": 85
  },
  {
   "metadata": {
    "collapsed": false,
    "ExecuteTime": {
     "end_time": "2025-04-07T09:18:39.375650Z",
     "start_time": "2025-04-07T09:18:39.225105Z"
    }
   },
   "cell_type": "code",
   "source": [
    "# rename the columns in the results table to be more descriptive (use the mapping)\n",
    "all_experiments_results_mul.rename(columns=MODEL_TO_DISPLAY_NAME_MAP, inplace=True)\n",
    "\n",
    "do_cd_analysis_multiple(all_experiments_results_mul, all_experiments_results_mul.columns, all_experiments_results_mul.columns)\n",
    "\n",
    "# save the figure as eps\n",
    "plt.savefig(PLOTS_OUTPUT_DIR / 'all_experiments_cd.eps', format='eps', bbox_inches='tight', dpi=300)\n",
    "\n",
    "# save the figure as png\n",
    "plt.savefig(PLOTS_OUTPUT_DIR / 'all_experiments_cd.png', format='png', bbox_inches='tight', dpi=300)"
   ],
   "id": "2f027d2acde9f8c5",
   "outputs": [
    {
     "name": "stdout",
     "output_type": "stream",
     "text": [
      "Statistics=177.79975223431674, p=5.678021071640372e-35\n",
      "Significant differences found. Proceeding to CD analysis.\n",
      "Number of datasets: 560\n",
      "Number of algorithms: 8\n",
      "Critical difference: 0.44367525557972665\n",
      "\n",
      "Algorithm Name                 Rank\n",
      "-------------------------------------\n",
      "TimeNet w/ TSRC (TS2Vec)       3.95\n",
      "TS2Vec                         3.97\n",
      "Raw Data                       4.15\n",
      "TimeNet                        4.35\n",
      "LSTM-AE w/ TSRC (TS2Vec)       4.44\n",
      "MCL                            4.75\n",
      "LSTM-AE w/ TSRC (MCL)          5.01\n",
      "LSTM-AE                        5.38\n"
     ]
    },
    {
     "data": {
      "text/plain": [
       "<Figure size 600x235 with 1 Axes>"
      ],
      "image/png": "[encoded data removed]"
     },
     "metadata": {},
     "output_type": "display_data"
    }
   ],
   "execution_count": 86
  },
  {
   "metadata": {
    "collapsed": false,
    "ExecuteTime": {
     "end_time": "2025-04-07T09:18:39.439694Z",
     "start_time": "2025-04-07T09:18:39.436860Z"
    }
   },
   "cell_type": "code",
   "source": [
    "# Calculating improvements:\n",
    "\n",
    "ranks_original = {\n",
    "    \"TimeNet_w_TSRC_TS2Vec\": 3.95,\n",
    "    \"TS2Vec\": 3.97,\n",
    "    \"Raw Data\": 4.15,\n",
    "    \"TimeNet\": 4.35,\n",
    "    \"LSTM_AE_w_TSRC_TS2Vec\": 4.44,\n",
    "    \"MCL\": 4.75,\n",
    "    \"LSTM_AE_w_TSRC_MCL\": 5.01,\n",
    "    \"LSTM_AE\": 5.38\n",
    "}\n",
    "improvements = {\n",
    "    \"TimeNet_w_TSRC_TS2Vec\": ((ranks_original[\"TimeNet\"] - ranks_original[\"TimeNet_w_TSRC_TS2Vec\"]) / ranks_original[\n",
    "        \"TimeNet\"]) * 100,\n",
    "    \"LSTM_AE_w_TSRC_TS2Vec\": ((ranks_original[\"LSTM_AE\"] - ranks_original[\"LSTM_AE_w_TSRC_TS2Vec\"]) / ranks_original[\n",
    "        \"LSTM_AE\"]) * 100,\n",
    "    \"LSTM_AE_w_TSRC_MCL\": ((ranks_original[\"LSTM_AE\"] - ranks_original[\"LSTM_AE_w_TSRC_MCL\"]) / ranks_original[\n",
    "        \"LSTM_AE\"]) * 100,\n",
    "}\n",
    "\n",
    "improvements = {k: round(v, 2) for k, v in improvements.items()}\n",
    "\n",
    "# Calculate the mean of the improvements:\n",
    "mean_improvement = sum(improvements.values()) / len(improvements)\n",
    "\n",
    "mean_improvement = round(mean_improvement, 2)\n",
    "\n",
    "print(f'Details of the improvements: {improvements}')\n",
    "print(f'Mean improvement: {mean_improvement}')"
   ],
   "id": "191fec8a9b21bfed",
   "outputs": [
    {
     "name": "stdout",
     "output_type": "stream",
     "text": [
      "Details of the improvements: {'TimeNet_w_TSRC_TS2Vec': 9.2, 'LSTM_AE_w_TSRC_TS2Vec': 17.47, 'LSTM_AE_w_TSRC_MCL': 6.88}\n",
      "Mean improvement: 11.18\n"
     ]
    }
   ],
   "execution_count": 87
  },
  {
   "metadata": {
    "ExecuteTime": {
     "end_time": "2025-04-07T09:18:39.467539Z",
     "start_time": "2025-04-07T09:18:39.464343Z"
    }
   },
   "cell_type": "code",
   "source": [
    "all_experiments_results_mul_names = all_experiments_results_mul.columns\n",
    "\n",
    "do_wilcoxon_test_multiple(all_experiments_results_mul, ['LSTM-AE w/ TSRC (MCL)', 'LSTM-AE'])"
   ],
   "id": "d0b7383747809ded",
   "outputs": [
    {
     "name": "stdout",
     "output_type": "stream",
     "text": [
      "Wilcoxon signed-rank test statistic: 61869.0\n",
      "P-value: 0.01333057500806402\n",
      "There is a statistically significant difference between the two algorithms. LSTM-AE w/ TSRC (MCL) performs better.\n"
     ]
    }
   ],
   "execution_count": 88
  },
  {
   "cell_type": "markdown",
   "source": [
    "## 4.2. Internal Clustering Metric"
   ],
   "metadata": {
    "collapsed": false
   },
   "id": "6e96696fb55dbbe"
  },
  {
   "cell_type": "markdown",
   "source": [
    "### 4.2.1 Experiment 1"
   ],
   "metadata": {
    "collapsed": false
   },
   "id": "9579f1c7480c9882"
  },
  {
   "cell_type": "code",
   "source": [
    "experiment_1_results_mul_internal = pd.concat(\n",
    "    [experiment_1_metric_encoder_tables_mul[CLUSTERING_METRIC_TO_CONSIDER_INTERNAL],\n",
    "     experiment_1_baseline_results_mul], axis=1)"
   ],
   "metadata": {
    "collapsed": false,
    "ExecuteTime": {
     "end_time": "2025-04-07T09:18:39.520711Z",
     "start_time": "2025-04-07T09:18:39.518689Z"
    }
   },
   "id": "794e92601cf0c2d3",
   "outputs": [],
   "execution_count": 89
  },
  {
   "cell_type": "code",
   "source": [
    "experiment_1_baselines_results_display_internal = df_summarized_baselines_results_internal_display[\n",
    "    experiment_1_baselines_columns]\n",
    "experiment_1_results_display_internal = pd.concat(\n",
    "    [experiment_1_metric_encoder_tables_display[CLUSTERING_METRIC_TO_CONSIDER_INTERNAL],\n",
    "     experiment_1_baselines_results_display_internal], axis=1)"
   ],
   "metadata": {
    "collapsed": false,
    "ExecuteTime": {
     "end_time": "2025-04-07T09:18:39.612243Z",
     "start_time": "2025-04-07T09:18:39.609782Z"
    }
   },
   "id": "7d343c16428a987a",
   "outputs": [],
   "execution_count": 90
  },
  {
   "cell_type": "code",
   "source": [
    "experiment_1_results_display_internal"
   ],
   "metadata": {
    "collapsed": false,
    "ExecuteTime": {
     "end_time": "2025-04-07T09:18:39.682283Z",
     "start_time": "2025-04-07T09:18:39.678793Z"
    }
   },
   "id": "6060d005abf23671",
   "outputs": [
    {
     "data": {
      "text/plain": [
       "                           tsrc-ts2vec-timenet - student-model-encoder  \\\n",
       "Fish                                                     66.34 ± 10.68   \n",
       "PowerCons                                               194.12 ± 15.23   \n",
       "Haptics                                                  64.85 ± 22.88   \n",
       "ToeSegmentation1                                         65.86 ± 11.77   \n",
       "GunPointAgeSpan                                         719.45 ± 93.70   \n",
       "...                                                                ...   \n",
       "RefrigerationDevices                                    309.15 ± 42.41   \n",
       "FreezerSmallTrain                                     1537.79 ± 212.49   \n",
       "SemgHandSubjectCh2                                     335.38 ± 103.66   \n",
       "Adiac                                                   187.46 ± 17.90   \n",
       "NonInvasiveFetalECGThorax1                              202.75 ± 24.11   \n",
       "\n",
       "                             ts2vec - ts2vec timenet - timenet  \n",
       "Fish                            52.29 ± 3.40      66.84 ± 7.44  \n",
       "PowerCons                      113.41 ± 4.12    222.43 ± 28.75  \n",
       "Haptics                         34.53 ± 6.45    127.08 ± 30.98  \n",
       "ToeSegmentation1                51.80 ± 8.37    210.85 ± 14.27  \n",
       "GunPointAgeSpan               679.39 ± 76.15   614.35 ± 177.81  \n",
       "...                                      ...               ...  \n",
       "RefrigerationDevices            85.71 ± 7.46    348.20 ± 59.14  \n",
       "FreezerSmallTrain           1150.65 ± 187.99  2739.45 ± 753.94  \n",
       "SemgHandSubjectCh2            481.21 ± 35.12    332.97 ± 48.74  \n",
       "Adiac                         106.86 ± 19.94   410.73 ± 136.96  \n",
       "NonInvasiveFetalECGThorax1     113.83 ± 9.02    219.54 ± 65.70  \n",
       "\n",
       "[112 rows x 3 columns]"
      ],
      "text/html": [
       "<div>\n",
       "<style scoped>\n",
       "    .dataframe tbody tr th:only-of-type {\n",
       "        vertical-align: middle;\n",
       "    }\n",
       "\n",
       "    .dataframe tbody tr th {\n",
       "        vertical-align: top;\n",
       "    }\n",
       "\n",
       "    .dataframe thead th {\n",
       "        text-align: right;\n",
       "    }\n",
       "</style>\n",
       "<table border=\"1\" class=\"dataframe\">\n",
       "  <thead>\n",
       "    <tr style=\"text-align: right;\">\n",
       "      <th></th>\n",
       "      <th>tsrc-ts2vec-timenet - student-model-encoder</th>\n",
       "      <th>ts2vec - ts2vec</th>\n",
       "      <th>timenet - timenet</th>\n",
       "    </tr>\n",
       "  </thead>\n",
       "  <tbody>\n",
       "    <tr>\n",
       "      <th>Fish</th>\n",
       "      <td>66.34 ± 10.68</td>\n",
       "      <td>52.29 ± 3.40</td>\n",
       "      <td>66.84 ± 7.44</td>\n",
       "    </tr>\n",
       "    <tr>\n",
       "      <th>PowerCons</th>\n",
       "      <td>194.12 ± 15.23</td>\n",
       "      <td>113.41 ± 4.12</td>\n",
       "      <td>222.43 ± 28.75</td>\n",
       "    </tr>\n",
       "    <tr>\n",
       "      <th>Haptics</th>\n",
       "      <td>64.85 ± 22.88</td>\n",
       "      <td>34.53 ± 6.45</td>\n",
       "      <td>127.08 ± 30.98</td>\n",
       "    </tr>\n",
       "    <tr>\n",
       "      <th>ToeSegmentation1</th>\n",
       "      <td>65.86 ± 11.77</td>\n",
       "      <td>51.80 ± 8.37</td>\n",
       "      <td>210.85 ± 14.27</td>\n",
       "    </tr>\n",
       "    <tr>\n",
       "      <th>GunPointAgeSpan</th>\n",
       "      <td>719.45 ± 93.70</td>\n",
       "      <td>679.39 ± 76.15</td>\n",
       "      <td>614.35 ± 177.81</td>\n",
       "    </tr>\n",
       "    <tr>\n",
       "      <th>...</th>\n",
       "      <td>...</td>\n",
       "      <td>...</td>\n",
       "      <td>...</td>\n",
       "    </tr>\n",
       "    <tr>\n",
       "      <th>RefrigerationDevices</th>\n",
       "      <td>309.15 ± 42.41</td>\n",
       "      <td>85.71 ± 7.46</td>\n",
       "      <td>348.20 ± 59.14</td>\n",
       "    </tr>\n",
       "    <tr>\n",
       "      <th>FreezerSmallTrain</th>\n",
       "      <td>1537.79 ± 212.49</td>\n",
       "      <td>1150.65 ± 187.99</td>\n",
       "      <td>2739.45 ± 753.94</td>\n",
       "    </tr>\n",
       "    <tr>\n",
       "      <th>SemgHandSubjectCh2</th>\n",
       "      <td>335.38 ± 103.66</td>\n",
       "      <td>481.21 ± 35.12</td>\n",
       "      <td>332.97 ± 48.74</td>\n",
       "    </tr>\n",
       "    <tr>\n",
       "      <th>Adiac</th>\n",
       "      <td>187.46 ± 17.90</td>\n",
       "      <td>106.86 ± 19.94</td>\n",
       "      <td>410.73 ± 136.96</td>\n",
       "    </tr>\n",
       "    <tr>\n",
       "      <th>NonInvasiveFetalECGThorax1</th>\n",
       "      <td>202.75 ± 24.11</td>\n",
       "      <td>113.83 ± 9.02</td>\n",
       "      <td>219.54 ± 65.70</td>\n",
       "    </tr>\n",
       "  </tbody>\n",
       "</table>\n",
       "<p>112 rows × 3 columns</p>\n",
       "</div>"
      ]
     },
     "execution_count": 91,
     "metadata": {},
     "output_type": "execute_result"
    }
   ],
   "execution_count": 91
  },
  {
   "cell_type": "markdown",
   "source": [
    "### 4.2.2 Experiment 2"
   ],
   "metadata": {
    "collapsed": false
   },
   "id": "24d65f4a80eaf803"
  },
  {
   "cell_type": "code",
   "source": [
    "experiment_2_results_mul_internal = pd.concat(\n",
    "    [experiment_2_metric_encoder_tables_mul[CLUSTERING_METRIC_TO_CONSIDER_INTERNAL],\n",
    "     experiment_2_baselines_results_mul], axis=1)"
   ],
   "metadata": {
    "collapsed": false,
    "ExecuteTime": {
     "end_time": "2025-04-07T09:18:39.741152Z",
     "start_time": "2025-04-07T09:18:39.739294Z"
    }
   },
   "id": "2f1c1d6fbe7d7578",
   "outputs": [],
   "execution_count": 92
  },
  {
   "cell_type": "code",
   "source": [
    "experiment_2_baselines_results_display_internal = df_summarized_baselines_results_internal_display[\n",
    "    experiment_2_baselines_columns]\n",
    "experiment_2_results_display_internal = pd.concat(\n",
    "    [experiment_2_metric_encoder_tables_display[CLUSTERING_METRIC_TO_CONSIDER_INTERNAL],\n",
    "     experiment_2_baselines_results_display_internal], axis=1)"
   ],
   "metadata": {
    "collapsed": false,
    "ExecuteTime": {
     "end_time": "2025-04-07T09:18:39.766737Z",
     "start_time": "2025-04-07T09:18:39.764369Z"
    }
   },
   "id": "3ba171744f13813b",
   "outputs": [],
   "execution_count": 93
  },
  {
   "cell_type": "code",
   "source": [
    "experiment_2_results_display_internal"
   ],
   "metadata": {
    "collapsed": false,
    "ExecuteTime": {
     "end_time": "2025-04-07T09:18:39.845758Z",
     "start_time": "2025-04-07T09:18:39.842187Z"
    }
   },
   "id": "36acc690bde9b1ce",
   "outputs": [
    {
     "data": {
      "text/plain": [
       "                      tsrc-ts2vec-lstmae - student-model-encoder  \\\n",
       "Beef                                              962.64 ± 83.37   \n",
       "Trace                                             359.08 ± 69.95   \n",
       "Car                                                72.72 ± 12.38   \n",
       "Plane                                             286.56 ± 56.02   \n",
       "BeetleFly                                           54.46 ± 1.85   \n",
       "...                                                          ...   \n",
       "Meat                                               54.84 ± 15.11   \n",
       "CBF                                               319.67 ± 51.40   \n",
       "UMD                                              314.24 ± 149.05   \n",
       "OSULeaf                                         1109.81 ± 986.35   \n",
       "MixedShapesSmallTrain                          2378.67 ± 1275.04   \n",
       "\n",
       "                      ts2vec - ts2vec lstm-auto-encoder - encoder  \n",
       "Beef                     44.79 ± 6.51            1212.85 ± 418.01  \n",
       "Trace                    70.32 ± 8.19            915.26 ± 1118.23  \n",
       "Car                      36.39 ± 3.58              182.98 ± 49.58  \n",
       "Plane                    47.89 ± 5.64              278.77 ± 45.91  \n",
       "BeetleFly                 7.39 ± 0.91                59.23 ± 0.42  \n",
       "...                               ...                         ...  \n",
       "Meat                    64.30 ± 11.59              124.33 ± 34.75  \n",
       "CBF                     176.18 ± 9.18              329.46 ± 43.82  \n",
       "UMD                    208.07 ± 16.08                58.87 ± 5.35  \n",
       "OSULeaf                  28.41 ± 1.88             536.56 ± 240.02  \n",
       "MixedShapesSmallTrain  223.76 ± 10.37           2194.41 ± 1780.04  \n",
       "\n",
       "[112 rows x 3 columns]"
      ],
      "text/html": [
       "<div>\n",
       "<style scoped>\n",
       "    .dataframe tbody tr th:only-of-type {\n",
       "        vertical-align: middle;\n",
       "    }\n",
       "\n",
       "    .dataframe tbody tr th {\n",
       "        vertical-align: top;\n",
       "    }\n",
       "\n",
       "    .dataframe thead th {\n",
       "        text-align: right;\n",
       "    }\n",
       "</style>\n",
       "<table border=\"1\" class=\"dataframe\">\n",
       "  <thead>\n",
       "    <tr style=\"text-align: right;\">\n",
       "      <th></th>\n",
       "      <th>tsrc-ts2vec-lstmae - student-model-encoder</th>\n",
       "      <th>ts2vec - ts2vec</th>\n",
       "      <th>lstm-auto-encoder - encoder</th>\n",
       "    </tr>\n",
       "  </thead>\n",
       "  <tbody>\n",
       "    <tr>\n",
       "      <th>Beef</th>\n",
       "      <td>962.64 ± 83.37</td>\n",
       "      <td>44.79 ± 6.51</td>\n",
       "      <td>1212.85 ± 418.01</td>\n",
       "    </tr>\n",
       "    <tr>\n",
       "      <th>Trace</th>\n",
       "      <td>359.08 ± 69.95</td>\n",
       "      <td>70.32 ± 8.19</td>\n",
       "      <td>915.26 ± 1118.23</td>\n",
       "    </tr>\n",
       "    <tr>\n",
       "      <th>Car</th>\n",
       "      <td>72.72 ± 12.38</td>\n",
       "      <td>36.39 ± 3.58</td>\n",
       "      <td>182.98 ± 49.58</td>\n",
       "    </tr>\n",
       "    <tr>\n",
       "      <th>Plane</th>\n",
       "      <td>286.56 ± 56.02</td>\n",
       "      <td>47.89 ± 5.64</td>\n",
       "      <td>278.77 ± 45.91</td>\n",
       "    </tr>\n",
       "    <tr>\n",
       "      <th>BeetleFly</th>\n",
       "      <td>54.46 ± 1.85</td>\n",
       "      <td>7.39 ± 0.91</td>\n",
       "      <td>59.23 ± 0.42</td>\n",
       "    </tr>\n",
       "    <tr>\n",
       "      <th>...</th>\n",
       "      <td>...</td>\n",
       "      <td>...</td>\n",
       "      <td>...</td>\n",
       "    </tr>\n",
       "    <tr>\n",
       "      <th>Meat</th>\n",
       "      <td>54.84 ± 15.11</td>\n",
       "      <td>64.30 ± 11.59</td>\n",
       "      <td>124.33 ± 34.75</td>\n",
       "    </tr>\n",
       "    <tr>\n",
       "      <th>CBF</th>\n",
       "      <td>319.67 ± 51.40</td>\n",
       "      <td>176.18 ± 9.18</td>\n",
       "      <td>329.46 ± 43.82</td>\n",
       "    </tr>\n",
       "    <tr>\n",
       "      <th>UMD</th>\n",
       "      <td>314.24 ± 149.05</td>\n",
       "      <td>208.07 ± 16.08</td>\n",
       "      <td>58.87 ± 5.35</td>\n",
       "    </tr>\n",
       "    <tr>\n",
       "      <th>OSULeaf</th>\n",
       "      <td>1109.81 ± 986.35</td>\n",
       "      <td>28.41 ± 1.88</td>\n",
       "      <td>536.56 ± 240.02</td>\n",
       "    </tr>\n",
       "    <tr>\n",
       "      <th>MixedShapesSmallTrain</th>\n",
       "      <td>2378.67 ± 1275.04</td>\n",
       "      <td>223.76 ± 10.37</td>\n",
       "      <td>2194.41 ± 1780.04</td>\n",
       "    </tr>\n",
       "  </tbody>\n",
       "</table>\n",
       "<p>112 rows × 3 columns</p>\n",
       "</div>"
      ]
     },
     "execution_count": 94,
     "metadata": {},
     "output_type": "execute_result"
    }
   ],
   "execution_count": 94
  },
  {
   "cell_type": "markdown",
   "source": [
    "### 4.2.3 Experiment 3"
   ],
   "metadata": {
    "collapsed": false
   },
   "id": "247dbbb30d34c879"
  },
  {
   "cell_type": "code",
   "source": [
    "experiment_3_results_mul_internal = pd.concat(\n",
    "    [experiment_3_metric_encoder_tables_mul[CLUSTERING_METRIC_TO_CONSIDER_INTERNAL],\n",
    "     experiment_3_baselines_results_mul], axis=1)"
   ],
   "metadata": {
    "collapsed": false,
    "ExecuteTime": {
     "end_time": "2025-04-07T09:18:39.883203Z",
     "start_time": "2025-04-07T09:18:39.881218Z"
    }
   },
   "id": "fc592acce271713b",
   "outputs": [],
   "execution_count": 95
  },
  {
   "cell_type": "code",
   "source": [
    "experiment_3_baselines_results_display_internal = df_summarized_baselines_results_internal_display[\n",
    "    experiment_3_baselines_columns]\n",
    "experiment_3_results_display_internal = pd.concat(\n",
    "    [experiment_3_metric_encoder_tables_display[CLUSTERING_METRIC_TO_CONSIDER_INTERNAL],\n",
    "     experiment_3_baselines_results_display_internal], axis=1)"
   ],
   "metadata": {
    "collapsed": false,
    "ExecuteTime": {
     "end_time": "2025-04-07T09:18:39.935666Z",
     "start_time": "2025-04-07T09:18:39.933349Z"
    }
   },
   "id": "34c0afaa9fafd497",
   "outputs": [],
   "execution_count": 96
  },
  {
   "cell_type": "markdown",
   "source": [
    "## 4.2.4. All Experiments"
   ],
   "metadata": {
    "collapsed": false
   },
   "id": "be671c5d9265ff94"
  },
  {
   "metadata": {
    "ExecuteTime": {
     "end_time": "2025-04-07T09:18:40.029124Z",
     "start_time": "2025-04-07T09:18:40.019443Z"
    }
   },
   "cell_type": "code",
   "source": "df_raw_data_internal, df_raw_data_internal_display = process_df_raw_data_results(datasets_to_skip=DATASETS_TO_SKIP,metric_to_keep=CLUSTERING_METRIC_TO_CONSIDER_INTERNAL)",
   "id": "fc86993a0bcd7210",
   "outputs": [],
   "execution_count": 97
  },
  {
   "metadata": {
    "collapsed": false,
    "ExecuteTime": {
     "end_time": "2025-04-07T09:18:40.034590Z",
     "start_time": "2025-04-07T09:18:40.032184Z"
    }
   },
   "cell_type": "code",
   "source": [
    "all_experiments_results_mul_internal = pd.concat(\n",
    "    [df_raw_data_internal, experiment_1_results_mul_internal, experiment_2_results_mul_internal, experiment_3_results_mul_internal,\n",
    "     df_summarized_baselines_internal_results_mul], axis=1)\n",
    "all_experiments_results_mul_internal = all_experiments_results_mul_internal.loc[:,\n",
    "                                       ~all_experiments_results_mul_internal.columns.duplicated()]"
   ],
   "id": "6873092f84dfabc3",
   "outputs": [],
   "execution_count": 98
  },
  {
   "metadata": {
    "collapsed": false,
    "ExecuteTime": {
     "end_time": "2025-04-07T09:18:40.088122Z",
     "start_time": "2025-04-07T09:18:40.084749Z"
    }
   },
   "cell_type": "code",
   "source": [
    "full_baselines_display_names = [\"Raw Data\"] + baselines_display_names\n",
    "all_experiment_results_display_internal = pd.concat(\n",
    "    [df_raw_data_internal_display, experiment_1_results_display_internal, experiment_2_results_display_internal,\n",
    "     experiment_3_results_display_internal], axis=1)\n",
    "all_experiment_results_display_internal = all_experiment_results_display_internal.loc[:,\n",
    "                                          ~all_experiment_results_display_internal.columns.duplicated()]\n",
    "# rename the columns to be more descriptive (use the mapping)\n",
    "all_experiment_results_display_internal.columns = [MODEL_TO_DISPLAY_NAME_MAP[col] for col in\n",
    "                                                   all_experiment_results_display_internal.columns]\n",
    "# order the columns and put the baselines first\n",
    "all_experiment_results_display_internal = all_experiment_results_display_internal[full_baselines_display_names  + all_experiment_results_display_internal.columns.difference(full_baselines_display_names ).tolist()]"
   ],
   "id": "70e72fb36c78a1f6",
   "outputs": [],
   "execution_count": 99
  },
  {
   "metadata": {
    "collapsed": false,
    "ExecuteTime": {
     "end_time": "2025-04-07T09:18:40.186414Z",
     "start_time": "2025-04-07T09:18:40.182605Z"
    }
   },
   "cell_type": "code",
   "source": "all_experiment_results_display_internal",
   "id": "9edc6df3c1089734",
   "outputs": [
    {
     "data": {
      "text/plain": [
       "                     Raw Data           LSTM-AE          TS2Vec  \\\n",
       "ACSF1            10.42 ± 0.88    124.22 ± 27.73  164.76 ± 33.72   \n",
       "Adiac           131.97 ± 9.10   549.68 ± 322.67  106.86 ± 19.94   \n",
       "ArrowHead        25.07 ± 1.53    119.86 ± 32.01    63.58 ± 9.14   \n",
       "BME              40.96 ± 0.33    182.64 ± 78.64  462.14 ± 80.76   \n",
       "Beef             29.63 ± 0.12  1212.85 ± 418.01    44.79 ± 6.51   \n",
       "...                       ...               ...             ...   \n",
       "Wine             18.69 ± 2.93     55.94 ± 13.78    41.02 ± 2.10   \n",
       "WordSynonyms     20.10 ± 0.93    269.52 ± 59.45    25.22 ± 2.80   \n",
       "Worms            10.07 ± 0.12     394.48 ± 6.15    22.74 ± 3.37   \n",
       "WormsTwoClass    17.40 ± 0.14     268.58 ± 1.22    32.79 ± 4.33   \n",
       "Yoga           859.80 ± 49.86  1429.04 ± 964.82  494.60 ± 50.15   \n",
       "\n",
       "                          MCL          TimeNet LSTM-AE w/ TSRC (MCL)  \\\n",
       "ACSF1           67.70 ± 13.01   106.62 ± 23.38       417.49 ± 413.78   \n",
       "Adiac            93.71 ± 9.83  410.73 ± 136.96        110.43 ± 29.15   \n",
       "ArrowHead        33.99 ± 6.30    70.94 ± 24.64         56.73 ± 20.18   \n",
       "BME              24.75 ± 3.34     64.21 ± 8.69         90.85 ± 30.39   \n",
       "Beef             25.39 ± 7.57  180.20 ± 140.03      1517.10 ± 851.21   \n",
       "...                       ...              ...                   ...   \n",
       "Wine             18.71 ± 3.79     33.06 ± 5.19       133.25 ± 192.82   \n",
       "WordSynonyms     40.03 ± 3.83    95.94 ± 20.68        162.90 ± 62.43   \n",
       "Worms            18.98 ± 1.48   103.10 ± 68.16      1252.17 ± 227.58   \n",
       "WormsTwoClass    23.65 ± 1.19     50.21 ± 6.22       404.59 ± 353.53   \n",
       "Yoga           331.77 ± 48.57  973.13 ± 144.93      2286.78 ± 562.95   \n",
       "\n",
       "              LSTM-AE w/ TSRC (TS2Vec) TimeNet w/ TSRC (TS2Vec)  \n",
       "ACSF1                   131.00 ± 10.24            87.38 ± 14.33  \n",
       "Adiac                  350.71 ± 103.66           187.46 ± 17.90  \n",
       "ArrowHead                89.98 ± 10.55            67.48 ± 13.25  \n",
       "BME                     378.58 ± 91.95           190.43 ± 66.15  \n",
       "Beef                    962.64 ± 83.37            37.08 ± 16.03  \n",
       "...                                ...                      ...  \n",
       "Wine                    111.66 ± 34.72            48.29 ± 11.50  \n",
       "WordSynonyms            101.93 ± 15.25             65.83 ± 5.51  \n",
       "Worms                  149.01 ± 118.86             57.47 ± 3.39  \n",
       "WormsTwoClass           191.95 ± 86.71             47.24 ± 4.81  \n",
       "Yoga                    731.20 ± 83.56          650.72 ± 101.61  \n",
       "\n",
       "[112 rows x 8 columns]"
      ],
      "text/html": [
       "<div>\n",
       "<style scoped>\n",
       "    .dataframe tbody tr th:only-of-type {\n",
       "        vertical-align: middle;\n",
       "    }\n",
       "\n",
       "    .dataframe tbody tr th {\n",
       "        vertical-align: top;\n",
       "    }\n",
       "\n",
       "    .dataframe thead th {\n",
       "        text-align: right;\n",
       "    }\n",
       "</style>\n",
       "<table border=\"1\" class=\"dataframe\">\n",
       "  <thead>\n",
       "    <tr style=\"text-align: right;\">\n",
       "      <th></th>\n",
       "      <th>Raw Data</th>\n",
       "      <th>LSTM-AE</th>\n",
       "      <th>TS2Vec</th>\n",
       "      <th>MCL</th>\n",
       "      <th>TimeNet</th>\n",
       "      <th>LSTM-AE w/ TSRC (MCL)</th>\n",
       "      <th>LSTM-AE w/ TSRC (TS2Vec)</th>\n",
       "      <th>TimeNet w/ TSRC (TS2Vec)</th>\n",
       "    </tr>\n",
       "  </thead>\n",
       "  <tbody>\n",
       "    <tr>\n",
       "      <th>ACSF1</th>\n",
       "      <td>10.42 ± 0.88</td>\n",
       "      <td>124.22 ± 27.73</td>\n",
       "      <td>164.76 ± 33.72</td>\n",
       "      <td>67.70 ± 13.01</td>\n",
       "      <td>106.62 ± 23.38</td>\n",
       "      <td>417.49 ± 413.78</td>\n",
       "      <td>131.00 ± 10.24</td>\n",
       "      <td>87.38 ± 14.33</td>\n",
       "    </tr>\n",
       "    <tr>\n",
       "      <th>Adiac</th>\n",
       "      <td>131.97 ± 9.10</td>\n",
       "      <td>549.68 ± 322.67</td>\n",
       "      <td>106.86 ± 19.94</td>\n",
       "      <td>93.71 ± 9.83</td>\n",
       "      <td>410.73 ± 136.96</td>\n",
       "      <td>110.43 ± 29.15</td>\n",
       "      <td>350.71 ± 103.66</td>\n",
       "      <td>187.46 ± 17.90</td>\n",
       "    </tr>\n",
       "    <tr>\n",
       "      <th>ArrowHead</th>\n",
       "      <td>25.07 ± 1.53</td>\n",
       "      <td>119.86 ± 32.01</td>\n",
       "      <td>63.58 ± 9.14</td>\n",
       "      <td>33.99 ± 6.30</td>\n",
       "      <td>70.94 ± 24.64</td>\n",
       "      <td>56.73 ± 20.18</td>\n",
       "      <td>89.98 ± 10.55</td>\n",
       "      <td>67.48 ± 13.25</td>\n",
       "    </tr>\n",
       "    <tr>\n",
       "      <th>BME</th>\n",
       "      <td>40.96 ± 0.33</td>\n",
       "      <td>182.64 ± 78.64</td>\n",
       "      <td>462.14 ± 80.76</td>\n",
       "      <td>24.75 ± 3.34</td>\n",
       "      <td>64.21 ± 8.69</td>\n",
       "      <td>90.85 ± 30.39</td>\n",
       "      <td>378.58 ± 91.95</td>\n",
       "      <td>190.43 ± 66.15</td>\n",
       "    </tr>\n",
       "    <tr>\n",
       "      <th>Beef</th>\n",
       "      <td>29.63 ± 0.12</td>\n",
       "      <td>1212.85 ± 418.01</td>\n",
       "      <td>44.79 ± 6.51</td>\n",
       "      <td>25.39 ± 7.57</td>\n",
       "      <td>180.20 ± 140.03</td>\n",
       "      <td>1517.10 ± 851.21</td>\n",
       "      <td>962.64 ± 83.37</td>\n",
       "      <td>37.08 ± 16.03</td>\n",
       "    </tr>\n",
       "    <tr>\n",
       "      <th>...</th>\n",
       "      <td>...</td>\n",
       "      <td>...</td>\n",
       "      <td>...</td>\n",
       "      <td>...</td>\n",
       "      <td>...</td>\n",
       "      <td>...</td>\n",
       "      <td>...</td>\n",
       "      <td>...</td>\n",
       "    </tr>\n",
       "    <tr>\n",
       "      <th>Wine</th>\n",
       "      <td>18.69 ± 2.93</td>\n",
       "      <td>55.94 ± 13.78</td>\n",
       "      <td>41.02 ± 2.10</td>\n",
       "      <td>18.71 ± 3.79</td>\n",
       "      <td>33.06 ± 5.19</td>\n",
       "      <td>133.25 ± 192.82</td>\n",
       "      <td>111.66 ± 34.72</td>\n",
       "      <td>48.29 ± 11.50</td>\n",
       "    </tr>\n",
       "    <tr>\n",
       "      <th>WordSynonyms</th>\n",
       "      <td>20.10 ± 0.93</td>\n",
       "      <td>269.52 ± 59.45</td>\n",
       "      <td>25.22 ± 2.80</td>\n",
       "      <td>40.03 ± 3.83</td>\n",
       "      <td>95.94 ± 20.68</td>\n",
       "      <td>162.90 ± 62.43</td>\n",
       "      <td>101.93 ± 15.25</td>\n",
       "      <td>65.83 ± 5.51</td>\n",
       "    </tr>\n",
       "    <tr>\n",
       "      <th>Worms</th>\n",
       "      <td>10.07 ± 0.12</td>\n",
       "      <td>394.48 ± 6.15</td>\n",
       "      <td>22.74 ± 3.37</td>\n",
       "      <td>18.98 ± 1.48</td>\n",
       "      <td>103.10 ± 68.16</td>\n",
       "      <td>1252.17 ± 227.58</td>\n",
       "      <td>149.01 ± 118.86</td>\n",
       "      <td>57.47 ± 3.39</td>\n",
       "    </tr>\n",
       "    <tr>\n",
       "      <th>WormsTwoClass</th>\n",
       "      <td>17.40 ± 0.14</td>\n",
       "      <td>268.58 ± 1.22</td>\n",
       "      <td>32.79 ± 4.33</td>\n",
       "      <td>23.65 ± 1.19</td>\n",
       "      <td>50.21 ± 6.22</td>\n",
       "      <td>404.59 ± 353.53</td>\n",
       "      <td>191.95 ± 86.71</td>\n",
       "      <td>47.24 ± 4.81</td>\n",
       "    </tr>\n",
       "    <tr>\n",
       "      <th>Yoga</th>\n",
       "      <td>859.80 ± 49.86</td>\n",
       "      <td>1429.04 ± 964.82</td>\n",
       "      <td>494.60 ± 50.15</td>\n",
       "      <td>331.77 ± 48.57</td>\n",
       "      <td>973.13 ± 144.93</td>\n",
       "      <td>2286.78 ± 562.95</td>\n",
       "      <td>731.20 ± 83.56</td>\n",
       "      <td>650.72 ± 101.61</td>\n",
       "    </tr>\n",
       "  </tbody>\n",
       "</table>\n",
       "<p>112 rows × 8 columns</p>\n",
       "</div>"
      ]
     },
     "execution_count": 100,
     "metadata": {},
     "output_type": "execute_result"
    }
   ],
   "execution_count": 100
  },
  {
   "metadata": {
    "ExecuteTime": {
     "end_time": "2025-04-07T09:18:40.220007Z",
     "start_time": "2025-04-07T09:18:40.209456Z"
    }
   },
   "cell_type": "code",
   "source": "all_experiments_results_mul_internal",
   "id": "ae4ffdaeff1d9abb",
   "outputs": [
    {
     "data": {
      "text/plain": [
       "                                                             raw  \\\n",
       "ACSF1          [9.76519857640636, 11.308566870534031, 11.2358...   \n",
       "Adiac          [129.67483935746856, 131.54619658158515, 145.3...   \n",
       "ArrowHead      [23.429309966204844, 27.52001751298646, 26.118...   \n",
       "BME            [41.2027763984049, 41.2027763984049, 41.202776...   \n",
       "Beef           [29.569082440648693, 29.863942429589756, 29.56...   \n",
       "...                                                          ...   \n",
       "Wine           [16.304862296819678, 22.276765875158837, 16.30...   \n",
       "WordSynonyms   [21.18636234715963, 20.051328366485183, 21.020...   \n",
       "Worms          [9.957826889086624, 9.91409412562196, 10.23156...   \n",
       "WormsTwoClass  [17.414798800320458, 17.64744111875028, 17.414...   \n",
       "Yoga           [760.2807306510064, 886.7116285850699, 878.939...   \n",
       "\n",
       "                     tsrc-ts2vec-timenet - student-model-encoder  \\\n",
       "ACSF1          [104.87588187115932, 71.50360777852687, 69.427...   \n",
       "Adiac          [172.4877504672844, 177.3673014059008, 220.257...   \n",
       "ArrowHead      [89.35278698937526, 53.44127669049513, 53.9140...   \n",
       "BME            [59.473760986531616, 219.5620834094371, 239.32...   \n",
       "Beef           [25.818711393422877, 41.0938318295428, 32.5537...   \n",
       "...                                                          ...   \n",
       "Wine           [53.75197516425708, 26.387179745222, 59.512036...   \n",
       "WordSynonyms   [55.61145642416779, 66.55969832607754, 67.4779...   \n",
       "Worms          [55.986246899577615, 61.30432021046857, 52.145...   \n",
       "WormsTwoClass  [42.484023960871795, 55.81929716493718, 47.673...   \n",
       "Yoga           [548.2767419476742, 612.0060700535807, 771.903...   \n",
       "\n",
       "                                                 ts2vec - ts2vec  \\\n",
       "ACSF1          [0.1595672751859364, 0.2051612903225806, 0.140...   \n",
       "Adiac          [0.2482650649878982, 0.2460619522194201, 0.264...   \n",
       "ArrowHead      [-0.007615017411341, -0.0033966776638283, -0.0...   \n",
       "BME            [5.227778673276902e-05, -0.0005853140209722, -...   \n",
       "Beef           [0.0543478260869565, 0.0543478260869565, 0.100...   \n",
       "...                                                          ...   \n",
       "Wine           [0.0023130222647372, 0.0023130222647372, -0.01...   \n",
       "WordSynonyms   [0.1927626100237714, 0.1844580208168144, 0.175...   \n",
       "Worms          [0.0520481298102271, 0.0495205615252068, 0.049...   \n",
       "WormsTwoClass  [0.057472257979648, 0.0164716756737931, 0.0421...   \n",
       "Yoga           [0.0017251252567898, 0.0007657263724829, 0.000...   \n",
       "\n",
       "                                               timenet - timenet  \\\n",
       "ACSF1          [0.2025552684467413, 0.230024758046365, 0.2399...   \n",
       "Adiac          [0.1570163995759669, 0.1599347112061983, 0.125...   \n",
       "ArrowHead      [0.0332085597924477, 0.0693459886663044, 0.018...   \n",
       "BME            [0.6797352726540677, 0.2562850029273831, 0.407...   \n",
       "Beef           [0.0442031795269484, 0.0442031795269484, 0.156...   \n",
       "...                                                          ...   \n",
       "Wine           [-0.0068025604081536, -0.0179363047873425, 0.0...   \n",
       "WordSynonyms   [0.1428555647937571, 0.1652814356071807, 0.168...   \n",
       "Worms          [0.0622753496766431, 0.0637096273747577, 0.068...   \n",
       "WormsTwoClass  [0.0023409835511396, -0.0007501822625919, 0.01...   \n",
       "Yoga           [-0.0009732720137929, 0.0029228600294207, -0.0...   \n",
       "\n",
       "                      tsrc-ts2vec-lstmae - student-model-encoder  \\\n",
       "ACSF1          [150.79230325574713, 125.72343246228888, 121.4...   \n",
       "Adiac          [422.1564342189754, 207.34784984001584, 400.39...   \n",
       "ArrowHead      [99.83825590417406, 85.36280220773578, 91.6596...   \n",
       "BME            [393.8454433463522, 431.9616625317376, 417.384...   \n",
       "Beef           [980.9337206904996, 821.7666444548152, 1068.69...   \n",
       "...                                                          ...   \n",
       "Wine           [94.16178261597106, 69.77042083692186, 153.994...   \n",
       "WordSynonyms   [103.0649084015582, 113.57793154189758, 90.672...   \n",
       "Worms          [100.42308302919744, 98.15058144030648, 94.080...   \n",
       "WormsTwoClass  [199.76178161111773, 116.1361974389188, 305.49...   \n",
       "Yoga           [868.6926924911195, 706.257255646999, 615.3292...   \n",
       "\n",
       "                                     lstm-auto-encoder - encoder  \\\n",
       "ACSF1          [0.2153316106804479, 0.2219378687708822, 0.230...   \n",
       "Adiac          [0.0895573167664022, 0.1268761032347374, 0.091...   \n",
       "ArrowHead      [0.0306864472980531, 0.0407091607573259, 0.052...   \n",
       "BME            [0.2628428661926386, 0.1883976552436401, 0.153...   \n",
       "Beef           [0.0442031795269484, 0.0442031795269484, 0.044...   \n",
       "...                                                          ...   \n",
       "Wine           [-0.0139928353991826, -0.0045991872300165, -0....   \n",
       "WordSynonyms   [0.0615537851188984, 0.0589845494597888, 0.059...   \n",
       "Worms          [0.0437424068595912, 0.0436647876754495, 0.051...   \n",
       "WormsTwoClass  [-0.0028387099197115, -0.0028387099197115, -0....   \n",
       "Yoga           [0.000667419032194, -0.0003970632760726, 0.000...   \n",
       "\n",
       "                         tsrc-mcl-lstmae - student-model-encoder  \\\n",
       "ACSF1          [188.73885343459804, 208.039751431733, 268.714...   \n",
       "Adiac          [161.85317455906593, 107.52059884925426, 81.14...   \n",
       "ArrowHead      [39.23225381211913, 50.47258274863145, 69.5980...   \n",
       "BME            [69.99460619696292, 105.66862296404364, 135.40...   \n",
       "Beef           [717.138055363535, 2950.444809893261, 1363.704...   \n",
       "...                                                          ...   \n",
       "Wine           [39.181552577249235, 31.646990284735484, 518.7...   \n",
       "WordSynonyms   [117.6033987811796, 197.34883413555912, 269.50...   \n",
       "Worms          [952.2549476071258, 1386.8344147454943, 1585.4...   \n",
       "WormsTwoClass  [217.71115642299276, 1079.4172318269304, 414.3...   \n",
       "Yoga           [2280.320176488005, 2533.033778268249, 3008.27...   \n",
       "\n",
       "                                                       mcl - mcl  \n",
       "ACSF1          [0.2581271227559437, 0.2871925360474979, 0.243...  \n",
       "Adiac          [0.3039894650361991, 0.2730681801564307, 0.330...  \n",
       "ArrowHead      [0.0891879000835918, 0.0805409892223774, 0.152...  \n",
       "BME            [0.2056986827800672, 0.2798407907973582, 0.293...  \n",
       "Beef           [0.1017161992465466, 0.2628297362110312, 0.215...  \n",
       "...                                                          ...  \n",
       "Wine           [-0.0166882518681444, 0.0946751895744901, 0.00...  \n",
       "WordSynonyms   [0.1311626914957118, 0.1569602832261662, 0.131...  \n",
       "Worms          [0.0103421078136576, -0.0101470944092107, -0.0...  \n",
       "WormsTwoClass  [-0.0071164394701918, -0.0076833413685989, -0....  \n",
       "Yoga           [-0.0005119849247229, -0.0007414481772134, 0.0...  \n",
       "\n",
       "[112 rows x 8 columns]"
      ],
      "text/html": [
       "<div>\n",
       "<style scoped>\n",
       "    .dataframe tbody tr th:only-of-type {\n",
       "        vertical-align: middle;\n",
       "    }\n",
       "\n",
       "    .dataframe tbody tr th {\n",
       "        vertical-align: top;\n",
       "    }\n",
       "\n",
       "    .dataframe thead th {\n",
       "        text-align: right;\n",
       "    }\n",
       "</style>\n",
       "<table border=\"1\" class=\"dataframe\">\n",
       "  <thead>\n",
       "    <tr style=\"text-align: right;\">\n",
       "      <th></th>\n",
       "      <th>raw</th>\n",
       "      <th>tsrc-ts2vec-timenet - student-model-encoder</th>\n",
       "      <th>ts2vec - ts2vec</th>\n",
       "      <th>timenet - timenet</th>\n",
       "      <th>tsrc-ts2vec-lstmae - student-model-encoder</th>\n",
       "      <th>lstm-auto-encoder - encoder</th>\n",
       "      <th>tsrc-mcl-lstmae - student-model-encoder</th>\n",
       "      <th>mcl - mcl</th>\n",
       "    </tr>\n",
       "  </thead>\n",
       "  <tbody>\n",
       "    <tr>\n",
       "      <th>ACSF1</th>\n",
       "      <td>[9.76519857640636, 11.308566870534031, 11.2358...</td>\n",
       "      <td>[104.87588187115932, 71.50360777852687, 69.427...</td>\n",
       "      <td>[0.1595672751859364, 0.2051612903225806, 0.140...</td>\n",
       "      <td>[0.2025552684467413, 0.230024758046365, 0.2399...</td>\n",
       "      <td>[150.79230325574713, 125.72343246228888, 121.4...</td>\n",
       "      <td>[0.2153316106804479, 0.2219378687708822, 0.230...</td>\n",
       "      <td>[188.73885343459804, 208.039751431733, 268.714...</td>\n",
       "      <td>[0.2581271227559437, 0.2871925360474979, 0.243...</td>\n",
       "    </tr>\n",
       "    <tr>\n",
       "      <th>Adiac</th>\n",
       "      <td>[129.67483935746856, 131.54619658158515, 145.3...</td>\n",
       "      <td>[172.4877504672844, 177.3673014059008, 220.257...</td>\n",
       "      <td>[0.2482650649878982, 0.2460619522194201, 0.264...</td>\n",
       "      <td>[0.1570163995759669, 0.1599347112061983, 0.125...</td>\n",
       "      <td>[422.1564342189754, 207.34784984001584, 400.39...</td>\n",
       "      <td>[0.0895573167664022, 0.1268761032347374, 0.091...</td>\n",
       "      <td>[161.85317455906593, 107.52059884925426, 81.14...</td>\n",
       "      <td>[0.3039894650361991, 0.2730681801564307, 0.330...</td>\n",
       "    </tr>\n",
       "    <tr>\n",
       "      <th>ArrowHead</th>\n",
       "      <td>[23.429309966204844, 27.52001751298646, 26.118...</td>\n",
       "      <td>[89.35278698937526, 53.44127669049513, 53.9140...</td>\n",
       "      <td>[-0.007615017411341, -0.0033966776638283, -0.0...</td>\n",
       "      <td>[0.0332085597924477, 0.0693459886663044, 0.018...</td>\n",
       "      <td>[99.83825590417406, 85.36280220773578, 91.6596...</td>\n",
       "      <td>[0.0306864472980531, 0.0407091607573259, 0.052...</td>\n",
       "      <td>[39.23225381211913, 50.47258274863145, 69.5980...</td>\n",
       "      <td>[0.0891879000835918, 0.0805409892223774, 0.152...</td>\n",
       "    </tr>\n",
       "    <tr>\n",
       "      <th>BME</th>\n",
       "      <td>[41.2027763984049, 41.2027763984049, 41.202776...</td>\n",
       "      <td>[59.473760986531616, 219.5620834094371, 239.32...</td>\n",
       "      <td>[5.227778673276902e-05, -0.0005853140209722, -...</td>\n",
       "      <td>[0.6797352726540677, 0.2562850029273831, 0.407...</td>\n",
       "      <td>[393.8454433463522, 431.9616625317376, 417.384...</td>\n",
       "      <td>[0.2628428661926386, 0.1883976552436401, 0.153...</td>\n",
       "      <td>[69.99460619696292, 105.66862296404364, 135.40...</td>\n",
       "      <td>[0.2056986827800672, 0.2798407907973582, 0.293...</td>\n",
       "    </tr>\n",
       "    <tr>\n",
       "      <th>Beef</th>\n",
       "      <td>[29.569082440648693, 29.863942429589756, 29.56...</td>\n",
       "      <td>[25.818711393422877, 41.0938318295428, 32.5537...</td>\n",
       "      <td>[0.0543478260869565, 0.0543478260869565, 0.100...</td>\n",
       "      <td>[0.0442031795269484, 0.0442031795269484, 0.156...</td>\n",
       "      <td>[980.9337206904996, 821.7666444548152, 1068.69...</td>\n",
       "      <td>[0.0442031795269484, 0.0442031795269484, 0.044...</td>\n",
       "      <td>[717.138055363535, 2950.444809893261, 1363.704...</td>\n",
       "      <td>[0.1017161992465466, 0.2628297362110312, 0.215...</td>\n",
       "    </tr>\n",
       "    <tr>\n",
       "      <th>...</th>\n",
       "      <td>...</td>\n",
       "      <td>...</td>\n",
       "      <td>...</td>\n",
       "      <td>...</td>\n",
       "      <td>...</td>\n",
       "      <td>...</td>\n",
       "      <td>...</td>\n",
       "      <td>...</td>\n",
       "    </tr>\n",
       "    <tr>\n",
       "      <th>Wine</th>\n",
       "      <td>[16.304862296819678, 22.276765875158837, 16.30...</td>\n",
       "      <td>[53.75197516425708, 26.387179745222, 59.512036...</td>\n",
       "      <td>[0.0023130222647372, 0.0023130222647372, -0.01...</td>\n",
       "      <td>[-0.0068025604081536, -0.0179363047873425, 0.0...</td>\n",
       "      <td>[94.16178261597106, 69.77042083692186, 153.994...</td>\n",
       "      <td>[-0.0139928353991826, -0.0045991872300165, -0....</td>\n",
       "      <td>[39.181552577249235, 31.646990284735484, 518.7...</td>\n",
       "      <td>[-0.0166882518681444, 0.0946751895744901, 0.00...</td>\n",
       "    </tr>\n",
       "    <tr>\n",
       "      <th>WordSynonyms</th>\n",
       "      <td>[21.18636234715963, 20.051328366485183, 21.020...</td>\n",
       "      <td>[55.61145642416779, 66.55969832607754, 67.4779...</td>\n",
       "      <td>[0.1927626100237714, 0.1844580208168144, 0.175...</td>\n",
       "      <td>[0.1428555647937571, 0.1652814356071807, 0.168...</td>\n",
       "      <td>[103.0649084015582, 113.57793154189758, 90.672...</td>\n",
       "      <td>[0.0615537851188984, 0.0589845494597888, 0.059...</td>\n",
       "      <td>[117.6033987811796, 197.34883413555912, 269.50...</td>\n",
       "      <td>[0.1311626914957118, 0.1569602832261662, 0.131...</td>\n",
       "    </tr>\n",
       "    <tr>\n",
       "      <th>Worms</th>\n",
       "      <td>[9.957826889086624, 9.91409412562196, 10.23156...</td>\n",
       "      <td>[55.986246899577615, 61.30432021046857, 52.145...</td>\n",
       "      <td>[0.0520481298102271, 0.0495205615252068, 0.049...</td>\n",
       "      <td>[0.0622753496766431, 0.0637096273747577, 0.068...</td>\n",
       "      <td>[100.42308302919744, 98.15058144030648, 94.080...</td>\n",
       "      <td>[0.0437424068595912, 0.0436647876754495, 0.051...</td>\n",
       "      <td>[952.2549476071258, 1386.8344147454943, 1585.4...</td>\n",
       "      <td>[0.0103421078136576, -0.0101470944092107, -0.0...</td>\n",
       "    </tr>\n",
       "    <tr>\n",
       "      <th>WormsTwoClass</th>\n",
       "      <td>[17.414798800320458, 17.64744111875028, 17.414...</td>\n",
       "      <td>[42.484023960871795, 55.81929716493718, 47.673...</td>\n",
       "      <td>[0.057472257979648, 0.0164716756737931, 0.0421...</td>\n",
       "      <td>[0.0023409835511396, -0.0007501822625919, 0.01...</td>\n",
       "      <td>[199.76178161111773, 116.1361974389188, 305.49...</td>\n",
       "      <td>[-0.0028387099197115, -0.0028387099197115, -0....</td>\n",
       "      <td>[217.71115642299276, 1079.4172318269304, 414.3...</td>\n",
       "      <td>[-0.0071164394701918, -0.0076833413685989, -0....</td>\n",
       "    </tr>\n",
       "    <tr>\n",
       "      <th>Yoga</th>\n",
       "      <td>[760.2807306510064, 886.7116285850699, 878.939...</td>\n",
       "      <td>[548.2767419476742, 612.0060700535807, 771.903...</td>\n",
       "      <td>[0.0017251252567898, 0.0007657263724829, 0.000...</td>\n",
       "      <td>[-0.0009732720137929, 0.0029228600294207, -0.0...</td>\n",
       "      <td>[868.6926924911195, 706.257255646999, 615.3292...</td>\n",
       "      <td>[0.000667419032194, -0.0003970632760726, 0.000...</td>\n",
       "      <td>[2280.320176488005, 2533.033778268249, 3008.27...</td>\n",
       "      <td>[-0.0005119849247229, -0.0007414481772134, 0.0...</td>\n",
       "    </tr>\n",
       "  </tbody>\n",
       "</table>\n",
       "<p>112 rows × 8 columns</p>\n",
       "</div>"
      ]
     },
     "execution_count": 101,
     "metadata": {},
     "output_type": "execute_result"
    }
   ],
   "execution_count": 101
  },
  {
   "metadata": {
    "collapsed": false,
    "ExecuteTime": {
     "end_time": "2025-04-07T09:18:40.258858Z",
     "start_time": "2025-04-07T09:18:40.251341Z"
    }
   },
   "cell_type": "code",
   "source": [
    "# save as latex\n",
    "save_df_as_latex(all_experiment_results_display_internal, 'all_experiments_results_internal')"
   ],
   "id": "90de89473ec00351",
   "outputs": [],
   "execution_count": 102
  },
  {
   "metadata": {
    "collapsed": false,
    "ExecuteTime": {
     "end_time": "2025-04-07T09:18:40.473568Z",
     "start_time": "2025-04-07T09:18:40.340686Z"
    }
   },
   "cell_type": "code",
   "source": [
    "all_experiments_results_mul_internal.rename(columns=MODEL_TO_DISPLAY_NAME_MAP, inplace=True)\n",
    "\n",
    "do_cd_analysis_multiple(all_experiments_results_mul_internal, all_experiments_results_mul_internal.columns,\n",
    "                        all_experiments_results_mul_internal.columns)\n",
    "\n",
    "# save the figure as eps\n",
    "plt.savefig(PLOTS_OUTPUT_DIR / 'all_experiments_cd_internal.eps', format='eps', bbox_inches='tight', dpi=300)\n",
    "\n",
    "# save the figure as png\n",
    "plt.savefig(PLOTS_OUTPUT_DIR / 'all_experiments_cd_internal.png', format='png', bbox_inches='tight', dpi=300)"
   ],
   "id": "b7e07a02abaec26c",
   "outputs": [
    {
     "name": "stdout",
     "output_type": "stream",
     "text": [
      "Statistics=3206.791260166944, p=0.0\n",
      "Significant differences found. Proceeding to CD analysis.\n",
      "Number of datasets: 560\n",
      "Number of algorithms: 8\n",
      "Critical difference: 0.44367525557972665\n",
      "\n",
      "Algorithm Name                 Rank\n",
      "-------------------------------------\n",
      "LSTM-AE w/ TSRC (TS2Vec)       1.71\n",
      "LSTM-AE w/ TSRC (MCL)          2.27\n",
      "TimeNet w/ TSRC (TS2Vec)       2.40\n",
      "Raw Data                       3.62\n",
      "TS2Vec                         6.19\n",
      "TimeNet                        6.34\n",
      "MCL                            6.61\n",
      "LSTM-AE                        6.86\n"
     ]
    },
    {
     "data": {
      "text/plain": [
       "<Figure size 600x215 with 1 Axes>"
      ],
      "image/png": "[encoded data removed]"
     },
     "metadata": {},
     "output_type": "display_data"
    }
   ],
   "execution_count": 103
  },
  {
   "metadata": {
    "collapsed": false,
    "ExecuteTime": {
     "end_time": "2025-04-07T09:18:40.495925Z",
     "start_time": "2025-04-07T09:18:40.492900Z"
    }
   },
   "cell_type": "code",
   "source": [
    "# Calculating improvements:\n",
    "\n",
    "ranks_original = {\n",
    "    \"LSTM_AE_w_TSRC_TS2Vec\": 1.71,\n",
    "    \"LSTM_AE_w_TSRC_MCL\": 2.27,\n",
    "    \"TimeNet_w_TSRC_TS2Vec\": 2.40,\n",
    "    \"Raw Data\": 3.62,\n",
    "    \"TS2Vec\": 6.19,\n",
    "    \"TimeNet\": 6.34,\n",
    "    \"MCL\": 5.61,\n",
    "    \"LSTM_AE\": 6.86\n",
    "}\n",
    "improvements = {\n",
    "    \"TimeNet_w_TSRC_TS2Vec\": ((ranks_original[\"TimeNet\"] - ranks_original[\"TimeNet_w_TSRC_TS2Vec\"]) / ranks_original[\n",
    "        \"TimeNet\"]) * 100,\n",
    "    \"LSTM_AE_w_TSRC_TS2Vec\": ((ranks_original[\"LSTM_AE\"] - ranks_original[\"LSTM_AE_w_TSRC_TS2Vec\"]) / ranks_original[\n",
    "        \"LSTM_AE\"]) * 100,\n",
    "    \"LSTM_AE_w_TSRC_MCL\": ((ranks_original[\"LSTM_AE\"] - ranks_original[\"LSTM_AE_w_TSRC_MCL\"]) / ranks_original[\n",
    "        \"LSTM_AE\"]) * 100,\n",
    "}\n",
    "\n",
    "improvements = {k: round(v, 2) for k, v in improvements.items()}\n",
    "\n",
    "# Calculate the mean of the improvements:\n",
    "mean_improvement = sum(improvements.values()) / len(improvements)\n",
    "\n",
    "mean_improvement = round(mean_improvement, 2)\n",
    "\n",
    "print(f'Details of the improvements: {improvements}')\n",
    "print(f'Mean improvement: {mean_improvement}')"
   ],
   "id": "caf934ff464e6625",
   "outputs": [
    {
     "name": "stdout",
     "output_type": "stream",
     "text": [
      "Details of the improvements: {'TimeNet_w_TSRC_TS2Vec': 62.15, 'LSTM_AE_w_TSRC_TS2Vec': 75.07, 'LSTM_AE_w_TSRC_MCL': 66.91}\n",
      "Mean improvement: 68.04\n"
     ]
    }
   ],
   "execution_count": 104
  }
 ],
 "metadata": {
  "kernelspec": {
   "display_name": "Python 3",
   "language": "python",
   "name": "python3"
  },
  "language_info": {
   "codemirror_mode": {
    "name": "ipython",
    "version": 2
   },
   "file_extension": ".py",
   "mimetype": "text/x-python",
   "name": "python",
   "nbconvert_exporter": "python",
   "pygments_lexer": "ipython2",
   "version": "2.7.6"
  }
 },
 "nbformat": 4,
 "nbformat_minor": 5
}
